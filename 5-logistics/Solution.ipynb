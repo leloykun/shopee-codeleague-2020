{
 "cells": [
  {
   "cell_type": "code",
   "execution_count": 1,
   "metadata": {},
   "outputs": [],
   "source": [
    "import pandas as pd\n",
    "import numpy as np\n",
    "import matplotlib.pyplot as plt"
   ]
  },
  {
   "cell_type": "markdown",
   "metadata": {},
   "source": [
    "## Dataset"
   ]
  },
  {
   "cell_type": "markdown",
   "metadata": {},
   "source": [
    "### Get all non-working days"
   ]
  },
  {
   "cell_type": "code",
   "execution_count": 2,
   "metadata": {},
   "outputs": [
    {
     "data": {
      "text/plain": [
       "array(['2020-03-25T00:00:00.000000000', '2020-03-30T00:00:00.000000000',\n",
       "       '2020-03-31T00:00:00.000000000'], dtype='<U48')"
      ]
     },
     "execution_count": 2,
     "metadata": {},
     "output_type": "execute_result"
    }
   ],
   "source": [
    "HOLIDAYS = pd.to_datetime([#'2020-03-08', \n",
    "                           '2020-03-25',\n",
    "                           '2020-03-30',\n",
    "                           '2020-03-31'])\n",
    "HOLIDAYS.to_numpy(dtype='str')"
   ]
  },
  {
   "cell_type": "code",
   "execution_count": 3,
   "metadata": {},
   "outputs": [
    {
     "data": {
      "text/plain": [
       "array(['2020-03-01T00:00:00.000000000', '2020-03-08T00:00:00.000000000',\n",
       "       '2020-03-15T00:00:00.000000000', '2020-03-22T00:00:00.000000000',\n",
       "       '2020-03-29T00:00:00.000000000', '2020-04-05T00:00:00.000000000'],\n",
       "      dtype='<U48')"
      ]
     },
     "execution_count": 3,
     "metadata": {},
     "output_type": "execute_result"
    }
   ],
   "source": [
    "SUNDAYS = pd.date_range(start='2020-3-1', end='2020-4-7', \n",
    "                         freq='W-SUN')\n",
    "SUNDAYS.to_numpy(dtype='str')"
   ]
  },
  {
   "cell_type": "code",
   "execution_count": 4,
   "metadata": {},
   "outputs": [
    {
     "data": {
      "text/plain": [
       "DatetimeIndex(['2020-03-01', '2020-03-08', '2020-03-15', '2020-03-22',\n",
       "               '2020-03-25', '2020-03-29', '2020-03-30', '2020-03-31',\n",
       "               '2020-04-05'],\n",
       "              dtype='datetime64[ns]', freq=None)"
      ]
     },
     "execution_count": 4,
     "metadata": {},
     "output_type": "execute_result"
    }
   ],
   "source": [
    "NON_WORKING_DAYS = pd.to_datetime(['2020-03-01',\n",
    "                                   '2020-03-08',\n",
    "                                   '2020-03-15',\n",
    "                                   '2020-03-22',\n",
    "                                   '2020-03-25',\n",
    "                                   '2020-03-29',\n",
    "                                   '2020-03-30',\n",
    "                                   '2020-03-31',\n",
    "                                   '2020-04-05',])\n",
    "NON_WORKING_DAYS"
   ]
  },
  {
   "cell_type": "markdown",
   "metadata": {},
   "source": [
    "### Load dataset"
   ]
  },
  {
   "cell_type": "code",
   "execution_count": 5,
   "metadata": {},
   "outputs": [
    {
     "data": {
      "text/html": [
       "<div>\n",
       "<style scoped>\n",
       "    .dataframe tbody tr th:only-of-type {\n",
       "        vertical-align: middle;\n",
       "    }\n",
       "\n",
       "    .dataframe tbody tr th {\n",
       "        vertical-align: top;\n",
       "    }\n",
       "\n",
       "    .dataframe thead th {\n",
       "        text-align: right;\n",
       "    }\n",
       "</style>\n",
       "<table border=\"1\" class=\"dataframe\">\n",
       "  <thead>\n",
       "    <tr style=\"text-align: right;\">\n",
       "      <th></th>\n",
       "      <th>orderid</th>\n",
       "      <th>pick</th>\n",
       "      <th>1st_deliver_attempt</th>\n",
       "      <th>2nd_deliver_attempt</th>\n",
       "      <th>buyeraddress</th>\n",
       "      <th>selleraddress</th>\n",
       "    </tr>\n",
       "  </thead>\n",
       "  <tbody>\n",
       "    <tr>\n",
       "      <th>0</th>\n",
       "      <td>2215676524</td>\n",
       "      <td>1583138397</td>\n",
       "      <td>1.583385e+09</td>\n",
       "      <td>NaN</td>\n",
       "      <td>Baging ldl BUENAVISTA,PATAG.CAGAYAN Buagsong,c...</td>\n",
       "      <td>Pantranco vill. 417 Warehouse# katipunan 532 (...</td>\n",
       "    </tr>\n",
       "    <tr>\n",
       "      <th>1</th>\n",
       "      <td>2219624609</td>\n",
       "      <td>1583309968</td>\n",
       "      <td>1.583463e+09</td>\n",
       "      <td>1.583799e+09</td>\n",
       "      <td>coloma's quzom CASANAS Site1 Masiyan 533A Stol...</td>\n",
       "      <td>BLDG 210A Moras C42B 2B16,168 church) Complex ...</td>\n",
       "    </tr>\n",
       "    <tr>\n",
       "      <th>2</th>\n",
       "      <td>2220979489</td>\n",
       "      <td>1583306434</td>\n",
       "      <td>1.583460e+09</td>\n",
       "      <td>NaN</td>\n",
       "      <td>21-O LumangDaan,Capitangan,Abucay,Bataan .Bign...</td>\n",
       "      <td>#66 150-C, DRIVE, Milagros Joe socorro Metro M...</td>\n",
       "    </tr>\n",
       "    <tr>\n",
       "      <th>3</th>\n",
       "      <td>2221066352</td>\n",
       "      <td>1583419016</td>\n",
       "      <td>1.583556e+09</td>\n",
       "      <td>NaN</td>\n",
       "      <td>616Espiritu MARTINVILLE,MANUYO #5paraiso kengi...</td>\n",
       "      <td>999maII 201,26 Villaruel Barretto gen.t number...</td>\n",
       "    </tr>\n",
       "    <tr>\n",
       "      <th>4</th>\n",
       "      <td>2222478803</td>\n",
       "      <td>1583318305</td>\n",
       "      <td>1.583480e+09</td>\n",
       "      <td>NaN</td>\n",
       "      <td>L042 Summerbreezee1 L2(Balanay analyn Lot760 C...</td>\n",
       "      <td>G66MANILA Hiyas Fitness MAYSILO magdiwang Lt.4...</td>\n",
       "    </tr>\n",
       "  </tbody>\n",
       "</table>\n",
       "</div>"
      ],
      "text/plain": [
       "      orderid        pick  1st_deliver_attempt  2nd_deliver_attempt  \\\n",
       "0  2215676524  1583138397         1.583385e+09                  NaN   \n",
       "1  2219624609  1583309968         1.583463e+09         1.583799e+09   \n",
       "2  2220979489  1583306434         1.583460e+09                  NaN   \n",
       "3  2221066352  1583419016         1.583556e+09                  NaN   \n",
       "4  2222478803  1583318305         1.583480e+09                  NaN   \n",
       "\n",
       "                                        buyeraddress  \\\n",
       "0  Baging ldl BUENAVISTA,PATAG.CAGAYAN Buagsong,c...   \n",
       "1  coloma's quzom CASANAS Site1 Masiyan 533A Stol...   \n",
       "2  21-O LumangDaan,Capitangan,Abucay,Bataan .Bign...   \n",
       "3  616Espiritu MARTINVILLE,MANUYO #5paraiso kengi...   \n",
       "4  L042 Summerbreezee1 L2(Balanay analyn Lot760 C...   \n",
       "\n",
       "                                       selleraddress  \n",
       "0  Pantranco vill. 417 Warehouse# katipunan 532 (...  \n",
       "1  BLDG 210A Moras C42B 2B16,168 church) Complex ...  \n",
       "2  #66 150-C, DRIVE, Milagros Joe socorro Metro M...  \n",
       "3  999maII 201,26 Villaruel Barretto gen.t number...  \n",
       "4  G66MANILA Hiyas Fitness MAYSILO magdiwang Lt.4...  "
      ]
     },
     "execution_count": 5,
     "metadata": {},
     "output_type": "execute_result"
    }
   ],
   "source": [
    "df = pd.read_csv('delivery_orders_march.csv')\n",
    "df.head()"
   ]
  },
  {
   "cell_type": "code",
   "execution_count": 6,
   "metadata": {},
   "outputs": [
    {
     "data": {
      "text/plain": [
       "array([[3, 5, 7, 7],\n",
       "       [5, 5, 7, 7],\n",
       "       [7, 7, 7, 7],\n",
       "       [7, 7, 7, 7]])"
      ]
     },
     "execution_count": 6,
     "metadata": {},
     "output_type": "execute_result"
    }
   ],
   "source": [
    "sla = np.array([[3, 5, 7, 7],\n",
    "                [5, 5, 7, 7],\n",
    "                [7, 7, 7, 7],\n",
    "                [7, 7, 7, 7]])\n",
    "sla"
   ]
  },
  {
   "cell_type": "code",
   "execution_count": 7,
   "metadata": {},
   "outputs": [
    {
     "data": {
      "text/plain": [
       "{'manila': 0, 'luzon': 1, 'visayas': 2, 'mindanao': 3}"
      ]
     },
     "execution_count": 7,
     "metadata": {},
     "output_type": "execute_result"
    }
   ],
   "source": [
    "place_to_idx = {'manila':0,\n",
    "                'luzon':1,\n",
    "                'visayas':2,\n",
    "                'mindanao':3}\n",
    "place_to_idx"
   ]
  },
  {
   "cell_type": "markdown",
   "metadata": {},
   "source": [
    "## Convert date format"
   ]
  },
  {
   "cell_type": "code",
   "execution_count": 8,
   "metadata": {},
   "outputs": [
    {
     "data": {
      "text/html": [
       "<div>\n",
       "<style scoped>\n",
       "    .dataframe tbody tr th:only-of-type {\n",
       "        vertical-align: middle;\n",
       "    }\n",
       "\n",
       "    .dataframe tbody tr th {\n",
       "        vertical-align: top;\n",
       "    }\n",
       "\n",
       "    .dataframe thead th {\n",
       "        text-align: right;\n",
       "    }\n",
       "</style>\n",
       "<table border=\"1\" class=\"dataframe\">\n",
       "  <thead>\n",
       "    <tr style=\"text-align: right;\">\n",
       "      <th></th>\n",
       "      <th>orderid</th>\n",
       "      <th>pick</th>\n",
       "      <th>1st_deliver_attempt</th>\n",
       "      <th>2nd_deliver_attempt</th>\n",
       "      <th>buyeraddress</th>\n",
       "      <th>selleraddress</th>\n",
       "    </tr>\n",
       "  </thead>\n",
       "  <tbody>\n",
       "    <tr>\n",
       "      <th>0</th>\n",
       "      <td>2215676524</td>\n",
       "      <td>2020-03-02</td>\n",
       "      <td>2020-03-05</td>\n",
       "      <td>NaT</td>\n",
       "      <td>Baging ldl BUENAVISTA,PATAG.CAGAYAN Buagsong,c...</td>\n",
       "      <td>Pantranco vill. 417 Warehouse# katipunan 532 (...</td>\n",
       "    </tr>\n",
       "    <tr>\n",
       "      <th>1</th>\n",
       "      <td>2219624609</td>\n",
       "      <td>2020-03-04</td>\n",
       "      <td>2020-03-06</td>\n",
       "      <td>2020-03-10</td>\n",
       "      <td>coloma's quzom CASANAS Site1 Masiyan 533A Stol...</td>\n",
       "      <td>BLDG 210A Moras C42B 2B16,168 church) Complex ...</td>\n",
       "    </tr>\n",
       "    <tr>\n",
       "      <th>2</th>\n",
       "      <td>2220979489</td>\n",
       "      <td>2020-03-04</td>\n",
       "      <td>2020-03-06</td>\n",
       "      <td>NaT</td>\n",
       "      <td>21-O LumangDaan,Capitangan,Abucay,Bataan .Bign...</td>\n",
       "      <td>#66 150-C, DRIVE, Milagros Joe socorro Metro M...</td>\n",
       "    </tr>\n",
       "    <tr>\n",
       "      <th>3</th>\n",
       "      <td>2221066352</td>\n",
       "      <td>2020-03-05</td>\n",
       "      <td>2020-03-07</td>\n",
       "      <td>NaT</td>\n",
       "      <td>616Espiritu MARTINVILLE,MANUYO #5paraiso kengi...</td>\n",
       "      <td>999maII 201,26 Villaruel Barretto gen.t number...</td>\n",
       "    </tr>\n",
       "    <tr>\n",
       "      <th>4</th>\n",
       "      <td>2222478803</td>\n",
       "      <td>2020-03-04</td>\n",
       "      <td>2020-03-06</td>\n",
       "      <td>NaT</td>\n",
       "      <td>L042 Summerbreezee1 L2(Balanay analyn Lot760 C...</td>\n",
       "      <td>G66MANILA Hiyas Fitness MAYSILO magdiwang Lt.4...</td>\n",
       "    </tr>\n",
       "  </tbody>\n",
       "</table>\n",
       "</div>"
      ],
      "text/plain": [
       "      orderid        pick 1st_deliver_attempt 2nd_deliver_attempt  \\\n",
       "0  2215676524  2020-03-02          2020-03-05                 NaT   \n",
       "1  2219624609  2020-03-04          2020-03-06          2020-03-10   \n",
       "2  2220979489  2020-03-04          2020-03-06                 NaT   \n",
       "3  2221066352  2020-03-05          2020-03-07                 NaT   \n",
       "4  2222478803  2020-03-04          2020-03-06                 NaT   \n",
       "\n",
       "                                        buyeraddress  \\\n",
       "0  Baging ldl BUENAVISTA,PATAG.CAGAYAN Buagsong,c...   \n",
       "1  coloma's quzom CASANAS Site1 Masiyan 533A Stol...   \n",
       "2  21-O LumangDaan,Capitangan,Abucay,Bataan .Bign...   \n",
       "3  616Espiritu MARTINVILLE,MANUYO #5paraiso kengi...   \n",
       "4  L042 Summerbreezee1 L2(Balanay analyn Lot760 C...   \n",
       "\n",
       "                                       selleraddress  \n",
       "0  Pantranco vill. 417 Warehouse# katipunan 532 (...  \n",
       "1  BLDG 210A Moras C42B 2B16,168 church) Complex ...  \n",
       "2  #66 150-C, DRIVE, Milagros Joe socorro Metro M...  \n",
       "3  999maII 201,26 Villaruel Barretto gen.t number...  \n",
       "4  G66MANILA Hiyas Fitness MAYSILO magdiwang Lt.4...  "
      ]
     },
     "execution_count": 8,
     "metadata": {},
     "output_type": "execute_result"
    }
   ],
   "source": [
    "df['pick'] = pd.to_datetime(df['pick'], unit='s').dt.date\n",
    "df['1st_deliver_attempt'] = pd.to_datetime(df['1st_deliver_attempt'], unit='s').dt.date\n",
    "df['2nd_deliver_attempt'] = pd.to_datetime(df['2nd_deliver_attempt'], unit='s').dt.date\n",
    "df.head()"
   ]
  },
  {
   "cell_type": "markdown",
   "metadata": {},
   "source": [
    "### Get date ranges"
   ]
  },
  {
   "cell_type": "code",
   "execution_count": 9,
   "metadata": {},
   "outputs": [
    {
     "data": {
      "text/plain": [
       "(datetime.date(2020, 3, 1), datetime.date(2020, 4, 6))"
      ]
     },
     "execution_count": 9,
     "metadata": {},
     "output_type": "execute_result"
    }
   ],
   "source": [
    "df['pick'].min(), df['pick'].max()"
   ]
  },
  {
   "cell_type": "code",
   "execution_count": 10,
   "metadata": {},
   "outputs": [
    {
     "data": {
      "text/plain": [
       "(datetime.date(2020, 3, 2), datetime.date(2020, 4, 7))"
      ]
     },
     "execution_count": 10,
     "metadata": {},
     "output_type": "execute_result"
    }
   ],
   "source": [
    "df['1st_deliver_attempt'].min(), df['1st_deliver_attempt'].max()"
   ]
  },
  {
   "cell_type": "code",
   "execution_count": 11,
   "metadata": {},
   "outputs": [
    {
     "data": {
      "text/plain": [
       "(datetime.date(2020, 3, 3), datetime.date(2020, 4, 7))"
      ]
     },
     "execution_count": 11,
     "metadata": {},
     "output_type": "execute_result"
    }
   ],
   "source": [
    "df[~df['2nd_deliver_attempt'].isnull()]['2nd_deliver_attempt'].min(), df[~df['2nd_deliver_attempt'].isnull()]['2nd_deliver_attempt'].max()"
   ]
  },
  {
   "cell_type": "markdown",
   "metadata": {},
   "source": [
    "### Find anomalous data"
   ]
  },
  {
   "cell_type": "code",
   "execution_count": 12,
   "metadata": {},
   "outputs": [
    {
     "data": {
      "text/html": [
       "<div>\n",
       "<style scoped>\n",
       "    .dataframe tbody tr th:only-of-type {\n",
       "        vertical-align: middle;\n",
       "    }\n",
       "\n",
       "    .dataframe tbody tr th {\n",
       "        vertical-align: top;\n",
       "    }\n",
       "\n",
       "    .dataframe thead th {\n",
       "        text-align: right;\n",
       "    }\n",
       "</style>\n",
       "<table border=\"1\" class=\"dataframe\">\n",
       "  <thead>\n",
       "    <tr style=\"text-align: right;\">\n",
       "      <th></th>\n",
       "      <th>orderid</th>\n",
       "      <th>pick</th>\n",
       "      <th>1st_deliver_attempt</th>\n",
       "      <th>2nd_deliver_attempt</th>\n",
       "      <th>buyeraddress</th>\n",
       "      <th>selleraddress</th>\n",
       "    </tr>\n",
       "  </thead>\n",
       "  <tbody>\n",
       "  </tbody>\n",
       "</table>\n",
       "</div>"
      ],
      "text/plain": [
       "Empty DataFrame\n",
       "Columns: [orderid, pick, 1st_deliver_attempt, 2nd_deliver_attempt, buyeraddress, selleraddress]\n",
       "Index: []"
      ]
     },
     "execution_count": 12,
     "metadata": {},
     "output_type": "execute_result"
    }
   ],
   "source": [
    "df[(df['pick'] > df['1st_deliver_attempt']) |\n",
    "   (df['pick'] > df['2nd_deliver_attempt']) |\n",
    "   (df['1st_deliver_attempt'] > df['2nd_deliver_attempt'])]"
   ]
  },
  {
   "cell_type": "markdown",
   "metadata": {},
   "source": [
    "### Calc delivery dates"
   ]
  },
  {
   "cell_type": "code",
   "execution_count": 13,
   "metadata": {},
   "outputs": [
    {
     "name": "stdout",
     "output_type": "stream",
     "text": [
      "Wall time: 23.1 s\n"
     ]
    },
    {
     "data": {
      "text/html": [
       "<div>\n",
       "<style scoped>\n",
       "    .dataframe tbody tr th:only-of-type {\n",
       "        vertical-align: middle;\n",
       "    }\n",
       "\n",
       "    .dataframe tbody tr th {\n",
       "        vertical-align: top;\n",
       "    }\n",
       "\n",
       "    .dataframe thead th {\n",
       "        text-align: right;\n",
       "    }\n",
       "</style>\n",
       "<table border=\"1\" class=\"dataframe\">\n",
       "  <thead>\n",
       "    <tr style=\"text-align: right;\">\n",
       "      <th></th>\n",
       "      <th>orderid</th>\n",
       "      <th>pick</th>\n",
       "      <th>1st_deliver_attempt</th>\n",
       "      <th>2nd_deliver_attempt</th>\n",
       "      <th>buyeraddress</th>\n",
       "      <th>selleraddress</th>\n",
       "      <th>days_pick_to_1st_attempt</th>\n",
       "      <th>holidays_pick_to_1st_attempt</th>\n",
       "      <th>working_days_pick_to_1st_attempt</th>\n",
       "    </tr>\n",
       "  </thead>\n",
       "  <tbody>\n",
       "    <tr>\n",
       "      <th>0</th>\n",
       "      <td>2215676524</td>\n",
       "      <td>2020-03-02</td>\n",
       "      <td>2020-03-05</td>\n",
       "      <td>NaT</td>\n",
       "      <td>Baging ldl BUENAVISTA,PATAG.CAGAYAN Buagsong,c...</td>\n",
       "      <td>Pantranco vill. 417 Warehouse# katipunan 532 (...</td>\n",
       "      <td>3</td>\n",
       "      <td>0</td>\n",
       "      <td>3</td>\n",
       "    </tr>\n",
       "    <tr>\n",
       "      <th>1</th>\n",
       "      <td>2219624609</td>\n",
       "      <td>2020-03-04</td>\n",
       "      <td>2020-03-06</td>\n",
       "      <td>2020-03-10</td>\n",
       "      <td>coloma's quzom CASANAS Site1 Masiyan 533A Stol...</td>\n",
       "      <td>BLDG 210A Moras C42B 2B16,168 church) Complex ...</td>\n",
       "      <td>2</td>\n",
       "      <td>0</td>\n",
       "      <td>2</td>\n",
       "    </tr>\n",
       "    <tr>\n",
       "      <th>2</th>\n",
       "      <td>2220979489</td>\n",
       "      <td>2020-03-04</td>\n",
       "      <td>2020-03-06</td>\n",
       "      <td>NaT</td>\n",
       "      <td>21-O LumangDaan,Capitangan,Abucay,Bataan .Bign...</td>\n",
       "      <td>#66 150-C, DRIVE, Milagros Joe socorro Metro M...</td>\n",
       "      <td>2</td>\n",
       "      <td>0</td>\n",
       "      <td>2</td>\n",
       "    </tr>\n",
       "    <tr>\n",
       "      <th>3</th>\n",
       "      <td>2221066352</td>\n",
       "      <td>2020-03-05</td>\n",
       "      <td>2020-03-07</td>\n",
       "      <td>NaT</td>\n",
       "      <td>616Espiritu MARTINVILLE,MANUYO #5paraiso kengi...</td>\n",
       "      <td>999maII 201,26 Villaruel Barretto gen.t number...</td>\n",
       "      <td>2</td>\n",
       "      <td>0</td>\n",
       "      <td>2</td>\n",
       "    </tr>\n",
       "    <tr>\n",
       "      <th>4</th>\n",
       "      <td>2222478803</td>\n",
       "      <td>2020-03-04</td>\n",
       "      <td>2020-03-06</td>\n",
       "      <td>NaT</td>\n",
       "      <td>L042 Summerbreezee1 L2(Balanay analyn Lot760 C...</td>\n",
       "      <td>G66MANILA Hiyas Fitness MAYSILO magdiwang Lt.4...</td>\n",
       "      <td>2</td>\n",
       "      <td>0</td>\n",
       "      <td>2</td>\n",
       "    </tr>\n",
       "  </tbody>\n",
       "</table>\n",
       "</div>"
      ],
      "text/plain": [
       "      orderid        pick 1st_deliver_attempt 2nd_deliver_attempt  \\\n",
       "0  2215676524  2020-03-02          2020-03-05                 NaT   \n",
       "1  2219624609  2020-03-04          2020-03-06          2020-03-10   \n",
       "2  2220979489  2020-03-04          2020-03-06                 NaT   \n",
       "3  2221066352  2020-03-05          2020-03-07                 NaT   \n",
       "4  2222478803  2020-03-04          2020-03-06                 NaT   \n",
       "\n",
       "                                        buyeraddress  \\\n",
       "0  Baging ldl BUENAVISTA,PATAG.CAGAYAN Buagsong,c...   \n",
       "1  coloma's quzom CASANAS Site1 Masiyan 533A Stol...   \n",
       "2  21-O LumangDaan,Capitangan,Abucay,Bataan .Bign...   \n",
       "3  616Espiritu MARTINVILLE,MANUYO #5paraiso kengi...   \n",
       "4  L042 Summerbreezee1 L2(Balanay analyn Lot760 C...   \n",
       "\n",
       "                                       selleraddress  \\\n",
       "0  Pantranco vill. 417 Warehouse# katipunan 532 (...   \n",
       "1  BLDG 210A Moras C42B 2B16,168 church) Complex ...   \n",
       "2  #66 150-C, DRIVE, Milagros Joe socorro Metro M...   \n",
       "3  999maII 201,26 Villaruel Barretto gen.t number...   \n",
       "4  G66MANILA Hiyas Fitness MAYSILO magdiwang Lt.4...   \n",
       "\n",
       "   days_pick_to_1st_attempt  holidays_pick_to_1st_attempt  \\\n",
       "0                         3                             0   \n",
       "1                         2                             0   \n",
       "2                         2                             0   \n",
       "3                         2                             0   \n",
       "4                         2                             0   \n",
       "\n",
       "   working_days_pick_to_1st_attempt  \n",
       "0                                 3  \n",
       "1                                 2  \n",
       "2                                 2  \n",
       "3                                 2  \n",
       "4                                 2  "
      ]
     },
     "execution_count": 13,
     "metadata": {},
     "output_type": "execute_result"
    }
   ],
   "source": [
    "%%time\n",
    "df['days_pick_to_1st_attempt'] = (df['1st_deliver_attempt'] - df['pick']).dt.days\n",
    "\n",
    "holidays_pick_to_1st_attempt = np.zeros(len(df))\n",
    "for holiday in NON_WORKING_DAYS:\n",
    "    holidays_pick_to_1st_attempt += ((df['pick'] <= holiday) & (holiday <= df['1st_deliver_attempt'])).to_numpy()*1\n",
    "df['holidays_pick_to_1st_attempt'] = holidays_pick_to_1st_attempt.astype('int')\n",
    "\n",
    "df['working_days_pick_to_1st_attempt'] = df['days_pick_to_1st_attempt'] - df['holidays_pick_to_1st_attempt']\n",
    "df.head()"
   ]
  },
  {
   "cell_type": "code",
   "execution_count": 14,
   "metadata": {},
   "outputs": [
    {
     "name": "stdout",
     "output_type": "stream",
     "text": [
      "Wall time: 14.5 s\n"
     ]
    },
    {
     "data": {
      "text/html": [
       "<div>\n",
       "<style scoped>\n",
       "    .dataframe tbody tr th:only-of-type {\n",
       "        vertical-align: middle;\n",
       "    }\n",
       "\n",
       "    .dataframe tbody tr th {\n",
       "        vertical-align: top;\n",
       "    }\n",
       "\n",
       "    .dataframe thead th {\n",
       "        text-align: right;\n",
       "    }\n",
       "</style>\n",
       "<table border=\"1\" class=\"dataframe\">\n",
       "  <thead>\n",
       "    <tr style=\"text-align: right;\">\n",
       "      <th></th>\n",
       "      <th>orderid</th>\n",
       "      <th>pick</th>\n",
       "      <th>1st_deliver_attempt</th>\n",
       "      <th>2nd_deliver_attempt</th>\n",
       "      <th>buyeraddress</th>\n",
       "      <th>selleraddress</th>\n",
       "      <th>days_pick_to_1st_attempt</th>\n",
       "      <th>holidays_pick_to_1st_attempt</th>\n",
       "      <th>working_days_pick_to_1st_attempt</th>\n",
       "      <th>days_1st_to_2nd_attempt</th>\n",
       "      <th>holidays_1st_to_2nd_attempt</th>\n",
       "      <th>working_days_1st_to_2nd_attempt</th>\n",
       "    </tr>\n",
       "  </thead>\n",
       "  <tbody>\n",
       "    <tr>\n",
       "      <th>0</th>\n",
       "      <td>2215676524</td>\n",
       "      <td>2020-03-02</td>\n",
       "      <td>2020-03-05</td>\n",
       "      <td>NaT</td>\n",
       "      <td>Baging ldl BUENAVISTA,PATAG.CAGAYAN Buagsong,c...</td>\n",
       "      <td>Pantranco vill. 417 Warehouse# katipunan 532 (...</td>\n",
       "      <td>3</td>\n",
       "      <td>0</td>\n",
       "      <td>3</td>\n",
       "      <td>NaN</td>\n",
       "      <td>0</td>\n",
       "      <td>NaN</td>\n",
       "    </tr>\n",
       "    <tr>\n",
       "      <th>1</th>\n",
       "      <td>2219624609</td>\n",
       "      <td>2020-03-04</td>\n",
       "      <td>2020-03-06</td>\n",
       "      <td>2020-03-10</td>\n",
       "      <td>coloma's quzom CASANAS Site1 Masiyan 533A Stol...</td>\n",
       "      <td>BLDG 210A Moras C42B 2B16,168 church) Complex ...</td>\n",
       "      <td>2</td>\n",
       "      <td>0</td>\n",
       "      <td>2</td>\n",
       "      <td>4.0</td>\n",
       "      <td>1</td>\n",
       "      <td>3.0</td>\n",
       "    </tr>\n",
       "    <tr>\n",
       "      <th>2</th>\n",
       "      <td>2220979489</td>\n",
       "      <td>2020-03-04</td>\n",
       "      <td>2020-03-06</td>\n",
       "      <td>NaT</td>\n",
       "      <td>21-O LumangDaan,Capitangan,Abucay,Bataan .Bign...</td>\n",
       "      <td>#66 150-C, DRIVE, Milagros Joe socorro Metro M...</td>\n",
       "      <td>2</td>\n",
       "      <td>0</td>\n",
       "      <td>2</td>\n",
       "      <td>NaN</td>\n",
       "      <td>0</td>\n",
       "      <td>NaN</td>\n",
       "    </tr>\n",
       "    <tr>\n",
       "      <th>3</th>\n",
       "      <td>2221066352</td>\n",
       "      <td>2020-03-05</td>\n",
       "      <td>2020-03-07</td>\n",
       "      <td>NaT</td>\n",
       "      <td>616Espiritu MARTINVILLE,MANUYO #5paraiso kengi...</td>\n",
       "      <td>999maII 201,26 Villaruel Barretto gen.t number...</td>\n",
       "      <td>2</td>\n",
       "      <td>0</td>\n",
       "      <td>2</td>\n",
       "      <td>NaN</td>\n",
       "      <td>0</td>\n",
       "      <td>NaN</td>\n",
       "    </tr>\n",
       "    <tr>\n",
       "      <th>4</th>\n",
       "      <td>2222478803</td>\n",
       "      <td>2020-03-04</td>\n",
       "      <td>2020-03-06</td>\n",
       "      <td>NaT</td>\n",
       "      <td>L042 Summerbreezee1 L2(Balanay analyn Lot760 C...</td>\n",
       "      <td>G66MANILA Hiyas Fitness MAYSILO magdiwang Lt.4...</td>\n",
       "      <td>2</td>\n",
       "      <td>0</td>\n",
       "      <td>2</td>\n",
       "      <td>NaN</td>\n",
       "      <td>0</td>\n",
       "      <td>NaN</td>\n",
       "    </tr>\n",
       "  </tbody>\n",
       "</table>\n",
       "</div>"
      ],
      "text/plain": [
       "      orderid        pick 1st_deliver_attempt 2nd_deliver_attempt  \\\n",
       "0  2215676524  2020-03-02          2020-03-05                 NaT   \n",
       "1  2219624609  2020-03-04          2020-03-06          2020-03-10   \n",
       "2  2220979489  2020-03-04          2020-03-06                 NaT   \n",
       "3  2221066352  2020-03-05          2020-03-07                 NaT   \n",
       "4  2222478803  2020-03-04          2020-03-06                 NaT   \n",
       "\n",
       "                                        buyeraddress  \\\n",
       "0  Baging ldl BUENAVISTA,PATAG.CAGAYAN Buagsong,c...   \n",
       "1  coloma's quzom CASANAS Site1 Masiyan 533A Stol...   \n",
       "2  21-O LumangDaan,Capitangan,Abucay,Bataan .Bign...   \n",
       "3  616Espiritu MARTINVILLE,MANUYO #5paraiso kengi...   \n",
       "4  L042 Summerbreezee1 L2(Balanay analyn Lot760 C...   \n",
       "\n",
       "                                       selleraddress  \\\n",
       "0  Pantranco vill. 417 Warehouse# katipunan 532 (...   \n",
       "1  BLDG 210A Moras C42B 2B16,168 church) Complex ...   \n",
       "2  #66 150-C, DRIVE, Milagros Joe socorro Metro M...   \n",
       "3  999maII 201,26 Villaruel Barretto gen.t number...   \n",
       "4  G66MANILA Hiyas Fitness MAYSILO magdiwang Lt.4...   \n",
       "\n",
       "   days_pick_to_1st_attempt  holidays_pick_to_1st_attempt  \\\n",
       "0                         3                             0   \n",
       "1                         2                             0   \n",
       "2                         2                             0   \n",
       "3                         2                             0   \n",
       "4                         2                             0   \n",
       "\n",
       "   working_days_pick_to_1st_attempt  days_1st_to_2nd_attempt  \\\n",
       "0                                 3                      NaN   \n",
       "1                                 2                      4.0   \n",
       "2                                 2                      NaN   \n",
       "3                                 2                      NaN   \n",
       "4                                 2                      NaN   \n",
       "\n",
       "   holidays_1st_to_2nd_attempt  working_days_1st_to_2nd_attempt  \n",
       "0                            0                              NaN  \n",
       "1                            1                              3.0  \n",
       "2                            0                              NaN  \n",
       "3                            0                              NaN  \n",
       "4                            0                              NaN  "
      ]
     },
     "execution_count": 14,
     "metadata": {},
     "output_type": "execute_result"
    }
   ],
   "source": [
    "%%time\n",
    "df['days_1st_to_2nd_attempt'] = (df['2nd_deliver_attempt'] - df['1st_deliver_attempt']).dt.days\n",
    "df.head()\n",
    "\n",
    "holidays_1st_to_2nd_attempt = np.zeros(len(df))\n",
    "for holiday in NON_WORKING_DAYS:\n",
    "    holidays_1st_to_2nd_attempt += ((df['1st_deliver_attempt'] <= holiday) & (holiday <= df['2nd_deliver_attempt'])).to_numpy()*1\n",
    "df['holidays_1st_to_2nd_attempt'] = holidays_1st_to_2nd_attempt.astype('int')\n",
    "df.head()\n",
    "\n",
    "df['working_days_1st_to_2nd_attempt'] = (df['days_1st_to_2nd_attempt'] - df['holidays_1st_to_2nd_attempt'])\n",
    "df.head()"
   ]
  },
  {
   "cell_type": "code",
   "execution_count": 15,
   "metadata": {},
   "outputs": [
    {
     "name": "stdout",
     "output_type": "stream",
     "text": [
      "Wall time: 6.86 s\n"
     ]
    }
   ],
   "source": [
    "%%time\n",
    "df['origin'] = df['selleraddress'].apply(lambda x : place_to_idx[x.split()[-1].lower()])\n",
    "#df['origin'] = 0\n",
    "df['destination'] = df['buyeraddress'].apply(lambda x : place_to_idx[x.split()[-1].lower()])"
   ]
  },
  {
   "cell_type": "code",
   "execution_count": 16,
   "metadata": {},
   "outputs": [
    {
     "name": "stdout",
     "output_type": "stream",
     "text": [
      "Wall time: 1min 6s\n"
     ]
    }
   ],
   "source": [
    "%%time\n",
    "time_limits = [sla[df['origin'].iloc[i]][df['destination'].iloc[i]] for i in range(len(df))]\n",
    "df['time_limit'] = time_limits"
   ]
  },
  {
   "cell_type": "code",
   "execution_count": 17,
   "metadata": {},
   "outputs": [
    {
     "name": "stdout",
     "output_type": "stream",
     "text": [
      "Wall time: 105 ms\n"
     ]
    },
    {
     "data": {
      "text/html": [
       "<div>\n",
       "<style scoped>\n",
       "    .dataframe tbody tr th:only-of-type {\n",
       "        vertical-align: middle;\n",
       "    }\n",
       "\n",
       "    .dataframe tbody tr th {\n",
       "        vertical-align: top;\n",
       "    }\n",
       "\n",
       "    .dataframe thead th {\n",
       "        text-align: right;\n",
       "    }\n",
       "</style>\n",
       "<table border=\"1\" class=\"dataframe\">\n",
       "  <thead>\n",
       "    <tr style=\"text-align: right;\">\n",
       "      <th></th>\n",
       "      <th>orderid</th>\n",
       "      <th>pick</th>\n",
       "      <th>1st_deliver_attempt</th>\n",
       "      <th>2nd_deliver_attempt</th>\n",
       "      <th>buyeraddress</th>\n",
       "      <th>selleraddress</th>\n",
       "      <th>days_pick_to_1st_attempt</th>\n",
       "      <th>holidays_pick_to_1st_attempt</th>\n",
       "      <th>working_days_pick_to_1st_attempt</th>\n",
       "      <th>days_1st_to_2nd_attempt</th>\n",
       "      <th>holidays_1st_to_2nd_attempt</th>\n",
       "      <th>working_days_1st_to_2nd_attempt</th>\n",
       "      <th>origin</th>\n",
       "      <th>destination</th>\n",
       "      <th>time_limit</th>\n",
       "      <th>is_late</th>\n",
       "    </tr>\n",
       "  </thead>\n",
       "  <tbody>\n",
       "    <tr>\n",
       "      <th>0</th>\n",
       "      <td>2215676524</td>\n",
       "      <td>2020-03-02</td>\n",
       "      <td>2020-03-05</td>\n",
       "      <td>NaT</td>\n",
       "      <td>Baging ldl BUENAVISTA,PATAG.CAGAYAN Buagsong,c...</td>\n",
       "      <td>Pantranco vill. 417 Warehouse# katipunan 532 (...</td>\n",
       "      <td>3</td>\n",
       "      <td>0</td>\n",
       "      <td>3</td>\n",
       "      <td>NaN</td>\n",
       "      <td>0</td>\n",
       "      <td>NaN</td>\n",
       "      <td>0</td>\n",
       "      <td>0</td>\n",
       "      <td>3</td>\n",
       "      <td>0</td>\n",
       "    </tr>\n",
       "    <tr>\n",
       "      <th>1</th>\n",
       "      <td>2219624609</td>\n",
       "      <td>2020-03-04</td>\n",
       "      <td>2020-03-06</td>\n",
       "      <td>2020-03-10</td>\n",
       "      <td>coloma's quzom CASANAS Site1 Masiyan 533A Stol...</td>\n",
       "      <td>BLDG 210A Moras C42B 2B16,168 church) Complex ...</td>\n",
       "      <td>2</td>\n",
       "      <td>0</td>\n",
       "      <td>2</td>\n",
       "      <td>4.0</td>\n",
       "      <td>1</td>\n",
       "      <td>3.0</td>\n",
       "      <td>0</td>\n",
       "      <td>0</td>\n",
       "      <td>3</td>\n",
       "      <td>0</td>\n",
       "    </tr>\n",
       "    <tr>\n",
       "      <th>2</th>\n",
       "      <td>2220979489</td>\n",
       "      <td>2020-03-04</td>\n",
       "      <td>2020-03-06</td>\n",
       "      <td>NaT</td>\n",
       "      <td>21-O LumangDaan,Capitangan,Abucay,Bataan .Bign...</td>\n",
       "      <td>#66 150-C, DRIVE, Milagros Joe socorro Metro M...</td>\n",
       "      <td>2</td>\n",
       "      <td>0</td>\n",
       "      <td>2</td>\n",
       "      <td>NaN</td>\n",
       "      <td>0</td>\n",
       "      <td>NaN</td>\n",
       "      <td>0</td>\n",
       "      <td>0</td>\n",
       "      <td>3</td>\n",
       "      <td>0</td>\n",
       "    </tr>\n",
       "    <tr>\n",
       "      <th>3</th>\n",
       "      <td>2221066352</td>\n",
       "      <td>2020-03-05</td>\n",
       "      <td>2020-03-07</td>\n",
       "      <td>NaT</td>\n",
       "      <td>616Espiritu MARTINVILLE,MANUYO #5paraiso kengi...</td>\n",
       "      <td>999maII 201,26 Villaruel Barretto gen.t number...</td>\n",
       "      <td>2</td>\n",
       "      <td>0</td>\n",
       "      <td>2</td>\n",
       "      <td>NaN</td>\n",
       "      <td>0</td>\n",
       "      <td>NaN</td>\n",
       "      <td>0</td>\n",
       "      <td>0</td>\n",
       "      <td>3</td>\n",
       "      <td>0</td>\n",
       "    </tr>\n",
       "    <tr>\n",
       "      <th>4</th>\n",
       "      <td>2222478803</td>\n",
       "      <td>2020-03-04</td>\n",
       "      <td>2020-03-06</td>\n",
       "      <td>NaT</td>\n",
       "      <td>L042 Summerbreezee1 L2(Balanay analyn Lot760 C...</td>\n",
       "      <td>G66MANILA Hiyas Fitness MAYSILO magdiwang Lt.4...</td>\n",
       "      <td>2</td>\n",
       "      <td>0</td>\n",
       "      <td>2</td>\n",
       "      <td>NaN</td>\n",
       "      <td>0</td>\n",
       "      <td>NaN</td>\n",
       "      <td>0</td>\n",
       "      <td>1</td>\n",
       "      <td>5</td>\n",
       "      <td>0</td>\n",
       "    </tr>\n",
       "  </tbody>\n",
       "</table>\n",
       "</div>"
      ],
      "text/plain": [
       "      orderid        pick 1st_deliver_attempt 2nd_deliver_attempt  \\\n",
       "0  2215676524  2020-03-02          2020-03-05                 NaT   \n",
       "1  2219624609  2020-03-04          2020-03-06          2020-03-10   \n",
       "2  2220979489  2020-03-04          2020-03-06                 NaT   \n",
       "3  2221066352  2020-03-05          2020-03-07                 NaT   \n",
       "4  2222478803  2020-03-04          2020-03-06                 NaT   \n",
       "\n",
       "                                        buyeraddress  \\\n",
       "0  Baging ldl BUENAVISTA,PATAG.CAGAYAN Buagsong,c...   \n",
       "1  coloma's quzom CASANAS Site1 Masiyan 533A Stol...   \n",
       "2  21-O LumangDaan,Capitangan,Abucay,Bataan .Bign...   \n",
       "3  616Espiritu MARTINVILLE,MANUYO #5paraiso kengi...   \n",
       "4  L042 Summerbreezee1 L2(Balanay analyn Lot760 C...   \n",
       "\n",
       "                                       selleraddress  \\\n",
       "0  Pantranco vill. 417 Warehouse# katipunan 532 (...   \n",
       "1  BLDG 210A Moras C42B 2B16,168 church) Complex ...   \n",
       "2  #66 150-C, DRIVE, Milagros Joe socorro Metro M...   \n",
       "3  999maII 201,26 Villaruel Barretto gen.t number...   \n",
       "4  G66MANILA Hiyas Fitness MAYSILO magdiwang Lt.4...   \n",
       "\n",
       "   days_pick_to_1st_attempt  holidays_pick_to_1st_attempt  \\\n",
       "0                         3                             0   \n",
       "1                         2                             0   \n",
       "2                         2                             0   \n",
       "3                         2                             0   \n",
       "4                         2                             0   \n",
       "\n",
       "   working_days_pick_to_1st_attempt  days_1st_to_2nd_attempt  \\\n",
       "0                                 3                      NaN   \n",
       "1                                 2                      4.0   \n",
       "2                                 2                      NaN   \n",
       "3                                 2                      NaN   \n",
       "4                                 2                      NaN   \n",
       "\n",
       "   holidays_1st_to_2nd_attempt  working_days_1st_to_2nd_attempt  origin  \\\n",
       "0                            0                              NaN       0   \n",
       "1                            1                              3.0       0   \n",
       "2                            0                              NaN       0   \n",
       "3                            0                              NaN       0   \n",
       "4                            0                              NaN       0   \n",
       "\n",
       "   destination  time_limit  is_late  \n",
       "0            0           3        0  \n",
       "1            0           3        0  \n",
       "2            0           3        0  \n",
       "3            0           3        0  \n",
       "4            1           5        0  "
      ]
     },
     "execution_count": 17,
     "metadata": {},
     "output_type": "execute_result"
    }
   ],
   "source": [
    "%%time\n",
    "df['is_late'] = ((df['working_days_pick_to_1st_attempt'] > df['time_limit']) | \n",
    "                 ((~pd.isnull(df['2nd_deliver_attempt'])) &\n",
    "                  (df['working_days_1st_to_2nd_attempt'] > 3)\n",
    "                 )\n",
    "                )*1\n",
    "df.head()"
   ]
  },
  {
   "cell_type": "code",
   "execution_count": 18,
   "metadata": {},
   "outputs": [
    {
     "data": {
      "text/html": [
       "<div>\n",
       "<style scoped>\n",
       "    .dataframe tbody tr th:only-of-type {\n",
       "        vertical-align: middle;\n",
       "    }\n",
       "\n",
       "    .dataframe tbody tr th {\n",
       "        vertical-align: top;\n",
       "    }\n",
       "\n",
       "    .dataframe thead th {\n",
       "        text-align: right;\n",
       "    }\n",
       "</style>\n",
       "<table border=\"1\" class=\"dataframe\">\n",
       "  <thead>\n",
       "    <tr style=\"text-align: right;\">\n",
       "      <th></th>\n",
       "      <th>orderid</th>\n",
       "      <th>is_late</th>\n",
       "    </tr>\n",
       "  </thead>\n",
       "  <tbody>\n",
       "    <tr>\n",
       "      <th>0</th>\n",
       "      <td>2215676524</td>\n",
       "      <td>0</td>\n",
       "    </tr>\n",
       "    <tr>\n",
       "      <th>1</th>\n",
       "      <td>2219624609</td>\n",
       "      <td>0</td>\n",
       "    </tr>\n",
       "    <tr>\n",
       "      <th>2</th>\n",
       "      <td>2220979489</td>\n",
       "      <td>0</td>\n",
       "    </tr>\n",
       "    <tr>\n",
       "      <th>3</th>\n",
       "      <td>2221066352</td>\n",
       "      <td>0</td>\n",
       "    </tr>\n",
       "    <tr>\n",
       "      <th>4</th>\n",
       "      <td>2222478803</td>\n",
       "      <td>0</td>\n",
       "    </tr>\n",
       "  </tbody>\n",
       "</table>\n",
       "</div>"
      ],
      "text/plain": [
       "      orderid  is_late\n",
       "0  2215676524        0\n",
       "1  2219624609        0\n",
       "2  2220979489        0\n",
       "3  2221066352        0\n",
       "4  2222478803        0"
      ]
     },
     "execution_count": 18,
     "metadata": {},
     "output_type": "execute_result"
    }
   ],
   "source": [
    "df_submission = df[['orderid', 'is_late']]\n",
    "df_submission.head()"
   ]
  },
  {
   "cell_type": "code",
   "execution_count": 19,
   "metadata": {},
   "outputs": [
    {
     "data": {
      "text/plain": [
       "orderid   -3711286817636307621\n",
       "is_late                 762910\n",
       "dtype: int64"
      ]
     },
     "execution_count": 19,
     "metadata": {},
     "output_type": "execute_result"
    }
   ],
   "source": [
    "df_submission.sum()"
   ]
  },
  {
   "cell_type": "code",
   "execution_count": 20,
   "metadata": {},
   "outputs": [],
   "source": [
    "# 764670\n",
    "# 764511\n",
    "# 762910\n",
    "# 762910 all manila\n",
    "# 763078 fixed  0.99450\n",
    "# 752768\n",
    "# 763184\n",
    "# all leq:   762910\n",
    "# leq, less: 763078"
   ]
  },
  {
   "cell_type": "code",
   "execution_count": 21,
   "metadata": {},
   "outputs": [],
   "source": [
    "df_submission.to_csv('submission_14.csv', index=False)"
   ]
  },
  {
   "cell_type": "code",
   "execution_count": 22,
   "metadata": {},
   "outputs": [
    {
     "data": {
      "text/plain": [
       "3176313"
      ]
     },
     "execution_count": 22,
     "metadata": {},
     "output_type": "execute_result"
    }
   ],
   "source": [
    "len(df_submission)"
   ]
  },
  {
   "cell_type": "code",
   "execution_count": null,
   "metadata": {},
   "outputs": [],
   "source": []
  }
 ],
 "metadata": {
  "kernelspec": {
   "display_name": "Python 3",
   "language": "python",
   "name": "python3"
  },
  "language_info": {
   "codemirror_mode": {
    "name": "ipython",
    "version": 3
   },
   "file_extension": ".py",
   "mimetype": "text/x-python",
   "name": "python",
   "nbconvert_exporter": "python",
   "pygments_lexer": "ipython3",
   "version": "3.6.8"
  }
 },
 "nbformat": 4,
 "nbformat_minor": 4
}
