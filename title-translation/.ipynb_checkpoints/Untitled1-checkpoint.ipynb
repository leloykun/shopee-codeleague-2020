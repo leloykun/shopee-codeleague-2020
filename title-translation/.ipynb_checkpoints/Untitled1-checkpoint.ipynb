{
 "cells": [
  {
   "cell_type": "code",
   "execution_count": 8,
   "metadata": {},
   "outputs": [],
   "source": [
    "import subprocess, gc, emoji, re\n",
    "\n",
    "import pandas as pd\n",
    "import numpy as np\n",
    "from sklearn.model_selection import train_test_split"
   ]
  },
  {
   "cell_type": "code",
   "execution_count": 3,
   "metadata": {},
   "outputs": [],
   "source": [
    "df_train_tcn  = pd.read_csv('product-translation-dataset/train_tcn.csv')\n",
    "df_train_en   = pd.read_csv('product-translation-dataset/train_en.csv')\n",
    "df_test_tcn   = pd.read_csv('product-translation-dataset/test_tcn.csv')\n",
    "df_dev_tcn  = pd.read_csv('product-translation-dataset/dev_tcn.csv')\n",
    "df_dev_en   = pd.read_csv('product-translation-dataset/dev_en.csv')"
   ]
  },
  {
   "cell_type": "code",
   "execution_count": 4,
   "metadata": {},
   "outputs": [],
   "source": [
    "df_test_tcn.columns = ['product_title', 'split']\n",
    "df_dev_tcn.columns = ['product_title', 'split']\n",
    "df_dev_en.columns = ['product_title']"
   ]
  },
  {
   "cell_type": "code",
   "execution_count": 5,
   "metadata": {},
   "outputs": [],
   "source": [
    "df_train_tcn = df_train_tcn[~((df_train_tcn[\"product_title\"].str.contains('\\n')) & \n",
    "                              (df_train_tcn[\"product_title\"].str.contains('\\\"')) & \n",
    "                              (df_train_tcn[\"product_title\"].str.contains(',')))]\n",
    "df_train_en  = df_train_en[~((df_train_en[\"product_title\"].str.contains('\\n')) & \n",
    "                             (df_train_en[\"product_title\"].str.contains('\\\"')) & \n",
    "                             (df_train_en[\"product_title\"].str.contains(',')))]\n",
    "df_test_tcn  = df_test_tcn[~((df_test_tcn[\"product_title\"].str.contains('\\n')) & \n",
    "                             (df_test_tcn[\"product_title\"].str.contains('\\\"')) & \n",
    "                             (df_test_tcn[\"product_title\"].str.contains(',')))]\n",
    "df_dev_tcn   = df_dev_tcn[~((df_dev_tcn[\"product_title\"].str.contains('\\n')) & \n",
    "                            (df_dev_tcn[\"product_title\"].str.contains('\\\"')) & \n",
    "                            (df_dev_tcn[\"product_title\"].str.contains(',')))]\n",
    "df_dev_en    = df_dev_en[~((df_dev_en[\"product_title\"].str.contains('\\n')) & \n",
    "                           (df_dev_en[\"product_title\"].str.contains('\\\"')) & \n",
    "                           (df_dev_en[\"product_title\"].str.contains(',')))]"
   ]
  },
  {
   "cell_type": "code",
   "execution_count": 6,
   "metadata": {},
   "outputs": [],
   "source": [
    "df_train_tcn = df_train_tcn.dropna()\n",
    "df_train_en  = df_train_en.dropna()\n",
    "df_test_tcn  = df_test_tcn.dropna()\n",
    "df_dev_tcn   = df_dev_tcn.dropna()\n",
    "df_dev_en    = df_dev_en.dropna()"
   ]
  },
  {
   "cell_type": "code",
   "execution_count": 7,
   "metadata": {},
   "outputs": [
    {
     "name": "stdout",
     "output_type": "stream",
     "text": [
      "Wall time: 3min 49s\n"
     ]
    }
   ],
   "source": [
    "%%time\n",
    "p = emoji.get_emoji_regexp()\n",
    "df_train_tcn['product_title'] = [re.sub(p, r\"\", x) for x in df_train_tcn['product_title'].tolist()]\n",
    "df_train_en['product_title']  = [re.sub(p, r\"\", x) for x in df_train_en['product_title'].tolist()]\n",
    "df_test_tcn['product_title']  = [re.sub(p, r\"\", x) for x in df_test_tcn['product_title'].tolist()]\n",
    "df_dev_tcn['product_title']   = [re.sub(p, r\"\", x) for x in df_dev_tcn['product_title'].tolist()]\n",
    "df_dev_en['product_title']    = [re.sub(p, r\"\", x) for x in df_dev_en['product_title'].tolist()]"
   ]
  },
  {
   "cell_type": "code",
   "execution_count": 10,
   "metadata": {},
   "outputs": [],
   "source": [
    "df_mono_train_tcn, df_mono_valid_tcn, df_mono_train_en, df_mono_valid_en = \\\n",
    "    train_test_split(df_train_tcn.iloc[:499744], df_train_en.iloc[:499744], test_size=0.1, random_state=42)"
   ]
  },
  {
   "cell_type": "code",
   "execution_count": 19,
   "metadata": {},
   "outputs": [],
   "source": [
    "df_para_train_tcn, df_para_valid_tcn, df_para_train_en, df_para_valid_en = \\\n",
    "    train_test_split(df_dev_tcn, df_dev_en, test_size=0.2, random_state=42)"
   ]
  },
  {
   "cell_type": "code",
   "execution_count": 20,
   "metadata": {},
   "outputs": [],
   "source": [
    "df_mono_train_tcn.to_csv('mass/data/mono/train.zh', header=False, index=False)\n",
    "df_mono_train_en.to_csv('mass/data/mono/train.en', header=False, index=False)\n",
    "df_mono_valid_tcn.to_csv('mass/data/mono/valid.zh', header=False, index=False)\n",
    "df_mono_valid_en.to_csv('mass/data/mono/valid.en', header=False, index=False)"
   ]
  },
  {
   "cell_type": "code",
   "execution_count": 21,
   "metadata": {},
   "outputs": [],
   "source": [
    "df_para_train_tcn.to_csv('mass/data/para/train.zh', header=False, index=False)\n",
    "df_para_train_en.to_csv('mass/data/para/train.en', header=False, index=False)\n",
    "df_para_valid_tcn.to_csv('mass/data/para/valid.zh', header=False, index=False)\n",
    "df_para_valid_en.to_csv('mass/data/para/valid.en', header=False, index=False)"
   ]
  },
  {
   "cell_type": "code",
   "execution_count": null,
   "metadata": {},
   "outputs": [],
   "source": []
  }
 ],
 "metadata": {
  "kernelspec": {
   "display_name": "Python 3",
   "language": "python",
   "name": "python3"
  },
  "language_info": {
   "codemirror_mode": {
    "name": "ipython",
    "version": 3
   },
   "file_extension": ".py",
   "mimetype": "text/x-python",
   "name": "python",
   "nbconvert_exporter": "python",
   "pygments_lexer": "ipython3",
   "version": "3.6.8"
  }
 },
 "nbformat": 4,
 "nbformat_minor": 4
}
