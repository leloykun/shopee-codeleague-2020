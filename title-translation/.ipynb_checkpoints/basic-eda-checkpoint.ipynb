{
 "cells": [
  {
   "cell_type": "code",
   "execution_count": 1,
   "metadata": {},
   "outputs": [],
   "source": [
    "import re, emoji\n",
    "import pandas as pd\n",
    "import numpy as np\n",
    "import matplotlib.pyplot as plt\n",
    "\n",
    "import tensorflow as tf\n",
    "from transformers import XLMRobertaTokenizer\n",
    "tokenizer  = XLMRobertaTokenizer.from_pretrained('jplu/tf-xlm-roberta-base')"
   ]
  },
  {
   "cell_type": "markdown",
   "metadata": {},
   "source": [
    "## Dataset"
   ]
  },
  {
   "cell_type": "markdown",
   "metadata": {},
   "source": [
    "### Load the dataset"
   ]
  },
  {
   "cell_type": "code",
   "execution_count": 2,
   "metadata": {},
   "outputs": [],
   "source": [
    "df_train_tcn = pd.read_csv('product-translation-dataset/train_tcn.csv').fillna('')\n",
    "df_train_en  = pd.read_csv('product-translation-dataset/train_en.csv').fillna('')\n",
    "df_test_tcn  = pd.read_csv('product-translation-dataset/test_tcn.csv').fillna('')\n",
    "df_dev_tcn   = pd.read_csv('product-translation-dataset/dev_tcn.csv').fillna('')\n",
    "df_dev_en    = pd.read_csv('product-translation-dataset/dev_en.csv').fillna('')"
   ]
  },
  {
   "cell_type": "markdown",
   "metadata": {},
   "source": [
    "### Preview dataset"
   ]
  },
  {
   "cell_type": "code",
   "execution_count": 3,
   "metadata": {},
   "outputs": [
    {
     "data": {
      "text/html": [
       "<div>\n",
       "<style scoped>\n",
       "    .dataframe tbody tr th:only-of-type {\n",
       "        vertical-align: middle;\n",
       "    }\n",
       "\n",
       "    .dataframe tbody tr th {\n",
       "        vertical-align: top;\n",
       "    }\n",
       "\n",
       "    .dataframe thead th {\n",
       "        text-align: right;\n",
       "    }\n",
       "</style>\n",
       "<table border=\"1\" class=\"dataframe\">\n",
       "  <thead>\n",
       "    <tr style=\"text-align: right;\">\n",
       "      <th></th>\n",
       "      <th>product_title</th>\n",
       "      <th>category</th>\n",
       "    </tr>\n",
       "  </thead>\n",
       "  <tbody>\n",
       "    <tr>\n",
       "      <th>499999</th>\n",
       "      <td>正品 新款紅眼 戰神哈奴曼手鐲 哈魯曼手環 戰神哈努曼 龍波雨水 新款紅眼 提升勇氣自信心 ...</td>\n",
       "      <td>Life &amp; Entertainment</td>\n",
       "    </tr>\n",
       "  </tbody>\n",
       "</table>\n",
       "</div>"
      ],
      "text/plain": [
       "                                            product_title  \\\n",
       "499999  正品 新款紅眼 戰神哈奴曼手鐲 哈魯曼手環 戰神哈努曼 龍波雨水 新款紅眼 提升勇氣自信心 ...   \n",
       "\n",
       "                    category  \n",
       "499999  Life & Entertainment  "
      ]
     },
     "execution_count": 3,
     "metadata": {},
     "output_type": "execute_result"
    }
   ],
   "source": [
    "df_train_tcn.tail(1)"
   ]
  },
  {
   "cell_type": "code",
   "execution_count": 4,
   "metadata": {},
   "outputs": [
    {
     "data": {
      "text/html": [
       "<div>\n",
       "<style scoped>\n",
       "    .dataframe tbody tr th:only-of-type {\n",
       "        vertical-align: middle;\n",
       "    }\n",
       "\n",
       "    .dataframe tbody tr th {\n",
       "        vertical-align: top;\n",
       "    }\n",
       "\n",
       "    .dataframe thead th {\n",
       "        text-align: right;\n",
       "    }\n",
       "</style>\n",
       "<table border=\"1\" class=\"dataframe\">\n",
       "  <thead>\n",
       "    <tr style=\"text-align: right;\">\n",
       "      <th></th>\n",
       "      <th>product_title</th>\n",
       "      <th>category</th>\n",
       "    </tr>\n",
       "  </thead>\n",
       "  <tbody>\n",
       "    <tr>\n",
       "      <th>499999</th>\n",
       "      <td>PRE-LOVED ORIGINAL GREEN FINO BAG</td>\n",
       "      <td>Women's Bags</td>\n",
       "    </tr>\n",
       "  </tbody>\n",
       "</table>\n",
       "</div>"
      ],
      "text/plain": [
       "                            product_title      category\n",
       "499999  PRE-LOVED ORIGINAL GREEN FINO BAG  Women's Bags"
      ]
     },
     "execution_count": 4,
     "metadata": {},
     "output_type": "execute_result"
    }
   ],
   "source": [
    "df_train_en.tail(1)"
   ]
  },
  {
   "cell_type": "code",
   "execution_count": 5,
   "metadata": {},
   "outputs": [
    {
     "data": {
      "text/html": [
       "<div>\n",
       "<style scoped>\n",
       "    .dataframe tbody tr th:only-of-type {\n",
       "        vertical-align: middle;\n",
       "    }\n",
       "\n",
       "    .dataframe tbody tr th {\n",
       "        vertical-align: top;\n",
       "    }\n",
       "\n",
       "    .dataframe thead th {\n",
       "        text-align: right;\n",
       "    }\n",
       "</style>\n",
       "<table border=\"1\" class=\"dataframe\">\n",
       "  <thead>\n",
       "    <tr style=\"text-align: right;\">\n",
       "      <th></th>\n",
       "      <th>text</th>\n",
       "      <th>split</th>\n",
       "    </tr>\n",
       "  </thead>\n",
       "  <tbody>\n",
       "    <tr>\n",
       "      <th>9999</th>\n",
       "      <td>Borofone BE11 運動磁吸藍芽耳機</td>\n",
       "      <td>private</td>\n",
       "    </tr>\n",
       "  </tbody>\n",
       "</table>\n",
       "</div>"
      ],
      "text/plain": [
       "                        text    split\n",
       "9999  Borofone BE11 運動磁吸藍芽耳機  private"
      ]
     },
     "execution_count": 5,
     "metadata": {},
     "output_type": "execute_result"
    }
   ],
   "source": [
    "df_test_tcn.tail(1)"
   ]
  },
  {
   "cell_type": "code",
   "execution_count": 6,
   "metadata": {},
   "outputs": [
    {
     "data": {
      "text/html": [
       "<div>\n",
       "<style scoped>\n",
       "    .dataframe tbody tr th:only-of-type {\n",
       "        vertical-align: middle;\n",
       "    }\n",
       "\n",
       "    .dataframe tbody tr th {\n",
       "        vertical-align: top;\n",
       "    }\n",
       "\n",
       "    .dataframe thead th {\n",
       "        text-align: right;\n",
       "    }\n",
       "</style>\n",
       "<table border=\"1\" class=\"dataframe\">\n",
       "  <thead>\n",
       "    <tr style=\"text-align: right;\">\n",
       "      <th></th>\n",
       "      <th>text</th>\n",
       "      <th>split</th>\n",
       "    </tr>\n",
       "  </thead>\n",
       "  <tbody>\n",
       "    <tr>\n",
       "      <th>999</th>\n",
       "      <td>PolarStar 女 排汗快干T恤『黑』P18102</td>\n",
       "      <td>private</td>\n",
       "    </tr>\n",
       "  </tbody>\n",
       "</table>\n",
       "</div>"
      ],
      "text/plain": [
       "                            text    split\n",
       "999  PolarStar 女 排汗快干T恤『黑』P18102  private"
      ]
     },
     "execution_count": 6,
     "metadata": {},
     "output_type": "execute_result"
    }
   ],
   "source": [
    "df_dev_tcn.tail(1)"
   ]
  },
  {
   "cell_type": "code",
   "execution_count": 7,
   "metadata": {},
   "outputs": [
    {
     "data": {
      "text/html": [
       "<div>\n",
       "<style scoped>\n",
       "    .dataframe tbody tr th:only-of-type {\n",
       "        vertical-align: middle;\n",
       "    }\n",
       "\n",
       "    .dataframe tbody tr th {\n",
       "        vertical-align: top;\n",
       "    }\n",
       "\n",
       "    .dataframe thead th {\n",
       "        text-align: right;\n",
       "    }\n",
       "</style>\n",
       "<table border=\"1\" class=\"dataframe\">\n",
       "  <thead>\n",
       "    <tr style=\"text-align: right;\">\n",
       "      <th></th>\n",
       "      <th>translation_output</th>\n",
       "    </tr>\n",
       "  </thead>\n",
       "  <tbody>\n",
       "    <tr>\n",
       "      <th>999</th>\n",
       "      <td>PolarStar Women Sweat Quick Dry T-shirt Black ...</td>\n",
       "    </tr>\n",
       "  </tbody>\n",
       "</table>\n",
       "</div>"
      ],
      "text/plain": [
       "                                    translation_output\n",
       "999  PolarStar Women Sweat Quick Dry T-shirt Black ..."
      ]
     },
     "execution_count": 7,
     "metadata": {},
     "output_type": "execute_result"
    }
   ],
   "source": [
    "df_dev_en.tail(1)"
   ]
  },
  {
   "cell_type": "markdown",
   "metadata": {},
   "source": [
    "### Clean dataset"
   ]
  },
  {
   "cell_type": "code",
   "execution_count": 8,
   "metadata": {},
   "outputs": [],
   "source": [
    "df_test_tcn.columns = ['product_title', 'split']\n",
    "df_dev_tcn.columns = ['product_title', 'split']\n",
    "df_dev_en.columns = ['product_title']"
   ]
  },
  {
   "cell_type": "code",
   "execution_count": 9,
   "metadata": {},
   "outputs": [],
   "source": [
    "df_train_tcn = df_train_tcn[~((df_train_tcn[\"product_title\"].str.contains('\\n')) & \n",
    "                              (df_train_tcn[\"product_title\"].str.contains('\\\"')) & \n",
    "                              (df_train_tcn[\"product_title\"].str.contains(',')))]\n",
    "df_train_en  = df_train_en[~((df_train_en[\"product_title\"].str.contains('\\n')) & \n",
    "                             (df_train_en[\"product_title\"].str.contains('\\\"')) & \n",
    "                             (df_train_en[\"product_title\"].str.contains(',')))]\n",
    "df_test_tcn  = df_test_tcn[~((df_test_tcn[\"product_title\"].str.contains('\\n')) & \n",
    "                             (df_test_tcn[\"product_title\"].str.contains('\\\"')) & \n",
    "                             (df_test_tcn[\"product_title\"].str.contains(',')))]\n",
    "df_dev_tcn   = df_dev_tcn[~((df_dev_tcn[\"product_title\"].str.contains('\\n')) & \n",
    "                            (df_dev_tcn[\"product_title\"].str.contains('\\\"')) & \n",
    "                            (df_dev_tcn[\"product_title\"].str.contains(',')))]\n",
    "df_dev_en    = df_dev_en[~((df_dev_en[\"product_title\"].str.contains('\\n')) & \n",
    "                           (df_dev_en[\"product_title\"].str.contains('\\\"')) & \n",
    "                           (df_dev_en[\"product_title\"].str.contains(',')))]"
   ]
  },
  {
   "cell_type": "code",
   "execution_count": 10,
   "metadata": {},
   "outputs": [],
   "source": [
    "df_train_tcn = df_train_tcn.dropna()\n",
    "df_train_en  = df_train_en.dropna()\n",
    "df_test_tcn  = df_test_tcn.dropna()\n",
    "df_dev_tcn   = df_dev_tcn.dropna()\n",
    "df_dev_en    = df_dev_en.dropna()"
   ]
  },
  {
   "cell_type": "code",
   "execution_count": 11,
   "metadata": {},
   "outputs": [
    {
     "name": "stdout",
     "output_type": "stream",
     "text": [
      "Wall time: 2min 39s\n"
     ]
    }
   ],
   "source": [
    "%%time\n",
    "p = emoji.get_emoji_regexp()\n",
    "df_train_tcn['product_title'] = [re.sub(p, r\"\", x) for x in df_train_tcn['product_title'].tolist()]\n",
    "df_train_en['product_title']  = [re.sub(p, r\"\", x) for x in df_train_en['product_title'].tolist()]\n",
    "df_test_tcn['product_title']  = [re.sub(p, r\"\", x) for x in df_test_tcn['product_title'].tolist()]\n",
    "df_dev_tcn['product_title']   = [re.sub(p, r\"\", x) for x in df_dev_tcn['product_title'].tolist()]\n",
    "df_dev_en['product_title']    = [re.sub(p, r\"\", x) for x in df_dev_en['product_title'].tolist()]"
   ]
  },
  {
   "cell_type": "markdown",
   "metadata": {},
   "source": [
    "### Calculate title and token lengths"
   ]
  },
  {
   "cell_type": "code",
   "execution_count": 12,
   "metadata": {},
   "outputs": [],
   "source": [
    "df_train_tcn['title_len'] = df_train_tcn['product_title'].str.len().fillna(0).astype(int)\n",
    "df_train_en['title_len']  = df_train_en['product_title'].str.len().fillna(0).astype(int)\n",
    "df_test_tcn['title_len']  = df_test_tcn['product_title'].str.len().fillna(0).astype(int)\n",
    "df_dev_tcn['title_len']   = df_dev_tcn['product_title'].str.len().fillna(0).astype(int)\n",
    "df_dev_en['title_len']    = df_dev_en['product_title'].str.len().fillna(0).astype(int)"
   ]
  },
  {
   "cell_type": "code",
   "execution_count": 13,
   "metadata": {},
   "outputs": [],
   "source": [
    "df_train_tcn = df_train_tcn[df_train_tcn['title_len'] > 0]\n",
    "df_train_en  = df_train_en[df_train_en['title_len'] > 0]\n",
    "df_test_tcn  = df_test_tcn[df_test_tcn['title_len'] > 0]\n",
    "df_dev_tcn   = df_dev_tcn[df_dev_tcn['title_len'] > 0]\n",
    "df_dev_en    = df_dev_en[df_dev_en['title_len'] > 0]"
   ]
  },
  {
   "cell_type": "code",
   "execution_count": 14,
   "metadata": {},
   "outputs": [
    {
     "name": "stdout",
     "output_type": "stream",
     "text": [
      "Wall time: 1min 40s\n"
     ]
    }
   ],
   "source": [
    "%%time\n",
    "df_train_tcn['tokens'] = df_train_tcn['product_title'].apply(lambda x : tokenizer.encode(x))\n",
    "df_train_en['tokens']  = df_train_en['product_title'].apply(lambda x : tokenizer.encode(x))\n",
    "df_test_tcn['tokens']  = df_test_tcn['product_title'].apply(lambda x : tokenizer.encode(x))\n",
    "df_dev_tcn['tokens']   = df_dev_tcn['product_title'].apply(lambda x : tokenizer.encode(x))\n",
    "df_dev_en['tokens']    = df_dev_en['product_title'].apply(lambda x : tokenizer.encode(x))"
   ]
  },
  {
   "cell_type": "code",
   "execution_count": 15,
   "metadata": {},
   "outputs": [],
   "source": [
    "df_train_tcn['token_len'] = df_train_tcn['tokens'].str.len().fillna(0).astype(int)\n",
    "df_train_en['token_len']  = df_train_en['tokens'].str.len().fillna(0).astype(int)\n",
    "df_test_tcn['token_len']  = df_test_tcn['tokens'].str.len().fillna(0).astype(int)\n",
    "df_dev_tcn['token_len']   = df_dev_tcn['tokens'].str.len().fillna(0).astype(int)\n",
    "df_dev_en['token_len']    = df_dev_en['tokens'].str.len().fillna(0).astype(int)"
   ]
  },
  {
   "cell_type": "code",
   "execution_count": 14,
   "metadata": {},
   "outputs": [],
   "source": [
    "df_train_tcn.to_csv('product-translation-dataset/train_tcn_clean.csv')\n",
    "df_train_en.to_csv('product-translation-dataset/train_en_clean.csv')\n",
    "df_test_tcn.to_csv('product-translation-dataset/test_tcn_clean.csv')\n",
    "df_dev_tcn.to_csv('product-translation-dataset/dev_tcn_clean.csv')\n",
    "df_dev_en.to_csv('product-translation-dataset/dev_en_clean.csv')"
   ]
  },
  {
   "cell_type": "markdown",
   "metadata": {},
   "source": [
    "### Concatenate datasets"
   ]
  },
  {
   "cell_type": "code",
   "execution_count": 20,
   "metadata": {},
   "outputs": [
    {
     "data": {
      "text/html": [
       "<div>\n",
       "<style scoped>\n",
       "    .dataframe tbody tr th:only-of-type {\n",
       "        vertical-align: middle;\n",
       "    }\n",
       "\n",
       "    .dataframe tbody tr th {\n",
       "        vertical-align: top;\n",
       "    }\n",
       "\n",
       "    .dataframe thead th {\n",
       "        text-align: right;\n",
       "    }\n",
       "</style>\n",
       "<table border=\"1\" class=\"dataframe\">\n",
       "  <thead>\n",
       "    <tr style=\"text-align: right;\">\n",
       "      <th></th>\n",
       "      <th>product_title</th>\n",
       "    </tr>\n",
       "  </thead>\n",
       "  <tbody>\n",
       "    <tr>\n",
       "      <th>0</th>\n",
       "      <td>Gucci Gucci Guilty Pour Femme Stud Edition 罪愛女...</td>\n",
       "    </tr>\n",
       "    <tr>\n",
       "      <th>1</th>\n",
       "      <td>（二手）PS4 GTA 5 俠盜獵車手5 Grand Theif Auto V繁體 中文版</td>\n",
       "    </tr>\n",
       "    <tr>\n",
       "      <th>2</th>\n",
       "      <td>百獸卡</td>\n",
       "    </tr>\n",
       "    <tr>\n",
       "      <th>3</th>\n",
       "      <td>nac nac活氧全效柔衣素</td>\n",
       "    </tr>\n",
       "    <tr>\n",
       "      <th>4</th>\n",
       "      <td>#Nike耐吉官方F.C. 男子足球長褲新款標準型 拒水 拉鏈褲腳\\nCD0557</td>\n",
       "    </tr>\n",
       "  </tbody>\n",
       "</table>\n",
       "</div>"
      ],
      "text/plain": [
       "                                       product_title\n",
       "0  Gucci Gucci Guilty Pour Femme Stud Edition 罪愛女...\n",
       "1      （二手）PS4 GTA 5 俠盜獵車手5 Grand Theif Auto V繁體 中文版\n",
       "2                                                百獸卡\n",
       "3                                     nac nac活氧全效柔衣素\n",
       "4          #Nike耐吉官方F.C. 男子足球長褲新款標準型 拒水 拉鏈褲腳\\nCD0557"
      ]
     },
     "execution_count": 20,
     "metadata": {},
     "output_type": "execute_result"
    }
   ],
   "source": [
    "datasets = [df_train_tcn,\n",
    "            df_train_en,\n",
    "            df_test_tcn,\n",
    "            df_dev_tcn,\n",
    "            df_dev_en]\n",
    "df_all = pd.concat(datasets).reset_index().drop(['index', 'category', 'title_len','split', 'tokens', 'token_len'], axis=1)\n",
    "df_all.head()"
   ]
  },
  {
   "cell_type": "code",
   "execution_count": 16,
   "metadata": {},
   "outputs": [],
   "source": [
    "df_all.to_csv('product-translation-dataset/all_clean.csv')"
   ]
  },
  {
   "cell_type": "markdown",
   "metadata": {},
   "source": [
    "### Exploratory Data Analysis"
   ]
  },
  {
   "cell_type": "markdown",
   "metadata": {},
   "source": [
    "#### Basic Stats"
   ]
  },
  {
   "cell_type": "code",
   "execution_count": null,
   "metadata": {},
   "outputs": [],
   "source": []
  },
  {
   "cell_type": "code",
   "execution_count": 10,
   "metadata": {},
   "outputs": [
    {
     "data": {
      "text/html": [
       "<div>\n",
       "<style scoped>\n",
       "    .dataframe tbody tr th:only-of-type {\n",
       "        vertical-align: middle;\n",
       "    }\n",
       "\n",
       "    .dataframe tbody tr th {\n",
       "        vertical-align: top;\n",
       "    }\n",
       "\n",
       "    .dataframe thead th {\n",
       "        text-align: right;\n",
       "    }\n",
       "</style>\n",
       "<table border=\"1\" class=\"dataframe\">\n",
       "  <thead>\n",
       "    <tr style=\"text-align: right;\">\n",
       "      <th></th>\n",
       "      <th>tcn</th>\n",
       "      <th>en</th>\n",
       "      <th>test</th>\n",
       "    </tr>\n",
       "  </thead>\n",
       "  <tbody>\n",
       "    <tr>\n",
       "      <th># of examples</th>\n",
       "      <td>500000</td>\n",
       "      <td>500000</td>\n",
       "      <td>500</td>\n",
       "    </tr>\n",
       "    <tr>\n",
       "      <th># of chars</th>\n",
       "      <td>16443282</td>\n",
       "      <td>18746956</td>\n",
       "      <td>18977</td>\n",
       "    </tr>\n",
       "    <tr>\n",
       "      <th>char length limit</th>\n",
       "      <td>60</td>\n",
       "      <td>100</td>\n",
       "      <td>60</td>\n",
       "    </tr>\n",
       "    <tr>\n",
       "      <th># longer than limit</th>\n",
       "      <td>1120</td>\n",
       "      <td>274</td>\n",
       "      <td>0</td>\n",
       "    </tr>\n",
       "    <tr>\n",
       "      <th>max_token_len</th>\n",
       "      <td>62</td>\n",
       "      <td>72</td>\n",
       "      <td>53</td>\n",
       "    </tr>\n",
       "  </tbody>\n",
       "</table>\n",
       "</div>"
      ],
      "text/plain": [
       "                          tcn        en   test\n",
       "# of examples          500000    500000    500\n",
       "# of chars           16443282  18746956  18977\n",
       "char length limit          60       100     60\n",
       "# longer than limit      1120       274      0\n",
       "max_token_len              62        72     53"
      ]
     },
     "execution_count": 10,
     "metadata": {},
     "output_type": "execute_result"
    }
   ],
   "source": [
    "tcn_max_token_len  = df_tcn[df_tcn['title_len'] < 60]['token_len'].max()\n",
    "en_max_token_len   = df_en[df_en['title_len'] < 100]['token_len'].max()\n",
    "test_max_token_len = df_test[df_test['title_len'] < 60]['token_len'].max()\n",
    "\n",
    "pd.DataFrame({'tcn'  : [len(df_tcn) , df_tcn['title_len'].sum(),  60,  (df_tcn['title_len'] > 60).sum(),  tcn_max_token_len],\n",
    "              'en'   : [len(df_en)  , df_en['title_len'].sum(),   100, (df_en['title_len'] > 100).sum(),  en_max_token_len],\n",
    "              'test' : [len(df_test), df_test['title_len'].sum(), 60,  (df_test['title_len'] > 60).sum(), test_max_token_len]},\n",
    "             index=['# of examples', '# of chars', 'char length limit', '# longer than limit', 'max_token_len'])"
   ]
  },
  {
   "cell_type": "markdown",
   "metadata": {},
   "source": [
    "#### Character Length"
   ]
  },
  {
   "cell_type": "code",
   "execution_count": 24,
   "metadata": {},
   "outputs": [
    {
     "data": {
      "image/png": "[encoded data removed]",
      "text/plain": [
       "<Figure size 1080x360 with 3 Axes>"
      ]
     },
     "metadata": {
      "needs_background": "light"
     },
     "output_type": "display_data"
    }
   ],
   "source": [
    "fig, (ax1, ax2, ax3) = plt.subplots(1, 3, figsize=(15, 5))\n",
    "\n",
    "plt.suptitle(\"Title Length Distribution\", fontsize=16)\n",
    "\n",
    "ax1.hist(df_train_tcn['title_len'], bins=np.arange(65)-0.5)\n",
    "#ax1.set_title(\"Simplified Chinese Title Length Distribution\")\n",
    "ax1.set_xlabel(\"Simplified Chinese Title Length\")\n",
    "ax1.set_ylabel(\"#\")\n",
    "ax1.set_xlim(-1, 65)\n",
    "\n",
    "ax2.hist(df_train_en['title_len'], bins=np.arange(101)-0.5)\n",
    "#ax2.set_title(\"English Title Length Distribution\")\n",
    "ax2.set_xlabel(\"English Title Length\")\n",
    "#ax2.set_ylabel(\"#\")\n",
    "ax2.set_xlim(-1, 101)\n",
    "\n",
    "ax3.hist(df_test_tcn['title_len'], bins=np.arange(65)-0.5)\n",
    "#ax3.set_title(\"Test Title Length Distribution\")\n",
    "ax3.set_xlabel(\"Test Title Length\")\n",
    "ax3.set_ylabel(\"#\")\n",
    "ax3.set_xlim(-1, 65)\n",
    "\n",
    "plt.savefig('title-length-dist.png', bbox_inches='tight')"
   ]
  },
  {
   "cell_type": "code",
   "execution_count": 28,
   "metadata": {},
   "outputs": [
    {
     "data": {
      "image/png": "[encoded data removed]",
      "text/plain": [
       "<Figure size 1080x360 with 2 Axes>"
      ]
     },
     "metadata": {
      "needs_background": "light"
     },
     "output_type": "display_data"
    }
   ],
   "source": [
    "fig, (ax1, ax2) = plt.subplots(1, 2, figsize=(15, 5))\n",
    "\n",
    "plt.suptitle(\"Title Length Distribution\", fontsize=16)\n",
    "\n",
    "ax1.hist(df_dev_tcn['title_len'], bins=np.arange(65)-0.5)\n",
    "#ax1.set_title(\"Simplified Chinese Title Length Distribution\")\n",
    "ax1.set_xlabel(\"Simplified Chinese Title Length\")\n",
    "ax1.set_ylabel(\"#\")\n",
    "ax1.set_xlim(-1, 65)\n",
    "\n",
    "ax2.hist(df_dev_en['title_len'], bins=np.arange(101)-0.5)\n",
    "#ax2.set_title(\"English Title Length Distribution\")\n",
    "ax2.set_xlabel(\"English Title Length\")\n",
    "#ax2.set_ylabel(\"#\")\n",
    "ax2.set_xlim(-1, 101)\n",
    "\n",
    "plt.savefig('title-length-dist.png', bbox_inches='tight')"
   ]
  },
  {
   "cell_type": "code",
   "execution_count": 29,
   "metadata": {},
   "outputs": [
    {
     "name": "stdout",
     "output_type": "stream",
     "text": [
      "全店免運，統一黑貓宅急配貨到付款，全家取貨付款。貨到付款，買的放心，用著舒心。經營宗旨：誠信交易，顧客至上。物美價廉，售後無憂。下標後請勿直接付款，請在寄送方式處點擊變更選擇全家或黑貓宅急配貨到付款。然後請在留言板給賣家姓名，地址，電話以及商品編號跟Size，亦或聊聊提供寫明喲。備註:全家取貨的，全家店名一定要聊聊寫詳細喲。新款Under Armour 安德瑪 UA跑鞋 安德瑪休閒鞋  紅黑 藍球鞋 安德瑪印花 黑月 男 40-----45\n"
     ]
    }
   ],
   "source": [
    "print(df_train_tcn[df_train_tcn['title_len'] == df_train_tcn['title_len'].max()].iloc[0]['product_title'])"
   ]
  },
  {
   "cell_type": "code",
   "execution_count": 30,
   "metadata": {},
   "outputs": [
    {
     "data": {
      "text/plain": [
       "{'input_ids': [0, 6, 2476, 3381, 17599, 12802, 4, 107260, 7320, 44566, 51283, 10795, 10919, 16105, 789, 98528, 4, 146333, 5226, 16105, 98528, 30, 16105, 789, 98528, 4, 7361, 43, 76345, 4, 1173, 3094, 62741, 1801, 30, 36594, 93727, 12, 205874, 11755, 4, 57525, 3172, 575, 30, 3324, 2655, 10518, 70021, 4, 28156, 1769, 2705, 89883, 30, 1130, 25838, 1769, 225492, 6618, 98528, 4, 5520, 213, 23636, 4663, 6518, 8784, 147476, 206660, 10312, 146333, 1635, 7320, 44566, 51283, 10795, 10919, 16105, 789, 98528, 30, 31132, 5520, 213, 68482, 10930, 5862, 20389, 1433, 129428, 4, 45671, 4, 16171, 2961, 6689, 210639, 3898, 127167, 13, 4, 13915, 1635, 45579, 45579, 2212, 15023, 3924, 244780, 30, 18571, 71730, 12, 146333, 5226, 16105, 43, 4, 146333, 3381, 1795, 20081, 45579, 45579, 15023, 24058, 244780, 30, 1378, 7485, 1062, 7944, 33119, 34639, 6, 3586, 3508, 79793, 6, 20004, 11659, 27175, 6, 3586, 3508, 79793, 80770, 27175, 6, 10780, 7320, 6, 33223, 6028, 27175, 6, 3586, 3508, 79793, 19119, 2603, 6, 7320, 630, 6, 8553, 1112, 106115, 82877, 2], 'attention_mask': [1, 1, 1, 1, 1, 1, 1, 1, 1, 1, 1, 1, 1, 1, 1, 1, 1, 1, 1, 1, 1, 1, 1, 1, 1, 1, 1, 1, 1, 1, 1, 1, 1, 1, 1, 1, 1, 1, 1, 1, 1, 1, 1, 1, 1, 1, 1, 1, 1, 1, 1, 1, 1, 1, 1, 1, 1, 1, 1, 1, 1, 1, 1, 1, 1, 1, 1, 1, 1, 1, 1, 1, 1, 1, 1, 1, 1, 1, 1, 1, 1, 1, 1, 1, 1, 1, 1, 1, 1, 1, 1, 1, 1, 1, 1, 1, 1, 1, 1, 1, 1, 1, 1, 1, 1, 1, 1, 1, 1, 1, 1, 1, 1, 1, 1, 1, 1, 1, 1, 1, 1, 1, 1, 1, 1, 1, 1, 1, 1, 1, 1, 1, 1, 1, 1, 1, 1, 1, 1, 1, 1, 1, 1, 1, 1, 1, 1, 1, 1, 1, 1, 1, 1, 1, 1, 1, 1, 1, 1, 1, 1, 1, 1, 1, 1, 1, 1, 1, 1, 1, 1]}"
      ]
     },
     "execution_count": 30,
     "metadata": {},
     "output_type": "execute_result"
    }
   ],
   "source": [
    "tokenizer(df_train_tcn[df_train_tcn['title_len'] == df_train_tcn['title_len'].max()].iloc[0]['product_title'])"
   ]
  },
  {
   "cell_type": "markdown",
   "metadata": {},
   "source": [
    "#### Token length"
   ]
  },
  {
   "cell_type": "code",
   "execution_count": 34,
   "metadata": {},
   "outputs": [
    {
     "data": {
      "image/png": "[encoded data removed]",
      "text/plain": [
       "<Figure size 1080x360 with 3 Axes>"
      ]
     },
     "metadata": {
      "needs_background": "light"
     },
     "output_type": "display_data"
    }
   ],
   "source": [
    "fig, (ax1, ax2, ax3) = plt.subplots(1, 3, figsize=(15, 5))\n",
    "\n",
    "plt.suptitle(\"Token Length Distribution\", fontsize=16)\n",
    "\n",
    "ax1.hist(df_train_tcn['token_len'], bins=np.arange(65)-0.5)\n",
    "#ax1.set_title(\"Simplified Chinese Title Length Distribution\")\n",
    "ax1.set_xlabel(\"Simplified Chinese Token Length\")\n",
    "ax1.set_ylabel(\"#\")\n",
    "ax1.set_xlim(-1, 65)\n",
    "\n",
    "ax2.hist(df_train_en['token_len'], bins=np.arange(65)-0.5)\n",
    "#ax2.set_title(\"English Title Length Distribution\")\n",
    "ax2.set_xlabel(\"English Token Length\")\n",
    "#ax2.set_ylabel(\"#\")\n",
    "ax2.set_xlim(-1, 65)\n",
    "\n",
    "ax3.hist(df_test_tcn['token_len'], bins=np.arange(65)-0.5)\n",
    "#ax3.set_title(\"Test Title Length Distribution\")\n",
    "ax3.set_xlabel(\"Test Token Length\")\n",
    "ax3.set_ylabel(\"#\")\n",
    "ax3.set_xlim(-1, 65)\n",
    "\n",
    "plt.savefig('token-length-dist.png', bbox_inches='tight')"
   ]
  },
  {
   "cell_type": "code",
   "execution_count": 35,
   "metadata": {},
   "outputs": [
    {
     "data": {
      "image/png": "[encoded data removed]",
      "text/plain": [
       "<Figure size 1080x360 with 2 Axes>"
      ]
     },
     "metadata": {
      "needs_background": "light"
     },
     "output_type": "display_data"
    }
   ],
   "source": [
    "fig, (ax1, ax2) = plt.subplots(1, 2, figsize=(15, 5))\n",
    "\n",
    "plt.suptitle(\"Token Length Distribution\", fontsize=16)\n",
    "\n",
    "ax1.hist(df_dev_tcn['token_len'], bins=np.arange(65)-0.5)\n",
    "#ax1.set_title(\"Simplified Chinese Title Length Distribution\")\n",
    "ax1.set_xlabel(\"Simplified Chinese Token Length\")\n",
    "ax1.set_ylabel(\"#\")\n",
    "ax1.set_xlim(-1, 65)\n",
    "\n",
    "ax2.hist(df_dev_en['token_len'], bins=np.arange(65)-0.5)\n",
    "#ax2.set_title(\"English Title Length Distribution\")\n",
    "ax2.set_xlabel(\"English Token Length\")\n",
    "#ax2.set_ylabel(\"#\")\n",
    "ax2.set_xlim(-1, 65)\n",
    "\n",
    "plt.savefig('token-length-dist.png', bbox_inches='tight')"
   ]
  },
  {
   "cell_type": "markdown",
   "metadata": {},
   "source": [
    "#### Unique tokens"
   ]
  },
  {
   "cell_type": "code",
   "execution_count": 17,
   "metadata": {},
   "outputs": [
    {
     "data": {
      "text/plain": [
       "36179"
      ]
     },
     "execution_count": 17,
     "metadata": {},
     "output_type": "execute_result"
    }
   ],
   "source": [
    "tcn_uniq = pd.concat([\n",
    "    df_train_tcn['tokens'].explode().value_counts(),\n",
    "    df_test_tcn['tokens'].explode().value_counts(),\n",
    "    df_dev_tcn['tokens'].explode().value_counts()\n",
    "], axis=1).index.to_numpy()\n",
    "len(tcn_uniq)"
   ]
  },
  {
   "cell_type": "code",
   "execution_count": 19,
   "metadata": {},
   "outputs": [
    {
     "data": {
      "text/plain": [
       "29032"
      ]
     },
     "execution_count": 19,
     "metadata": {},
     "output_type": "execute_result"
    }
   ],
   "source": [
    "en_uniq = pd.concat([\n",
    "    df_train_en['tokens'].explode().value_counts(),\n",
    "    df_dev_en['tokens'].explode().value_counts()\n",
    "], axis=1).index.to_numpy()\n",
    "len(en_uniq)"
   ]
  },
  {
   "cell_type": "code",
   "execution_count": 27,
   "metadata": {},
   "outputs": [
    {
     "data": {
      "text/plain": [
       "array([1., 0., 1., ..., 1., 0., 0.])"
      ]
     },
     "execution_count": 27,
     "metadata": {},
     "output_type": "execute_result"
    }
   ],
   "source": [
    "tcn_mask = np.zeros(250002)\n",
    "tcn_mask[tcn_uniq] = 1\n",
    "tcn_mask"
   ]
  },
  {
   "cell_type": "code",
   "execution_count": 28,
   "metadata": {},
   "outputs": [
    {
     "data": {
      "text/plain": [
       "array([1., 0., 1., ..., 0., 0., 0.])"
      ]
     },
     "execution_count": 28,
     "metadata": {},
     "output_type": "execute_result"
    }
   ],
   "source": [
    "en_mask = np.zeros(250002)\n",
    "en_mask[en_uniq] = 1\n",
    "en_mask"
   ]
  },
  {
   "cell_type": "code",
   "execution_count": 29,
   "metadata": {},
   "outputs": [
    {
     "data": {
      "text/html": [
       "<div>\n",
       "<style scoped>\n",
       "    .dataframe tbody tr th:only-of-type {\n",
       "        vertical-align: middle;\n",
       "    }\n",
       "\n",
       "    .dataframe tbody tr th {\n",
       "        vertical-align: top;\n",
       "    }\n",
       "\n",
       "    .dataframe thead th {\n",
       "        text-align: right;\n",
       "    }\n",
       "</style>\n",
       "<table border=\"1\" class=\"dataframe\">\n",
       "  <thead>\n",
       "    <tr style=\"text-align: right;\">\n",
       "      <th></th>\n",
       "      <th>tcn_mask</th>\n",
       "      <th>en_mask</th>\n",
       "    </tr>\n",
       "  </thead>\n",
       "  <tbody>\n",
       "    <tr>\n",
       "      <th>0</th>\n",
       "      <td>1</td>\n",
       "      <td>1</td>\n",
       "    </tr>\n",
       "    <tr>\n",
       "      <th>1</th>\n",
       "      <td>0</td>\n",
       "      <td>0</td>\n",
       "    </tr>\n",
       "    <tr>\n",
       "      <th>2</th>\n",
       "      <td>1</td>\n",
       "      <td>1</td>\n",
       "    </tr>\n",
       "    <tr>\n",
       "      <th>3</th>\n",
       "      <td>1</td>\n",
       "      <td>1</td>\n",
       "    </tr>\n",
       "    <tr>\n",
       "      <th>4</th>\n",
       "      <td>1</td>\n",
       "      <td>1</td>\n",
       "    </tr>\n",
       "  </tbody>\n",
       "</table>\n",
       "</div>"
      ],
      "text/plain": [
       "   tcn_mask  en_mask\n",
       "0         1        1\n",
       "1         0        0\n",
       "2         1        1\n",
       "3         1        1\n",
       "4         1        1"
      ]
     },
     "execution_count": 29,
     "metadata": {},
     "output_type": "execute_result"
    }
   ],
   "source": [
    "df_mask = pd.DataFrame({'tcn_mask':tcn_mask,\n",
    "                        'en_mask':en_mask}, dtype=int)\n",
    "df_mask.head()"
   ]
  },
  {
   "cell_type": "code",
   "execution_count": 35,
   "metadata": {},
   "outputs": [
    {
     "data": {
      "text/html": [
       "<div>\n",
       "<style scoped>\n",
       "    .dataframe tbody tr th:only-of-type {\n",
       "        vertical-align: middle;\n",
       "    }\n",
       "\n",
       "    .dataframe tbody tr th {\n",
       "        vertical-align: top;\n",
       "    }\n",
       "\n",
       "    .dataframe thead th {\n",
       "        text-align: right;\n",
       "    }\n",
       "</style>\n",
       "<table border=\"1\" class=\"dataframe\">\n",
       "  <thead>\n",
       "    <tr style=\"text-align: right;\">\n",
       "      <th></th>\n",
       "      <th>tcn_mask</th>\n",
       "      <th>en_mask</th>\n",
       "      <th>tcn_en_mask</th>\n",
       "    </tr>\n",
       "  </thead>\n",
       "  <tbody>\n",
       "    <tr>\n",
       "      <th>249997</th>\n",
       "      <td>1</td>\n",
       "      <td>0</td>\n",
       "      <td>1</td>\n",
       "    </tr>\n",
       "    <tr>\n",
       "      <th>249998</th>\n",
       "      <td>0</td>\n",
       "      <td>0</td>\n",
       "      <td>0</td>\n",
       "    </tr>\n",
       "    <tr>\n",
       "      <th>249999</th>\n",
       "      <td>1</td>\n",
       "      <td>0</td>\n",
       "      <td>1</td>\n",
       "    </tr>\n",
       "    <tr>\n",
       "      <th>250000</th>\n",
       "      <td>0</td>\n",
       "      <td>0</td>\n",
       "      <td>0</td>\n",
       "    </tr>\n",
       "    <tr>\n",
       "      <th>250001</th>\n",
       "      <td>0</td>\n",
       "      <td>0</td>\n",
       "      <td>0</td>\n",
       "    </tr>\n",
       "  </tbody>\n",
       "</table>\n",
       "</div>"
      ],
      "text/plain": [
       "        tcn_mask  en_mask  tcn_en_mask\n",
       "249997         1        0            1\n",
       "249998         0        0            0\n",
       "249999         1        0            1\n",
       "250000         0        0            0\n",
       "250001         0        0            0"
      ]
     },
     "execution_count": 35,
     "metadata": {},
     "output_type": "execute_result"
    }
   ],
   "source": [
    "df_mask['tcn_en_mask'] = df_mask['tcn_mask'] | df_mask['en_mask']\n",
    "df_mask.tail()"
   ]
  },
  {
   "cell_type": "code",
   "execution_count": 33,
   "metadata": {},
   "outputs": [],
   "source": [
    "df_mask.to_csv('product-translation-dataset/uniq_tokens_masks.csv', index=False)"
   ]
  },
  {
   "cell_type": "code",
   "execution_count": 34,
   "metadata": {},
   "outputs": [
    {
     "data": {
      "text/plain": [
       "44508"
      ]
     },
     "execution_count": 34,
     "metadata": {},
     "output_type": "execute_result"
    }
   ],
   "source": [
    "df_mask['tcn_en_mask'].sum()"
   ]
  },
  {
   "cell_type": "code",
   "execution_count": 36,
   "metadata": {},
   "outputs": [
    {
     "data": {
      "text/plain": [
       "0.17803057575539397"
      ]
     },
     "execution_count": 36,
     "metadata": {},
     "output_type": "execute_result"
    }
   ],
   "source": [
    "44508/250002"
   ]
  },
  {
   "cell_type": "code",
   "execution_count": null,
   "metadata": {},
   "outputs": [],
   "source": []
  }
 ],
 "metadata": {
  "kernelspec": {
   "display_name": "Python 3",
   "language": "python",
   "name": "python3"
  },
  "language_info": {
   "codemirror_mode": {
    "name": "ipython",
    "version": 3
   },
   "file_extension": ".py",
   "mimetype": "text/x-python",
   "name": "python",
   "nbconvert_exporter": "python",
   "pygments_lexer": "ipython3",
   "version": "3.6.8"
  }
 },
 "nbformat": 4,
 "nbformat_minor": 4
}
