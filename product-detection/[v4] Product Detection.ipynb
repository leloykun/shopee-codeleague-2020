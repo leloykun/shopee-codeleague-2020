{
 "cells": [
  {
   "cell_type": "code",
   "execution_count": 1,
   "metadata": {},
   "outputs": [],
   "source": [
    "import tensorflow as tf\n",
    "import tensorflow.keras as tfk\n",
    "\n",
    "from tensorflow.keras.preprocessing import image as tfk_image\n",
    "from tensorflow.keras.preprocessing.image import ImageDataGenerator as tfk_ImageDataGenerator\n",
    "\n",
    "from tensorflow.python.keras.applications.efficientnet import EfficientNetB7 as tfk_BaseModel\n",
    "from tensorflow.python.keras.applications.efficientnet import preprocess_input as tfk_preprocess_input\n",
    "\n",
    "import datetime, os\n",
    "\n",
    "import numpy as np\n",
    "import pandas as pd\n",
    "import matplotlib.pyplot as plt\n",
    "import seaborn as sns; sns.set();\n",
    "from PIL import Image, ImageEnhance\n",
    "\n",
    "from sklearn.utils import class_weight\n",
    "from sklearn.metrics import confusion_matrix, log_loss, accuracy_score\n",
    "from sklearn.preprocessing import OneHotEncoder"
   ]
  },
  {
   "cell_type": "markdown",
   "metadata": {},
   "source": [
    "## Load Dataset"
   ]
  },
  {
   "cell_type": "code",
   "execution_count": 2,
   "metadata": {},
   "outputs": [],
   "source": [
    "pd_train = pd.read_csv('shopee-product-detection-dataset/train.csv').sort_values(by=['filename'])\n",
    "pd_confusing_images = pd.read_csv('shopee-product-detection-dataset/confusing_images_2__mistake_ratio=0.9.csv').sort_values(by=['filename'])\n",
    "\n",
    "pd_train['dir_filename']            = pd_train.apply(lambda x: '{:02d}/{}'.format(x.category, x.filename), axis=1)\n",
    "pd_confusing_images['dir_filename'] = pd_confusing_images.apply(lambda x: '{:02d}/{}'.format(x.category, x.filename), axis=1)"
   ]
  },
  {
   "cell_type": "code",
   "execution_count": 3,
   "metadata": {},
   "outputs": [
    {
     "data": {
      "text/html": [
       "<div>\n",
       "<style scoped>\n",
       "    .dataframe tbody tr th:only-of-type {\n",
       "        vertical-align: middle;\n",
       "    }\n",
       "\n",
       "    .dataframe tbody tr th {\n",
       "        vertical-align: top;\n",
       "    }\n",
       "\n",
       "    .dataframe thead th {\n",
       "        text-align: right;\n",
       "    }\n",
       "</style>\n",
       "<table border=\"1\" class=\"dataframe\">\n",
       "  <thead>\n",
       "    <tr style=\"text-align: right;\">\n",
       "      <th></th>\n",
       "      <th>filename</th>\n",
       "      <th>category</th>\n",
       "      <th>dir_filename</th>\n",
       "    </tr>\n",
       "  </thead>\n",
       "  <tbody>\n",
       "    <tr>\n",
       "      <th>50947</th>\n",
       "      <td>00017f8bf9d8a34dab8f9707a378dbe5.jpg</td>\n",
       "      <td>38</td>\n",
       "      <td>38/00017f8bf9d8a34dab8f9707a378dbe5.jpg</td>\n",
       "    </tr>\n",
       "    <tr>\n",
       "      <th>31622</th>\n",
       "      <td>00022314f9c58eb20d248ed239db3a52.jpg</td>\n",
       "      <td>16</td>\n",
       "      <td>16/00022314f9c58eb20d248ed239db3a52.jpg</td>\n",
       "    </tr>\n",
       "    <tr>\n",
       "      <th>34234</th>\n",
       "      <td>0002d098348d8358c44032903e117ade.jpg</td>\n",
       "      <td>28</td>\n",
       "      <td>28/0002d098348d8358c44032903e117ade.jpg</td>\n",
       "    </tr>\n",
       "    <tr>\n",
       "      <th>12787</th>\n",
       "      <td>000367a6ec58e9d1e4bc340d8d871dab.jpg</td>\n",
       "      <td>34</td>\n",
       "      <td>34/000367a6ec58e9d1e4bc340d8d871dab.jpg</td>\n",
       "    </tr>\n",
       "    <tr>\n",
       "      <th>38157</th>\n",
       "      <td>00042ddb52b8b5046c4f2eaee8c948ed.jpg</td>\n",
       "      <td>10</td>\n",
       "      <td>10/00042ddb52b8b5046c4f2eaee8c948ed.jpg</td>\n",
       "    </tr>\n",
       "  </tbody>\n",
       "</table>\n",
       "</div>"
      ],
      "text/plain": [
       "                                   filename category  \\\n",
       "50947  00017f8bf9d8a34dab8f9707a378dbe5.jpg       38   \n",
       "31622  00022314f9c58eb20d248ed239db3a52.jpg       16   \n",
       "34234  0002d098348d8358c44032903e117ade.jpg       28   \n",
       "12787  000367a6ec58e9d1e4bc340d8d871dab.jpg       34   \n",
       "38157  00042ddb52b8b5046c4f2eaee8c948ed.jpg       10   \n",
       "\n",
       "                                  dir_filename  \n",
       "50947  38/00017f8bf9d8a34dab8f9707a378dbe5.jpg  \n",
       "31622  16/00022314f9c58eb20d248ed239db3a52.jpg  \n",
       "34234  28/0002d098348d8358c44032903e117ade.jpg  \n",
       "12787  34/000367a6ec58e9d1e4bc340d8d871dab.jpg  \n",
       "38157  10/00042ddb52b8b5046c4f2eaee8c948ed.jpg  "
      ]
     },
     "execution_count": 3,
     "metadata": {},
     "output_type": "execute_result"
    }
   ],
   "source": [
    "mask = ~pd_train.set_index('dir_filename').index.isin(pd_confusing_images.set_index('dir_filename').index)\n",
    "pd_train_clean = pd_train.loc[mask].copy()\n",
    "pd_train_clean['category'] = pd_train_clean['category'].apply(lambda x : '{:02d}'.format(x))\n",
    "pd_train_clean.head()"
   ]
  },
  {
   "cell_type": "code",
   "execution_count": 4,
   "metadata": {},
   "outputs": [
    {
     "data": {
      "text/plain": [
       "array(['00', '01', '02', '03', '04', '05', '06', '07', '08', '09', '10',\n",
       "       '11', '12', '13', '14', '15', '16', '17', '18', '19', '20', '21',\n",
       "       '22', '23', '24', '25', '26', '27', '28', '29', '30', '31', '32',\n",
       "       '33', '34', '35', '36', '37', '38', '39', '40', '41'], dtype=object)"
      ]
     },
     "execution_count": 4,
     "metadata": {},
     "output_type": "execute_result"
    }
   ],
   "source": [
    "classes = np.unique(pd_train_clean['category'])\n",
    "classes"
   ]
  },
  {
   "cell_type": "code",
   "execution_count": 5,
   "metadata": {},
   "outputs": [],
   "source": [
    "input_shape = (256, 256, 3)\n",
    "# input_shape = (512, 512, 3)\n",
    "batch_size=128"
   ]
  },
  {
   "cell_type": "code",
   "execution_count": 6,
   "metadata": {},
   "outputs": [
    {
     "name": "stdout",
     "output_type": "stream",
     "text": [
      "Found 79973 validated image filenames belonging to 42 classes.\n",
      "Found 8885 validated image filenames belonging to 42 classes.\n"
     ]
    }
   ],
   "source": [
    "train_datagen = tfk_ImageDataGenerator(\n",
    "    preprocessing_function=tfk_preprocess_input,\n",
    "    validation_split=0.1,\n",
    "    rotation_range=90,\n",
    "    shear_range=20,\n",
    "    brightness_range=[0.5, 1.5],\n",
    "    zoom_range=[0.8, 1.0],\n",
    "    width_shift_range=0.2,\n",
    "    height_shift_range=0.2,\n",
    "    horizontal_flip=True,\n",
    "    vertical_flip=True\n",
    ")\n",
    "\n",
    "train_generator = train_datagen.flow_from_dataframe(\n",
    "    pd_train_clean,\n",
    "    directory='shopee-product-detection-dataset/train/',\n",
    "    x_col='dir_filename',\n",
    "    y_col='category',\n",
    "    target_size=input_shape[:2],\n",
    "    color_mode='rgb',\n",
    "    batch_size=batch_size,\n",
    "    class_mode='categorical',\n",
    "    shuffle=True,\n",
    "    subset='training'\n",
    ")\n",
    "\n",
    "val_generator = train_datagen.flow_from_dataframe(\n",
    "    pd_train_clean,\n",
    "    directory='shopee-product-detection-dataset/train/',\n",
    "    x_col='dir_filename',\n",
    "    y_col='category',\n",
    "    target_size=input_shape[:2],\n",
    "    color_mode='rgb',\n",
    "    batch_size=batch_size,\n",
    "    class_mode='categorical',\n",
    "    shuffle=True,\n",
    "    subset='validation'\n",
    ")"
   ]
  },
  {
   "cell_type": "markdown",
   "metadata": {},
   "source": [
    "## Prepare Model"
   ]
  },
  {
   "cell_type": "code",
   "execution_count": 7,
   "metadata": {},
   "outputs": [
    {
     "data": {
      "text/plain": [
       "813"
      ]
     },
     "execution_count": 7,
     "metadata": {},
     "output_type": "execute_result"
    }
   ],
   "source": [
    "base_model = tfk_BaseModel(input_shape=input_shape, weights='imagenet', include_top=False)\n",
    "len(base_model.layers)"
   ]
  },
  {
   "cell_type": "code",
   "execution_count": 8,
   "metadata": {},
   "outputs": [],
   "source": [
    "for layer in base_model.layers[:-16]:\n",
    "  layer.trainable = False"
   ]
  },
  {
   "cell_type": "code",
   "execution_count": 9,
   "metadata": {},
   "outputs": [],
   "source": [
    "model = tfk.Sequential([\n",
    "    base_model,\n",
    "    tfk.layers.GlobalMaxPooling2D(),\n",
    "    tfk.layers.Dense(512, activation='relu'),\n",
    "    # tfk.layers.Dense(256, activation='relu'),\n",
    "    tfk.layers.Dense(128, activation='relu'),\n",
    "    tfk.layers.Dense(42, activation='softmax', name='output_layer'),\n",
    "])"
   ]
  },
  {
   "cell_type": "code",
   "execution_count": 10,
   "metadata": {},
   "outputs": [
    {
     "name": "stdout",
     "output_type": "stream",
     "text": [
      "Model: \"sequential\"\n",
      "_________________________________________________________________\n",
      "Layer (type)                 Output Shape              Param #   \n",
      "=================================================================\n",
      "efficientnetb7 (Model)       (None, 8, 8, 2560)        64097687  \n",
      "_________________________________________________________________\n",
      "global_max_pooling2d (Global (None, 2560)              0         \n",
      "_________________________________________________________________\n",
      "dense (Dense)                (None, 512)               1311232   \n",
      "_________________________________________________________________\n",
      "dense_1 (Dense)              (None, 128)               65664     \n",
      "_________________________________________________________________\n",
      "output_layer (Dense)         (None, 42)                5418      \n",
      "=================================================================\n",
      "Total params: 65,480,001\n",
      "Trainable params: 6,759,754\n",
      "Non-trainable params: 58,720,247\n",
      "_________________________________________________________________\n"
     ]
    }
   ],
   "source": [
    "model.summary()"
   ]
  },
  {
   "cell_type": "code",
   "execution_count": 11,
   "metadata": {},
   "outputs": [
    {
     "data": {
      "image/png": "[encoded data removed]",
      "text/plain": [
       "<IPython.core.display.Image object>"
      ]
     },
     "execution_count": 11,
     "metadata": {},
     "output_type": "execute_result"
    }
   ],
   "source": [
    "tfk.utils.plot_model(model)"
   ]
  },
  {
   "cell_type": "code",
   "execution_count": 12,
   "metadata": {},
   "outputs": [],
   "source": [
    "model.compile(optimizer=tfk.optimizers.Adam(learning_rate=1e-3),\n",
    "              loss=tfk.losses.CategoricalCrossentropy(label_smoothing=0.1),\n",
    "              metrics=['accuracy'])"
   ]
  },
  {
   "cell_type": "markdown",
   "metadata": {},
   "source": [
    "## Train Model"
   ]
  },
  {
   "cell_type": "code",
   "execution_count": 7,
   "metadata": {},
   "outputs": [],
   "source": [
    "model = tfk.models.load_model('model_clean_3.h5')"
   ]
  },
  {
   "cell_type": "code",
   "execution_count": 8,
   "metadata": {},
   "outputs": [
    {
     "name": "stdout",
     "output_type": "stream",
     "text": [
      "class wieghts: {0: 1.1547113690837159, 1: 1.0237199180747567, 2: 1.0554983634251927, 3: 0.9607058766998222, 4: 0.850812800544704, 5: 0.9607058766998222, 6: 0.8844027160329994, 7: 0.8852250337605986, 8: 0.8910243554604809, 9: 0.9492118881450885, 10: 0.8577112827112827, 11: 1.2779322467241931, 12: 0.9154418498168498, 13: 0.8956345473278681, 14: 0.9459111016488065, 15: 0.9398415832275655, 16: 0.9398415832275655, 17: 1.5417967996915365, 18: 1.259337994457042, 19: 0.8694607523374647, 20: 1.116130743035784, 21: 0.9032822806541971, 22: 0.9261279414489532, 23: 1.010142730832386, 24: 0.8307674727831796, 25: 0.8827626553634899, 26: 0.9049995473474561, 27: 0.870653428266597, 28: 0.9225382982650424, 29: 1.1019207451499118, 30: 0.8246509517622553, 31: 0.9530125363458697, 32: 1.0880680272108842, 33: 3.9669146825396826, 34: 0.9809989941365521, 35: 0.8738499530147075, 36: 1.644316966855827, 37: 1.3708560458020502, 38: 0.9511084153941297, 39: 0.963135583014187, 40: 0.9655776103544866, 41: 1.1533125666983934}\n",
      "train step size: 624\n",
      "val   step size: 69\n"
     ]
    }
   ],
   "source": [
    "class_weights = class_weight.compute_class_weight('balanced',\n",
    "                                                  np.unique(train_generator.classes),\n",
    "                                                  train_generator.classes)\n",
    "class_weights = {i : class_weights[i] for i in range(len(class_weights))}\n",
    "print(\"class wieghts:\", class_weights)\n",
    "\n",
    "train_step_size = train_generator.n//train_generator.batch_size\n",
    "val_step_size   = val_generator.n//val_generator.batch_size\n",
    "print(\"train step size:\", train_step_size)\n",
    "print(\"val   step size:\", val_step_size)"
   ]
  },
  {
   "cell_type": "code",
   "execution_count": 9,
   "metadata": {},
   "outputs": [],
   "source": [
    "reduce_lr = tf.keras.callbacks.ReduceLROnPlateau(\n",
    "    monitor='val_accuracy',\n",
    "    factor=0.2,\n",
    "    patience=7,\n",
    "    min_lr=1e-7\n",
    ")\n",
    "\n",
    "early_stop = tfk.callbacks.EarlyStopping(\n",
    "    monitor='val_accuracy',\n",
    "    patience=21,\n",
    "    restore_best_weights=True\n",
    ")\n",
    "\n",
    "checkpoint_dir = os.path.join('.model_files')\n",
    "if not os.path.exists(checkpoint_dir):\n",
    "    os.makedirs(checkpoint_dir)\n",
    "checkpoint = tfk.callbacks.ModelCheckpoint(\n",
    "    filepath = checkpoint_dir + '/ckpt/',\n",
    "    save_freq ='epoch',\n",
    "    save_best_only=True,\n",
    "    monitor='val_accuracy'\n",
    ")\n",
    "\n",
    "log_dir = os.path.join(\".model_files/logs/\" + datetime.datetime.now().strftime(\"%Y%m%d-%H%M%S\"))\n",
    "if not os.path.exists(log_dir):\n",
    "    os.makedirs(log_dir)\n",
    "tensorboard_callback = tf.keras.callbacks.TensorBoard(\n",
    "    log_dir=log_dir,\n",
    "    histogram_freq=1,\n",
    "    update_freq=100,\n",
    "    profile_batch = 100000000\n",
    ")"
   ]
  },
  {
   "cell_type": "code",
   "execution_count": 10,
   "metadata": {},
   "outputs": [
    {
     "name": "stdout",
     "output_type": "stream",
     "text": [
      "Epoch 25/200\n",
      "200/200 [==============================] - ETA: 0s - loss: 1.4532 - accuracy: 0.7397WARNING:tensorflow:From c:\\users\\franz cesista\\appdata\\local\\programs\\python\\python36\\lib\\site-packages\\tensorflow\\python\\ops\\resource_variable_ops.py:1817: calling BaseResourceVariable.__init__ (from tensorflow.python.ops.resource_variable_ops) with constraint is deprecated and will be removed in a future version.\n",
      "Instructions for updating:\n",
      "If using Keras pass *_constraint arguments to layers.\n",
      "INFO:tensorflow:Assets written to: .model_files/ckpt/assets\n",
      "200/200 [==============================] - 623s 3s/step - loss: 1.4532 - accuracy: 0.7397 - val_loss: 1.2007 - val_accuracy: 0.8313 - lr: 0.0010\n",
      "Epoch 26/200\n",
      "200/200 [==============================] - 598s 3s/step - loss: 1.4451 - accuracy: 0.7446 - val_loss: 1.2154 - val_accuracy: 0.8207 - lr: 0.0010\n",
      "Epoch 27/200\n",
      "200/200 [==============================] - 586s 3s/step - loss: 1.4422 - accuracy: 0.7459 - val_loss: 1.2163 - val_accuracy: 0.8211 - lr: 0.0010\n",
      "Epoch 28/200\n",
      "200/200 [==============================] - ETA: 0s - loss: 1.4075 - accuracy: 0.7590INFO:tensorflow:Assets written to: .model_files/ckpt/assets\n",
      "200/200 [==============================] - 605s 3s/step - loss: 1.4075 - accuracy: 0.7590 - val_loss: 1.1639 - val_accuracy: 0.8338 - lr: 0.0010\n",
      "Epoch 29/200\n",
      "200/200 [==============================] - 579s 3s/step - loss: 1.3939 - accuracy: 0.7556 - val_loss: 1.1902 - val_accuracy: 0.8246 - lr: 0.0010\n",
      "Epoch 30/200\n",
      "200/200 [==============================] - 579s 3s/step - loss: 1.3985 - accuracy: 0.7600 - val_loss: 1.1924 - val_accuracy: 0.8262 - lr: 0.0010\n",
      "Epoch 31/200\n",
      "200/200 [==============================] - 574s 3s/step - loss: 1.3851 - accuracy: 0.7635 - val_loss: 1.1987 - val_accuracy: 0.8290 - lr: 0.0010\n",
      "Epoch 32/200\n",
      "200/200 [==============================] - 583s 3s/step - loss: 1.3841 - accuracy: 0.7677 - val_loss: 1.1907 - val_accuracy: 0.8277 - lr: 0.0010\n",
      "Epoch 33/200\n",
      "200/200 [==============================] - ETA: 0s - loss: 1.3795 - accuracy: 0.7648INFO:tensorflow:Assets written to: .model_files/ckpt/assets\n",
      "200/200 [==============================] - 690s 3s/step - loss: 1.3795 - accuracy: 0.7648 - val_loss: 1.1666 - val_accuracy: 0.8395 - lr: 0.0010\n",
      "Epoch 34/200\n",
      "125/200 [=================>............] - ETA: 3:41 - loss: 1.3634 - accuracy: 0.7642"
     ]
    },
    {
     "ename": "KeyboardInterrupt",
     "evalue": "",
     "output_type": "error",
     "traceback": [
      "\u001b[1;31m---------------------------------------------------------------------------\u001b[0m",
      "\u001b[1;31mKeyboardInterrupt\u001b[0m                         Traceback (most recent call last)",
      "\u001b[1;32m<ipython-input-10-c8b9ff7199e3>\u001b[0m in \u001b[0;36m<module>\u001b[1;34m\u001b[0m\n\u001b[0;32m      9\u001b[0m                               \u001b[0mearly_stop\u001b[0m\u001b[1;33m,\u001b[0m\u001b[1;33m\u001b[0m\u001b[1;33m\u001b[0m\u001b[0m\n\u001b[0;32m     10\u001b[0m                               \u001b[0mcheckpoint\u001b[0m\u001b[1;33m,\u001b[0m\u001b[1;33m\u001b[0m\u001b[1;33m\u001b[0m\u001b[0m\n\u001b[1;32m---> 11\u001b[1;33m                               \u001b[0mtensorboard_callback\u001b[0m\u001b[1;33m\u001b[0m\u001b[1;33m\u001b[0m\u001b[0m\n\u001b[0m\u001b[0;32m     12\u001b[0m                               ]\n\u001b[0;32m     13\u001b[0m                    )\n",
      "\u001b[1;32mc:\\users\\franz cesista\\appdata\\local\\programs\\python\\python36\\lib\\site-packages\\tensorflow\\python\\keras\\engine\\training.py\u001b[0m in \u001b[0;36m_method_wrapper\u001b[1;34m(self, *args, **kwargs)\u001b[0m\n\u001b[0;32m     64\u001b[0m   \u001b[1;32mdef\u001b[0m \u001b[0m_method_wrapper\u001b[0m\u001b[1;33m(\u001b[0m\u001b[0mself\u001b[0m\u001b[1;33m,\u001b[0m \u001b[1;33m*\u001b[0m\u001b[0margs\u001b[0m\u001b[1;33m,\u001b[0m \u001b[1;33m**\u001b[0m\u001b[0mkwargs\u001b[0m\u001b[1;33m)\u001b[0m\u001b[1;33m:\u001b[0m\u001b[1;33m\u001b[0m\u001b[1;33m\u001b[0m\u001b[0m\n\u001b[0;32m     65\u001b[0m     \u001b[1;32mif\u001b[0m \u001b[1;32mnot\u001b[0m \u001b[0mself\u001b[0m\u001b[1;33m.\u001b[0m\u001b[0m_in_multi_worker_mode\u001b[0m\u001b[1;33m(\u001b[0m\u001b[1;33m)\u001b[0m\u001b[1;33m:\u001b[0m  \u001b[1;31m# pylint: disable=protected-access\u001b[0m\u001b[1;33m\u001b[0m\u001b[1;33m\u001b[0m\u001b[0m\n\u001b[1;32m---> 66\u001b[1;33m       \u001b[1;32mreturn\u001b[0m \u001b[0mmethod\u001b[0m\u001b[1;33m(\u001b[0m\u001b[0mself\u001b[0m\u001b[1;33m,\u001b[0m \u001b[1;33m*\u001b[0m\u001b[0margs\u001b[0m\u001b[1;33m,\u001b[0m \u001b[1;33m**\u001b[0m\u001b[0mkwargs\u001b[0m\u001b[1;33m)\u001b[0m\u001b[1;33m\u001b[0m\u001b[1;33m\u001b[0m\u001b[0m\n\u001b[0m\u001b[0;32m     67\u001b[0m \u001b[1;33m\u001b[0m\u001b[0m\n\u001b[0;32m     68\u001b[0m     \u001b[1;31m# Running inside `run_distribute_coordinator` already.\u001b[0m\u001b[1;33m\u001b[0m\u001b[1;33m\u001b[0m\u001b[1;33m\u001b[0m\u001b[0m\n",
      "\u001b[1;32mc:\\users\\franz cesista\\appdata\\local\\programs\\python\\python36\\lib\\site-packages\\tensorflow\\python\\keras\\engine\\training.py\u001b[0m in \u001b[0;36mfit\u001b[1;34m(self, x, y, batch_size, epochs, verbose, callbacks, validation_split, validation_data, shuffle, class_weight, sample_weight, initial_epoch, steps_per_epoch, validation_steps, validation_batch_size, validation_freq, max_queue_size, workers, use_multiprocessing)\u001b[0m\n\u001b[0;32m    846\u001b[0m                 batch_size=batch_size):\n\u001b[0;32m    847\u001b[0m               \u001b[0mcallbacks\u001b[0m\u001b[1;33m.\u001b[0m\u001b[0mon_train_batch_begin\u001b[0m\u001b[1;33m(\u001b[0m\u001b[0mstep\u001b[0m\u001b[1;33m)\u001b[0m\u001b[1;33m\u001b[0m\u001b[1;33m\u001b[0m\u001b[0m\n\u001b[1;32m--> 848\u001b[1;33m               \u001b[0mtmp_logs\u001b[0m \u001b[1;33m=\u001b[0m \u001b[0mtrain_function\u001b[0m\u001b[1;33m(\u001b[0m\u001b[0miterator\u001b[0m\u001b[1;33m)\u001b[0m\u001b[1;33m\u001b[0m\u001b[1;33m\u001b[0m\u001b[0m\n\u001b[0m\u001b[0;32m    849\u001b[0m               \u001b[1;31m# Catch OutOfRangeError for Datasets of unknown size.\u001b[0m\u001b[1;33m\u001b[0m\u001b[1;33m\u001b[0m\u001b[1;33m\u001b[0m\u001b[0m\n\u001b[0;32m    850\u001b[0m               \u001b[1;31m# This blocks until the batch has finished executing.\u001b[0m\u001b[1;33m\u001b[0m\u001b[1;33m\u001b[0m\u001b[1;33m\u001b[0m\u001b[0m\n",
      "\u001b[1;32mc:\\users\\franz cesista\\appdata\\local\\programs\\python\\python36\\lib\\site-packages\\tensorflow\\python\\eager\\def_function.py\u001b[0m in \u001b[0;36m__call__\u001b[1;34m(self, *args, **kwds)\u001b[0m\n\u001b[0;32m    578\u001b[0m         \u001b[0mxla_context\u001b[0m\u001b[1;33m.\u001b[0m\u001b[0mExit\u001b[0m\u001b[1;33m(\u001b[0m\u001b[1;33m)\u001b[0m\u001b[1;33m\u001b[0m\u001b[1;33m\u001b[0m\u001b[0m\n\u001b[0;32m    579\u001b[0m     \u001b[1;32melse\u001b[0m\u001b[1;33m:\u001b[0m\u001b[1;33m\u001b[0m\u001b[1;33m\u001b[0m\u001b[0m\n\u001b[1;32m--> 580\u001b[1;33m       \u001b[0mresult\u001b[0m \u001b[1;33m=\u001b[0m \u001b[0mself\u001b[0m\u001b[1;33m.\u001b[0m\u001b[0m_call\u001b[0m\u001b[1;33m(\u001b[0m\u001b[1;33m*\u001b[0m\u001b[0margs\u001b[0m\u001b[1;33m,\u001b[0m \u001b[1;33m**\u001b[0m\u001b[0mkwds\u001b[0m\u001b[1;33m)\u001b[0m\u001b[1;33m\u001b[0m\u001b[1;33m\u001b[0m\u001b[0m\n\u001b[0m\u001b[0;32m    581\u001b[0m \u001b[1;33m\u001b[0m\u001b[0m\n\u001b[0;32m    582\u001b[0m     \u001b[1;32mif\u001b[0m \u001b[0mtracing_count\u001b[0m \u001b[1;33m==\u001b[0m \u001b[0mself\u001b[0m\u001b[1;33m.\u001b[0m\u001b[0m_get_tracing_count\u001b[0m\u001b[1;33m(\u001b[0m\u001b[1;33m)\u001b[0m\u001b[1;33m:\u001b[0m\u001b[1;33m\u001b[0m\u001b[1;33m\u001b[0m\u001b[0m\n",
      "\u001b[1;32mc:\\users\\franz cesista\\appdata\\local\\programs\\python\\python36\\lib\\site-packages\\tensorflow\\python\\eager\\def_function.py\u001b[0m in \u001b[0;36m_call\u001b[1;34m(self, *args, **kwds)\u001b[0m\n\u001b[0;32m    609\u001b[0m       \u001b[1;31m# In this case we have created variables on the first call, so we run the\u001b[0m\u001b[1;33m\u001b[0m\u001b[1;33m\u001b[0m\u001b[1;33m\u001b[0m\u001b[0m\n\u001b[0;32m    610\u001b[0m       \u001b[1;31m# defunned version which is guaranteed to never create variables.\u001b[0m\u001b[1;33m\u001b[0m\u001b[1;33m\u001b[0m\u001b[1;33m\u001b[0m\u001b[0m\n\u001b[1;32m--> 611\u001b[1;33m       \u001b[1;32mreturn\u001b[0m \u001b[0mself\u001b[0m\u001b[1;33m.\u001b[0m\u001b[0m_stateless_fn\u001b[0m\u001b[1;33m(\u001b[0m\u001b[1;33m*\u001b[0m\u001b[0margs\u001b[0m\u001b[1;33m,\u001b[0m \u001b[1;33m**\u001b[0m\u001b[0mkwds\u001b[0m\u001b[1;33m)\u001b[0m  \u001b[1;31m# pylint: disable=not-callable\u001b[0m\u001b[1;33m\u001b[0m\u001b[1;33m\u001b[0m\u001b[0m\n\u001b[0m\u001b[0;32m    612\u001b[0m     \u001b[1;32melif\u001b[0m \u001b[0mself\u001b[0m\u001b[1;33m.\u001b[0m\u001b[0m_stateful_fn\u001b[0m \u001b[1;32mis\u001b[0m \u001b[1;32mnot\u001b[0m \u001b[1;32mNone\u001b[0m\u001b[1;33m:\u001b[0m\u001b[1;33m\u001b[0m\u001b[1;33m\u001b[0m\u001b[0m\n\u001b[0;32m    613\u001b[0m       \u001b[1;31m# Release the lock early so that multiple threads can perform the call\u001b[0m\u001b[1;33m\u001b[0m\u001b[1;33m\u001b[0m\u001b[1;33m\u001b[0m\u001b[0m\n",
      "\u001b[1;32mc:\\users\\franz cesista\\appdata\\local\\programs\\python\\python36\\lib\\site-packages\\tensorflow\\python\\eager\\function.py\u001b[0m in \u001b[0;36m__call__\u001b[1;34m(self, *args, **kwargs)\u001b[0m\n\u001b[0;32m   2418\u001b[0m     \u001b[1;32mwith\u001b[0m \u001b[0mself\u001b[0m\u001b[1;33m.\u001b[0m\u001b[0m_lock\u001b[0m\u001b[1;33m:\u001b[0m\u001b[1;33m\u001b[0m\u001b[1;33m\u001b[0m\u001b[0m\n\u001b[0;32m   2419\u001b[0m       \u001b[0mgraph_function\u001b[0m\u001b[1;33m,\u001b[0m \u001b[0margs\u001b[0m\u001b[1;33m,\u001b[0m \u001b[0mkwargs\u001b[0m \u001b[1;33m=\u001b[0m \u001b[0mself\u001b[0m\u001b[1;33m.\u001b[0m\u001b[0m_maybe_define_function\u001b[0m\u001b[1;33m(\u001b[0m\u001b[0margs\u001b[0m\u001b[1;33m,\u001b[0m \u001b[0mkwargs\u001b[0m\u001b[1;33m)\u001b[0m\u001b[1;33m\u001b[0m\u001b[1;33m\u001b[0m\u001b[0m\n\u001b[1;32m-> 2420\u001b[1;33m     \u001b[1;32mreturn\u001b[0m \u001b[0mgraph_function\u001b[0m\u001b[1;33m.\u001b[0m\u001b[0m_filtered_call\u001b[0m\u001b[1;33m(\u001b[0m\u001b[0margs\u001b[0m\u001b[1;33m,\u001b[0m \u001b[0mkwargs\u001b[0m\u001b[1;33m)\u001b[0m  \u001b[1;31m# pylint: disable=protected-access\u001b[0m\u001b[1;33m\u001b[0m\u001b[1;33m\u001b[0m\u001b[0m\n\u001b[0m\u001b[0;32m   2421\u001b[0m \u001b[1;33m\u001b[0m\u001b[0m\n\u001b[0;32m   2422\u001b[0m   \u001b[1;33m@\u001b[0m\u001b[0mproperty\u001b[0m\u001b[1;33m\u001b[0m\u001b[1;33m\u001b[0m\u001b[0m\n",
      "\u001b[1;32mc:\\users\\franz cesista\\appdata\\local\\programs\\python\\python36\\lib\\site-packages\\tensorflow\\python\\eager\\function.py\u001b[0m in \u001b[0;36m_filtered_call\u001b[1;34m(self, args, kwargs)\u001b[0m\n\u001b[0;32m   1663\u001b[0m          if isinstance(t, (ops.Tensor,\n\u001b[0;32m   1664\u001b[0m                            resource_variable_ops.BaseResourceVariable))),\n\u001b[1;32m-> 1665\u001b[1;33m         self.captured_inputs)\n\u001b[0m\u001b[0;32m   1666\u001b[0m \u001b[1;33m\u001b[0m\u001b[0m\n\u001b[0;32m   1667\u001b[0m   \u001b[1;32mdef\u001b[0m \u001b[0m_call_flat\u001b[0m\u001b[1;33m(\u001b[0m\u001b[0mself\u001b[0m\u001b[1;33m,\u001b[0m \u001b[0margs\u001b[0m\u001b[1;33m,\u001b[0m \u001b[0mcaptured_inputs\u001b[0m\u001b[1;33m,\u001b[0m \u001b[0mcancellation_manager\u001b[0m\u001b[1;33m=\u001b[0m\u001b[1;32mNone\u001b[0m\u001b[1;33m)\u001b[0m\u001b[1;33m:\u001b[0m\u001b[1;33m\u001b[0m\u001b[1;33m\u001b[0m\u001b[0m\n",
      "\u001b[1;32mc:\\users\\franz cesista\\appdata\\local\\programs\\python\\python36\\lib\\site-packages\\tensorflow\\python\\eager\\function.py\u001b[0m in \u001b[0;36m_call_flat\u001b[1;34m(self, args, captured_inputs, cancellation_manager)\u001b[0m\n\u001b[0;32m   1744\u001b[0m       \u001b[1;31m# No tape is watching; skip to running the function.\u001b[0m\u001b[1;33m\u001b[0m\u001b[1;33m\u001b[0m\u001b[1;33m\u001b[0m\u001b[0m\n\u001b[0;32m   1745\u001b[0m       return self._build_call_outputs(self._inference_function.call(\n\u001b[1;32m-> 1746\u001b[1;33m           ctx, args, cancellation_manager=cancellation_manager))\n\u001b[0m\u001b[0;32m   1747\u001b[0m     forward_backward = self._select_forward_and_backward_functions(\n\u001b[0;32m   1748\u001b[0m         \u001b[0margs\u001b[0m\u001b[1;33m,\u001b[0m\u001b[1;33m\u001b[0m\u001b[1;33m\u001b[0m\u001b[0m\n",
      "\u001b[1;32mc:\\users\\franz cesista\\appdata\\local\\programs\\python\\python36\\lib\\site-packages\\tensorflow\\python\\eager\\function.py\u001b[0m in \u001b[0;36mcall\u001b[1;34m(self, ctx, args, cancellation_manager)\u001b[0m\n\u001b[0;32m    596\u001b[0m               \u001b[0minputs\u001b[0m\u001b[1;33m=\u001b[0m\u001b[0margs\u001b[0m\u001b[1;33m,\u001b[0m\u001b[1;33m\u001b[0m\u001b[1;33m\u001b[0m\u001b[0m\n\u001b[0;32m    597\u001b[0m               \u001b[0mattrs\u001b[0m\u001b[1;33m=\u001b[0m\u001b[0mattrs\u001b[0m\u001b[1;33m,\u001b[0m\u001b[1;33m\u001b[0m\u001b[1;33m\u001b[0m\u001b[0m\n\u001b[1;32m--> 598\u001b[1;33m               ctx=ctx)\n\u001b[0m\u001b[0;32m    599\u001b[0m         \u001b[1;32melse\u001b[0m\u001b[1;33m:\u001b[0m\u001b[1;33m\u001b[0m\u001b[1;33m\u001b[0m\u001b[0m\n\u001b[0;32m    600\u001b[0m           outputs = execute.execute_with_cancellation(\n",
      "\u001b[1;32mc:\\users\\franz cesista\\appdata\\local\\programs\\python\\python36\\lib\\site-packages\\tensorflow\\python\\eager\\execute.py\u001b[0m in \u001b[0;36mquick_execute\u001b[1;34m(op_name, num_outputs, inputs, attrs, ctx, name)\u001b[0m\n\u001b[0;32m     58\u001b[0m     \u001b[0mctx\u001b[0m\u001b[1;33m.\u001b[0m\u001b[0mensure_initialized\u001b[0m\u001b[1;33m(\u001b[0m\u001b[1;33m)\u001b[0m\u001b[1;33m\u001b[0m\u001b[1;33m\u001b[0m\u001b[0m\n\u001b[0;32m     59\u001b[0m     tensors = pywrap_tfe.TFE_Py_Execute(ctx._handle, device_name, op_name,\n\u001b[1;32m---> 60\u001b[1;33m                                         inputs, attrs, num_outputs)\n\u001b[0m\u001b[0;32m     61\u001b[0m   \u001b[1;32mexcept\u001b[0m \u001b[0mcore\u001b[0m\u001b[1;33m.\u001b[0m\u001b[0m_NotOkStatusException\u001b[0m \u001b[1;32mas\u001b[0m \u001b[0me\u001b[0m\u001b[1;33m:\u001b[0m\u001b[1;33m\u001b[0m\u001b[1;33m\u001b[0m\u001b[0m\n\u001b[0;32m     62\u001b[0m     \u001b[1;32mif\u001b[0m \u001b[0mname\u001b[0m \u001b[1;32mis\u001b[0m \u001b[1;32mnot\u001b[0m \u001b[1;32mNone\u001b[0m\u001b[1;33m:\u001b[0m\u001b[1;33m\u001b[0m\u001b[1;33m\u001b[0m\u001b[0m\n",
      "\u001b[1;31mKeyboardInterrupt\u001b[0m: "
     ]
    }
   ],
   "source": [
    "history = model.fit(train_generator,\n",
    "                    initial_epoch=24,\n",
    "                    epochs=200,\n",
    "                    steps_per_epoch=200,\n",
    "                    validation_steps=20,\n",
    "                    validation_data=val_generator,\n",
    "                    class_weight=class_weights,\n",
    "                    callbacks=[reduce_lr,\n",
    "                              early_stop, \n",
    "                              checkpoint, \n",
    "                              tensorboard_callback\n",
    "                              ]\n",
    "                   )"
   ]
  },
  {
   "cell_type": "code",
   "execution_count": 11,
   "metadata": {},
   "outputs": [],
   "source": [
    "model.save('model_clean_4.h5')"
   ]
  },
  {
   "cell_type": "markdown",
   "metadata": {},
   "source": [
    "## Testing"
   ]
  },
  {
   "cell_type": "code",
   "execution_count": 7,
   "metadata": {},
   "outputs": [],
   "source": [
    "model = tfk.models.load_model('model_clean_3.h5')"
   ]
  },
  {
   "cell_type": "code",
   "execution_count": 22,
   "metadata": {},
   "outputs": [],
   "source": [
    "# pd_train = pd.read_csv('shopee-product-detection-dataset/train.csv').sort_values(by=['filename'])\n",
    "# pd_confusing_images = pd.read_csv('shopee-product-detection-dataset/confusing_images__loss_limit=9.csv').sort_values(by=['filename'])\n",
    "# \n",
    "# pd_train['dir_filename']            = pd_train.apply(lambda x: '{:02d}/{}'.format(x.category, x.filename), axis=1)\n",
    "# pd_confusing_images['dir_filename'] = pd_confusing_images.apply(lambda x: '{:02d}/{}'.format(x.category, x.filename), axis=1)"
   ]
  },
  {
   "cell_type": "code",
   "execution_count": 15,
   "metadata": {},
   "outputs": [
    {
     "data": {
      "text/html": [
       "<div>\n",
       "<style scoped>\n",
       "    .dataframe tbody tr th:only-of-type {\n",
       "        vertical-align: middle;\n",
       "    }\n",
       "\n",
       "    .dataframe tbody tr th {\n",
       "        vertical-align: top;\n",
       "    }\n",
       "\n",
       "    .dataframe thead th {\n",
       "        text-align: right;\n",
       "    }\n",
       "</style>\n",
       "<table border=\"1\" class=\"dataframe\">\n",
       "  <thead>\n",
       "    <tr style=\"text-align: right;\">\n",
       "      <th></th>\n",
       "      <th>filename</th>\n",
       "      <th>category</th>\n",
       "      <th>dir_filename</th>\n",
       "    </tr>\n",
       "  </thead>\n",
       "  <tbody>\n",
       "    <tr>\n",
       "      <th>50947</th>\n",
       "      <td>00017f8bf9d8a34dab8f9707a378dbe5.jpg</td>\n",
       "      <td>38</td>\n",
       "      <td>38/00017f8bf9d8a34dab8f9707a378dbe5.jpg</td>\n",
       "    </tr>\n",
       "    <tr>\n",
       "      <th>31622</th>\n",
       "      <td>00022314f9c58eb20d248ed239db3a52.jpg</td>\n",
       "      <td>16</td>\n",
       "      <td>16/00022314f9c58eb20d248ed239db3a52.jpg</td>\n",
       "    </tr>\n",
       "    <tr>\n",
       "      <th>34234</th>\n",
       "      <td>0002d098348d8358c44032903e117ade.jpg</td>\n",
       "      <td>28</td>\n",
       "      <td>28/0002d098348d8358c44032903e117ade.jpg</td>\n",
       "    </tr>\n",
       "    <tr>\n",
       "      <th>12787</th>\n",
       "      <td>000367a6ec58e9d1e4bc340d8d871dab.jpg</td>\n",
       "      <td>34</td>\n",
       "      <td>34/000367a6ec58e9d1e4bc340d8d871dab.jpg</td>\n",
       "    </tr>\n",
       "    <tr>\n",
       "      <th>38157</th>\n",
       "      <td>00042ddb52b8b5046c4f2eaee8c948ed.jpg</td>\n",
       "      <td>10</td>\n",
       "      <td>10/00042ddb52b8b5046c4f2eaee8c948ed.jpg</td>\n",
       "    </tr>\n",
       "  </tbody>\n",
       "</table>\n",
       "</div>"
      ],
      "text/plain": [
       "                                   filename category  \\\n",
       "50947  00017f8bf9d8a34dab8f9707a378dbe5.jpg       38   \n",
       "31622  00022314f9c58eb20d248ed239db3a52.jpg       16   \n",
       "34234  0002d098348d8358c44032903e117ade.jpg       28   \n",
       "12787  000367a6ec58e9d1e4bc340d8d871dab.jpg       34   \n",
       "38157  00042ddb52b8b5046c4f2eaee8c948ed.jpg       10   \n",
       "\n",
       "                                  dir_filename  \n",
       "50947  38/00017f8bf9d8a34dab8f9707a378dbe5.jpg  \n",
       "31622  16/00022314f9c58eb20d248ed239db3a52.jpg  \n",
       "34234  28/0002d098348d8358c44032903e117ade.jpg  \n",
       "12787  34/000367a6ec58e9d1e4bc340d8d871dab.jpg  \n",
       "38157  10/00042ddb52b8b5046c4f2eaee8c948ed.jpg  "
      ]
     },
     "execution_count": 15,
     "metadata": {},
     "output_type": "execute_result"
    }
   ],
   "source": [
    "# mask = ~pd_train.set_index('dir_filename').index.isin(pd_confusing_images.set_index('dir_filename').index)\n",
    "# pd_train_clean = pd_train.loc[mask].copy()\n",
    "# pd_train_clean['category'] = pd_train_clean['category'].apply(lambda x : '{:02d}'.format(x))\n",
    "# pd_train_clean.head()"
   ]
  },
  {
   "cell_type": "code",
   "execution_count": 16,
   "metadata": {},
   "outputs": [
    {
     "name": "stdout",
     "output_type": "stream",
     "text": [
      "Found 83100 validated image filenames belonging to 42 classes.\n"
     ]
    }
   ],
   "source": [
    "clean_datagen = tfk_ImageDataGenerator(\n",
    "    preprocessing_function=tfk_preprocess_input,\n",
    ")\n",
    "\n",
    "clean_generator = clean_datagen.flow_from_dataframe(\n",
    "    pd_train_clean,\n",
    "    directory='shopee-product-detection-dataset/train/',\n",
    "    x_col='dir_filename',\n",
    "    y_col='category',\n",
    "    target_size=input_shape[:2],\n",
    "    color_mode='rgb',\n",
    "    batch_size=batch_size,\n",
    "    class_mode='categorical',\n",
    "    shuffle=True,\n",
    ")"
   ]
  },
  {
   "cell_type": "code",
   "execution_count": 17,
   "metadata": {},
   "outputs": [
    {
     "name": "stdout",
     "output_type": "stream",
     "text": [
      "step: 10\n",
      "step: 20\n",
      "step: 30\n",
      "step: 40\n",
      "step: 50\n",
      "Wall time: 1min 52s\n"
     ]
    }
   ],
   "source": [
    "%%time\n",
    "y_pred = []\n",
    "y_true = []\n",
    "\n",
    "for i in range(50):\n",
    "    if (i+1) % 10 == 0:\n",
    "        print(\"step:\", i+1)\n",
    "    x, y = next(iter(clean_generator))\n",
    "    y_true.extend(y)\n",
    "    y_pred.extend(model.predict(x))\n",
    "\n",
    "y_pred = np.array(y_pred)\n",
    "y_true = np.array(y_true)"
   ]
  },
  {
   "cell_type": "code",
   "execution_count": 18,
   "metadata": {},
   "outputs": [],
   "source": [
    "matrix = confusion_matrix(y_true.argmax(axis=1), y_pred.argmax(axis=1))"
   ]
  },
  {
   "cell_type": "code",
   "execution_count": 19,
   "metadata": {},
   "outputs": [
    {
     "data": {
      "image/png": "[encoded data removed]",
      "text/plain": [
       "<Figure size 1152x648 with 2 Axes>"
      ]
     },
     "metadata": {},
     "output_type": "display_data"
    }
   ],
   "source": [
    "plt.figure(figsize = (16,9))\n",
    "sns.heatmap(matrix, linecolor='grey', linewidth=0.1)\n",
    "plt.savefig('confusion_matrix.png', \n",
    "            #transparent=True,\n",
    "            bbox_inches='tight')"
   ]
  },
  {
   "cell_type": "code",
   "execution_count": 20,
   "metadata": {},
   "outputs": [],
   "source": [
    "def label_smoother(x, alpha=0.1):\n",
    "    return (1 - alpha) * x + alpha / x.shape[1]"
   ]
  },
  {
   "cell_type": "code",
   "execution_count": 21,
   "metadata": {},
   "outputs": [
    {
     "name": "stdout",
     "output_type": "stream",
     "text": [
      "Loss: 1.6379107\n",
      "Accuracy: 0.94\n"
     ]
    }
   ],
   "source": [
    "loss     = tfk.losses.categorical_crossentropy(y_pred, label_smoother(y_true)).numpy().mean()\n",
    "accuracy = accuracy_score(y_pred.argmax(axis=1), y_true.argmax(axis=1))\n",
    "\n",
    "print(\"Loss:\", loss)\n",
    "print(\"Accuracy:\", accuracy)"
   ]
  },
  {
   "cell_type": "code",
   "execution_count": null,
   "metadata": {},
   "outputs": [],
   "source": []
  }
 ],
 "metadata": {
  "kernelspec": {
   "display_name": "Python 3",
   "language": "python",
   "name": "python3"
  },
  "language_info": {
   "codemirror_mode": {
    "name": "ipython",
    "version": 3
   },
   "file_extension": ".py",
   "mimetype": "text/x-python",
   "name": "python",
   "nbconvert_exporter": "python",
   "pygments_lexer": "ipython3",
   "version": "3.6.8"
  }
 },
 "nbformat": 4,
 "nbformat_minor": 4
}
