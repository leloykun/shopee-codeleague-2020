{
 "cells": [
  {
   "cell_type": "code",
   "execution_count": null,
   "metadata": {},
   "outputs": [],
   "source": [
    "import tensorflow as tf\n",
    "import tensorflow.keras as tfk\n",
    "import tensorflow_addons as tfa\n",
    "\n",
    "from tensorflow.keras.preprocessing import image as tfk_image\n",
    "from tensorflow.keras.preprocessing.image import ImageDataGenerator as tfk_ImageDataGenerator\n",
    "\n",
    "from tensorflow.python.keras.applications.efficientnet import EfficientNetB7 as tfk_BaseModel\n",
    "from tensorflow.python.keras.applications.efficientnet import preprocess_input as tfk_preprocess_input\n",
    "\n",
    "# pip install git+https://github.com/docPhil99/ImageDataAugmentor\n",
    "from ImageDataAugmentor.image_data_augmentor import ImageDataAugmentor\n",
    "import albumentations as A\n",
    "\n",
    "import datetime, os\n",
    "\n",
    "import numpy as np\n",
    "import pandas as pd\n",
    "import matplotlib.pyplot as plt\n",
    "import seaborn as sns; sns.set();\n",
    "from PIL import Image, ImageEnhance\n",
    "\n",
    "from sklearn.utils import class_weight\n",
    "from sklearn.metrics import confusion_matrix, log_loss, accuracy_score\n",
    "from sklearn.preprocessing import OneHotEncoder"
   ]
  },
  {
   "cell_type": "markdown",
   "metadata": {},
   "source": [
    "## Load Dataset"
   ]
  },
  {
   "cell_type": "code",
   "execution_count": 2,
   "metadata": {},
   "outputs": [],
   "source": [
    "pd_train = pd.read_csv('shopee-product-detection-dataset/train.csv').sort_values(by=['filename'])\n",
    "pd_confusing_images = pd.read_csv('shopee-product-detection-dataset/confusing_images_2__mistake_ratio=0.9.csv').sort_values(by=['filename'])\n",
    "\n",
    "pd_train['dir_filename']            = pd_train.apply(lambda x: '{:02d}/{}'.format(x.category, x.filename), axis=1)\n",
    "pd_confusing_images['dir_filename'] = pd_confusing_images.apply(lambda x: '{:02d}/{}'.format(x.category, x.filename), axis=1)"
   ]
  },
  {
   "cell_type": "code",
   "execution_count": 3,
   "metadata": {},
   "outputs": [
    {
     "data": {
      "text/html": [
       "<div>\n",
       "<style scoped>\n",
       "    .dataframe tbody tr th:only-of-type {\n",
       "        vertical-align: middle;\n",
       "    }\n",
       "\n",
       "    .dataframe tbody tr th {\n",
       "        vertical-align: top;\n",
       "    }\n",
       "\n",
       "    .dataframe thead th {\n",
       "        text-align: right;\n",
       "    }\n",
       "</style>\n",
       "<table border=\"1\" class=\"dataframe\">\n",
       "  <thead>\n",
       "    <tr style=\"text-align: right;\">\n",
       "      <th></th>\n",
       "      <th>filename</th>\n",
       "      <th>category</th>\n",
       "      <th>dir_filename</th>\n",
       "    </tr>\n",
       "  </thead>\n",
       "  <tbody>\n",
       "    <tr>\n",
       "      <th>50947</th>\n",
       "      <td>00017f8bf9d8a34dab8f9707a378dbe5.jpg</td>\n",
       "      <td>38</td>\n",
       "      <td>38/00017f8bf9d8a34dab8f9707a378dbe5.jpg</td>\n",
       "    </tr>\n",
       "    <tr>\n",
       "      <th>31622</th>\n",
       "      <td>00022314f9c58eb20d248ed239db3a52.jpg</td>\n",
       "      <td>16</td>\n",
       "      <td>16/00022314f9c58eb20d248ed239db3a52.jpg</td>\n",
       "    </tr>\n",
       "    <tr>\n",
       "      <th>34234</th>\n",
       "      <td>0002d098348d8358c44032903e117ade.jpg</td>\n",
       "      <td>28</td>\n",
       "      <td>28/0002d098348d8358c44032903e117ade.jpg</td>\n",
       "    </tr>\n",
       "    <tr>\n",
       "      <th>12787</th>\n",
       "      <td>000367a6ec58e9d1e4bc340d8d871dab.jpg</td>\n",
       "      <td>34</td>\n",
       "      <td>34/000367a6ec58e9d1e4bc340d8d871dab.jpg</td>\n",
       "    </tr>\n",
       "    <tr>\n",
       "      <th>38157</th>\n",
       "      <td>00042ddb52b8b5046c4f2eaee8c948ed.jpg</td>\n",
       "      <td>10</td>\n",
       "      <td>10/00042ddb52b8b5046c4f2eaee8c948ed.jpg</td>\n",
       "    </tr>\n",
       "  </tbody>\n",
       "</table>\n",
       "</div>"
      ],
      "text/plain": [
       "                                   filename category  \\\n",
       "50947  00017f8bf9d8a34dab8f9707a378dbe5.jpg       38   \n",
       "31622  00022314f9c58eb20d248ed239db3a52.jpg       16   \n",
       "34234  0002d098348d8358c44032903e117ade.jpg       28   \n",
       "12787  000367a6ec58e9d1e4bc340d8d871dab.jpg       34   \n",
       "38157  00042ddb52b8b5046c4f2eaee8c948ed.jpg       10   \n",
       "\n",
       "                                  dir_filename  \n",
       "50947  38/00017f8bf9d8a34dab8f9707a378dbe5.jpg  \n",
       "31622  16/00022314f9c58eb20d248ed239db3a52.jpg  \n",
       "34234  28/0002d098348d8358c44032903e117ade.jpg  \n",
       "12787  34/000367a6ec58e9d1e4bc340d8d871dab.jpg  \n",
       "38157  10/00042ddb52b8b5046c4f2eaee8c948ed.jpg  "
      ]
     },
     "execution_count": 3,
     "metadata": {},
     "output_type": "execute_result"
    }
   ],
   "source": [
    "mask = ~pd_train.set_index('dir_filename').index.isin(pd_confusing_images.set_index('dir_filename').index)\n",
    "pd_train_clean = pd_train.loc[mask].copy()\n",
    "pd_train_clean['category'] = pd_train_clean['category'].apply(lambda x : '{:02d}'.format(x))\n",
    "pd_train_clean.head()"
   ]
  },
  {
   "cell_type": "code",
   "execution_count": 7,
   "metadata": {},
   "outputs": [
    {
     "data": {
      "text/html": [
       "<div>\n",
       "<style scoped>\n",
       "    .dataframe tbody tr th:only-of-type {\n",
       "        vertical-align: middle;\n",
       "    }\n",
       "\n",
       "    .dataframe tbody tr th {\n",
       "        vertical-align: top;\n",
       "    }\n",
       "\n",
       "    .dataframe thead th {\n",
       "        text-align: right;\n",
       "    }\n",
       "</style>\n",
       "<table border=\"1\" class=\"dataframe\">\n",
       "  <thead>\n",
       "    <tr style=\"text-align: right;\">\n",
       "      <th></th>\n",
       "      <th>filename</th>\n",
       "      <th>category</th>\n",
       "      <th>dir_filename</th>\n",
       "    </tr>\n",
       "  </thead>\n",
       "  <tbody>\n",
       "    <tr>\n",
       "      <th>30694</th>\n",
       "      <td>0000ffaa6ce77e3dde38bcefa039a4a4.jpg</td>\n",
       "      <td>16</td>\n",
       "      <td>16/0000ffaa6ce77e3dde38bcefa039a4a4.jpg</td>\n",
       "    </tr>\n",
       "    <tr>\n",
       "      <th>50947</th>\n",
       "      <td>00017f8bf9d8a34dab8f9707a378dbe5.jpg</td>\n",
       "      <td>38</td>\n",
       "      <td>38/00017f8bf9d8a34dab8f9707a378dbe5.jpg</td>\n",
       "    </tr>\n",
       "    <tr>\n",
       "      <th>31622</th>\n",
       "      <td>00022314f9c58eb20d248ed239db3a52.jpg</td>\n",
       "      <td>16</td>\n",
       "      <td>16/00022314f9c58eb20d248ed239db3a52.jpg</td>\n",
       "    </tr>\n",
       "    <tr>\n",
       "      <th>34234</th>\n",
       "      <td>0002d098348d8358c44032903e117ade.jpg</td>\n",
       "      <td>28</td>\n",
       "      <td>28/0002d098348d8358c44032903e117ade.jpg</td>\n",
       "    </tr>\n",
       "    <tr>\n",
       "      <th>12787</th>\n",
       "      <td>000367a6ec58e9d1e4bc340d8d871dab.jpg</td>\n",
       "      <td>34</td>\n",
       "      <td>34/000367a6ec58e9d1e4bc340d8d871dab.jpg</td>\n",
       "    </tr>\n",
       "  </tbody>\n",
       "</table>\n",
       "</div>"
      ],
      "text/plain": [
       "                                   filename category  \\\n",
       "30694  0000ffaa6ce77e3dde38bcefa039a4a4.jpg       16   \n",
       "50947  00017f8bf9d8a34dab8f9707a378dbe5.jpg       38   \n",
       "31622  00022314f9c58eb20d248ed239db3a52.jpg       16   \n",
       "34234  0002d098348d8358c44032903e117ade.jpg       28   \n",
       "12787  000367a6ec58e9d1e4bc340d8d871dab.jpg       34   \n",
       "\n",
       "                                  dir_filename  \n",
       "30694  16/0000ffaa6ce77e3dde38bcefa039a4a4.jpg  \n",
       "50947  38/00017f8bf9d8a34dab8f9707a378dbe5.jpg  \n",
       "31622  16/00022314f9c58eb20d248ed239db3a52.jpg  \n",
       "34234  28/0002d098348d8358c44032903e117ade.jpg  \n",
       "12787  34/000367a6ec58e9d1e4bc340d8d871dab.jpg  "
      ]
     },
     "execution_count": 7,
     "metadata": {},
     "output_type": "execute_result"
    }
   ],
   "source": [
    "# pd_train_clean = pd.read_csv('shopee-product-detection-dataset/train.csv').sort_values(by=['filename'])\n",
    "# pd_train_clean['dir_filename'] = pd_train_clean.apply(lambda x: '{:02d}/{}'.format(x.category, x.filename), axis=1)\n",
    "# pd_train_clean['category'] = pd_train_clean['category'].apply(lambda x : '{:02d}'.format(x))\n",
    "# pd_train_clean.head()"
   ]
  },
  {
   "cell_type": "code",
   "execution_count": 8,
   "metadata": {},
   "outputs": [
    {
     "data": {
      "text/plain": [
       "array(['00', '01', '02', '03', '04', '05', '06', '07', '08', '09', '10',\n",
       "       '11', '12', '13', '14', '15', '16', '17', '18', '19', '20', '21',\n",
       "       '22', '23', '24', '25', '26', '27', '28', '29', '30', '31', '32',\n",
       "       '33', '34', '35', '36', '37', '38', '39', '40', '41'], dtype=object)"
      ]
     },
     "execution_count": 8,
     "metadata": {},
     "output_type": "execute_result"
    }
   ],
   "source": [
    "classes = np.unique(pd_train_clean['category'])\n",
    "classes"
   ]
  },
  {
   "cell_type": "code",
   "execution_count": 9,
   "metadata": {},
   "outputs": [],
   "source": [
    "input_shape = (256, 256, 3)\n",
    "# input_shape = (512, 512, 3)\n",
    "batch_size=128"
   ]
  },
  {
   "cell_type": "code",
   "execution_count": 10,
   "metadata": {},
   "outputs": [],
   "source": [
    "AUGMENTATIONS = A.Compose([\n",
    "    A.HorizontalFlip(),\n",
    "    A.VerticalFlip(),\n",
    "    A.Rotate(),\n",
    "    A.OneOf([\n",
    "        A.RandomContrast(),\n",
    "        A.RandomGamma(),\n",
    "        A.RandomBrightness(),\n",
    "    ], p = 0.3),\n",
    "    A.OneOf([\n",
    "        A.ElasticTransform(\n",
    "            alpha = 120,\n",
    "            sigma = 120 * 0.05,\n",
    "            alpha_affine = 120 * 0.03\n",
    "        ),\n",
    "        A.GridDistortion(),\n",
    "        A.OpticalDistortion(\n",
    "            distort_limit = 2,\n",
    "            shift_limit = 0.5\n",
    "        ),\n",
    "    ], p = 0.3),\n",
    "    A.OneOf([\n",
    "        A.Cutout(\n",
    "            num_holes=1,\n",
    "            max_h_size=128,\n",
    "            max_w_size=128\n",
    "        ),\n",
    "        A.GridDropout(\n",
    "            ratio=0.25,\n",
    "            holes_number_x=8,\n",
    "            holes_number_y=8\n",
    "        ),\n",
    "    ], p=1),\n",
    "])"
   ]
  },
  {
   "cell_type": "code",
   "execution_count": 11,
   "metadata": {},
   "outputs": [
    {
     "name": "stdout",
     "output_type": "stream",
     "text": [
      "Found 94853 validated image filenames belonging to 42 classes.\n",
      "Found 10539 validated image filenames belonging to 42 classes.\n"
     ]
    }
   ],
   "source": [
    "train_datagen = ImageDataAugmentor(\n",
    "    preprocess_input=tfk_preprocess_input,\n",
    "    validation_split=0.1,\n",
    "    augment=AUGMENTATIONS,\n",
    ")\n",
    "\n",
    "train_generator = train_datagen.flow_from_dataframe(\n",
    "    pd_train_clean,\n",
    "    directory='shopee-product-detection-dataset/train/',\n",
    "    x_col='dir_filename',\n",
    "    y_col='category',\n",
    "    target_size=input_shape[:2],\n",
    "    color_mode='rgb',\n",
    "    batch_size=batch_size,\n",
    "    class_mode='categorical',\n",
    "    shuffle=True,\n",
    "    subset='training'\n",
    ")\n",
    "\n",
    "val_generator = train_datagen.flow_from_dataframe(\n",
    "    pd_train_clean,\n",
    "    directory='shopee-product-detection-dataset/train/',\n",
    "    x_col='dir_filename',\n",
    "    y_col='category',\n",
    "    target_size=input_shape[:2],\n",
    "    color_mode='rgb',\n",
    "    batch_size=batch_size,\n",
    "    class_mode='categorical',\n",
    "    shuffle=True,\n",
    "    subset='validation'\n",
    ")"
   ]
  },
  {
   "cell_type": "markdown",
   "metadata": {},
   "source": [
    "## Prepare Model"
   ]
  },
  {
   "cell_type": "code",
   "execution_count": 8,
   "metadata": {},
   "outputs": [],
   "source": [
    "base_model = tfk_BaseModel(input_shape=input_shape, weights='imagenet', include_top=False)"
   ]
  },
  {
   "cell_type": "code",
   "execution_count": 9,
   "metadata": {},
   "outputs": [],
   "source": [
    "TYPE = 3\n",
    "if TYPE == 1:\n",
    "    for layer in base_model.layers[:-18]:\n",
    "        layer.trainable = False\n",
    "    model = tfk.Sequential([\n",
    "        base_model,\n",
    "        tfk.layers.GlobalMaxPooling2D(),\n",
    "        tfk.layers.Dense(512, activation='relu'),\n",
    "        tfk.layers.Dense(128, activation='relu'),\n",
    "        tfk.layers.Dense(42, activation='softmax', name='output_layer'),\n",
    "    ])\n",
    "elif TYPE == 2:\n",
    "    model = tfk.Sequential([\n",
    "        base_model,\n",
    "        tfk.layers.GlobalMaxPooling2D(),\n",
    "        tfk.layers.Dropout(rate=0.2),\n",
    "        tfk.layers.Dense(42, activation='softmax', name='output_layer'),\n",
    "    ])\n",
    "    base_model.trainable = False\n",
    "elif TYPE == 3:\n",
    "    for layer in base_model.layers[:-18]:\n",
    "        layer.trainable = False\n",
    "    model = tfk.Sequential([\n",
    "        base_model,\n",
    "        tfk.layers.GlobalMaxPooling2D(),\n",
    "        tfk.layers.Dropout(rate=0.2),\n",
    "        tfk.layers.Dense(42, activation='softmax', name='output_layer'),\n",
    "    ])"
   ]
  },
  {
   "cell_type": "code",
   "execution_count": 10,
   "metadata": {},
   "outputs": [
    {
     "name": "stdout",
     "output_type": "stream",
     "text": [
      "Model: \"sequential\"\n",
      "_________________________________________________________________\n",
      "Layer (type)                 Output Shape              Param #   \n",
      "=================================================================\n",
      "efficientnetb7 (Model)       (None, 8, 8, 2560)        64097687  \n",
      "_________________________________________________________________\n",
      "global_max_pooling2d (Global (None, 2560)              0         \n",
      "_________________________________________________________________\n",
      "dropout (Dropout)            (None, 2560)              0         \n",
      "_________________________________________________________________\n",
      "output_layer (Dense)         (None, 42)                107562    \n",
      "=================================================================\n",
      "Total params: 64,205,249\n",
      "Trainable params: 7,950,282\n",
      "Non-trainable params: 56,254,967\n",
      "_________________________________________________________________\n"
     ]
    }
   ],
   "source": [
    "model.summary()"
   ]
  },
  {
   "cell_type": "code",
   "execution_count": 11,
   "metadata": {},
   "outputs": [
    {
     "data": {
      "image/png": "[encoded data removed]",
      "text/plain": [
       "<IPython.core.display.Image object>"
      ]
     },
     "execution_count": 11,
     "metadata": {},
     "output_type": "execute_result"
    }
   ],
   "source": [
    "tfk.utils.plot_model(model, rankdir='LR', dpi=300, show_shapes=False)"
   ]
  },
  {
   "cell_type": "markdown",
   "metadata": {},
   "source": [
    "## Train Top Layers of Model"
   ]
  },
  {
   "cell_type": "code",
   "execution_count": 12,
   "metadata": {},
   "outputs": [],
   "source": [
    "model = tfk.models.load_model('model_aug_8.h5')"
   ]
  },
  {
   "cell_type": "code",
   "execution_count": 13,
   "metadata": {},
   "outputs": [
    {
     "name": "stdout",
     "output_type": "stream",
     "text": [
      "train step size: 741\n",
      "  val step size: 82\n"
     ]
    },
    {
     "data": {
      "image/png": "[encoded data removed]",
      "text/plain": [
       "<Figure size 432x288 with 1 Axes>"
      ]
     },
     "metadata": {},
     "output_type": "display_data"
    }
   ],
   "source": [
    "class_weights = class_weight.compute_class_weight('balanced',\n",
    "                                                  np.unique(train_generator.classes),\n",
    "                                                  train_generator.classes)\n",
    "class_weights = {i : class_weights[i] for i in range(len(class_weights))}\n",
    "plt.title(\"Class Weights\")\n",
    "plt.ylabel(\"Weight\")\n",
    "plt.xlabel(\"Class\")\n",
    "plt.bar(class_weights.keys(), class_weights.values())\n",
    "\n",
    "train_step_size = train_generator.n//train_generator.batch_size\n",
    "val_step_size   = val_generator.n//val_generator.batch_size\n",
    "print(\"train step size:\", train_step_size)\n",
    "print(\"  val step size:\", val_step_size)"
   ]
  },
  {
   "cell_type": "code",
   "execution_count": 14,
   "metadata": {},
   "outputs": [],
   "source": [
    "reduce_lr = tf.keras.callbacks.ReduceLROnPlateau(\n",
    "    monitor='val_accuracy',\n",
    "    factor=0.3,\n",
    "    patience=7,\n",
    "    min_lr=1e-6\n",
    ")\n",
    "\n",
    "early_stop = tfk.callbacks.EarlyStopping(\n",
    "    monitor='val_accuracy',\n",
    "    patience=20,\n",
    "    restore_best_weights=True\n",
    ")\n",
    "\n",
    "log_dir = os.path.join(\".model_files/logs/\" + datetime.datetime.now().strftime(\"%Y%m%d-%H%M%S\"))\n",
    "if not os.path.exists(log_dir):\n",
    "    os.makedirs(log_dir)\n",
    "\n",
    "checkpoint = tfk.callbacks.ModelCheckpoint(\n",
    "    filepath = log_dir + '/ckpt/',\n",
    "    save_freq ='epoch',\n",
    "    save_best_only=True,\n",
    "    monitor='val_accuracy'\n",
    ")\n",
    "\n",
    "tensorboard_callback = tf.keras.callbacks.TensorBoard(\n",
    "    log_dir=log_dir,\n",
    "    histogram_freq=0,\n",
    "    update_freq=100,\n",
    "    write_graph=False,\n",
    "    profile_batch = 0\n",
    ")\n",
    "\n",
    "class LRTensorBoard(tf.keras.callbacks.TensorBoard):\n",
    "    def __init__(self, log_dir, **kwargs):  # add other arguments to __init__ if you need\n",
    "        super().__init__(log_dir=log_dir, **kwargs)\n",
    "\n",
    "    def on_epoch_end(self, epoch, logs=None):\n",
    "        logs = logs or {}\n",
    "        lr_sched = getattr(self.model.optimizer, \"lr\", None)\n",
    "        logs.update({'lr': tf.keras.backend.get_value(lr_sched(tf.cast(self.model.optimizer.iterations, tf.float32)))})\n",
    "        super().on_epoch_end(epoch, logs)\n",
    "\n",
    "lr_tensorboard_callback = LRTensorBoard(log_dir=log_dir)\n",
    "        \n",
    "#tqdm_callback = tfa.callbacks.TQDMCallback()"
   ]
  },
  {
   "cell_type": "code",
   "execution_count": 16,
   "metadata": {},
   "outputs": [],
   "source": [
    "lr_schedule = tfa.optimizers.ExponentialCyclicalLearningRate(\n",
    "    initial_learning_rate=1e-6,\n",
    "    maximal_learning_rate=1e-3,\n",
    "    step_size=2*train_generator.n//batch_size\n",
    ")\n",
    "\n",
    "model.compile(optimizer=tfk.optimizers.Adam(learning_rate=1e-4),\n",
    "              loss=tfk.losses.CategoricalCrossentropy(label_smoothing=0.1),\n",
    "              metrics=['accuracy'])"
   ]
  },
  {
   "cell_type": "code",
   "execution_count": 17,
   "metadata": {},
   "outputs": [
    {
     "name": "stdout",
     "output_type": "stream",
     "text": [
      "Epoch 1/200\n",
      "200/200 [==============================] - 335s 2s/step - loss: 2.1503 - accuracy: 0.6828 - val_loss: 2.0912 - val_accuracy: 0.6934 - lr: 1.3582e-04\n",
      "Epoch 2/200\n",
      "200/200 [==============================] - 332s 2s/step - loss: 2.1409 - accuracy: 0.6846 - val_loss: 2.0729 - val_accuracy: 0.6902 - lr: 2.7064e-04\n",
      "Epoch 3/200\n",
      "200/200 [==============================] - 332s 2s/step - loss: 2.1377 - accuracy: 0.6856 - val_loss: 2.0723 - val_accuracy: 0.6969 - lr: 4.0545e-04\n",
      "Epoch 4/200\n",
      "200/200 [==============================] - 332s 2s/step - loss: 2.1464 - accuracy: 0.6757 - val_loss: 2.0405 - val_accuracy: 0.7047 - lr: 5.4027e-04\n",
      "Epoch 5/200\n",
      "200/200 [==============================] - 331s 2s/step - loss: 2.1556 - accuracy: 0.6773 - val_loss: 2.0910 - val_accuracy: 0.6906 - lr: 6.7509e-04\n",
      "Epoch 6/200\n",
      "200/200 [==============================] - 331s 2s/step - loss: 2.1591 - accuracy: 0.6712 - val_loss: 2.0685 - val_accuracy: 0.6918 - lr: 8.0991e-04\n",
      "Epoch 7/200\n",
      "200/200 [==============================] - 331s 2s/step - loss: 2.1769 - accuracy: 0.6664 - val_loss: 2.1036 - val_accuracy: 0.6777 - lr: 9.4472e-04\n",
      "Epoch 8/200\n",
      "200/200 [==============================] - 332s 2s/step - loss: 2.1860 - accuracy: 0.6584 - val_loss: 2.0793 - val_accuracy: 0.6918 - lr: 9.2046e-04\n",
      "Epoch 9/200\n",
      "200/200 [==============================] - 332s 2s/step - loss: 2.1735 - accuracy: 0.6629 - val_loss: 2.0855 - val_accuracy: 0.7012 - lr: 7.8564e-04\n",
      "Epoch 10/200\n",
      "200/200 [==============================] - 332s 2s/step - loss: 2.1603 - accuracy: 0.6671 - val_loss: 2.1137 - val_accuracy: 0.6758 - lr: 6.5082e-04\n",
      "Epoch 11/200\n",
      "200/200 [==============================] - 332s 2s/step - loss: 2.1656 - accuracy: 0.6659 - val_loss: 2.0766 - val_accuracy: 0.6945 - lr: 5.1600e-04\n",
      "Epoch 12/200\n",
      "200/200 [==============================] - 331s 2s/step - loss: 2.1407 - accuracy: 0.6749 - val_loss: 2.0600 - val_accuracy: 0.6938 - lr: 3.8119e-04\n",
      "Epoch 13/200\n",
      "200/200 [==============================] - 331s 2s/step - loss: 2.1291 - accuracy: 0.6804 - val_loss: 2.0823 - val_accuracy: 0.6887 - lr: 2.4637e-04\n",
      "Epoch 14/200\n",
      "200/200 [==============================] - 331s 2s/step - loss: 2.1332 - accuracy: 0.6793 - val_loss: 2.0755 - val_accuracy: 0.6887 - lr: 1.1155e-04\n",
      "Epoch 15/200\n",
      "200/200 [==============================] - 331s 2s/step - loss: 2.1237 - accuracy: 0.6822 - val_loss: 2.0599 - val_accuracy: 0.7035 - lr: 2.5267e-05\n",
      "Epoch 16/200\n",
      "200/200 [==============================] - 332s 2s/step - loss: 2.1153 - accuracy: 0.6859 - val_loss: 2.0224 - val_accuracy: 0.7102 - lr: 1.6009e-04\n",
      "Epoch 17/200\n",
      "200/200 [==============================] - 331s 2s/step - loss: 2.1152 - accuracy: 0.6823 - val_loss: 2.0572 - val_accuracy: 0.7047 - lr: 2.9490e-04\n",
      "Epoch 18/200\n",
      "200/200 [==============================] - 332s 2s/step - loss: 2.1300 - accuracy: 0.6833 - val_loss: 2.0646 - val_accuracy: 0.7020 - lr: 4.2972e-04\n",
      "Epoch 19/200\n",
      "200/200 [==============================] - 332s 2s/step - loss: 2.1403 - accuracy: 0.6769 - val_loss: 2.0453 - val_accuracy: 0.7066 - lr: 5.6454e-04\n",
      "Epoch 20/200\n",
      "200/200 [==============================] - 332s 2s/step - loss: 2.1440 - accuracy: 0.6747 - val_loss: 2.0901 - val_accuracy: 0.6836 - lr: 6.9936e-04\n",
      "Epoch 21/200\n",
      "200/200 [==============================] - 332s 2s/step - loss: 2.1487 - accuracy: 0.6695 - val_loss: 2.1249 - val_accuracy: 0.6715 - lr: 8.3417e-04\n",
      "Epoch 22/200\n",
      "200/200 [==============================] - 331s 2s/step - loss: 2.1611 - accuracy: 0.6674 - val_loss: 2.0717 - val_accuracy: 0.6977 - lr: 9.6899e-04\n",
      "Epoch 23/200\n",
      "200/200 [==============================] - 332s 2s/step - loss: 2.1694 - accuracy: 0.6600 - val_loss: 2.0962 - val_accuracy: 0.6879 - lr: 8.9619e-04\n",
      "Epoch 24/200\n",
      "200/200 [==============================] - 332s 2s/step - loss: 2.1675 - accuracy: 0.6632 - val_loss: 2.0808 - val_accuracy: 0.6906 - lr: 7.6137e-04\n",
      "Epoch 25/200\n",
      "200/200 [==============================] - 332s 2s/step - loss: 2.1527 - accuracy: 0.6695 - val_loss: 2.0673 - val_accuracy: 0.7074 - lr: 6.2655e-04\n",
      "Epoch 26/200\n",
      "200/200 [==============================] - 332s 2s/step - loss: 2.1396 - accuracy: 0.6722 - val_loss: 2.0503 - val_accuracy: 0.6949 - lr: 4.9174e-04\n",
      "Epoch 27/200\n",
      "200/200 [==============================] - 332s 2s/step - loss: 2.1417 - accuracy: 0.6689 - val_loss: 2.0806 - val_accuracy: 0.6918 - lr: 3.5692e-04\n",
      "Epoch 28/200\n",
      "200/200 [==============================] - 332s 2s/step - loss: 2.1241 - accuracy: 0.6766 - val_loss: 2.0777 - val_accuracy: 0.6898 - lr: 2.2210e-04\n",
      "Epoch 29/200\n",
      "200/200 [==============================] - 332s 2s/step - loss: 2.1222 - accuracy: 0.6800 - val_loss: 2.0877 - val_accuracy: 0.6902 - lr: 8.7283e-05\n",
      "Epoch 30/200\n",
      "200/200 [==============================] - 332s 2s/step - loss: 2.1040 - accuracy: 0.6850 - val_loss: 2.0929 - val_accuracy: 0.6723 - lr: 4.9534e-05\n",
      "Epoch 31/200\n",
      "200/200 [==============================] - 333s 2s/step - loss: 2.1015 - accuracy: 0.6832 - val_loss: 2.0818 - val_accuracy: 0.6922 - lr: 1.8435e-04\n",
      "Epoch 32/200\n",
      "200/200 [==============================] - 332s 2s/step - loss: 2.1078 - accuracy: 0.6837 - val_loss: 2.0289 - val_accuracy: 0.7195 - lr: 3.1917e-04\n",
      "Epoch 33/200\n",
      "200/200 [==============================] - 332s 2s/step - loss: 2.1154 - accuracy: 0.6833 - val_loss: 2.0542 - val_accuracy: 0.6992 - lr: 4.5399e-04\n",
      "Epoch 34/200\n",
      "200/200 [==============================] - 332s 2s/step - loss: 2.1362 - accuracy: 0.6745 - val_loss: 2.0589 - val_accuracy: 0.7094 - lr: 5.8881e-04\n",
      "Epoch 35/200\n",
      "200/200 [==============================] - 332s 2s/step - loss: 2.1391 - accuracy: 0.6745 - val_loss: 2.0927 - val_accuracy: 0.6945 - lr: 7.2362e-04\n",
      "Epoch 36/200\n",
      "200/200 [==============================] - 332s 2s/step - loss: 2.1399 - accuracy: 0.6710 - val_loss: 2.0747 - val_accuracy: 0.6984 - lr: 8.5844e-04\n",
      "Epoch 37/200\n",
      "200/200 [==============================] - 332s 2s/step - loss: 2.1588 - accuracy: 0.6674 - val_loss: 2.0729 - val_accuracy: 0.6891 - lr: 9.9326e-04\n",
      "Epoch 38/200\n",
      "200/200 [==============================] - 332s 2s/step - loss: 2.1556 - accuracy: 0.6630 - val_loss: 2.0881 - val_accuracy: 0.6855 - lr: 8.7192e-04\n",
      "Epoch 39/200\n",
      "200/200 [==============================] - 332s 2s/step - loss: 2.1492 - accuracy: 0.6676 - val_loss: 2.0979 - val_accuracy: 0.6879 - lr: 7.3711e-04\n",
      "Epoch 40/200\n",
      "200/200 [==============================] - 332s 2s/step - loss: 2.1528 - accuracy: 0.6683 - val_loss: 2.1044 - val_accuracy: 0.6812 - lr: 6.0229e-04\n",
      "Epoch 41/200\n",
      "200/200 [==============================] - 332s 2s/step - loss: 2.1301 - accuracy: 0.6733 - val_loss: 2.0730 - val_accuracy: 0.6977 - lr: 4.6747e-04\n",
      "Epoch 42/200\n",
      "200/200 [==============================] - 332s 2s/step - loss: 2.1254 - accuracy: 0.6787 - val_loss: 2.0616 - val_accuracy: 0.7035 - lr: 3.3265e-04\n",
      "Epoch 43/200\n",
      "200/200 [==============================] - 332s 2s/step - loss: 2.1167 - accuracy: 0.6825 - val_loss: 2.0264 - val_accuracy: 0.7125 - lr: 1.9783e-04\n",
      "Epoch 44/200\n",
      "200/200 [==============================] - 332s 2s/step - loss: 2.0986 - accuracy: 0.6865 - val_loss: 2.0492 - val_accuracy: 0.7098 - lr: 6.3016e-05\n",
      "Epoch 45/200\n",
      "200/200 [==============================] - 332s 2s/step - loss: 2.1045 - accuracy: 0.6875 - val_loss: 2.0597 - val_accuracy: 0.6977 - lr: 7.3802e-05\n",
      "Epoch 46/200\n",
      "200/200 [==============================] - 332s 2s/step - loss: 2.0940 - accuracy: 0.6898 - val_loss: 2.0611 - val_accuracy: 0.6949 - lr: 2.0862e-04\n",
      "Epoch 47/200\n",
      "200/200 [==============================] - 332s 2s/step - loss: 2.1027 - accuracy: 0.6884 - val_loss: 2.0739 - val_accuracy: 0.6852 - lr: 3.4344e-04\n",
      "Epoch 48/200\n",
      "200/200 [==============================] - 332s 2s/step - loss: 2.1077 - accuracy: 0.6851 - val_loss: 2.0712 - val_accuracy: 0.6879 - lr: 4.7825e-04\n",
      "Epoch 49/200\n",
      "200/200 [==============================] - 332s 2s/step - loss: 2.1036 - accuracy: 0.6856 - val_loss: 2.0473 - val_accuracy: 0.7008 - lr: 6.1307e-04\n",
      "Epoch 50/200\n",
      "200/200 [==============================] - 332s 2s/step - loss: 2.1259 - accuracy: 0.6769 - val_loss: 2.0865 - val_accuracy: 0.6855 - lr: 7.4789e-04\n",
      "Epoch 51/200\n",
      "200/200 [==============================] - 332s 2s/step - loss: 2.1419 - accuracy: 0.6702 - val_loss: 2.0652 - val_accuracy: 0.6961 - lr: 8.8271e-04\n",
      "Epoch 52/200\n",
      "200/200 [==============================] - 332s 2s/step - loss: 2.1395 - accuracy: 0.6717 - val_loss: 2.0702 - val_accuracy: 0.6891 - lr: 9.8247e-04\n"
     ]
    }
   ],
   "source": [
    "history = model.fit(train_generator,\n",
    "                    initial_epoch=0,\n",
    "                    epochs=200,\n",
    "                    steps_per_epoch=200,\n",
    "                    validation_steps=20,\n",
    "                    validation_data=val_generator,\n",
    "                    class_weight=class_weights,\n",
    "                    callbacks=[#reduce_lr,\n",
    "                               early_stop, \n",
    "                               #checkpoint, \n",
    "                               tensorboard_callback,\n",
    "                               lr_tensorboard_callback,\n",
    "                               #tqdm_callback\n",
    "                              ]\n",
    "                   )"
   ]
  },
  {
   "cell_type": "code",
   "execution_count": 18,
   "metadata": {},
   "outputs": [],
   "source": [
    "model.save('model_aug_9.h5')"
   ]
  },
  {
   "cell_type": "markdown",
   "metadata": {},
   "source": [
    "## Train Whole Model"
   ]
  },
  {
   "cell_type": "code",
   "execution_count": 8,
   "metadata": {},
   "outputs": [],
   "source": [
    "model = tfk.models.load_model('model_aug_8.h5')"
   ]
  },
  {
   "cell_type": "code",
   "execution_count": 9,
   "metadata": {},
   "outputs": [],
   "source": [
    "for layer in model.layers[0].layers[-36:]:\n",
    "    layer.trainable = True"
   ]
  },
  {
   "cell_type": "code",
   "execution_count": 14,
   "metadata": {},
   "outputs": [],
   "source": [
    "lr_schedule = tfa.optimizers.ExponentialCyclicalLearningRate(\n",
    "    initial_learning_rate=1e-6,\n",
    "    maximal_learning_rate=5e-4,\n",
    "    step_size=2*train_generator.n//batch_size\n",
    ")\n",
    "\n",
    "model.compile(optimizer=tfk.optimizers.Adam(learning_rate=lr_schedule),\n",
    "              loss=tfk.losses.CategoricalCrossentropy(label_smoothing=0.2),\n",
    "              metrics=['accuracy'])"
   ]
  },
  {
   "cell_type": "code",
   "execution_count": 15,
   "metadata": {},
   "outputs": [
    {
     "name": "stdout",
     "output_type": "stream",
     "text": [
      "Epoch 78/200\n",
      "105/200 [==============>...............] - ETA: 2:28 - loss: 1.9443 - accuracy: 0.7616"
     ]
    },
    {
     "ename": "ResourceExhaustedError",
     "evalue": " OOM when allocating tensor with shape[24576,129,129] and type float on /job:localhost/replica:0/task:0/device:GPU:0 by allocator GPU_0_bfc\n\t [[node sequential/efficientnetb7/block2a_dwconv_pad/Pad (defined at <ipython-input-15-e87bb1096fd2>:9) ]]\nHint: If you want to see a list of allocated tensors when OOM happens, add report_tensor_allocations_upon_oom to RunOptions for current allocation info.\n [Op:__inference_train_function_69080]\n\nFunction call stack:\ntrain_function\n",
     "output_type": "error",
     "traceback": [
      "\u001b[1;31m---------------------------------------------------------------------------\u001b[0m",
      "\u001b[1;31mResourceExhaustedError\u001b[0m                    Traceback (most recent call last)",
      "\u001b[1;32m<ipython-input-15-e87bb1096fd2>\u001b[0m in \u001b[0;36m<module>\u001b[1;34m\u001b[0m\n\u001b[0;32m      7\u001b[0m                     \u001b[0mclass_weight\u001b[0m\u001b[1;33m=\u001b[0m\u001b[0mclass_weights\u001b[0m\u001b[1;33m,\u001b[0m\u001b[1;33m\u001b[0m\u001b[1;33m\u001b[0m\u001b[0m\n\u001b[0;32m      8\u001b[0m                     callbacks=[#reduce_lr,\n\u001b[1;32m----> 9\u001b[1;33m                                \u001b[0mearly_stop\u001b[0m\u001b[1;33m,\u001b[0m\u001b[1;33m\u001b[0m\u001b[1;33m\u001b[0m\u001b[0m\n\u001b[0m\u001b[0;32m     10\u001b[0m                                \u001b[1;31m#checkpoint,\u001b[0m\u001b[1;33m\u001b[0m\u001b[1;33m\u001b[0m\u001b[1;33m\u001b[0m\u001b[0m\n\u001b[0;32m     11\u001b[0m                                \u001b[1;31m#tensorboard_callback,\u001b[0m\u001b[1;33m\u001b[0m\u001b[1;33m\u001b[0m\u001b[1;33m\u001b[0m\u001b[0m\n",
      "\u001b[1;32mc:\\users\\franz cesista\\appdata\\local\\programs\\python\\python36\\lib\\site-packages\\tensorflow\\python\\keras\\engine\\training.py\u001b[0m in \u001b[0;36m_method_wrapper\u001b[1;34m(self, *args, **kwargs)\u001b[0m\n\u001b[0;32m     64\u001b[0m   \u001b[1;32mdef\u001b[0m \u001b[0m_method_wrapper\u001b[0m\u001b[1;33m(\u001b[0m\u001b[0mself\u001b[0m\u001b[1;33m,\u001b[0m \u001b[1;33m*\u001b[0m\u001b[0margs\u001b[0m\u001b[1;33m,\u001b[0m \u001b[1;33m**\u001b[0m\u001b[0mkwargs\u001b[0m\u001b[1;33m)\u001b[0m\u001b[1;33m:\u001b[0m\u001b[1;33m\u001b[0m\u001b[1;33m\u001b[0m\u001b[0m\n\u001b[0;32m     65\u001b[0m     \u001b[1;32mif\u001b[0m \u001b[1;32mnot\u001b[0m \u001b[0mself\u001b[0m\u001b[1;33m.\u001b[0m\u001b[0m_in_multi_worker_mode\u001b[0m\u001b[1;33m(\u001b[0m\u001b[1;33m)\u001b[0m\u001b[1;33m:\u001b[0m  \u001b[1;31m# pylint: disable=protected-access\u001b[0m\u001b[1;33m\u001b[0m\u001b[1;33m\u001b[0m\u001b[0m\n\u001b[1;32m---> 66\u001b[1;33m       \u001b[1;32mreturn\u001b[0m \u001b[0mmethod\u001b[0m\u001b[1;33m(\u001b[0m\u001b[0mself\u001b[0m\u001b[1;33m,\u001b[0m \u001b[1;33m*\u001b[0m\u001b[0margs\u001b[0m\u001b[1;33m,\u001b[0m \u001b[1;33m**\u001b[0m\u001b[0mkwargs\u001b[0m\u001b[1;33m)\u001b[0m\u001b[1;33m\u001b[0m\u001b[1;33m\u001b[0m\u001b[0m\n\u001b[0m\u001b[0;32m     67\u001b[0m \u001b[1;33m\u001b[0m\u001b[0m\n\u001b[0;32m     68\u001b[0m     \u001b[1;31m# Running inside `run_distribute_coordinator` already.\u001b[0m\u001b[1;33m\u001b[0m\u001b[1;33m\u001b[0m\u001b[1;33m\u001b[0m\u001b[0m\n",
      "\u001b[1;32mc:\\users\\franz cesista\\appdata\\local\\programs\\python\\python36\\lib\\site-packages\\tensorflow\\python\\keras\\engine\\training.py\u001b[0m in \u001b[0;36mfit\u001b[1;34m(self, x, y, batch_size, epochs, verbose, callbacks, validation_split, validation_data, shuffle, class_weight, sample_weight, initial_epoch, steps_per_epoch, validation_steps, validation_batch_size, validation_freq, max_queue_size, workers, use_multiprocessing)\u001b[0m\n\u001b[0;32m    846\u001b[0m                 batch_size=batch_size):\n\u001b[0;32m    847\u001b[0m               \u001b[0mcallbacks\u001b[0m\u001b[1;33m.\u001b[0m\u001b[0mon_train_batch_begin\u001b[0m\u001b[1;33m(\u001b[0m\u001b[0mstep\u001b[0m\u001b[1;33m)\u001b[0m\u001b[1;33m\u001b[0m\u001b[1;33m\u001b[0m\u001b[0m\n\u001b[1;32m--> 848\u001b[1;33m               \u001b[0mtmp_logs\u001b[0m \u001b[1;33m=\u001b[0m \u001b[0mtrain_function\u001b[0m\u001b[1;33m(\u001b[0m\u001b[0miterator\u001b[0m\u001b[1;33m)\u001b[0m\u001b[1;33m\u001b[0m\u001b[1;33m\u001b[0m\u001b[0m\n\u001b[0m\u001b[0;32m    849\u001b[0m               \u001b[1;31m# Catch OutOfRangeError for Datasets of unknown size.\u001b[0m\u001b[1;33m\u001b[0m\u001b[1;33m\u001b[0m\u001b[1;33m\u001b[0m\u001b[0m\n\u001b[0;32m    850\u001b[0m               \u001b[1;31m# This blocks until the batch has finished executing.\u001b[0m\u001b[1;33m\u001b[0m\u001b[1;33m\u001b[0m\u001b[1;33m\u001b[0m\u001b[0m\n",
      "\u001b[1;32mc:\\users\\franz cesista\\appdata\\local\\programs\\python\\python36\\lib\\site-packages\\tensorflow\\python\\eager\\def_function.py\u001b[0m in \u001b[0;36m__call__\u001b[1;34m(self, *args, **kwds)\u001b[0m\n\u001b[0;32m    578\u001b[0m         \u001b[0mxla_context\u001b[0m\u001b[1;33m.\u001b[0m\u001b[0mExit\u001b[0m\u001b[1;33m(\u001b[0m\u001b[1;33m)\u001b[0m\u001b[1;33m\u001b[0m\u001b[1;33m\u001b[0m\u001b[0m\n\u001b[0;32m    579\u001b[0m     \u001b[1;32melse\u001b[0m\u001b[1;33m:\u001b[0m\u001b[1;33m\u001b[0m\u001b[1;33m\u001b[0m\u001b[0m\n\u001b[1;32m--> 580\u001b[1;33m       \u001b[0mresult\u001b[0m \u001b[1;33m=\u001b[0m \u001b[0mself\u001b[0m\u001b[1;33m.\u001b[0m\u001b[0m_call\u001b[0m\u001b[1;33m(\u001b[0m\u001b[1;33m*\u001b[0m\u001b[0margs\u001b[0m\u001b[1;33m,\u001b[0m \u001b[1;33m**\u001b[0m\u001b[0mkwds\u001b[0m\u001b[1;33m)\u001b[0m\u001b[1;33m\u001b[0m\u001b[1;33m\u001b[0m\u001b[0m\n\u001b[0m\u001b[0;32m    581\u001b[0m \u001b[1;33m\u001b[0m\u001b[0m\n\u001b[0;32m    582\u001b[0m     \u001b[1;32mif\u001b[0m \u001b[0mtracing_count\u001b[0m \u001b[1;33m==\u001b[0m \u001b[0mself\u001b[0m\u001b[1;33m.\u001b[0m\u001b[0m_get_tracing_count\u001b[0m\u001b[1;33m(\u001b[0m\u001b[1;33m)\u001b[0m\u001b[1;33m:\u001b[0m\u001b[1;33m\u001b[0m\u001b[1;33m\u001b[0m\u001b[0m\n",
      "\u001b[1;32mc:\\users\\franz cesista\\appdata\\local\\programs\\python\\python36\\lib\\site-packages\\tensorflow\\python\\eager\\def_function.py\u001b[0m in \u001b[0;36m_call\u001b[1;34m(self, *args, **kwds)\u001b[0m\n\u001b[0;32m    609\u001b[0m       \u001b[1;31m# In this case we have created variables on the first call, so we run the\u001b[0m\u001b[1;33m\u001b[0m\u001b[1;33m\u001b[0m\u001b[1;33m\u001b[0m\u001b[0m\n\u001b[0;32m    610\u001b[0m       \u001b[1;31m# defunned version which is guaranteed to never create variables.\u001b[0m\u001b[1;33m\u001b[0m\u001b[1;33m\u001b[0m\u001b[1;33m\u001b[0m\u001b[0m\n\u001b[1;32m--> 611\u001b[1;33m       \u001b[1;32mreturn\u001b[0m \u001b[0mself\u001b[0m\u001b[1;33m.\u001b[0m\u001b[0m_stateless_fn\u001b[0m\u001b[1;33m(\u001b[0m\u001b[1;33m*\u001b[0m\u001b[0margs\u001b[0m\u001b[1;33m,\u001b[0m \u001b[1;33m**\u001b[0m\u001b[0mkwds\u001b[0m\u001b[1;33m)\u001b[0m  \u001b[1;31m# pylint: disable=not-callable\u001b[0m\u001b[1;33m\u001b[0m\u001b[1;33m\u001b[0m\u001b[0m\n\u001b[0m\u001b[0;32m    612\u001b[0m     \u001b[1;32melif\u001b[0m \u001b[0mself\u001b[0m\u001b[1;33m.\u001b[0m\u001b[0m_stateful_fn\u001b[0m \u001b[1;32mis\u001b[0m \u001b[1;32mnot\u001b[0m \u001b[1;32mNone\u001b[0m\u001b[1;33m:\u001b[0m\u001b[1;33m\u001b[0m\u001b[1;33m\u001b[0m\u001b[0m\n\u001b[0;32m    613\u001b[0m       \u001b[1;31m# Release the lock early so that multiple threads can perform the call\u001b[0m\u001b[1;33m\u001b[0m\u001b[1;33m\u001b[0m\u001b[1;33m\u001b[0m\u001b[0m\n",
      "\u001b[1;32mc:\\users\\franz cesista\\appdata\\local\\programs\\python\\python36\\lib\\site-packages\\tensorflow\\python\\eager\\function.py\u001b[0m in \u001b[0;36m__call__\u001b[1;34m(self, *args, **kwargs)\u001b[0m\n\u001b[0;32m   2418\u001b[0m     \u001b[1;32mwith\u001b[0m \u001b[0mself\u001b[0m\u001b[1;33m.\u001b[0m\u001b[0m_lock\u001b[0m\u001b[1;33m:\u001b[0m\u001b[1;33m\u001b[0m\u001b[1;33m\u001b[0m\u001b[0m\n\u001b[0;32m   2419\u001b[0m       \u001b[0mgraph_function\u001b[0m\u001b[1;33m,\u001b[0m \u001b[0margs\u001b[0m\u001b[1;33m,\u001b[0m \u001b[0mkwargs\u001b[0m \u001b[1;33m=\u001b[0m \u001b[0mself\u001b[0m\u001b[1;33m.\u001b[0m\u001b[0m_maybe_define_function\u001b[0m\u001b[1;33m(\u001b[0m\u001b[0margs\u001b[0m\u001b[1;33m,\u001b[0m \u001b[0mkwargs\u001b[0m\u001b[1;33m)\u001b[0m\u001b[1;33m\u001b[0m\u001b[1;33m\u001b[0m\u001b[0m\n\u001b[1;32m-> 2420\u001b[1;33m     \u001b[1;32mreturn\u001b[0m \u001b[0mgraph_function\u001b[0m\u001b[1;33m.\u001b[0m\u001b[0m_filtered_call\u001b[0m\u001b[1;33m(\u001b[0m\u001b[0margs\u001b[0m\u001b[1;33m,\u001b[0m \u001b[0mkwargs\u001b[0m\u001b[1;33m)\u001b[0m  \u001b[1;31m# pylint: disable=protected-access\u001b[0m\u001b[1;33m\u001b[0m\u001b[1;33m\u001b[0m\u001b[0m\n\u001b[0m\u001b[0;32m   2421\u001b[0m \u001b[1;33m\u001b[0m\u001b[0m\n\u001b[0;32m   2422\u001b[0m   \u001b[1;33m@\u001b[0m\u001b[0mproperty\u001b[0m\u001b[1;33m\u001b[0m\u001b[1;33m\u001b[0m\u001b[0m\n",
      "\u001b[1;32mc:\\users\\franz cesista\\appdata\\local\\programs\\python\\python36\\lib\\site-packages\\tensorflow\\python\\eager\\function.py\u001b[0m in \u001b[0;36m_filtered_call\u001b[1;34m(self, args, kwargs)\u001b[0m\n\u001b[0;32m   1663\u001b[0m          if isinstance(t, (ops.Tensor,\n\u001b[0;32m   1664\u001b[0m                            resource_variable_ops.BaseResourceVariable))),\n\u001b[1;32m-> 1665\u001b[1;33m         self.captured_inputs)\n\u001b[0m\u001b[0;32m   1666\u001b[0m \u001b[1;33m\u001b[0m\u001b[0m\n\u001b[0;32m   1667\u001b[0m   \u001b[1;32mdef\u001b[0m \u001b[0m_call_flat\u001b[0m\u001b[1;33m(\u001b[0m\u001b[0mself\u001b[0m\u001b[1;33m,\u001b[0m \u001b[0margs\u001b[0m\u001b[1;33m,\u001b[0m \u001b[0mcaptured_inputs\u001b[0m\u001b[1;33m,\u001b[0m \u001b[0mcancellation_manager\u001b[0m\u001b[1;33m=\u001b[0m\u001b[1;32mNone\u001b[0m\u001b[1;33m)\u001b[0m\u001b[1;33m:\u001b[0m\u001b[1;33m\u001b[0m\u001b[1;33m\u001b[0m\u001b[0m\n",
      "\u001b[1;32mc:\\users\\franz cesista\\appdata\\local\\programs\\python\\python36\\lib\\site-packages\\tensorflow\\python\\eager\\function.py\u001b[0m in \u001b[0;36m_call_flat\u001b[1;34m(self, args, captured_inputs, cancellation_manager)\u001b[0m\n\u001b[0;32m   1744\u001b[0m       \u001b[1;31m# No tape is watching; skip to running the function.\u001b[0m\u001b[1;33m\u001b[0m\u001b[1;33m\u001b[0m\u001b[1;33m\u001b[0m\u001b[0m\n\u001b[0;32m   1745\u001b[0m       return self._build_call_outputs(self._inference_function.call(\n\u001b[1;32m-> 1746\u001b[1;33m           ctx, args, cancellation_manager=cancellation_manager))\n\u001b[0m\u001b[0;32m   1747\u001b[0m     forward_backward = self._select_forward_and_backward_functions(\n\u001b[0;32m   1748\u001b[0m         \u001b[0margs\u001b[0m\u001b[1;33m,\u001b[0m\u001b[1;33m\u001b[0m\u001b[1;33m\u001b[0m\u001b[0m\n",
      "\u001b[1;32mc:\\users\\franz cesista\\appdata\\local\\programs\\python\\python36\\lib\\site-packages\\tensorflow\\python\\eager\\function.py\u001b[0m in \u001b[0;36mcall\u001b[1;34m(self, ctx, args, cancellation_manager)\u001b[0m\n\u001b[0;32m    596\u001b[0m               \u001b[0minputs\u001b[0m\u001b[1;33m=\u001b[0m\u001b[0margs\u001b[0m\u001b[1;33m,\u001b[0m\u001b[1;33m\u001b[0m\u001b[1;33m\u001b[0m\u001b[0m\n\u001b[0;32m    597\u001b[0m               \u001b[0mattrs\u001b[0m\u001b[1;33m=\u001b[0m\u001b[0mattrs\u001b[0m\u001b[1;33m,\u001b[0m\u001b[1;33m\u001b[0m\u001b[1;33m\u001b[0m\u001b[0m\n\u001b[1;32m--> 598\u001b[1;33m               ctx=ctx)\n\u001b[0m\u001b[0;32m    599\u001b[0m         \u001b[1;32melse\u001b[0m\u001b[1;33m:\u001b[0m\u001b[1;33m\u001b[0m\u001b[1;33m\u001b[0m\u001b[0m\n\u001b[0;32m    600\u001b[0m           outputs = execute.execute_with_cancellation(\n",
      "\u001b[1;32mc:\\users\\franz cesista\\appdata\\local\\programs\\python\\python36\\lib\\site-packages\\tensorflow\\python\\eager\\execute.py\u001b[0m in \u001b[0;36mquick_execute\u001b[1;34m(op_name, num_outputs, inputs, attrs, ctx, name)\u001b[0m\n\u001b[0;32m     58\u001b[0m     \u001b[0mctx\u001b[0m\u001b[1;33m.\u001b[0m\u001b[0mensure_initialized\u001b[0m\u001b[1;33m(\u001b[0m\u001b[1;33m)\u001b[0m\u001b[1;33m\u001b[0m\u001b[1;33m\u001b[0m\u001b[0m\n\u001b[0;32m     59\u001b[0m     tensors = pywrap_tfe.TFE_Py_Execute(ctx._handle, device_name, op_name,\n\u001b[1;32m---> 60\u001b[1;33m                                         inputs, attrs, num_outputs)\n\u001b[0m\u001b[0;32m     61\u001b[0m   \u001b[1;32mexcept\u001b[0m \u001b[0mcore\u001b[0m\u001b[1;33m.\u001b[0m\u001b[0m_NotOkStatusException\u001b[0m \u001b[1;32mas\u001b[0m \u001b[0me\u001b[0m\u001b[1;33m:\u001b[0m\u001b[1;33m\u001b[0m\u001b[1;33m\u001b[0m\u001b[0m\n\u001b[0;32m     62\u001b[0m     \u001b[1;32mif\u001b[0m \u001b[0mname\u001b[0m \u001b[1;32mis\u001b[0m \u001b[1;32mnot\u001b[0m \u001b[1;32mNone\u001b[0m\u001b[1;33m:\u001b[0m\u001b[1;33m\u001b[0m\u001b[1;33m\u001b[0m\u001b[0m\n",
      "\u001b[1;31mResourceExhaustedError\u001b[0m:  OOM when allocating tensor with shape[24576,129,129] and type float on /job:localhost/replica:0/task:0/device:GPU:0 by allocator GPU_0_bfc\n\t [[node sequential/efficientnetb7/block2a_dwconv_pad/Pad (defined at <ipython-input-15-e87bb1096fd2>:9) ]]\nHint: If you want to see a list of allocated tensors when OOM happens, add report_tensor_allocations_upon_oom to RunOptions for current allocation info.\n [Op:__inference_train_function_69080]\n\nFunction call stack:\ntrain_function\n"
     ]
    }
   ],
   "source": [
    "history = model.fit(train_generator,\n",
    "                    initial_epoch=77,\n",
    "                    epochs=200,\n",
    "                    steps_per_epoch=200,\n",
    "                    validation_steps=20,\n",
    "                    validation_data=val_generator,\n",
    "                    class_weight=class_weights,\n",
    "                    callbacks=[#reduce_lr,\n",
    "                               early_stop, \n",
    "                               #checkpoint, \n",
    "                               #tensorboard_callback,\n",
    "                               #lr_tensorboard_callback,\n",
    "                               #tqdm_callback\n",
    "                              ]\n",
    "                   )"
   ]
  },
  {
   "cell_type": "markdown",
   "metadata": {},
   "source": [
    "## Testing"
   ]
  },
  {
   "cell_type": "code",
   "execution_count": 19,
   "metadata": {},
   "outputs": [],
   "source": [
    "# model = tfk.models.load_model('model_clean_3.h5')"
   ]
  },
  {
   "cell_type": "code",
   "execution_count": 20,
   "metadata": {},
   "outputs": [
    {
     "name": "stdout",
     "output_type": "stream",
     "text": [
      "Found 105392 validated image filenames belonging to 42 classes.\n"
     ]
    }
   ],
   "source": [
    "clean_datagen = tfk_ImageDataGenerator(\n",
    "    preprocessing_function=tfk_preprocess_input,\n",
    ")\n",
    "\n",
    "clean_generator = clean_datagen.flow_from_dataframe(\n",
    "    pd_train_clean,\n",
    "    directory='shopee-product-detection-dataset/train/',\n",
    "    x_col='dir_filename',\n",
    "    y_col='category',\n",
    "    target_size=input_shape[:2],\n",
    "    color_mode='rgb',\n",
    "    batch_size=batch_size,\n",
    "    class_mode='categorical',\n",
    "    shuffle=True,\n",
    ")"
   ]
  },
  {
   "cell_type": "code",
   "execution_count": 21,
   "metadata": {},
   "outputs": [
    {
     "name": "stdout",
     "output_type": "stream",
     "text": [
      "step: 10\n",
      "step: 20\n",
      "step: 30\n",
      "step: 40\n",
      "step: 50\n",
      "Wall time: 1min 43s\n"
     ]
    }
   ],
   "source": [
    "%%time\n",
    "y_pred = []\n",
    "y_true = []\n",
    "\n",
    "for i in range(50):\n",
    "    if (i+1) % 10 == 0:\n",
    "        print(\"step:\", i+1)\n",
    "    x, y = next(iter(clean_generator))\n",
    "    y_true.extend(y)\n",
    "    y_pred.extend(model.predict(x))\n",
    "\n",
    "y_pred = np.array(y_pred)\n",
    "y_true = np.array(y_true)"
   ]
  },
  {
   "cell_type": "code",
   "execution_count": 22,
   "metadata": {},
   "outputs": [],
   "source": [
    "matrix = confusion_matrix(y_true.argmax(axis=1), y_pred.argmax(axis=1))"
   ]
  },
  {
   "cell_type": "code",
   "execution_count": 23,
   "metadata": {},
   "outputs": [
    {
     "data": {
      "image/png": "[encoded data removed]",
      "text/plain": [
       "<Figure size 1152x648 with 2 Axes>"
      ]
     },
     "metadata": {},
     "output_type": "display_data"
    }
   ],
   "source": [
    "plt.figure(figsize = (16,9))\n",
    "sns.heatmap(matrix, linecolor='grey', linewidth=0.1)\n",
    "plt.savefig('confusion_matrix.png', \n",
    "            #transparent=True,\n",
    "            bbox_inches='tight')"
   ]
  },
  {
   "cell_type": "code",
   "execution_count": 24,
   "metadata": {},
   "outputs": [],
   "source": [
    "def label_smoother(x, alpha=0.1):\n",
    "    return (1 - alpha) * x + alpha / x.shape[1]"
   ]
  },
  {
   "cell_type": "code",
   "execution_count": 25,
   "metadata": {},
   "outputs": [
    {
     "name": "stdout",
     "output_type": "stream",
     "text": [
      "Loss: 2.345422\n",
      "Accuracy: 0.825\n"
     ]
    }
   ],
   "source": [
    "loss     = tfk.losses.categorical_crossentropy(y_pred, label_smoother(y_true, alpha=0.2)).numpy().mean()\n",
    "accuracy = accuracy_score(y_pred.argmax(axis=1), y_true.argmax(axis=1))\n",
    "\n",
    "print(\"Loss:\", loss)\n",
    "print(\"Accuracy:\", accuracy)"
   ]
  },
  {
   "cell_type": "markdown",
   "metadata": {},
   "source": [
    "## Generate Submission"
   ]
  },
  {
   "cell_type": "code",
   "execution_count": 26,
   "metadata": {},
   "outputs": [
    {
     "data": {
      "text/html": [
       "<div>\n",
       "<style scoped>\n",
       "    .dataframe tbody tr th:only-of-type {\n",
       "        vertical-align: middle;\n",
       "    }\n",
       "\n",
       "    .dataframe tbody tr th {\n",
       "        vertical-align: top;\n",
       "    }\n",
       "\n",
       "    .dataframe thead th {\n",
       "        text-align: right;\n",
       "    }\n",
       "</style>\n",
       "<table border=\"1\" class=\"dataframe\">\n",
       "  <thead>\n",
       "    <tr style=\"text-align: right;\">\n",
       "      <th></th>\n",
       "      <th>filename</th>\n",
       "      <th>category</th>\n",
       "    </tr>\n",
       "  </thead>\n",
       "  <tbody>\n",
       "    <tr>\n",
       "      <th>0</th>\n",
       "      <td>fd663cf2b6e1d7b02938c6aaae0a32d2.jpg</td>\n",
       "      <td>43</td>\n",
       "    </tr>\n",
       "    <tr>\n",
       "      <th>1</th>\n",
       "      <td>c7fd77508a8c355eaab0d4e10efd6b15.jpg</td>\n",
       "      <td>43</td>\n",
       "    </tr>\n",
       "    <tr>\n",
       "      <th>2</th>\n",
       "      <td>127f3e6d6e3491b2459812353f33a913.jpg</td>\n",
       "      <td>43</td>\n",
       "    </tr>\n",
       "    <tr>\n",
       "      <th>3</th>\n",
       "      <td>5ca4f2da11eda083064e6c36f37eeb81.jpg</td>\n",
       "      <td>43</td>\n",
       "    </tr>\n",
       "    <tr>\n",
       "      <th>4</th>\n",
       "      <td>46d681a542f2c71be017eef6aae23313.jpg</td>\n",
       "      <td>43</td>\n",
       "    </tr>\n",
       "  </tbody>\n",
       "</table>\n",
       "</div>"
      ],
      "text/plain": [
       "                               filename  category\n",
       "0  fd663cf2b6e1d7b02938c6aaae0a32d2.jpg        43\n",
       "1  c7fd77508a8c355eaab0d4e10efd6b15.jpg        43\n",
       "2  127f3e6d6e3491b2459812353f33a913.jpg        43\n",
       "3  5ca4f2da11eda083064e6c36f37eeb81.jpg        43\n",
       "4  46d681a542f2c71be017eef6aae23313.jpg        43"
      ]
     },
     "execution_count": 26,
     "metadata": {},
     "output_type": "execute_result"
    }
   ],
   "source": [
    "pd_test = pd.read_csv('shopee-product-detection-dataset/test.csv')\n",
    "pd_test.head()"
   ]
  },
  {
   "cell_type": "code",
   "execution_count": 27,
   "metadata": {},
   "outputs": [
    {
     "name": "stdout",
     "output_type": "stream",
     "text": [
      "Found 12186 validated image filenames.\n"
     ]
    }
   ],
   "source": [
    "test_datagen = tfk_ImageDataGenerator(\n",
    "    preprocessing_function=tfk_preprocess_input\n",
    ")\n",
    "\n",
    "test_generator = test_datagen.flow_from_dataframe(\n",
    "    pd_test,\n",
    "    directory='shopee-product-detection-dataset/test/',\n",
    "    x_col='filename',\n",
    "    target_size=input_shape[:2],\n",
    "    color_mode='rgb',\n",
    "    batch_size=batch_size,\n",
    "    class_mode=None,\n",
    "    shuffle=False,\n",
    ")"
   ]
  },
  {
   "cell_type": "code",
   "execution_count": 28,
   "metadata": {},
   "outputs": [
    {
     "name": "stdout",
     "output_type": "stream",
     "text": [
      "96/96 [==============================] - 131s 1s/step\n"
     ]
    }
   ],
   "source": [
    "y_pred = model.predict(test_generator, verbose=1, steps=test_generator.n//batch_size+1)\n",
    "y_pred = y_pred[:test_generator.n]"
   ]
  },
  {
   "cell_type": "code",
   "execution_count": 29,
   "metadata": {},
   "outputs": [
    {
     "data": {
      "text/html": [
       "<div>\n",
       "<style scoped>\n",
       "    .dataframe tbody tr th:only-of-type {\n",
       "        vertical-align: middle;\n",
       "    }\n",
       "\n",
       "    .dataframe tbody tr th {\n",
       "        vertical-align: top;\n",
       "    }\n",
       "\n",
       "    .dataframe thead th {\n",
       "        text-align: right;\n",
       "    }\n",
       "</style>\n",
       "<table border=\"1\" class=\"dataframe\">\n",
       "  <thead>\n",
       "    <tr style=\"text-align: right;\">\n",
       "      <th></th>\n",
       "      <th>filename</th>\n",
       "      <th>category</th>\n",
       "    </tr>\n",
       "  </thead>\n",
       "  <tbody>\n",
       "    <tr>\n",
       "      <th>0</th>\n",
       "      <td>fd663cf2b6e1d7b02938c6aaae0a32d2.jpg</td>\n",
       "      <td>41</td>\n",
       "    </tr>\n",
       "    <tr>\n",
       "      <th>1</th>\n",
       "      <td>c7fd77508a8c355eaab0d4e10efd6b15.jpg</td>\n",
       "      <td>27</td>\n",
       "    </tr>\n",
       "    <tr>\n",
       "      <th>2</th>\n",
       "      <td>127f3e6d6e3491b2459812353f33a913.jpg</td>\n",
       "      <td>04</td>\n",
       "    </tr>\n",
       "    <tr>\n",
       "      <th>3</th>\n",
       "      <td>5ca4f2da11eda083064e6c36f37eeb81.jpg</td>\n",
       "      <td>22</td>\n",
       "    </tr>\n",
       "    <tr>\n",
       "      <th>4</th>\n",
       "      <td>46d681a542f2c71be017eef6aae23313.jpg</td>\n",
       "      <td>12</td>\n",
       "    </tr>\n",
       "  </tbody>\n",
       "</table>\n",
       "</div>"
      ],
      "text/plain": [
       "                               filename category\n",
       "0  fd663cf2b6e1d7b02938c6aaae0a32d2.jpg       41\n",
       "1  c7fd77508a8c355eaab0d4e10efd6b15.jpg       27\n",
       "2  127f3e6d6e3491b2459812353f33a913.jpg       04\n",
       "3  5ca4f2da11eda083064e6c36f37eeb81.jpg       22\n",
       "4  46d681a542f2c71be017eef6aae23313.jpg       12"
      ]
     },
     "execution_count": 29,
     "metadata": {},
     "output_type": "execute_result"
    }
   ],
   "source": [
    "pd_submission = pd_test.copy()\n",
    "pd_submission['category'] = list(map(lambda x : '{:02d}'.format(x), y_pred.argmax(axis=1)))\n",
    "pd_submission.head()"
   ]
  },
  {
   "cell_type": "code",
   "execution_count": 30,
   "metadata": {},
   "outputs": [],
   "source": [
    "pd_submission.to_csv('submission_6.csv', index=False)"
   ]
  },
  {
   "cell_type": "code",
   "execution_count": null,
   "metadata": {},
   "outputs": [],
   "source": []
  },
  {
   "cell_type": "code",
   "execution_count": 31,
   "metadata": {},
   "outputs": [
    {
     "name": "stdout",
     "output_type": "stream",
     "text": [
      "1596 12186\n"
     ]
    },
    {
     "data": {
      "text/html": [
       "<div>\n",
       "<style scoped>\n",
       "    .dataframe tbody tr th:only-of-type {\n",
       "        vertical-align: middle;\n",
       "    }\n",
       "\n",
       "    .dataframe tbody tr th {\n",
       "        vertical-align: top;\n",
       "    }\n",
       "\n",
       "    .dataframe thead th {\n",
       "        text-align: right;\n",
       "    }\n",
       "</style>\n",
       "<table border=\"1\" class=\"dataframe\">\n",
       "  <thead>\n",
       "    <tr style=\"text-align: right;\">\n",
       "      <th></th>\n",
       "      <th>filename</th>\n",
       "      <th>category_1</th>\n",
       "      <th>category</th>\n",
       "    </tr>\n",
       "  </thead>\n",
       "  <tbody>\n",
       "    <tr>\n",
       "      <th>9</th>\n",
       "      <td>0022bd7f6b85fe98edd3291d9824ee6c.jpg</td>\n",
       "      <td>08</td>\n",
       "      <td>09</td>\n",
       "    </tr>\n",
       "    <tr>\n",
       "      <th>50</th>\n",
       "      <td>00fcb7e22074245e8b6ee99f89d146fd.jpg</td>\n",
       "      <td>23</td>\n",
       "      <td>03</td>\n",
       "    </tr>\n",
       "    <tr>\n",
       "      <th>56</th>\n",
       "      <td>0126dd271b3871c85dacdda4dc4af939.jpg</td>\n",
       "      <td>30</td>\n",
       "      <td>07</td>\n",
       "    </tr>\n",
       "    <tr>\n",
       "      <th>59</th>\n",
       "      <td>0144be7cd37da73b3e3a15953d08a47c.jpg</td>\n",
       "      <td>23</td>\n",
       "      <td>06</td>\n",
       "    </tr>\n",
       "    <tr>\n",
       "      <th>63</th>\n",
       "      <td>0174bae73c34c39bc70393186cee790b.jpg</td>\n",
       "      <td>21</td>\n",
       "      <td>34</td>\n",
       "    </tr>\n",
       "    <tr>\n",
       "      <th>78</th>\n",
       "      <td>01de1bcd101edd2a30e8d9517adbfa56.jpg</td>\n",
       "      <td>10</td>\n",
       "      <td>18</td>\n",
       "    </tr>\n",
       "    <tr>\n",
       "      <th>80</th>\n",
       "      <td>01e8c3b590b0392048537980df759ec8.jpg</td>\n",
       "      <td>16</td>\n",
       "      <td>17</td>\n",
       "    </tr>\n",
       "    <tr>\n",
       "      <th>86</th>\n",
       "      <td>01f69dcfe8946f2396ca2830a4befcd0.jpg</td>\n",
       "      <td>02</td>\n",
       "      <td>03</td>\n",
       "    </tr>\n",
       "    <tr>\n",
       "      <th>96</th>\n",
       "      <td>02395ca8f389dffa53b9a5c0d23af85d.jpg</td>\n",
       "      <td>35</td>\n",
       "      <td>26</td>\n",
       "    </tr>\n",
       "    <tr>\n",
       "      <th>118</th>\n",
       "      <td>02bad0d7821d9520ae9c939287664a4c.jpg</td>\n",
       "      <td>35</td>\n",
       "      <td>15</td>\n",
       "    </tr>\n",
       "    <tr>\n",
       "      <th>127</th>\n",
       "      <td>02e217342fb3c3ab09cc89e2022fb13f.jpg</td>\n",
       "      <td>03</td>\n",
       "      <td>04</td>\n",
       "    </tr>\n",
       "    <tr>\n",
       "      <th>146</th>\n",
       "      <td>035ac9c8bfa87c7736133448da4f53cb.jpg</td>\n",
       "      <td>13</td>\n",
       "      <td>27</td>\n",
       "    </tr>\n",
       "    <tr>\n",
       "      <th>147</th>\n",
       "      <td>035ceb00c4acd20613abb9fe49ee8e33.jpg</td>\n",
       "      <td>20</td>\n",
       "      <td>41</td>\n",
       "    </tr>\n",
       "    <tr>\n",
       "      <th>156</th>\n",
       "      <td>038a5bdcf70353e6c6296255f4202acd.jpg</td>\n",
       "      <td>01</td>\n",
       "      <td>00</td>\n",
       "    </tr>\n",
       "    <tr>\n",
       "      <th>160</th>\n",
       "      <td>03a59879e24d9d0c132dc50d7fedd14d.jpg</td>\n",
       "      <td>18</td>\n",
       "      <td>16</td>\n",
       "    </tr>\n",
       "    <tr>\n",
       "      <th>163</th>\n",
       "      <td>03d6cdc94da1e7eca7b1b8b96f7db6b7.jpg</td>\n",
       "      <td>18</td>\n",
       "      <td>32</td>\n",
       "    </tr>\n",
       "    <tr>\n",
       "      <th>174</th>\n",
       "      <td>04316ddd9e5867e894028bda232b6584.jpg</td>\n",
       "      <td>13</td>\n",
       "      <td>36</td>\n",
       "    </tr>\n",
       "    <tr>\n",
       "      <th>176</th>\n",
       "      <td>044f27b9475e4fcf309e27f00392aac3.jpg</td>\n",
       "      <td>20</td>\n",
       "      <td>41</td>\n",
       "    </tr>\n",
       "    <tr>\n",
       "      <th>181</th>\n",
       "      <td>045a64b124623dbe0f9da140ba502203.jpg</td>\n",
       "      <td>22</td>\n",
       "      <td>30</td>\n",
       "    </tr>\n",
       "    <tr>\n",
       "      <th>185</th>\n",
       "      <td>046ee7c7dcf5e45fb44489af3aeb092c.jpg</td>\n",
       "      <td>15</td>\n",
       "      <td>34</td>\n",
       "    </tr>\n",
       "  </tbody>\n",
       "</table>\n",
       "</div>"
      ],
      "text/plain": [
       "                                 filename category_1 category\n",
       "9    0022bd7f6b85fe98edd3291d9824ee6c.jpg         08       09\n",
       "50   00fcb7e22074245e8b6ee99f89d146fd.jpg         23       03\n",
       "56   0126dd271b3871c85dacdda4dc4af939.jpg         30       07\n",
       "59   0144be7cd37da73b3e3a15953d08a47c.jpg         23       06\n",
       "63   0174bae73c34c39bc70393186cee790b.jpg         21       34\n",
       "78   01de1bcd101edd2a30e8d9517adbfa56.jpg         10       18\n",
       "80   01e8c3b590b0392048537980df759ec8.jpg         16       17\n",
       "86   01f69dcfe8946f2396ca2830a4befcd0.jpg         02       03\n",
       "96   02395ca8f389dffa53b9a5c0d23af85d.jpg         35       26\n",
       "118  02bad0d7821d9520ae9c939287664a4c.jpg         35       15\n",
       "127  02e217342fb3c3ab09cc89e2022fb13f.jpg         03       04\n",
       "146  035ac9c8bfa87c7736133448da4f53cb.jpg         13       27\n",
       "147  035ceb00c4acd20613abb9fe49ee8e33.jpg         20       41\n",
       "156  038a5bdcf70353e6c6296255f4202acd.jpg         01       00\n",
       "160  03a59879e24d9d0c132dc50d7fedd14d.jpg         18       16\n",
       "163  03d6cdc94da1e7eca7b1b8b96f7db6b7.jpg         18       32\n",
       "174  04316ddd9e5867e894028bda232b6584.jpg         13       36\n",
       "176  044f27b9475e4fcf309e27f00392aac3.jpg         20       41\n",
       "181  045a64b124623dbe0f9da140ba502203.jpg         22       30\n",
       "185  046ee7c7dcf5e45fb44489af3aeb092c.jpg         15       34"
      ]
     },
     "execution_count": 31,
     "metadata": {},
     "output_type": "execute_result"
    }
   ],
   "source": [
    "pd_submission_1 = pd.read_csv('submission_1.csv')\n",
    "pd_submission_1['category'] = pd_submission_1['category'].apply(lambda x : '{:02d}'.format(x))\n",
    "pd_submission_1.columns = ['filename', 'category_1']\n",
    "pd_submission_1 = pd_submission_1.merge(pd_submission.sort_values(by='filename'), on='filename')\n",
    "pd_iba = pd_submission_1[pd_submission_1['category_1'] != pd_submission_1['category']]\n",
    "print(len(pd_iba), len(pd_submission_1))\n",
    "pd_iba.head(20)"
   ]
  },
  {
   "cell_type": "code",
   "execution_count": 32,
   "metadata": {},
   "outputs": [
    {
     "data": {
      "image/png": "[encoded data removed]",
      "text/plain": [
       "<Figure size 1152x648 with 1 Axes>"
      ]
     },
     "metadata": {},
     "output_type": "display_data"
    }
   ],
   "source": [
    "plt.figure(figsize=(16, 9))\n",
    "plt.hist(pd_iba['category'].sort_values(), bins=np.arange(43)-0.5)\n",
    "plt.xlim(-1, 43)\n",
    "plt.show()"
   ]
  },
  {
   "cell_type": "code",
   "execution_count": null,
   "metadata": {},
   "outputs": [],
   "source": []
  }
 ],
 "metadata": {
  "kernelspec": {
   "display_name": "Python 3",
   "language": "python",
   "name": "python3"
  },
  "language_info": {
   "codemirror_mode": {
    "name": "ipython",
    "version": 3
   },
   "file_extension": ".py",
   "mimetype": "text/x-python",
   "name": "python",
   "nbconvert_exporter": "python",
   "pygments_lexer": "ipython3",
   "version": "3.6.8"
  },
  "toc-autonumbering": false,
  "toc-showmarkdowntxt": false
 },
 "nbformat": 4,
 "nbformat_minor": 4
}
