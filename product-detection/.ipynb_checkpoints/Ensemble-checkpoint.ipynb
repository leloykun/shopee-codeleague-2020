{
 "cells": [
  {
   "cell_type": "code",
   "execution_count": 1,
   "metadata": {},
   "outputs": [],
   "source": [
    "import pandas as pd\n",
    "from functools import reduce"
   ]
  },
  {
   "cell_type": "code",
   "execution_count": 8,
   "metadata": {},
   "outputs": [
    {
     "data": {
      "text/html": [
       "<div>\n",
       "<style scoped>\n",
       "    .dataframe tbody tr th:only-of-type {\n",
       "        vertical-align: middle;\n",
       "    }\n",
       "\n",
       "    .dataframe tbody tr th {\n",
       "        vertical-align: top;\n",
       "    }\n",
       "\n",
       "    .dataframe thead th {\n",
       "        text-align: right;\n",
       "    }\n",
       "</style>\n",
       "<table border=\"1\" class=\"dataframe\">\n",
       "  <thead>\n",
       "    <tr style=\"text-align: right;\">\n",
       "      <th></th>\n",
       "      <th>filename</th>\n",
       "      <th>category_1</th>\n",
       "      <th>category_5</th>\n",
       "      <th>category_10</th>\n",
       "      <th>category_13</th>\n",
       "      <th>category_19</th>\n",
       "    </tr>\n",
       "  </thead>\n",
       "  <tbody>\n",
       "    <tr>\n",
       "      <th>12181</th>\n",
       "      <td>ffef3b0e7505855ba5794ebab9aff719.jpg</td>\n",
       "      <td>08</td>\n",
       "      <td>09</td>\n",
       "      <td>09</td>\n",
       "      <td>09</td>\n",
       "      <td>09</td>\n",
       "    </tr>\n",
       "    <tr>\n",
       "      <th>12182</th>\n",
       "      <td>ffef86f7872cd020992e00b7cf6585c7.jpg</td>\n",
       "      <td>20</td>\n",
       "      <td>20</td>\n",
       "      <td>20</td>\n",
       "      <td>20</td>\n",
       "      <td>20</td>\n",
       "    </tr>\n",
       "    <tr>\n",
       "      <th>12183</th>\n",
       "      <td>fff8fdfc178e3e94414fc10c69271f88.jpg</td>\n",
       "      <td>10</td>\n",
       "      <td>10</td>\n",
       "      <td>10</td>\n",
       "      <td>10</td>\n",
       "      <td>10</td>\n",
       "    </tr>\n",
       "    <tr>\n",
       "      <th>12184</th>\n",
       "      <td>fff9ee1d7f920b920dd603631d24bc07.jpg</td>\n",
       "      <td>23</td>\n",
       "      <td>23</td>\n",
       "      <td>23</td>\n",
       "      <td>23</td>\n",
       "      <td>23</td>\n",
       "    </tr>\n",
       "    <tr>\n",
       "      <th>12185</th>\n",
       "      <td>fffb6700a1f0e34254d508cd5f125180.jpg</td>\n",
       "      <td>12</td>\n",
       "      <td>12</td>\n",
       "      <td>12</td>\n",
       "      <td>12</td>\n",
       "      <td>12</td>\n",
       "    </tr>\n",
       "  </tbody>\n",
       "</table>\n",
       "</div>"
      ],
      "text/plain": [
       "                                   filename category_1 category_5 category_10  \\\n",
       "12181  ffef3b0e7505855ba5794ebab9aff719.jpg         08         09          09   \n",
       "12182  ffef86f7872cd020992e00b7cf6585c7.jpg         20         20          20   \n",
       "12183  fff8fdfc178e3e94414fc10c69271f88.jpg         10         10          10   \n",
       "12184  fff9ee1d7f920b920dd603631d24bc07.jpg         23         23          23   \n",
       "12185  fffb6700a1f0e34254d508cd5f125180.jpg         12         12          12   \n",
       "\n",
       "      category_13 category_19  \n",
       "12181          09          09  \n",
       "12182          20          20  \n",
       "12183          10          10  \n",
       "12184          23          23  \n",
       "12185          12          12  "
      ]
     },
     "execution_count": 8,
     "metadata": {},
     "output_type": "execute_result"
    }
   ],
   "source": [
    "pd_dfs = []\n",
    "cat_cols = []\n",
    "for i in [1, 5, 10, 13, 19, 21]:\n",
    "    pd_df = pd.read_csv('submission_{}.csv'.format(i))\n",
    "    pd_df['category'] = pd_df['category'].apply(lambda x : '{:02d}'.format(x))\n",
    "    pd_df.columns     = ['filename', \"category_{}\".format(i)]\n",
    "    cat_cols.append(\"category_{}\".format(i))\n",
    "    pd_dfs.append(pd_df)\n",
    "\n",
    "pd_merged = reduce(lambda  left, right: pd.merge(left, right, on=['filename'],\n",
    "                                                 how='outer'), pd_dfs)\n",
    "pd_merged.tail()"
   ]
  },
  {
   "cell_type": "code",
   "execution_count": 17,
   "metadata": {},
   "outputs": [
    {
     "data": {
      "text/html": [
       "<div>\n",
       "<style scoped>\n",
       "    .dataframe tbody tr th:only-of-type {\n",
       "        vertical-align: middle;\n",
       "    }\n",
       "\n",
       "    .dataframe tbody tr th {\n",
       "        vertical-align: top;\n",
       "    }\n",
       "\n",
       "    .dataframe thead th {\n",
       "        text-align: right;\n",
       "    }\n",
       "</style>\n",
       "<table border=\"1\" class=\"dataframe\">\n",
       "  <thead>\n",
       "    <tr style=\"text-align: right;\">\n",
       "      <th></th>\n",
       "      <th>filename</th>\n",
       "      <th>category</th>\n",
       "    </tr>\n",
       "  </thead>\n",
       "  <tbody>\n",
       "    <tr>\n",
       "      <th>0</th>\n",
       "      <td>0004b03ad7eabfb3989727c461310a84.jpg</td>\n",
       "      <td>12</td>\n",
       "    </tr>\n",
       "    <tr>\n",
       "      <th>1</th>\n",
       "      <td>0004d34271d0a0253f8a95d0746bae05.jpg</td>\n",
       "      <td>16</td>\n",
       "    </tr>\n",
       "    <tr>\n",
       "      <th>2</th>\n",
       "      <td>000d4ad3d0a372fd6eea2fee6bf738ef.jpg</td>\n",
       "      <td>40</td>\n",
       "    </tr>\n",
       "    <tr>\n",
       "      <th>3</th>\n",
       "      <td>0012f125ad07123e69468ae1d1d59de4.jpg</td>\n",
       "      <td>22</td>\n",
       "    </tr>\n",
       "    <tr>\n",
       "      <th>4</th>\n",
       "      <td>0015831b249b856e569e883a9dc6d4fa.jpg</td>\n",
       "      <td>12</td>\n",
       "    </tr>\n",
       "  </tbody>\n",
       "</table>\n",
       "</div>"
      ],
      "text/plain": [
       "                               filename category\n",
       "0  0004b03ad7eabfb3989727c461310a84.jpg       12\n",
       "1  0004d34271d0a0253f8a95d0746bae05.jpg       16\n",
       "2  000d4ad3d0a372fd6eea2fee6bf738ef.jpg       40\n",
       "3  0012f125ad07123e69468ae1d1d59de4.jpg       22\n",
       "4  0015831b249b856e569e883a9dc6d4fa.jpg       12"
      ]
     },
     "execution_count": 17,
     "metadata": {},
     "output_type": "execute_result"
    }
   ],
   "source": [
    "pd_submission = pd_merged[['filename']].copy()\n",
    "pd_submission['category'] = pd_merged[cat_cols].mode(axis=1)[0]\n",
    "pd_submission.head()"
   ]
  },
  {
   "cell_type": "code",
   "execution_count": 18,
   "metadata": {},
   "outputs": [],
   "source": [
    "pd_submission.to_csv(\"submission_1_to_19_ensemble.csv\", index=False)"
   ]
  },
  {
   "cell_type": "code",
   "execution_count": null,
   "metadata": {},
   "outputs": [],
   "source": []
  }
 ],
 "metadata": {
  "kernelspec": {
   "display_name": "Python 3",
   "language": "python",
   "name": "python3"
  },
  "language_info": {
   "codemirror_mode": {
    "name": "ipython",
    "version": 3
   },
   "file_extension": ".py",
   "mimetype": "text/x-python",
   "name": "python",
   "nbconvert_exporter": "python",
   "pygments_lexer": "ipython3",
   "version": "3.6.8"
  }
 },
 "nbformat": 4,
 "nbformat_minor": 4
}
