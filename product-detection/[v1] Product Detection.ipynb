{
 "cells": [
  {
   "cell_type": "code",
   "execution_count": 1,
   "metadata": {},
   "outputs": [],
   "source": [
    "import tensorflow as tf\n",
    "import tensorflow.keras as tfk\n",
    "\n",
    "from tensorflow.keras.preprocessing import image as tfk_image\n",
    "from tensorflow.keras.preprocessing.image import ImageDataGenerator as tfk_ImageDataGenerator\n",
    "\n",
    "import datetime, os\n",
    "\n",
    "import numpy as np\n",
    "import pandas as pd\n",
    "import matplotlib.pyplot as plt\n",
    "import seaborn as sns; sns.set();\n",
    "from PIL import Image\n",
    "\n",
    "from sklearn.utils import class_weight\n",
    "from sklearn.metrics import confusion_matrix, log_loss, accuracy_score\n",
    "from sklearn.preprocessing import OneHotEncoder\n",
    "\n",
    "EPS = 1e-9"
   ]
  },
  {
   "cell_type": "code",
   "execution_count": 2,
   "metadata": {},
   "outputs": [],
   "source": [
    "from tensorflow.python.keras.applications.efficientnet import EfficientNetB7 as tfk_BaseModel\n",
    "from tensorflow.python.keras.applications.efficientnet import preprocess_input as tfk_preprocess_input"
   ]
  },
  {
   "cell_type": "markdown",
   "metadata": {},
   "source": [
    "## Load Dataset"
   ]
  },
  {
   "cell_type": "code",
   "execution_count": 3,
   "metadata": {},
   "outputs": [],
   "source": [
    "pd_train = pd.read_csv('shopee-product-detection-dataset/train.csv').sort_values(by=['filename'])\n",
    "pd_test  = pd.read_csv('shopee-product-detection-dataset/test.csv').sort_values(by=['filename'])"
   ]
  },
  {
   "cell_type": "code",
   "execution_count": 4,
   "metadata": {},
   "outputs": [],
   "source": [
    "input_shape = (256, 256, 3)\n",
    "# input_shape = (512, 512, 3)\n",
    "batch_size=128"
   ]
  },
  {
   "cell_type": "code",
   "execution_count": 5,
   "metadata": {},
   "outputs": [
    {
     "name": "stdout",
     "output_type": "stream",
     "text": [
      "Found 94869 images belonging to 42 classes.\n",
      "Found 10523 images belonging to 42 classes.\n"
     ]
    }
   ],
   "source": [
    "train_datagen = tfk_ImageDataGenerator(\n",
    "    preprocessing_function=tfk_preprocess_input,\n",
    "    validation_split=0.1,\n",
    "    #featurewise_center=True,\n",
    "    #featurewise_std_normalization=True,\n",
    "    rotation_range=45,\n",
    "    shear_range=20,\n",
    "    zoom_range=[0.9, 1.1],\n",
    "    width_shift_range=0.2,\n",
    "    height_shift_range=0.2,\n",
    "    horizontal_flip=True,\n",
    "    vertical_flip=True\n",
    ")\n",
    "\n",
    "train_generator = train_datagen.flow_from_directory(\n",
    "    'shopee-product-detection-dataset/train/',  # this is where you specify the path to the train data folder\n",
    "    target_size=input_shape[:2],\n",
    "    color_mode='rgb',\n",
    "    batch_size=batch_size,\n",
    "    class_mode='categorical',\n",
    "    shuffle=True,\n",
    "    subset='training'\n",
    ")\n",
    "\n",
    "val_generator = train_datagen.flow_from_directory(\n",
    "    'shopee-product-detection-dataset/train/',  # this is where you specify the path to the train data folder\n",
    "    target_size=input_shape[:2],\n",
    "    color_mode='rgb',\n",
    "    batch_size=batch_size,\n",
    "    class_mode='categorical',\n",
    "    shuffle=True,\n",
    "    subset='validation'\n",
    ")"
   ]
  },
  {
   "cell_type": "code",
   "execution_count": 6,
   "metadata": {},
   "outputs": [
    {
     "name": "stdout",
     "output_type": "stream",
     "text": [
      "Found 12186 validated image filenames.\n"
     ]
    }
   ],
   "source": [
    "test_datagen = tfk_ImageDataGenerator(\n",
    "    preprocessing_function=tfk_preprocess_input\n",
    ")\n",
    "\n",
    "test_generator = test_datagen.flow_from_dataframe(\n",
    "    pd_test,\n",
    "    directory='shopee-product-detection-dataset/test/',\n",
    "    x_col='filename',\n",
    "    y_col='category',\n",
    "    target_size=input_shape[:2],\n",
    "    color_mode='rgb',\n",
    "    batch_size=batch_size,\n",
    "    class_mode='raw',\n",
    "    shuffle=True,\n",
    ")"
   ]
  },
  {
   "cell_type": "code",
   "execution_count": 7,
   "metadata": {},
   "outputs": [],
   "source": [
    "# x,y = next(iter(test_generator))"
   ]
  },
  {
   "cell_type": "markdown",
   "metadata": {},
   "source": [
    "## Prepare model"
   ]
  },
  {
   "cell_type": "code",
   "execution_count": 8,
   "metadata": {},
   "outputs": [
    {
     "data": {
      "text/plain": [
       "813"
      ]
     },
     "execution_count": 8,
     "metadata": {},
     "output_type": "execute_result"
    }
   ],
   "source": [
    "base_model = tfk_BaseModel(input_shape=input_shape, weights='imagenet', include_top=False)\n",
    "len(base_model.layers)"
   ]
  },
  {
   "cell_type": "code",
   "execution_count": 9,
   "metadata": {},
   "outputs": [],
   "source": [
    "for layer in base_model.layers[:-16]:\n",
    "  layer.trainable = False"
   ]
  },
  {
   "cell_type": "code",
   "execution_count": 10,
   "metadata": {},
   "outputs": [],
   "source": [
    "model = tfk.Sequential([\n",
    "    base_model,\n",
    "    tfk.layers.GlobalMaxPooling2D(),\n",
    "    tfk.layers.Dense(512, activation='relu'),\n",
    "    #tfk.layers.Dense(256, activation='relu'),\n",
    "    tfk.layers.Dense(128, activation='relu'),\n",
    "    tfk.layers.Dense(42, activation='softmax', name='output_layer'),\n",
    "])"
   ]
  },
  {
   "cell_type": "code",
   "execution_count": 11,
   "metadata": {},
   "outputs": [
    {
     "name": "stdout",
     "output_type": "stream",
     "text": [
      "Model: \"sequential\"\n",
      "_________________________________________________________________\n",
      "Layer (type)                 Output Shape              Param #   \n",
      "=================================================================\n",
      "efficientnetb7 (Model)       (None, 8, 8, 2560)        64097687  \n",
      "_________________________________________________________________\n",
      "global_max_pooling2d (Global (None, 2560)              0         \n",
      "_________________________________________________________________\n",
      "dense (Dense)                (None, 512)               1311232   \n",
      "_________________________________________________________________\n",
      "dense_1 (Dense)              (None, 128)               65664     \n",
      "_________________________________________________________________\n",
      "output_layer (Dense)         (None, 42)                5418      \n",
      "=================================================================\n",
      "Total params: 65,480,001\n",
      "Trainable params: 6,759,754\n",
      "Non-trainable params: 58,720,247\n",
      "_________________________________________________________________\n"
     ]
    }
   ],
   "source": [
    "model.summary()"
   ]
  },
  {
   "cell_type": "code",
   "execution_count": 12,
   "metadata": {},
   "outputs": [
    {
     "data": {
      "image/png": "[encoded data removed]",
      "text/plain": [
       "<IPython.core.display.Image object>"
      ]
     },
     "execution_count": 12,
     "metadata": {},
     "output_type": "execute_result"
    }
   ],
   "source": [
    "tfk.utils.plot_model(model)"
   ]
  },
  {
   "cell_type": "code",
   "execution_count": 42,
   "metadata": {},
   "outputs": [],
   "source": [
    "model.compile(optimizer=tfk.optimizers.Adam(learning_rate=1e-5),\n",
    "              loss=tfk.losses.CategoricalCrossentropy(label_smoothing=0.1),\n",
    "              metrics=['accuracy'])"
   ]
  },
  {
   "cell_type": "markdown",
   "metadata": {},
   "source": [
    "## Train Model"
   ]
  },
  {
   "cell_type": "code",
   "execution_count": 8,
   "metadata": {},
   "outputs": [],
   "source": [
    "model = tfk.models.load_model('.model_files/saves/model_5.h5')"
   ]
  },
  {
   "cell_type": "code",
   "execution_count": 9,
   "metadata": {},
   "outputs": [
    {
     "name": "stdout",
     "output_type": "stream",
     "text": [
      "741 82\n"
     ]
    }
   ],
   "source": [
    "class_weights = class_weight.compute_class_weight('balanced',\n",
    "                                                  np.unique(train_generator.classes),\n",
    "                                                  train_generator.classes)\n",
    "class_weights = {i : class_weights[i] for i in range(len(class_weights))}\n",
    "\n",
    "train_step_size = train_generator.n//train_generator.batch_size\n",
    "val_step_size   = val_generator.n//val_generator.batch_size\n",
    "print(train_step_size, val_step_size)"
   ]
  },
  {
   "cell_type": "code",
   "execution_count": 44,
   "metadata": {},
   "outputs": [],
   "source": [
    "reduce_lr = tf.keras.callbacks.ReduceLROnPlateau(\n",
    "    monitor='val_accuracy',\n",
    "    factor=0.2,\n",
    "    patience=5,\n",
    "    min_lr=1e-7\n",
    ")\n",
    "\n",
    "early_stop = tfk.callbacks.EarlyStopping(\n",
    "    monitor='val_accuracy',\n",
    "    patience=15,\n",
    "    restore_best_weights=True\n",
    ")\n",
    "\n",
    "checkpoint_dir = os.path.join('.model_files')\n",
    "if not os.path.exists(checkpoint_dir):\n",
    "    os.makedirs(checkpoint_dir)\n",
    "checkpoint = tfk.callbacks.ModelCheckpoint(\n",
    "    filepath = checkpoint_dir + '/ckpt/',\n",
    "    save_freq ='epoch',\n",
    "    save_best_only=True\n",
    ")\n",
    "\n",
    "log_dir = os.path.join(\".model_files/logs/\" + datetime.datetime.now().strftime(\"%Y%m%d-%H%M%S\"))\n",
    "if not os.path.exists(log_dir):\n",
    "    os.makedirs(log_dir)\n",
    "tensorboard_callback = tf.keras.callbacks.TensorBoard(\n",
    "    log_dir=log_dir,\n",
    "    histogram_freq=1,\n",
    "    update_freq=100,\n",
    "    profile_batch = 100000000\n",
    ")"
   ]
  },
  {
   "cell_type": "code",
   "execution_count": 45,
   "metadata": {},
   "outputs": [
    {
     "name": "stdout",
     "output_type": "stream",
     "text": [
      "Epoch 75/100\n",
      "200/200 [==============================] - ETA: 0s - loss: 1.3116 - accuracy: 0.7876INFO:tensorflow:Assets written to: .model_files/ckpt/assets\n",
      "200/200 [==============================] - 863s 4s/step - loss: 1.3116 - accuracy: 0.7876 - val_loss: 1.4584 - val_accuracy: 0.7531 - lr: 1.0000e-05\n",
      "Epoch 76/100\n",
      "200/200 [==============================] - ETA: 0s - loss: 1.3194 - accuracy: 0.7832INFO:tensorflow:Assets written to: .model_files/ckpt/assets\n",
      "200/200 [==============================] - 820s 4s/step - loss: 1.3194 - accuracy: 0.7832 - val_loss: 1.4416 - val_accuracy: 0.7625 - lr: 1.0000e-05\n",
      "Epoch 77/100\n",
      "200/200 [==============================] - 801s 4s/step - loss: 1.3097 - accuracy: 0.7858 - val_loss: 1.4463 - val_accuracy: 0.7576 - lr: 1.0000e-05\n",
      "Epoch 78/100\n",
      "200/200 [==============================] - ETA: 0s - loss: 1.3048 - accuracy: 0.7890INFO:tensorflow:Assets written to: .model_files/ckpt/assets\n",
      "200/200 [==============================] - 900s 4s/step - loss: 1.3048 - accuracy: 0.7890 - val_loss: 1.4330 - val_accuracy: 0.7625 - lr: 1.0000e-05\n",
      "Epoch 79/100\n",
      "200/200 [==============================] - 927s 5s/step - loss: 1.3037 - accuracy: 0.7907 - val_loss: 1.4581 - val_accuracy: 0.7543 - lr: 1.0000e-05\n",
      "Epoch 80/100\n",
      "200/200 [==============================] - 857s 4s/step - loss: 1.3108 - accuracy: 0.7871 - val_loss: 1.4504 - val_accuracy: 0.7539 - lr: 1.0000e-05\n",
      "Epoch 81/100\n",
      "200/200 [==============================] - 783s 4s/step - loss: 1.3064 - accuracy: 0.7861 - val_loss: 1.4820 - val_accuracy: 0.7487 - lr: 1.0000e-05\n",
      "Epoch 82/100\n",
      "200/200 [==============================] - 651s 3s/step - loss: 1.3081 - accuracy: 0.7891 - val_loss: 1.4781 - val_accuracy: 0.7402 - lr: 2.0000e-06\n",
      "Epoch 83/100\n",
      "200/200 [==============================] - 665s 3s/step - loss: 1.3078 - accuracy: 0.7875 - val_loss: 1.4561 - val_accuracy: 0.7508 - lr: 2.0000e-06\n",
      "Epoch 84/100\n",
      "200/200 [==============================] - ETA: 0s - loss: 1.3062 - accuracy: 0.7880INFO:tensorflow:Assets written to: .model_files/ckpt/assets\n",
      "200/200 [==============================] - 778s 4s/step - loss: 1.3062 - accuracy: 0.7880 - val_loss: 1.4276 - val_accuracy: 0.7563 - lr: 2.0000e-06\n",
      "Epoch 85/100\n",
      "200/200 [==============================] - 735s 4s/step - loss: 1.3081 - accuracy: 0.7883 - val_loss: 1.4308 - val_accuracy: 0.7662 - lr: 2.0000e-06\n",
      "Epoch 86/100\n",
      "200/200 [==============================] - 751s 4s/step - loss: 1.3082 - accuracy: 0.7843 - val_loss: 1.4465 - val_accuracy: 0.7527 - lr: 2.0000e-06\n",
      "Epoch 87/100\n",
      "200/200 [==============================] - 819s 4s/step - loss: 1.3143 - accuracy: 0.7838 - val_loss: 1.4358 - val_accuracy: 0.7598 - lr: 2.0000e-06\n",
      "Epoch 88/100\n",
      "200/200 [==============================] - 819s 4s/step - loss: 1.2907 - accuracy: 0.7923 - val_loss: 1.4625 - val_accuracy: 0.7516 - lr: 2.0000e-06\n",
      "Epoch 89/100\n",
      "200/200 [==============================] - 778s 4s/step - loss: 1.2996 - accuracy: 0.7901 - val_loss: 1.4642 - val_accuracy: 0.7515 - lr: 2.0000e-06\n",
      "Epoch 90/100\n",
      "200/200 [==============================] - 787s 4s/step - loss: 1.3090 - accuracy: 0.7876 - val_loss: 1.4642 - val_accuracy: 0.7449 - lr: 2.0000e-06\n",
      "Epoch 91/100\n",
      "200/200 [==============================] - 803s 4s/step - loss: 1.3029 - accuracy: 0.7904 - val_loss: 1.4836 - val_accuracy: 0.7473 - lr: 4.0000e-07\n",
      "Epoch 92/100\n",
      " 33/200 [===>..........................] - ETA: 9:36 - loss: 1.3097 - accuracy: 0.7862"
     ]
    },
    {
     "ename": "KeyboardInterrupt",
     "evalue": "",
     "output_type": "error",
     "traceback": [
      "\u001b[1;31m---------------------------------------------------------------------------\u001b[0m",
      "\u001b[1;31mKeyboardInterrupt\u001b[0m                         Traceback (most recent call last)",
      "\u001b[1;32m<ipython-input-45-45ef13f3ad9d>\u001b[0m in \u001b[0;36m<module>\u001b[1;34m\u001b[0m\n\u001b[0;32m      9\u001b[0m                               \u001b[0mearly_stop\u001b[0m\u001b[1;33m,\u001b[0m\u001b[1;33m\u001b[0m\u001b[1;33m\u001b[0m\u001b[0m\n\u001b[0;32m     10\u001b[0m                               \u001b[0mcheckpoint\u001b[0m\u001b[1;33m,\u001b[0m\u001b[1;33m\u001b[0m\u001b[1;33m\u001b[0m\u001b[0m\n\u001b[1;32m---> 11\u001b[1;33m                               \u001b[0mtensorboard_callback\u001b[0m\u001b[1;33m\u001b[0m\u001b[1;33m\u001b[0m\u001b[0m\n\u001b[0m\u001b[0;32m     12\u001b[0m                               ]\n\u001b[0;32m     13\u001b[0m                    )\n",
      "\u001b[1;32mc:\\users\\franz cesista\\appdata\\local\\programs\\python\\python36\\lib\\site-packages\\tensorflow\\python\\keras\\engine\\training.py\u001b[0m in \u001b[0;36m_method_wrapper\u001b[1;34m(self, *args, **kwargs)\u001b[0m\n\u001b[0;32m     64\u001b[0m   \u001b[1;32mdef\u001b[0m \u001b[0m_method_wrapper\u001b[0m\u001b[1;33m(\u001b[0m\u001b[0mself\u001b[0m\u001b[1;33m,\u001b[0m \u001b[1;33m*\u001b[0m\u001b[0margs\u001b[0m\u001b[1;33m,\u001b[0m \u001b[1;33m**\u001b[0m\u001b[0mkwargs\u001b[0m\u001b[1;33m)\u001b[0m\u001b[1;33m:\u001b[0m\u001b[1;33m\u001b[0m\u001b[1;33m\u001b[0m\u001b[0m\n\u001b[0;32m     65\u001b[0m     \u001b[1;32mif\u001b[0m \u001b[1;32mnot\u001b[0m \u001b[0mself\u001b[0m\u001b[1;33m.\u001b[0m\u001b[0m_in_multi_worker_mode\u001b[0m\u001b[1;33m(\u001b[0m\u001b[1;33m)\u001b[0m\u001b[1;33m:\u001b[0m  \u001b[1;31m# pylint: disable=protected-access\u001b[0m\u001b[1;33m\u001b[0m\u001b[1;33m\u001b[0m\u001b[0m\n\u001b[1;32m---> 66\u001b[1;33m       \u001b[1;32mreturn\u001b[0m \u001b[0mmethod\u001b[0m\u001b[1;33m(\u001b[0m\u001b[0mself\u001b[0m\u001b[1;33m,\u001b[0m \u001b[1;33m*\u001b[0m\u001b[0margs\u001b[0m\u001b[1;33m,\u001b[0m \u001b[1;33m**\u001b[0m\u001b[0mkwargs\u001b[0m\u001b[1;33m)\u001b[0m\u001b[1;33m\u001b[0m\u001b[1;33m\u001b[0m\u001b[0m\n\u001b[0m\u001b[0;32m     67\u001b[0m \u001b[1;33m\u001b[0m\u001b[0m\n\u001b[0;32m     68\u001b[0m     \u001b[1;31m# Running inside `run_distribute_coordinator` already.\u001b[0m\u001b[1;33m\u001b[0m\u001b[1;33m\u001b[0m\u001b[1;33m\u001b[0m\u001b[0m\n",
      "\u001b[1;32mc:\\users\\franz cesista\\appdata\\local\\programs\\python\\python36\\lib\\site-packages\\tensorflow\\python\\keras\\engine\\training.py\u001b[0m in \u001b[0;36mfit\u001b[1;34m(self, x, y, batch_size, epochs, verbose, callbacks, validation_split, validation_data, shuffle, class_weight, sample_weight, initial_epoch, steps_per_epoch, validation_steps, validation_batch_size, validation_freq, max_queue_size, workers, use_multiprocessing)\u001b[0m\n\u001b[0;32m    846\u001b[0m                 batch_size=batch_size):\n\u001b[0;32m    847\u001b[0m               \u001b[0mcallbacks\u001b[0m\u001b[1;33m.\u001b[0m\u001b[0mon_train_batch_begin\u001b[0m\u001b[1;33m(\u001b[0m\u001b[0mstep\u001b[0m\u001b[1;33m)\u001b[0m\u001b[1;33m\u001b[0m\u001b[1;33m\u001b[0m\u001b[0m\n\u001b[1;32m--> 848\u001b[1;33m               \u001b[0mtmp_logs\u001b[0m \u001b[1;33m=\u001b[0m \u001b[0mtrain_function\u001b[0m\u001b[1;33m(\u001b[0m\u001b[0miterator\u001b[0m\u001b[1;33m)\u001b[0m\u001b[1;33m\u001b[0m\u001b[1;33m\u001b[0m\u001b[0m\n\u001b[0m\u001b[0;32m    849\u001b[0m               \u001b[1;31m# Catch OutOfRangeError for Datasets of unknown size.\u001b[0m\u001b[1;33m\u001b[0m\u001b[1;33m\u001b[0m\u001b[1;33m\u001b[0m\u001b[0m\n\u001b[0;32m    850\u001b[0m               \u001b[1;31m# This blocks until the batch has finished executing.\u001b[0m\u001b[1;33m\u001b[0m\u001b[1;33m\u001b[0m\u001b[1;33m\u001b[0m\u001b[0m\n",
      "\u001b[1;32mc:\\users\\franz cesista\\appdata\\local\\programs\\python\\python36\\lib\\site-packages\\tensorflow\\python\\eager\\def_function.py\u001b[0m in \u001b[0;36m__call__\u001b[1;34m(self, *args, **kwds)\u001b[0m\n\u001b[0;32m    578\u001b[0m         \u001b[0mxla_context\u001b[0m\u001b[1;33m.\u001b[0m\u001b[0mExit\u001b[0m\u001b[1;33m(\u001b[0m\u001b[1;33m)\u001b[0m\u001b[1;33m\u001b[0m\u001b[1;33m\u001b[0m\u001b[0m\n\u001b[0;32m    579\u001b[0m     \u001b[1;32melse\u001b[0m\u001b[1;33m:\u001b[0m\u001b[1;33m\u001b[0m\u001b[1;33m\u001b[0m\u001b[0m\n\u001b[1;32m--> 580\u001b[1;33m       \u001b[0mresult\u001b[0m \u001b[1;33m=\u001b[0m \u001b[0mself\u001b[0m\u001b[1;33m.\u001b[0m\u001b[0m_call\u001b[0m\u001b[1;33m(\u001b[0m\u001b[1;33m*\u001b[0m\u001b[0margs\u001b[0m\u001b[1;33m,\u001b[0m \u001b[1;33m**\u001b[0m\u001b[0mkwds\u001b[0m\u001b[1;33m)\u001b[0m\u001b[1;33m\u001b[0m\u001b[1;33m\u001b[0m\u001b[0m\n\u001b[0m\u001b[0;32m    581\u001b[0m \u001b[1;33m\u001b[0m\u001b[0m\n\u001b[0;32m    582\u001b[0m     \u001b[1;32mif\u001b[0m \u001b[0mtracing_count\u001b[0m \u001b[1;33m==\u001b[0m \u001b[0mself\u001b[0m\u001b[1;33m.\u001b[0m\u001b[0m_get_tracing_count\u001b[0m\u001b[1;33m(\u001b[0m\u001b[1;33m)\u001b[0m\u001b[1;33m:\u001b[0m\u001b[1;33m\u001b[0m\u001b[1;33m\u001b[0m\u001b[0m\n",
      "\u001b[1;32mc:\\users\\franz cesista\\appdata\\local\\programs\\python\\python36\\lib\\site-packages\\tensorflow\\python\\eager\\def_function.py\u001b[0m in \u001b[0;36m_call\u001b[1;34m(self, *args, **kwds)\u001b[0m\n\u001b[0;32m    609\u001b[0m       \u001b[1;31m# In this case we have created variables on the first call, so we run the\u001b[0m\u001b[1;33m\u001b[0m\u001b[1;33m\u001b[0m\u001b[1;33m\u001b[0m\u001b[0m\n\u001b[0;32m    610\u001b[0m       \u001b[1;31m# defunned version which is guaranteed to never create variables.\u001b[0m\u001b[1;33m\u001b[0m\u001b[1;33m\u001b[0m\u001b[1;33m\u001b[0m\u001b[0m\n\u001b[1;32m--> 611\u001b[1;33m       \u001b[1;32mreturn\u001b[0m \u001b[0mself\u001b[0m\u001b[1;33m.\u001b[0m\u001b[0m_stateless_fn\u001b[0m\u001b[1;33m(\u001b[0m\u001b[1;33m*\u001b[0m\u001b[0margs\u001b[0m\u001b[1;33m,\u001b[0m \u001b[1;33m**\u001b[0m\u001b[0mkwds\u001b[0m\u001b[1;33m)\u001b[0m  \u001b[1;31m# pylint: disable=not-callable\u001b[0m\u001b[1;33m\u001b[0m\u001b[1;33m\u001b[0m\u001b[0m\n\u001b[0m\u001b[0;32m    612\u001b[0m     \u001b[1;32melif\u001b[0m \u001b[0mself\u001b[0m\u001b[1;33m.\u001b[0m\u001b[0m_stateful_fn\u001b[0m \u001b[1;32mis\u001b[0m \u001b[1;32mnot\u001b[0m \u001b[1;32mNone\u001b[0m\u001b[1;33m:\u001b[0m\u001b[1;33m\u001b[0m\u001b[1;33m\u001b[0m\u001b[0m\n\u001b[0;32m    613\u001b[0m       \u001b[1;31m# Release the lock early so that multiple threads can perform the call\u001b[0m\u001b[1;33m\u001b[0m\u001b[1;33m\u001b[0m\u001b[1;33m\u001b[0m\u001b[0m\n",
      "\u001b[1;32mc:\\users\\franz cesista\\appdata\\local\\programs\\python\\python36\\lib\\site-packages\\tensorflow\\python\\eager\\function.py\u001b[0m in \u001b[0;36m__call__\u001b[1;34m(self, *args, **kwargs)\u001b[0m\n\u001b[0;32m   2418\u001b[0m     \u001b[1;32mwith\u001b[0m \u001b[0mself\u001b[0m\u001b[1;33m.\u001b[0m\u001b[0m_lock\u001b[0m\u001b[1;33m:\u001b[0m\u001b[1;33m\u001b[0m\u001b[1;33m\u001b[0m\u001b[0m\n\u001b[0;32m   2419\u001b[0m       \u001b[0mgraph_function\u001b[0m\u001b[1;33m,\u001b[0m \u001b[0margs\u001b[0m\u001b[1;33m,\u001b[0m \u001b[0mkwargs\u001b[0m \u001b[1;33m=\u001b[0m \u001b[0mself\u001b[0m\u001b[1;33m.\u001b[0m\u001b[0m_maybe_define_function\u001b[0m\u001b[1;33m(\u001b[0m\u001b[0margs\u001b[0m\u001b[1;33m,\u001b[0m \u001b[0mkwargs\u001b[0m\u001b[1;33m)\u001b[0m\u001b[1;33m\u001b[0m\u001b[1;33m\u001b[0m\u001b[0m\n\u001b[1;32m-> 2420\u001b[1;33m     \u001b[1;32mreturn\u001b[0m \u001b[0mgraph_function\u001b[0m\u001b[1;33m.\u001b[0m\u001b[0m_filtered_call\u001b[0m\u001b[1;33m(\u001b[0m\u001b[0margs\u001b[0m\u001b[1;33m,\u001b[0m \u001b[0mkwargs\u001b[0m\u001b[1;33m)\u001b[0m  \u001b[1;31m# pylint: disable=protected-access\u001b[0m\u001b[1;33m\u001b[0m\u001b[1;33m\u001b[0m\u001b[0m\n\u001b[0m\u001b[0;32m   2421\u001b[0m \u001b[1;33m\u001b[0m\u001b[0m\n\u001b[0;32m   2422\u001b[0m   \u001b[1;33m@\u001b[0m\u001b[0mproperty\u001b[0m\u001b[1;33m\u001b[0m\u001b[1;33m\u001b[0m\u001b[0m\n",
      "\u001b[1;32mc:\\users\\franz cesista\\appdata\\local\\programs\\python\\python36\\lib\\site-packages\\tensorflow\\python\\eager\\function.py\u001b[0m in \u001b[0;36m_filtered_call\u001b[1;34m(self, args, kwargs)\u001b[0m\n\u001b[0;32m   1663\u001b[0m          if isinstance(t, (ops.Tensor,\n\u001b[0;32m   1664\u001b[0m                            resource_variable_ops.BaseResourceVariable))),\n\u001b[1;32m-> 1665\u001b[1;33m         self.captured_inputs)\n\u001b[0m\u001b[0;32m   1666\u001b[0m \u001b[1;33m\u001b[0m\u001b[0m\n\u001b[0;32m   1667\u001b[0m   \u001b[1;32mdef\u001b[0m \u001b[0m_call_flat\u001b[0m\u001b[1;33m(\u001b[0m\u001b[0mself\u001b[0m\u001b[1;33m,\u001b[0m \u001b[0margs\u001b[0m\u001b[1;33m,\u001b[0m \u001b[0mcaptured_inputs\u001b[0m\u001b[1;33m,\u001b[0m \u001b[0mcancellation_manager\u001b[0m\u001b[1;33m=\u001b[0m\u001b[1;32mNone\u001b[0m\u001b[1;33m)\u001b[0m\u001b[1;33m:\u001b[0m\u001b[1;33m\u001b[0m\u001b[1;33m\u001b[0m\u001b[0m\n",
      "\u001b[1;32mc:\\users\\franz cesista\\appdata\\local\\programs\\python\\python36\\lib\\site-packages\\tensorflow\\python\\eager\\function.py\u001b[0m in \u001b[0;36m_call_flat\u001b[1;34m(self, args, captured_inputs, cancellation_manager)\u001b[0m\n\u001b[0;32m   1744\u001b[0m       \u001b[1;31m# No tape is watching; skip to running the function.\u001b[0m\u001b[1;33m\u001b[0m\u001b[1;33m\u001b[0m\u001b[1;33m\u001b[0m\u001b[0m\n\u001b[0;32m   1745\u001b[0m       return self._build_call_outputs(self._inference_function.call(\n\u001b[1;32m-> 1746\u001b[1;33m           ctx, args, cancellation_manager=cancellation_manager))\n\u001b[0m\u001b[0;32m   1747\u001b[0m     forward_backward = self._select_forward_and_backward_functions(\n\u001b[0;32m   1748\u001b[0m         \u001b[0margs\u001b[0m\u001b[1;33m,\u001b[0m\u001b[1;33m\u001b[0m\u001b[1;33m\u001b[0m\u001b[0m\n",
      "\u001b[1;32mc:\\users\\franz cesista\\appdata\\local\\programs\\python\\python36\\lib\\site-packages\\tensorflow\\python\\eager\\function.py\u001b[0m in \u001b[0;36mcall\u001b[1;34m(self, ctx, args, cancellation_manager)\u001b[0m\n\u001b[0;32m    596\u001b[0m               \u001b[0minputs\u001b[0m\u001b[1;33m=\u001b[0m\u001b[0margs\u001b[0m\u001b[1;33m,\u001b[0m\u001b[1;33m\u001b[0m\u001b[1;33m\u001b[0m\u001b[0m\n\u001b[0;32m    597\u001b[0m               \u001b[0mattrs\u001b[0m\u001b[1;33m=\u001b[0m\u001b[0mattrs\u001b[0m\u001b[1;33m,\u001b[0m\u001b[1;33m\u001b[0m\u001b[1;33m\u001b[0m\u001b[0m\n\u001b[1;32m--> 598\u001b[1;33m               ctx=ctx)\n\u001b[0m\u001b[0;32m    599\u001b[0m         \u001b[1;32melse\u001b[0m\u001b[1;33m:\u001b[0m\u001b[1;33m\u001b[0m\u001b[1;33m\u001b[0m\u001b[0m\n\u001b[0;32m    600\u001b[0m           outputs = execute.execute_with_cancellation(\n",
      "\u001b[1;32mc:\\users\\franz cesista\\appdata\\local\\programs\\python\\python36\\lib\\site-packages\\tensorflow\\python\\eager\\execute.py\u001b[0m in \u001b[0;36mquick_execute\u001b[1;34m(op_name, num_outputs, inputs, attrs, ctx, name)\u001b[0m\n\u001b[0;32m     58\u001b[0m     \u001b[0mctx\u001b[0m\u001b[1;33m.\u001b[0m\u001b[0mensure_initialized\u001b[0m\u001b[1;33m(\u001b[0m\u001b[1;33m)\u001b[0m\u001b[1;33m\u001b[0m\u001b[1;33m\u001b[0m\u001b[0m\n\u001b[0;32m     59\u001b[0m     tensors = pywrap_tfe.TFE_Py_Execute(ctx._handle, device_name, op_name,\n\u001b[1;32m---> 60\u001b[1;33m                                         inputs, attrs, num_outputs)\n\u001b[0m\u001b[0;32m     61\u001b[0m   \u001b[1;32mexcept\u001b[0m \u001b[0mcore\u001b[0m\u001b[1;33m.\u001b[0m\u001b[0m_NotOkStatusException\u001b[0m \u001b[1;32mas\u001b[0m \u001b[0me\u001b[0m\u001b[1;33m:\u001b[0m\u001b[1;33m\u001b[0m\u001b[1;33m\u001b[0m\u001b[0m\n\u001b[0;32m     62\u001b[0m     \u001b[1;32mif\u001b[0m \u001b[0mname\u001b[0m \u001b[1;32mis\u001b[0m \u001b[1;32mnot\u001b[0m \u001b[1;32mNone\u001b[0m\u001b[1;33m:\u001b[0m\u001b[1;33m\u001b[0m\u001b[1;33m\u001b[0m\u001b[0m\n",
      "\u001b[1;31mKeyboardInterrupt\u001b[0m: "
     ]
    }
   ],
   "source": [
    "history = model.fit(train_generator,\n",
    "                    initial_epoch=74,\n",
    "                    epochs=100,\n",
    "                    steps_per_epoch=200,\n",
    "                    validation_steps=20,\n",
    "                    validation_data=val_generator,\n",
    "                    class_weight=class_weights,\n",
    "                    callbacks=[reduce_lr,\n",
    "                              early_stop, \n",
    "                              checkpoint, \n",
    "                              tensorboard_callback\n",
    "                              ]\n",
    "                   )"
   ]
  },
  {
   "cell_type": "code",
   "execution_count": 46,
   "metadata": {},
   "outputs": [],
   "source": [
    "model.save('model_5.h5')"
   ]
  },
  {
   "cell_type": "markdown",
   "metadata": {},
   "source": [
    "## Testing"
   ]
  },
  {
   "cell_type": "code",
   "execution_count": 8,
   "metadata": {},
   "outputs": [],
   "source": [
    "model = tfk.models.load_model('.model_files/saves/model_1.h5')"
   ]
  },
  {
   "cell_type": "code",
   "execution_count": 9,
   "metadata": {},
   "outputs": [
    {
     "data": {
      "text/html": [
       "<div>\n",
       "<style scoped>\n",
       "    .dataframe tbody tr th:only-of-type {\n",
       "        vertical-align: middle;\n",
       "    }\n",
       "\n",
       "    .dataframe tbody tr th {\n",
       "        vertical-align: top;\n",
       "    }\n",
       "\n",
       "    .dataframe thead th {\n",
       "        text-align: right;\n",
       "    }\n",
       "</style>\n",
       "<table border=\"1\" class=\"dataframe\">\n",
       "  <thead>\n",
       "    <tr style=\"text-align: right;\">\n",
       "      <th></th>\n",
       "      <th>filename</th>\n",
       "      <th>category</th>\n",
       "      <th>dir_filename</th>\n",
       "    </tr>\n",
       "  </thead>\n",
       "  <tbody>\n",
       "    <tr>\n",
       "      <th>30694</th>\n",
       "      <td>0000ffaa6ce77e3dde38bcefa039a4a4.jpg</td>\n",
       "      <td>16</td>\n",
       "      <td>16/0000ffaa6ce77e3dde38bcefa039a4a4.jpg</td>\n",
       "    </tr>\n",
       "    <tr>\n",
       "      <th>50947</th>\n",
       "      <td>00017f8bf9d8a34dab8f9707a378dbe5.jpg</td>\n",
       "      <td>38</td>\n",
       "      <td>38/00017f8bf9d8a34dab8f9707a378dbe5.jpg</td>\n",
       "    </tr>\n",
       "    <tr>\n",
       "      <th>31622</th>\n",
       "      <td>00022314f9c58eb20d248ed239db3a52.jpg</td>\n",
       "      <td>16</td>\n",
       "      <td>16/00022314f9c58eb20d248ed239db3a52.jpg</td>\n",
       "    </tr>\n",
       "    <tr>\n",
       "      <th>34234</th>\n",
       "      <td>0002d098348d8358c44032903e117ade.jpg</td>\n",
       "      <td>28</td>\n",
       "      <td>28/0002d098348d8358c44032903e117ade.jpg</td>\n",
       "    </tr>\n",
       "    <tr>\n",
       "      <th>12787</th>\n",
       "      <td>000367a6ec58e9d1e4bc340d8d871dab.jpg</td>\n",
       "      <td>34</td>\n",
       "      <td>34/000367a6ec58e9d1e4bc340d8d871dab.jpg</td>\n",
       "    </tr>\n",
       "  </tbody>\n",
       "</table>\n",
       "</div>"
      ],
      "text/plain": [
       "                                   filename category  \\\n",
       "30694  0000ffaa6ce77e3dde38bcefa039a4a4.jpg       16   \n",
       "50947  00017f8bf9d8a34dab8f9707a378dbe5.jpg       38   \n",
       "31622  00022314f9c58eb20d248ed239db3a52.jpg       16   \n",
       "34234  0002d098348d8358c44032903e117ade.jpg       28   \n",
       "12787  000367a6ec58e9d1e4bc340d8d871dab.jpg       34   \n",
       "\n",
       "                                  dir_filename  \n",
       "30694  16/0000ffaa6ce77e3dde38bcefa039a4a4.jpg  \n",
       "50947  38/00017f8bf9d8a34dab8f9707a378dbe5.jpg  \n",
       "31622  16/00022314f9c58eb20d248ed239db3a52.jpg  \n",
       "34234  28/0002d098348d8358c44032903e117ade.jpg  \n",
       "12787  34/000367a6ec58e9d1e4bc340d8d871dab.jpg  "
      ]
     },
     "execution_count": 9,
     "metadata": {},
     "output_type": "execute_result"
    }
   ],
   "source": [
    "pd_train_clean = pd.read_csv('shopee-product-detection-dataset/train.csv').sort_values(by=['filename'])\n",
    "pd_train_clean['dir_filename'] = pd_train_clean.apply(lambda x: '{:02d}/{}'.format(x.category, x.filename), axis=1)\n",
    "pd_train_clean['category'] = pd_train_clean['category'].apply(lambda x : '{:02d}'.format(x))\n",
    "pd_train_clean.head()"
   ]
  },
  {
   "cell_type": "code",
   "execution_count": 10,
   "metadata": {},
   "outputs": [
    {
     "name": "stdout",
     "output_type": "stream",
     "text": [
      "Found 105392 validated image filenames belonging to 42 classes.\n"
     ]
    }
   ],
   "source": [
    "clean_datagen = tfk_ImageDataGenerator(\n",
    "    preprocessing_function=tfk_preprocess_input,\n",
    ")\n",
    "\n",
    "clean_generator = clean_datagen.flow_from_dataframe(\n",
    "    pd_train_clean,\n",
    "    directory='shopee-product-detection-dataset/train/',\n",
    "    x_col='dir_filename',\n",
    "    y_col='category',\n",
    "    target_size=input_shape[:2],\n",
    "    color_mode='rgb',\n",
    "    batch_size=batch_size,\n",
    "    class_mode='categorical',\n",
    "    shuffle=True,\n",
    ")"
   ]
  },
  {
   "cell_type": "code",
   "execution_count": 11,
   "metadata": {},
   "outputs": [
    {
     "name": "stdout",
     "output_type": "stream",
     "text": [
      "WARNING:tensorflow:Model was constructed with shape (None, 299, 299, 3) for input Tensor(\"xception_input:0\", shape=(None, 299, 299, 3), dtype=float32), but it was called on an input with incompatible shape (32, 256, 256, 3).\n",
      "WARNING:tensorflow:Model was constructed with shape (None, 299, 299, 3) for input Tensor(\"input_1:0\", shape=(None, 299, 299, 3), dtype=float32), but it was called on an input with incompatible shape (32, 256, 256, 3).\n",
      "step: 10\n",
      "step: 20\n",
      "step: 30\n",
      "step: 40\n",
      "step: 50\n",
      "Wall time: 1min 52s\n"
     ]
    }
   ],
   "source": [
    "%%time\n",
    "y_pred = []\n",
    "y_true = []\n",
    "\n",
    "for i in range(50):\n",
    "    if (i+1) % 10 == 0:\n",
    "        print(\"step:\", i+1)\n",
    "    x, y = next(iter(val_generator))\n",
    "    y_true.extend(y)\n",
    "    y_pred.extend(model.predict(x))\n",
    "\n",
    "y_pred = np.array(y_pred)\n",
    "y_true = np.array(y_true)"
   ]
  },
  {
   "cell_type": "code",
   "execution_count": 12,
   "metadata": {},
   "outputs": [],
   "source": [
    "matrix = confusion_matrix(y_true.argmax(axis=1), y_pred.argmax(axis=1))"
   ]
  },
  {
   "cell_type": "code",
   "execution_count": 13,
   "metadata": {},
   "outputs": [
    {
     "data": {
      "image/png": "[encoded data removed]",
      "text/plain": [
       "<Figure size 1152x648 with 2 Axes>"
      ]
     },
     "metadata": {},
     "output_type": "display_data"
    }
   ],
   "source": [
    "plt.figure(figsize = (16,9))\n",
    "sns.heatmap(matrix, linecolor='grey', linewidth=0.1)\n",
    "plt.savefig('confusion_matrix.png', \n",
    "            #transparent=True,\n",
    "            bbox_inches='tight')"
   ]
  },
  {
   "cell_type": "code",
   "execution_count": 14,
   "metadata": {},
   "outputs": [],
   "source": [
    "def label_smoother(x, factor=0.1):\n",
    "    xx = x.copy()\n",
    "    xx[x == 1] = 1 - factor\n",
    "    xx[x == 0] = factor / (y_true.shape[1] - 1)\n",
    "    return xx"
   ]
  },
  {
   "cell_type": "code",
   "execution_count": 15,
   "metadata": {},
   "outputs": [
    {
     "name": "stdout",
     "output_type": "stream",
     "text": [
      "Loss: 5.8365355\n",
      "Accuracy: 0.03046875\n"
     ]
    }
   ],
   "source": [
    "loss     = tfk.losses.categorical_crossentropy(y_pred, label_smoother(y_true)).numpy().mean()\n",
    "accuracy = accuracy_score(y_pred.argmax(axis=1), y_true.argmax(axis=1))\n",
    "\n",
    "print(\"Loss:\", loss)\n",
    "print(\"Accuracy:\", accuracy)"
   ]
  },
  {
   "cell_type": "markdown",
   "metadata": {},
   "source": [
    "## Data Cleaning"
   ]
  },
  {
   "cell_type": "code",
   "execution_count": 10,
   "metadata": {},
   "outputs": [
    {
     "data": {
      "text/html": [
       "<div>\n",
       "<style scoped>\n",
       "    .dataframe tbody tr th:only-of-type {\n",
       "        vertical-align: middle;\n",
       "    }\n",
       "\n",
       "    .dataframe tbody tr th {\n",
       "        vertical-align: top;\n",
       "    }\n",
       "\n",
       "    .dataframe thead th {\n",
       "        text-align: right;\n",
       "    }\n",
       "</style>\n",
       "<table border=\"1\" class=\"dataframe\">\n",
       "  <thead>\n",
       "    <tr style=\"text-align: right;\">\n",
       "      <th></th>\n",
       "      <th>filename</th>\n",
       "      <th>category</th>\n",
       "    </tr>\n",
       "  </thead>\n",
       "  <tbody>\n",
       "    <tr>\n",
       "      <th>30694</th>\n",
       "      <td>0000ffaa6ce77e3dde38bcefa039a4a4.jpg</td>\n",
       "      <td>16</td>\n",
       "    </tr>\n",
       "    <tr>\n",
       "      <th>50947</th>\n",
       "      <td>00017f8bf9d8a34dab8f9707a378dbe5.jpg</td>\n",
       "      <td>38</td>\n",
       "    </tr>\n",
       "    <tr>\n",
       "      <th>31622</th>\n",
       "      <td>00022314f9c58eb20d248ed239db3a52.jpg</td>\n",
       "      <td>16</td>\n",
       "    </tr>\n",
       "    <tr>\n",
       "      <th>34234</th>\n",
       "      <td>0002d098348d8358c44032903e117ade.jpg</td>\n",
       "      <td>28</td>\n",
       "    </tr>\n",
       "    <tr>\n",
       "      <th>12787</th>\n",
       "      <td>000367a6ec58e9d1e4bc340d8d871dab.jpg</td>\n",
       "      <td>34</td>\n",
       "    </tr>\n",
       "  </tbody>\n",
       "</table>\n",
       "</div>"
      ],
      "text/plain": [
       "                                   filename  category\n",
       "30694  0000ffaa6ce77e3dde38bcefa039a4a4.jpg        16\n",
       "50947  00017f8bf9d8a34dab8f9707a378dbe5.jpg        38\n",
       "31622  00022314f9c58eb20d248ed239db3a52.jpg        16\n",
       "34234  0002d098348d8358c44032903e117ade.jpg        28\n",
       "12787  000367a6ec58e9d1e4bc340d8d871dab.jpg        34"
      ]
     },
     "execution_count": 10,
     "metadata": {},
     "output_type": "execute_result"
    }
   ],
   "source": [
    "pd_train.head()"
   ]
  },
  {
   "cell_type": "code",
   "execution_count": 11,
   "metadata": {},
   "outputs": [],
   "source": [
    "def calc_category_losses(category_i):\n",
    "    pd_cat_i = pd_train[pd_train['category'] == category_i]\n",
    "    pd_cat_i = pd_cat_i.sort_values(by=['filename'])\n",
    "    \n",
    "    cat_i_datagen = tfk_ImageDataGenerator(\n",
    "        preprocessing_function=tfk_preprocess_input\n",
    "    )\n",
    "\n",
    "    cat_i_generator = cat_i_datagen.flow_from_dataframe(\n",
    "        pd_cat_i,\n",
    "        directory='shopee-product-detection-dataset/train/{:02d}'.format(category_i),\n",
    "        x_col='filename',\n",
    "        y_col='category',\n",
    "        target_size=input_shape[:2],\n",
    "        color_mode='rgb',\n",
    "        batch_size=batch_size,\n",
    "        class_mode='raw',\n",
    "        shuffle=False,\n",
    "    )\n",
    "    \n",
    "    y_pred_i = model.predict(cat_i_generator, verbose=1, steps=len(cat_i_generator.labels)//batch_size+1)\n",
    "    y_pred_i = y_pred_i[:len(cat_i_generator.labels)]\n",
    "    \n",
    "    y_true_i = np.full((len(cat_i_generator.labels), 42), 0.1/41, dtype='float')\n",
    "    y_true_i[:,category_i] = 0.9\n",
    "    \n",
    "    cce = tfk.losses.CategoricalCrossentropy(reduction=tfk.losses.Reduction.NONE)\n",
    "    losses = cce(y_pred_i, y_true_i).numpy()\n",
    "    return pd_cat_i, y_pred_i, losses"
   ]
  },
  {
   "cell_type": "code",
   "execution_count": null,
   "metadata": {},
   "outputs": [],
   "source": [
    "pd_train_losses = []\n",
    "for i in range(42):\n",
    "    pd_cat_i, y_pred_i, losses = calc_category_losses(i)\n",
    "    pd_cat_i['predicted_category'] = y_pred_i.argmax(axis=1)\n",
    "    pd_cat_i['loss'] = losses\n",
    "    pd_train_losses.append(pd_cat_i)\n",
    "pd_train_losses = pd.concat(pd_train_losses, ignore_index=True)"
   ]
  },
  {
   "cell_type": "code",
   "execution_count": 82,
   "metadata": {},
   "outputs": [
    {
     "data": {
      "text/html": [
       "<div>\n",
       "<style scoped>\n",
       "    .dataframe tbody tr th:only-of-type {\n",
       "        vertical-align: middle;\n",
       "    }\n",
       "\n",
       "    .dataframe tbody tr th {\n",
       "        vertical-align: top;\n",
       "    }\n",
       "\n",
       "    .dataframe thead th {\n",
       "        text-align: right;\n",
       "    }\n",
       "</style>\n",
       "<table border=\"1\" class=\"dataframe\">\n",
       "  <thead>\n",
       "    <tr style=\"text-align: right;\">\n",
       "      <th></th>\n",
       "      <th>filename</th>\n",
       "      <th>category</th>\n",
       "      <th>predicted_category</th>\n",
       "      <th>loss</th>\n",
       "      <th>cum_mistakes</th>\n",
       "      <th>mistake</th>\n",
       "    </tr>\n",
       "  </thead>\n",
       "  <tbody>\n",
       "    <tr>\n",
       "      <th>0</th>\n",
       "      <td>16f9a736b9bbccc55447ee55019c5912.jpg</td>\n",
       "      <td>12</td>\n",
       "      <td>26</td>\n",
       "      <td>6.015628</td>\n",
       "      <td>1</td>\n",
       "      <td>1</td>\n",
       "    </tr>\n",
       "    <tr>\n",
       "      <th>1</th>\n",
       "      <td>a26df05f3d18d5dbb4027707d3a81168.jpg</td>\n",
       "      <td>4</td>\n",
       "      <td>29</td>\n",
       "      <td>6.014174</td>\n",
       "      <td>2</td>\n",
       "      <td>1</td>\n",
       "    </tr>\n",
       "    <tr>\n",
       "      <th>2</th>\n",
       "      <td>75f6d645f06733d735d642446c135076.jpg</td>\n",
       "      <td>0</td>\n",
       "      <td>4</td>\n",
       "      <td>6.013391</td>\n",
       "      <td>3</td>\n",
       "      <td>1</td>\n",
       "    </tr>\n",
       "    <tr>\n",
       "      <th>3</th>\n",
       "      <td>0d6481d48dfa9689ef6aa020cd9e5b94.jpg</td>\n",
       "      <td>29</td>\n",
       "      <td>4</td>\n",
       "      <td>6.013052</td>\n",
       "      <td>4</td>\n",
       "      <td>1</td>\n",
       "    </tr>\n",
       "    <tr>\n",
       "      <th>4</th>\n",
       "      <td>011ef33346d01259f627b44bc5060584.jpg</td>\n",
       "      <td>41</td>\n",
       "      <td>22</td>\n",
       "      <td>6.012937</td>\n",
       "      <td>5</td>\n",
       "      <td>1</td>\n",
       "    </tr>\n",
       "  </tbody>\n",
       "</table>\n",
       "</div>"
      ],
      "text/plain": [
       "                               filename  category  predicted_category  \\\n",
       "0  16f9a736b9bbccc55447ee55019c5912.jpg        12                  26   \n",
       "1  a26df05f3d18d5dbb4027707d3a81168.jpg         4                  29   \n",
       "2  75f6d645f06733d735d642446c135076.jpg         0                   4   \n",
       "3  0d6481d48dfa9689ef6aa020cd9e5b94.jpg        29                   4   \n",
       "4  011ef33346d01259f627b44bc5060584.jpg        41                  22   \n",
       "\n",
       "       loss  cum_mistakes  mistake  \n",
       "0  6.015628             1        1  \n",
       "1  6.014174             2        1  \n",
       "2  6.013391             3        1  \n",
       "3  6.013052             4        1  \n",
       "4  6.012937             5        1  "
      ]
     },
     "execution_count": 82,
     "metadata": {},
     "output_type": "execute_result"
    }
   ],
   "source": [
    "pd_train_losses = pd_train_losses.sort_values(by=['loss'], ascending=False)\n",
    "pd_train_losses = pd_train_losses.reset_index().drop('index', axis=1)\n",
    "pd_train_losses['mistake'] = 1*(pd_train_losses['category'] != pd_train_losses['predicted_category'])\n",
    "pd_train_losses['cum_mistakes'] = pd_train_losses['mistake'].cumsum()\n",
    "pd_train_losses.head()"
   ]
  },
  {
   "cell_type": "code",
   "execution_count": 88,
   "metadata": {},
   "outputs": [
    {
     "data": {
      "image/png": "[encoded data removed]",
      "text/plain": [
       "<Figure size 432x288 with 1 Axes>"
      ]
     },
     "metadata": {},
     "output_type": "display_data"
    }
   ],
   "source": [
    "plt.hist(pd_train_losses[pd_train_losses['mistake'] == 1].index);"
   ]
  },
  {
   "cell_type": "code",
   "execution_count": 131,
   "metadata": {},
   "outputs": [],
   "source": [
    "num_mistakes   = pd_train_losses['cum_mistakes'].max()\n",
    "mistakes_ratio = 1.0"
   ]
  },
  {
   "cell_type": "code",
   "execution_count": 132,
   "metadata": {},
   "outputs": [
    {
     "data": {
      "text/html": [
       "<div>\n",
       "<style scoped>\n",
       "    .dataframe tbody tr th:only-of-type {\n",
       "        vertical-align: middle;\n",
       "    }\n",
       "\n",
       "    .dataframe tbody tr th {\n",
       "        vertical-align: top;\n",
       "    }\n",
       "\n",
       "    .dataframe thead th {\n",
       "        text-align: right;\n",
       "    }\n",
       "</style>\n",
       "<table border=\"1\" class=\"dataframe\">\n",
       "  <thead>\n",
       "    <tr style=\"text-align: right;\">\n",
       "      <th></th>\n",
       "      <th>filename</th>\n",
       "      <th>category</th>\n",
       "      <th>predicted_category</th>\n",
       "      <th>loss</th>\n",
       "    </tr>\n",
       "  </thead>\n",
       "  <tbody>\n",
       "    <tr>\n",
       "      <th>23867</th>\n",
       "      <td>2b4e38b1276d74ec78ed07e48f43b0a0.jpg</td>\n",
       "      <td>38</td>\n",
       "      <td>38</td>\n",
       "      <td>3.188401</td>\n",
       "    </tr>\n",
       "    <tr>\n",
       "      <th>23868</th>\n",
       "      <td>03a368b5e2a9520cb13547f888544190.jpg</td>\n",
       "      <td>1</td>\n",
       "      <td>1</td>\n",
       "      <td>3.188327</td>\n",
       "    </tr>\n",
       "    <tr>\n",
       "      <th>23869</th>\n",
       "      <td>1ef0c3aea58a39299b999c7a3193bd3c.jpg</td>\n",
       "      <td>1</td>\n",
       "      <td>1</td>\n",
       "      <td>3.187934</td>\n",
       "    </tr>\n",
       "    <tr>\n",
       "      <th>23870</th>\n",
       "      <td>fa84c252694018edd44d751d1c5e649f.jpg</td>\n",
       "      <td>11</td>\n",
       "      <td>11</td>\n",
       "      <td>3.187856</td>\n",
       "    </tr>\n",
       "    <tr>\n",
       "      <th>23871</th>\n",
       "      <td>ca3f914c7a019fc0477426c4d8b3e351.jpg</td>\n",
       "      <td>24</td>\n",
       "      <td>24</td>\n",
       "      <td>3.187367</td>\n",
       "    </tr>\n",
       "    <tr>\n",
       "      <th>23872</th>\n",
       "      <td>d4672a0e7a79d464a7c90fa2218a1132.jpg</td>\n",
       "      <td>9</td>\n",
       "      <td>9</td>\n",
       "      <td>3.187084</td>\n",
       "    </tr>\n",
       "    <tr>\n",
       "      <th>23873</th>\n",
       "      <td>92ae03813b87210e4ae49c0099cfb4da.jpg</td>\n",
       "      <td>10</td>\n",
       "      <td>10</td>\n",
       "      <td>3.187005</td>\n",
       "    </tr>\n",
       "    <tr>\n",
       "      <th>23874</th>\n",
       "      <td>0e9f5bf576df19b3df5e361cf9462a1c.jpg</td>\n",
       "      <td>41</td>\n",
       "      <td>41</td>\n",
       "      <td>3.186953</td>\n",
       "    </tr>\n",
       "    <tr>\n",
       "      <th>23875</th>\n",
       "      <td>b86235e5f4a6a60211ffb6672ac326d4.jpg</td>\n",
       "      <td>8</td>\n",
       "      <td>8</td>\n",
       "      <td>3.186615</td>\n",
       "    </tr>\n",
       "    <tr>\n",
       "      <th>23876</th>\n",
       "      <td>97b79043fbeedacb40b4e2aef3f70e1b.jpg</td>\n",
       "      <td>35</td>\n",
       "      <td>35</td>\n",
       "      <td>3.186590</td>\n",
       "    </tr>\n",
       "  </tbody>\n",
       "</table>\n",
       "</div>"
      ],
      "text/plain": [
       "                                   filename  category  predicted_category  \\\n",
       "23867  2b4e38b1276d74ec78ed07e48f43b0a0.jpg        38                  38   \n",
       "23868  03a368b5e2a9520cb13547f888544190.jpg         1                   1   \n",
       "23869  1ef0c3aea58a39299b999c7a3193bd3c.jpg         1                   1   \n",
       "23870  fa84c252694018edd44d751d1c5e649f.jpg        11                  11   \n",
       "23871  ca3f914c7a019fc0477426c4d8b3e351.jpg        24                  24   \n",
       "23872  d4672a0e7a79d464a7c90fa2218a1132.jpg         9                   9   \n",
       "23873  92ae03813b87210e4ae49c0099cfb4da.jpg        10                  10   \n",
       "23874  0e9f5bf576df19b3df5e361cf9462a1c.jpg        41                  41   \n",
       "23875  b86235e5f4a6a60211ffb6672ac326d4.jpg         8                   8   \n",
       "23876  97b79043fbeedacb40b4e2aef3f70e1b.jpg        35                  35   \n",
       "\n",
       "           loss  \n",
       "23867  3.188401  \n",
       "23868  3.188327  \n",
       "23869  3.187934  \n",
       "23870  3.187856  \n",
       "23871  3.187367  \n",
       "23872  3.187084  \n",
       "23873  3.187005  \n",
       "23874  3.186953  \n",
       "23875  3.186615  \n",
       "23876  3.186590  "
      ]
     },
     "execution_count": 132,
     "metadata": {},
     "output_type": "execute_result"
    }
   ],
   "source": [
    "pd_confusing_images = pd_train_losses[pd_train_losses['cum_mistakes'] <= num_mistakes*mistakes_ratio-EPS]\n",
    "pd_confusing_images = pd_confusing_images.drop(['cum_mistakes', 'mistake'], axis=1)\n",
    "pd_confusing_images.tail(10)"
   ]
  },
  {
   "cell_type": "code",
   "execution_count": 133,
   "metadata": {},
   "outputs": [
    {
     "data": {
      "text/plain": [
       "0.22655419766206164"
      ]
     },
     "execution_count": 133,
     "metadata": {},
     "output_type": "execute_result"
    }
   ],
   "source": [
    "len(pd_confusing_images) / len(pd_train)"
   ]
  },
  {
   "cell_type": "code",
   "execution_count": 134,
   "metadata": {},
   "outputs": [],
   "source": [
    "pd_confusing_images.to_csv('shopee-product-detection-dataset/confusing_images_2__mistake_ratio={}.csv'.format(mistakes_ratio), index=False)"
   ]
  },
  {
   "cell_type": "code",
   "execution_count": 135,
   "metadata": {},
   "outputs": [
    {
     "data": {
      "image/png": "[encoded data removed]",
      "text/plain": [
       "<Figure size 1152x648 with 1 Axes>"
      ]
     },
     "metadata": {},
     "output_type": "display_data"
    }
   ],
   "source": [
    "plt.figure(figsize=(16, 9))\n",
    "plt.title(\"Number of Confusing Images per Class\", fontsize=20)\n",
    "plt.hist(pd_train['category'], bins=np.arange(43)-0.5, label='Overall')\n",
    "plt.hist(pd_confusing_images['category'], bins=np.arange(43)-0.5, label='Confusing')\n",
    "plt.xlabel('Class', fontsize=16)\n",
    "plt.ylabel('Freq', fontsize=16)\n",
    "plt.legend(fontsize=16)\n",
    "plt.savefig('confusion_hist____mistake_ratio={}.png'.format(mistakes_ratio), \n",
    "            #transparent=True,\n",
    "            bbox_inches='tight')\n",
    "plt.show()"
   ]
  },
  {
   "cell_type": "code",
   "execution_count": 140,
   "metadata": {},
   "outputs": [
    {
     "data": {
      "text/plain": [
       "(0.15394906634279643, 0.015394906634279643, 0.007697453317139821)"
      ]
     },
     "execution_count": 140,
     "metadata": {},
     "output_type": "execute_result"
    }
   ],
   "source": [
    "num_mistakes/len(pd_train), num_mistakes*0.1/len(pd_train), num_mistakes*0.05/len(pd_train)"
   ]
  },
  {
   "cell_type": "code",
   "execution_count": 90,
   "metadata": {},
   "outputs": [],
   "source": [
    "# def find_confusing_images(LOSS_LIMIT=9):\n",
    "#     confusing_images = []\n",
    "#     for i in range(42):\n",
    "#         pd_cat_i, y_pred_i, losses = calc_category_losses(i)\n",
    "#         pd_cat_i['predicted_category'] = y_pred_i.argmax(axis=1)\n",
    "#         pd_cat_i['loss'] = losses\n",
    "#         \n",
    "#         pd_weird_i = pd_cat_i[pd_cat_i['loss'] > LOSS_LIMIT].copy().sort_values(by=['loss'], ascending=False)\n",
    "#         confusing_images.append(pd_weird_i)\n",
    "#     return pd.concat(confusing_images, ignore_index=True)"
   ]
  },
  {
   "cell_type": "code",
   "execution_count": 91,
   "metadata": {},
   "outputs": [],
   "source": [
    "# pd_confusing_images = find_confusing_images(LOSS_LIMIT=9)"
   ]
  },
  {
   "cell_type": "code",
   "execution_count": 95,
   "metadata": {},
   "outputs": [],
   "source": [
    "# n = len(pd_confusing_images)\n",
    "# print(n)\n",
    "# \n",
    "# pd_confusing_images_raprap = pd_confusing_images.iloc[:n//3].copy()\n",
    "# pd_confusing_images_ralph  = pd_confusing_images.iloc[n//3:2*(n//3)].copy()\n",
    "# pd_confusing_images_franz  = pd_confusing_images.iloc[2*(n//3):].copy()\n",
    "# \n",
    "# pd_confusing_images_raprap['correct_category'] = -1\n",
    "# pd_confusing_images_ralph['correct_category']  = -1\n",
    "# pd_confusing_images_franz['correct_category']  = -1"
   ]
  },
  {
   "cell_type": "code",
   "execution_count": 96,
   "metadata": {},
   "outputs": [],
   "source": [
    "# pd_confusing_images_raprap.to_csv('shopee-product-detection-dataset/confusing_images__raprap.csv', index=False)\n",
    "# pd_confusing_images_ralph.to_csv('shopee-product-detection-dataset/confusing_images__ralph.csv',   index=False)\n",
    "# pd_confusing_images_franz.to_csv('shopee-product-detection-dataset/confusing_images__franz.csv',   index=False)"
   ]
  },
  {
   "cell_type": "code",
   "execution_count": 97,
   "metadata": {},
   "outputs": [],
   "source": [
    "# pd_confusing_images_franz.tail(20)"
   ]
  },
  {
   "cell_type": "markdown",
   "metadata": {},
   "source": [
    "## Generate Submission"
   ]
  },
  {
   "cell_type": "code",
   "execution_count": 141,
   "metadata": {},
   "outputs": [
    {
     "data": {
      "text/html": [
       "<div>\n",
       "<style scoped>\n",
       "    .dataframe tbody tr th:only-of-type {\n",
       "        vertical-align: middle;\n",
       "    }\n",
       "\n",
       "    .dataframe tbody tr th {\n",
       "        vertical-align: top;\n",
       "    }\n",
       "\n",
       "    .dataframe thead th {\n",
       "        text-align: right;\n",
       "    }\n",
       "</style>\n",
       "<table border=\"1\" class=\"dataframe\">\n",
       "  <thead>\n",
       "    <tr style=\"text-align: right;\">\n",
       "      <th></th>\n",
       "      <th>filename</th>\n",
       "      <th>category</th>\n",
       "    </tr>\n",
       "  </thead>\n",
       "  <tbody>\n",
       "    <tr>\n",
       "      <th>485</th>\n",
       "      <td>0004b03ad7eabfb3989727c461310a84.jpg</td>\n",
       "      <td>43</td>\n",
       "    </tr>\n",
       "    <tr>\n",
       "      <th>6397</th>\n",
       "      <td>0004d34271d0a0253f8a95d0746bae05.jpg</td>\n",
       "      <td>43</td>\n",
       "    </tr>\n",
       "    <tr>\n",
       "      <th>2181</th>\n",
       "      <td>000d4ad3d0a372fd6eea2fee6bf738ef.jpg</td>\n",
       "      <td>43</td>\n",
       "    </tr>\n",
       "    <tr>\n",
       "      <th>2626</th>\n",
       "      <td>0012f125ad07123e69468ae1d1d59de4.jpg</td>\n",
       "      <td>43</td>\n",
       "    </tr>\n",
       "    <tr>\n",
       "      <th>2433</th>\n",
       "      <td>0015831b249b856e569e883a9dc6d4fa.jpg</td>\n",
       "      <td>43</td>\n",
       "    </tr>\n",
       "  </tbody>\n",
       "</table>\n",
       "</div>"
      ],
      "text/plain": [
       "                                  filename  category\n",
       "485   0004b03ad7eabfb3989727c461310a84.jpg        43\n",
       "6397  0004d34271d0a0253f8a95d0746bae05.jpg        43\n",
       "2181  000d4ad3d0a372fd6eea2fee6bf738ef.jpg        43\n",
       "2626  0012f125ad07123e69468ae1d1d59de4.jpg        43\n",
       "2433  0015831b249b856e569e883a9dc6d4fa.jpg        43"
      ]
     },
     "execution_count": 141,
     "metadata": {},
     "output_type": "execute_result"
    }
   ],
   "source": [
    "pd_test = pd.read_csv('shopee-product-detection-dataset/test.csv').sort_values(by=['filename'])\n",
    "pd_test.head()"
   ]
  },
  {
   "cell_type": "code",
   "execution_count": 142,
   "metadata": {},
   "outputs": [
    {
     "name": "stdout",
     "output_type": "stream",
     "text": [
      "Found 12186 validated image filenames.\n"
     ]
    }
   ],
   "source": [
    "test_datagen = tfk_ImageDataGenerator(\n",
    "    preprocessing_function=tfk_preprocess_input\n",
    ")\n",
    "\n",
    "test_generator = test_datagen.flow_from_dataframe(\n",
    "    pd_test,\n",
    "    directory='shopee-product-detection-dataset/test/',\n",
    "    x_col='filename',\n",
    "    target_size=input_shape[:2],\n",
    "    color_mode='rgb',\n",
    "    batch_size=batch_size,\n",
    "    class_mode=None,\n",
    "    shuffle=False,\n",
    ")"
   ]
  },
  {
   "cell_type": "code",
   "execution_count": 143,
   "metadata": {},
   "outputs": [
    {
     "name": "stdout",
     "output_type": "stream",
     "text": [
      "96/96 [==============================] - 144s 2s/step\n"
     ]
    }
   ],
   "source": [
    "y_pred = model.predict(test_generator, verbose=1, steps=test_generator.n//batch_size+1)\n",
    "y_pred = y_pred[:test_generator.n]"
   ]
  },
  {
   "cell_type": "code",
   "execution_count": 146,
   "metadata": {},
   "outputs": [
    {
     "data": {
      "text/html": [
       "<div>\n",
       "<style scoped>\n",
       "    .dataframe tbody tr th:only-of-type {\n",
       "        vertical-align: middle;\n",
       "    }\n",
       "\n",
       "    .dataframe tbody tr th {\n",
       "        vertical-align: top;\n",
       "    }\n",
       "\n",
       "    .dataframe thead th {\n",
       "        text-align: right;\n",
       "    }\n",
       "</style>\n",
       "<table border=\"1\" class=\"dataframe\">\n",
       "  <thead>\n",
       "    <tr style=\"text-align: right;\">\n",
       "      <th></th>\n",
       "      <th>filename</th>\n",
       "      <th>category</th>\n",
       "    </tr>\n",
       "  </thead>\n",
       "  <tbody>\n",
       "    <tr>\n",
       "      <th>485</th>\n",
       "      <td>0004b03ad7eabfb3989727c461310a84.jpg</td>\n",
       "      <td>12</td>\n",
       "    </tr>\n",
       "    <tr>\n",
       "      <th>6397</th>\n",
       "      <td>0004d34271d0a0253f8a95d0746bae05.jpg</td>\n",
       "      <td>16</td>\n",
       "    </tr>\n",
       "    <tr>\n",
       "      <th>2181</th>\n",
       "      <td>000d4ad3d0a372fd6eea2fee6bf738ef.jpg</td>\n",
       "      <td>40</td>\n",
       "    </tr>\n",
       "    <tr>\n",
       "      <th>2626</th>\n",
       "      <td>0012f125ad07123e69468ae1d1d59de4.jpg</td>\n",
       "      <td>22</td>\n",
       "    </tr>\n",
       "    <tr>\n",
       "      <th>2433</th>\n",
       "      <td>0015831b249b856e569e883a9dc6d4fa.jpg</td>\n",
       "      <td>12</td>\n",
       "    </tr>\n",
       "  </tbody>\n",
       "</table>\n",
       "</div>"
      ],
      "text/plain": [
       "                                  filename  category\n",
       "485   0004b03ad7eabfb3989727c461310a84.jpg        12\n",
       "6397  0004d34271d0a0253f8a95d0746bae05.jpg        16\n",
       "2181  000d4ad3d0a372fd6eea2fee6bf738ef.jpg        40\n",
       "2626  0012f125ad07123e69468ae1d1d59de4.jpg        22\n",
       "2433  0015831b249b856e569e883a9dc6d4fa.jpg        12"
      ]
     },
     "execution_count": 146,
     "metadata": {},
     "output_type": "execute_result"
    }
   ],
   "source": [
    "pd_submission = pd_test.copy()\n",
    "pd_submission['category'] = y_pred.argmax(axis=1)\n",
    "pd_submission.head()"
   ]
  },
  {
   "cell_type": "code",
   "execution_count": 147,
   "metadata": {},
   "outputs": [],
   "source": [
    "pd_submission.to_csv('submission_1.csv', index=False)"
   ]
  },
  {
   "cell_type": "code",
   "execution_count": null,
   "metadata": {},
   "outputs": [],
   "source": []
  }
 ],
 "metadata": {
  "kernelspec": {
   "display_name": "Python 3",
   "language": "python",
   "name": "python3"
  },
  "language_info": {
   "codemirror_mode": {
    "name": "ipython",
    "version": 3
   },
   "file_extension": ".py",
   "mimetype": "text/x-python",
   "name": "python",
   "nbconvert_exporter": "python",
   "pygments_lexer": "ipython3",
   "version": "3.6.8"
  }
 },
 "nbformat": 4,
 "nbformat_minor": 4
}
