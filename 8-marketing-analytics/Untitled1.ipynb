{
 "cells": [
  {
   "cell_type": "code",
   "execution_count": 141,
   "metadata": {},
   "outputs": [],
   "source": [
    "!pip install -q translators sacrebleu"
   ]
  },
  {
   "cell_type": "code",
   "execution_count": 142,
   "metadata": {},
   "outputs": [],
   "source": [
    "import pandas as pd\n",
    "import translators as ts\n",
    "import sacrebleu"
   ]
  },
  {
   "cell_type": "code",
   "execution_count": 23,
   "metadata": {},
   "outputs": [],
   "source": [
    "df_dev_tcn = pd.read_csv('../4-title-translation/product-translation-dataset/dev_tcn.csv')\n",
    "df_dev_en = pd.read_csv('../4-title-translation/product-translation-dataset/dev_en.csv')"
   ]
  },
  {
   "cell_type": "code",
   "execution_count": 29,
   "metadata": {},
   "outputs": [
    {
     "data": {
      "text/html": [
       "<div>\n",
       "<style scoped>\n",
       "    .dataframe tbody tr th:only-of-type {\n",
       "        vertical-align: middle;\n",
       "    }\n",
       "\n",
       "    .dataframe tbody tr th {\n",
       "        vertical-align: top;\n",
       "    }\n",
       "\n",
       "    .dataframe thead th {\n",
       "        text-align: right;\n",
       "    }\n",
       "</style>\n",
       "<table border=\"1\" class=\"dataframe\">\n",
       "  <thead>\n",
       "    <tr style=\"text-align: right;\">\n",
       "      <th></th>\n",
       "      <th>text</th>\n",
       "      <th>split</th>\n",
       "    </tr>\n",
       "  </thead>\n",
       "  <tbody>\n",
       "    <tr>\n",
       "      <th>995</th>\n",
       "      <td>【HippoRed】撕破乐趣★独特风格★中直筒牛仔裤 O591_445</td>\n",
       "      <td>private</td>\n",
       "    </tr>\n",
       "    <tr>\n",
       "      <th>996</th>\n",
       "      <td>兒童套裝 台灣製薄長袖居家套裝 魔法Baby~k60092</td>\n",
       "      <td>private</td>\n",
       "    </tr>\n",
       "    <tr>\n",
       "      <th>997</th>\n",
       "      <td>LONGCHAMP Le Pliage Neo高密尼龍後背包(中型)</td>\n",
       "      <td>private</td>\n",
       "    </tr>\n",
       "    <tr>\n",
       "      <th>998</th>\n",
       "      <td>iFairies 開口可調節戒指★ifairies【56472】【56472】</td>\n",
       "      <td>private</td>\n",
       "    </tr>\n",
       "    <tr>\n",
       "      <th>999</th>\n",
       "      <td>PolarStar 女 排汗快干T恤『黑』P18102</td>\n",
       "      <td>private</td>\n",
       "    </tr>\n",
       "  </tbody>\n",
       "</table>\n",
       "</div>"
      ],
      "text/plain": [
       "                                        text    split\n",
       "995      【HippoRed】撕破乐趣★独特风格★中直筒牛仔裤 O591_445  private\n",
       "996            兒童套裝 台灣製薄長袖居家套裝 魔法Baby~k60092  private\n",
       "997       LONGCHAMP Le Pliage Neo高密尼龍後背包(中型)  private\n",
       "998  iFairies 開口可調節戒指★ifairies【56472】【56472】  private\n",
       "999              PolarStar 女 排汗快干T恤『黑』P18102  private"
      ]
     },
     "execution_count": 29,
     "metadata": {},
     "output_type": "execute_result"
    }
   ],
   "source": [
    "df_dev_tcn.tail()"
   ]
  },
  {
   "cell_type": "code",
   "execution_count": 144,
   "metadata": {},
   "outputs": [
    {
     "data": {
      "text/html": [
       "<div>\n",
       "<style scoped>\n",
       "    .dataframe tbody tr th:only-of-type {\n",
       "        vertical-align: middle;\n",
       "    }\n",
       "\n",
       "    .dataframe tbody tr th {\n",
       "        vertical-align: top;\n",
       "    }\n",
       "\n",
       "    .dataframe thead th {\n",
       "        text-align: right;\n",
       "    }\n",
       "</style>\n",
       "<table border=\"1\" class=\"dataframe\">\n",
       "  <thead>\n",
       "    <tr style=\"text-align: right;\">\n",
       "      <th></th>\n",
       "      <th>translation_output</th>\n",
       "    </tr>\n",
       "  </thead>\n",
       "  <tbody>\n",
       "    <tr>\n",
       "      <th>995</th>\n",
       "      <td>Hippored Torn Fun Unique Style Straight Jeans ...</td>\n",
       "    </tr>\n",
       "    <tr>\n",
       "      <th>996</th>\n",
       "      <td>Kids Set Table Bay - Thin Long Sleeve Home Sui...</td>\n",
       "    </tr>\n",
       "    <tr>\n",
       "      <th>997</th>\n",
       "      <td>LONGCHAMP Le Pliage Neo High Density Nylon Bac...</td>\n",
       "    </tr>\n",
       "    <tr>\n",
       "      <th>998</th>\n",
       "      <td>IFairies Opening Adjustable Ring ifairies [564...</td>\n",
       "    </tr>\n",
       "    <tr>\n",
       "      <th>999</th>\n",
       "      <td>PolarStar Women Sweat Quick Dry T-shirt Black ...</td>\n",
       "    </tr>\n",
       "  </tbody>\n",
       "</table>\n",
       "</div>"
      ],
      "text/plain": [
       "                                    translation_output\n",
       "995  Hippored Torn Fun Unique Style Straight Jeans ...\n",
       "996  Kids Set Table Bay - Thin Long Sleeve Home Sui...\n",
       "997  LONGCHAMP Le Pliage Neo High Density Nylon Bac...\n",
       "998  IFairies Opening Adjustable Ring ifairies [564...\n",
       "999  PolarStar Women Sweat Quick Dry T-shirt Black ..."
      ]
     },
     "execution_count": 144,
     "metadata": {},
     "output_type": "execute_result"
    }
   ],
   "source": [
    "df_dev_en.tail()"
   ]
  },
  {
   "cell_type": "code",
   "execution_count": 118,
   "metadata": {},
   "outputs": [],
   "source": [
    "df_dev_tcn['text_clean'] = df_dev_tcn['text'].apply(lambda x : x.replace('.', ' '))"
   ]
  },
  {
   "cell_type": "code",
   "execution_count": 119,
   "metadata": {},
   "outputs": [],
   "source": [
    "prep = '. '.join(df_dev_tcn['text_clean'])"
   ]
  },
  {
   "cell_type": "code",
   "execution_count": 120,
   "metadata": {},
   "outputs": [
    {
     "data": {
      "text/plain": [
       "31662"
      ]
     },
     "execution_count": 120,
     "metadata": {},
     "output_type": "execute_result"
    }
   ],
   "source": [
    "len(prep)"
   ]
  },
  {
   "cell_type": "code",
   "execution_count": 121,
   "metadata": {},
   "outputs": [
    {
     "data": {
      "text/plain": [
       "1000"
      ]
     },
     "execution_count": 121,
     "metadata": {},
     "output_type": "execute_result"
    }
   ],
   "source": [
    "len(prep.split('. '))"
   ]
  },
  {
   "cell_type": "code",
   "execution_count": 154,
   "metadata": {},
   "outputs": [],
   "source": [
    "def translate_batch(text):\n",
    "    res = ts.google(text,\n",
    "                     use_domain='general',\n",
    "                     from_language='zh',\n",
    "                     sleep_seconds=0.4)\n",
    "    return res.split('. ')"
   ]
  },
  {
   "cell_type": "code",
   "execution_count": 164,
   "metadata": {},
   "outputs": [
    {
     "name": "stdout",
     "output_type": "stream",
     "text": [
      "translating 'till: 34\n",
      "[21:24:19] UseTimeSeconds(fn: google_api): 0.89\n",
      "translating 'till: 65\n",
      "[21:24:20] UseTimeSeconds(fn: google_api): 0.96\n",
      "translating 'till: 100\n",
      "[21:24:21] UseTimeSeconds(fn: google_api): 0.86\n",
      "translating 'till: 130\n",
      "[21:24:22] UseTimeSeconds(fn: google_api): 0.84\n",
      "translating 'till: 164\n",
      "[21:24:23] UseTimeSeconds(fn: google_api): 1.0\n",
      "translating 'till: 195\n",
      "[21:24:24] UseTimeSeconds(fn: google_api): 0.98\n",
      "translating 'till: 230\n",
      "[21:24:25] UseTimeSeconds(fn: google_api): 1.01\n",
      "translating 'till: 262\n",
      "[21:24:25] UseTimeSeconds(fn: google_api): 0.84\n",
      "translating 'till: 291\n",
      "[21:24:27] UseTimeSeconds(fn: google_api): 1.31\n",
      "translating 'till: 322\n",
      "[21:24:28] UseTimeSeconds(fn: google_api): 1.17\n",
      "translating 'till: 355\n",
      "[21:24:29] UseTimeSeconds(fn: google_api): 0.86\n",
      "translating 'till: 387\n",
      "[21:24:30] UseTimeSeconds(fn: google_api): 0.95\n",
      "translating 'till: 419\n",
      "[21:24:31] UseTimeSeconds(fn: google_api): 0.92\n",
      "translating 'till: 450\n",
      "[21:24:32] UseTimeSeconds(fn: google_api): 0.97\n",
      "translating 'till: 480\n",
      "[21:24:32] UseTimeSeconds(fn: google_api): 0.92\n",
      "translating 'till: 514\n",
      "[21:24:33] UseTimeSeconds(fn: google_api): 0.92\n",
      "translating 'till: 547\n",
      "[21:24:34] UseTimeSeconds(fn: google_api): 1.04\n",
      "translating 'till: 576\n",
      "[21:24:35] UseTimeSeconds(fn: google_api): 0.88\n",
      "translating 'till: 606\n",
      "[21:24:36] UseTimeSeconds(fn: google_api): 0.86\n",
      "translating 'till: 639\n",
      "[21:24:37] UseTimeSeconds(fn: google_api): 0.87\n",
      "translating 'till: 676\n",
      "[21:24:38] UseTimeSeconds(fn: google_api): 0.89\n",
      "translating 'till: 710\n",
      "[21:24:39] UseTimeSeconds(fn: google_api): 0.97\n",
      "translating 'till: 739\n",
      "[21:24:40] UseTimeSeconds(fn: google_api): 0.89\n",
      "translating 'till: 772\n",
      "[21:24:41] UseTimeSeconds(fn: google_api): 1.04\n",
      "translating 'till: 806\n",
      "[21:24:42] UseTimeSeconds(fn: google_api): 0.97\n",
      "translating 'till: 836\n",
      "[21:24:43] UseTimeSeconds(fn: google_api): 0.87\n",
      "translating 'till: 869\n",
      "[21:24:44] UseTimeSeconds(fn: google_api): 0.9\n",
      "translating 'till: 901\n",
      "[21:24:45] UseTimeSeconds(fn: google_api): 0.97\n",
      "translating 'till: 932\n",
      "[21:24:46] UseTimeSeconds(fn: google_api): 1.12\n",
      "translating 'till: 965\n",
      "[21:24:47] UseTimeSeconds(fn: google_api): 0.91\n",
      "translating 'till: 998\n",
      "[21:24:48] UseTimeSeconds(fn: google_api): 1.0\n",
      "translating 'till end\n",
      "[21:24:48] UseTimeSeconds(fn: google_api): 0.82\n"
     ]
    }
   ],
   "source": [
    "INTERVAL = 1000\n",
    "results = []\n",
    "now_str = ''\n",
    "for i in range(len(df_dev_tcn)):\n",
    "    if len(now_str) + len(df_dev_tcn['text_clean'][i]) <= INTERVAL:\n",
    "        now_str += '. ' + df_dev_tcn['text_clean'][i] \n",
    "    else:\n",
    "        print(\"translating 'till: {}\".format(i))\n",
    "        results.extend(translate_batch(now_str))\n",
    "        now_str = ''\n",
    "if len(now_str) > 0:\n",
    "    print(\"translating 'till end\")\n",
    "    results.extend(translate_batch(now_str))"
   ]
  },
  {
   "cell_type": "code",
   "execution_count": 165,
   "metadata": {},
   "outputs": [
    {
     "data": {
      "text/plain": [
       "1004"
      ]
     },
     "execution_count": 165,
     "metadata": {},
     "output_type": "execute_result"
    }
   ],
   "source": [
    "len(results)"
   ]
  },
  {
   "cell_type": "code",
   "execution_count": 166,
   "metadata": {},
   "outputs": [
    {
     "data": {
      "text/plain": [
       "['',\n",
       " 'OPPO A75 A75s A73 mobile phone shell soft shell lanyard shell big eye rabbit silicone shell',\n",
       " 'SOFT 99 coated car wax (strong water repellent type)',\n",
       " 'Low-sugar dried mango 250g Zhenyuxing',\n",
       " '＊Trail culture ＊ROUND TOP space craft imported from Japan- diamond (SC-MK-010)']"
      ]
     },
     "execution_count": 166,
     "metadata": {},
     "output_type": "execute_result"
    }
   ],
   "source": [
    "results[:5]"
   ]
  },
  {
   "cell_type": "code",
   "execution_count": 167,
   "metadata": {},
   "outputs": [
    {
     "data": {
      "text/plain": [
       "['[HippoRed] fun to tear ★ unique style ★ straight jeans O591_445',\n",
       " \"Children's suit Taiwan-made thin long-sleeved home suit magic Baby~k60092\",\n",
       " 'LONGCHAMP Le Pliage Neo high-density nylon backpack (medium size)',\n",
       " '',\n",
       " 'PolarStar Women\\'s Perspiration Quick-drying T-shirt \"Black\" P18102']"
      ]
     },
     "execution_count": 167,
     "metadata": {},
     "output_type": "execute_result"
    }
   ],
   "source": [
    "results[-5:]"
   ]
  },
  {
   "cell_type": "code",
   "execution_count": 170,
   "metadata": {},
   "outputs": [
    {
     "data": {
      "text/plain": [
       "array(['【HippoRed】撕破乐趣★独特风格★中直筒牛仔裤 O591_445',\n",
       "       '兒童套裝 台灣製薄長袖居家套裝 魔法Baby~k60092',\n",
       "       'LONGCHAMP Le Pliage Neo高密尼龍後背包(中型)',\n",
       "       'iFairies 開口可調節戒指★ifairies【56472】【56472】',\n",
       "       'PolarStar 女 排汗快干T恤『黑』P18102'], dtype=object)"
      ]
     },
     "execution_count": 170,
     "metadata": {},
     "output_type": "execute_result"
    }
   ],
   "source": [
    "df_dev_tcn['text'].values[-5:]"
   ]
  },
  {
   "cell_type": "code",
   "execution_count": 169,
   "metadata": {},
   "outputs": [
    {
     "data": {
      "text/plain": [
       "array(['Hippored Torn Fun Unique Style Straight Jeans O591 445',\n",
       "       'Kids Set Table Bay - Thin Long Sleeve Home Suit Magic Baby ~ K60092',\n",
       "       'LONGCHAMP Le Pliage Neo High Density Nylon Backpack (medium)',\n",
       "       'IFairies Opening Adjustable Ring ifairies [56472] 【 56472 】',\n",
       "       'PolarStar Women Sweat Quick Dry T-shirt Black 』 P18102PolarStar'],\n",
       "      dtype=object)"
      ]
     },
     "execution_count": 169,
     "metadata": {},
     "output_type": "execute_result"
    }
   ],
   "source": [
    "df_dev_en['translation_output'].values[-5:]"
   ]
  },
  {
   "cell_type": "code",
   "execution_count": 173,
   "metadata": {},
   "outputs": [
    {
     "data": {
      "text/plain": [
       "100.00000000000004"
      ]
     },
     "execution_count": 173,
     "metadata": {},
     "output_type": "execute_result"
    }
   ],
   "source": [
    "sacrebleu.corpus_bleu(['IFairies Opening Adjustable Ring ifairies [56472] 【 56472 】'],\n",
    "                      [['IFairies Opening Adjustable Ring ifairies [56472] 【 56472 】']],\n",
    "                      lowercase=True,\n",
    "                      tokenize='13a',\n",
    "                      use_effective_order= False).score"
   ]
  },
  {
   "cell_type": "code",
   "execution_count": 176,
   "metadata": {},
   "outputs": [
    {
     "data": {
      "text/plain": [
       "47.79995354275012"
      ]
     },
     "execution_count": 176,
     "metadata": {},
     "output_type": "execute_result"
    }
   ],
   "source": [
    "sacrebleu.corpus_bleu(['iFairies Opening Adjustable Ring ifairies 【56472】 【 56472 】'],\n",
    "                      [['IFairies Opening Adjustable Ring ifairies [56472] 【 56472 】']],\n",
    "                      lowercase=True,\n",
    "                      tokenize='13a',\n",
    "                      use_effective_order= False).score"
   ]
  },
  {
   "cell_type": "code",
   "execution_count": 139,
   "metadata": {},
   "outputs": [],
   "source": [
    "results_ = results[1:]"
   ]
  },
  {
   "cell_type": "code",
   "execution_count": 163,
   "metadata": {},
   "outputs": [
    {
     "data": {
      "text/plain": [
       "10.34014305798428"
      ]
     },
     "execution_count": 163,
     "metadata": {},
     "output_type": "execute_result"
    }
   ],
   "source": [
    "sacrebleu.corpus_bleu(results_,\n",
    "                      [df_dev_en['translation_output']],\n",
    "                      lowercase=True,\n",
    "                      tokenize='13a',\n",
    "                      use_effective_order= False).score"
   ]
  },
  {
   "cell_type": "code",
   "execution_count": 162,
   "metadata": {},
   "outputs": [
    {
     "data": {
      "text/plain": [
       "100.00000000000004"
      ]
     },
     "execution_count": 162,
     "metadata": {},
     "output_type": "execute_result"
    }
   ],
   "source": [
    "sacrebleu.corpus_bleu(df_dev_en['translation_output'],\n",
    "                      [df_dev_en['translation_output']],\n",
    "                      lowercase=True,\n",
    "                      tokenize='13a',\n",
    "                      use_effective_order= False).score"
   ]
  },
  {
   "cell_type": "code",
   "execution_count": null,
   "metadata": {},
   "outputs": [],
   "source": []
  },
  {
   "cell_type": "code",
   "execution_count": null,
   "metadata": {},
   "outputs": [],
   "source": []
  },
  {
   "cell_type": "code",
   "execution_count": 36,
   "metadata": {},
   "outputs": [
    {
     "ename": "JSONDecodeError",
     "evalue": "Expecting value: line 1 column 1 (char 0)",
     "output_type": "error",
     "traceback": [
      "\u001b[1;31m---------------------------------------------------------------------------\u001b[0m",
      "\u001b[1;31mJSONDecodeError\u001b[0m                           Traceback (most recent call last)",
      "\u001b[1;32m<ipython-input-36-186189749f7b>\u001b[0m in \u001b[0;36m<module>\u001b[1;34m\u001b[0m\n\u001b[0;32m      2\u001b[0m                                               \u001b[0muse_domain\u001b[0m\u001b[1;33m=\u001b[0m\u001b[1;34m'general'\u001b[0m\u001b[1;33m,\u001b[0m\u001b[1;33m\u001b[0m\u001b[1;33m\u001b[0m\u001b[0m\n\u001b[0;32m      3\u001b[0m                                               \u001b[0mfrom_language\u001b[0m\u001b[1;33m=\u001b[0m\u001b[1;34m'zh'\u001b[0m\u001b[1;33m,\u001b[0m\u001b[1;33m\u001b[0m\u001b[1;33m\u001b[0m\u001b[0m\n\u001b[1;32m----> 4\u001b[1;33m                                               sleep_seconds=0.4)\n\u001b[0m",
      "\u001b[1;32mc:\\users\\franz\\appdata\\local\\programs\\python\\python36\\lib\\site-packages\\translators\\apis.py\u001b[0m in \u001b[0;36mwrapper\u001b[1;34m(*args, **kwargs)\u001b[0m\n\u001b[0;32m     63\u001b[0m         \u001b[1;32mdef\u001b[0m \u001b[0mwrapper\u001b[0m\u001b[1;33m(\u001b[0m\u001b[1;33m*\u001b[0m\u001b[0margs\u001b[0m\u001b[1;33m,\u001b[0m \u001b[1;33m**\u001b[0m\u001b[0mkwargs\u001b[0m\u001b[1;33m)\u001b[0m\u001b[1;33m:\u001b[0m\u001b[1;33m\u001b[0m\u001b[1;33m\u001b[0m\u001b[0m\n\u001b[0;32m     64\u001b[0m             \u001b[0mt1\u001b[0m \u001b[1;33m=\u001b[0m \u001b[0mtime\u001b[0m\u001b[1;33m.\u001b[0m\u001b[0mtime\u001b[0m\u001b[1;33m(\u001b[0m\u001b[1;33m)\u001b[0m\u001b[1;33m\u001b[0m\u001b[1;33m\u001b[0m\u001b[0m\n\u001b[1;32m---> 65\u001b[1;33m             \u001b[0mr\u001b[0m \u001b[1;33m=\u001b[0m \u001b[0mfunc\u001b[0m\u001b[1;33m(\u001b[0m\u001b[1;33m*\u001b[0m\u001b[0margs\u001b[0m\u001b[1;33m,\u001b[0m \u001b[1;33m**\u001b[0m\u001b[0mkwargs\u001b[0m\u001b[1;33m)\u001b[0m\u001b[1;33m\u001b[0m\u001b[1;33m\u001b[0m\u001b[0m\n\u001b[0m\u001b[0;32m     66\u001b[0m             \u001b[0mt2\u001b[0m \u001b[1;33m=\u001b[0m \u001b[0mtime\u001b[0m\u001b[1;33m.\u001b[0m\u001b[0mtime\u001b[0m\u001b[1;33m(\u001b[0m\u001b[1;33m)\u001b[0m\u001b[1;33m\u001b[0m\u001b[1;33m\u001b[0m\u001b[0m\n\u001b[0;32m     67\u001b[0m             \u001b[0mlogger\u001b[0m\u001b[1;33m.\u001b[0m\u001b[0msuccess\u001b[0m\u001b[1;33m(\u001b[0m\u001b[1;34m'UseTimeSeconds(fn: {}): {}'\u001b[0m\u001b[1;33m.\u001b[0m\u001b[0mformat\u001b[0m\u001b[1;33m(\u001b[0m\u001b[0mfunc\u001b[0m\u001b[1;33m.\u001b[0m\u001b[0m__name__\u001b[0m\u001b[1;33m,\u001b[0m \u001b[0mround\u001b[0m\u001b[1;33m(\u001b[0m\u001b[1;33m(\u001b[0m\u001b[0mt2\u001b[0m \u001b[1;33m-\u001b[0m \u001b[0mt1\u001b[0m\u001b[1;33m)\u001b[0m\u001b[1;33m,\u001b[0m \u001b[1;36m2\u001b[0m\u001b[1;33m)\u001b[0m\u001b[1;33m)\u001b[0m\u001b[1;33m,\u001b[0m \u001b[0mstyle\u001b[0m\u001b[1;33m=\u001b[0m\u001b[1;34m'braces'\u001b[0m\u001b[1;33m)\u001b[0m\u001b[1;33m\u001b[0m\u001b[1;33m\u001b[0m\u001b[0m\n",
      "\u001b[1;32mc:\\users\\franz\\appdata\\local\\programs\\python\\python36\\lib\\site-packages\\translators\\apis.py\u001b[0m in \u001b[0;36malibaba_api\u001b[1;34m(self, query_text, from_language, to_language, **kwargs)\u001b[0m\n\u001b[0;32m    590\u001b[0m             \u001b[1;32mwhile\u001b[0m \u001b[1;32mnot\u001b[0m \u001b[0mts_result\u001b[0m \u001b[1;32mand\u001b[0m \u001b[0mi\u001b[0m \u001b[1;33m<\u001b[0m \u001b[1;36m3\u001b[0m\u001b[1;33m:\u001b[0m\u001b[1;33m\u001b[0m\u001b[1;33m\u001b[0m\u001b[0m\n\u001b[0;32m    591\u001b[0m                 \u001b[0mres\u001b[0m \u001b[1;33m=\u001b[0m \u001b[0mss\u001b[0m\u001b[1;33m.\u001b[0m\u001b[0mpost\u001b[0m\u001b[1;33m(\u001b[0m\u001b[0mself\u001b[0m\u001b[1;33m.\u001b[0m\u001b[0mapi_url\u001b[0m\u001b[1;33m,\u001b[0m\u001b[0mheaders\u001b[0m\u001b[1;33m=\u001b[0m\u001b[0mself\u001b[0m\u001b[1;33m.\u001b[0m\u001b[0mapi_headers\u001b[0m\u001b[1;33m,\u001b[0m\u001b[0mdata\u001b[0m\u001b[1;33m=\u001b[0m\u001b[0mform_data\u001b[0m\u001b[1;33m,\u001b[0m\u001b[0mparams\u001b[0m\u001b[1;33m=\u001b[0m\u001b[0mparams\u001b[0m\u001b[1;33m,\u001b[0m\u001b[0mproxies\u001b[0m\u001b[1;33m=\u001b[0m\u001b[0mproxies\u001b[0m\u001b[1;33m)\u001b[0m\u001b[1;33m\u001b[0m\u001b[1;33m\u001b[0m\u001b[0m\n\u001b[1;32m--> 592\u001b[1;33m                 \u001b[0mdata\u001b[0m \u001b[1;33m=\u001b[0m \u001b[0mres\u001b[0m\u001b[1;33m.\u001b[0m\u001b[0mjson\u001b[0m\u001b[1;33m(\u001b[0m\u001b[1;33m)\u001b[0m\u001b[1;33m\u001b[0m\u001b[1;33m\u001b[0m\u001b[0m\n\u001b[0m\u001b[0;32m    593\u001b[0m                 \u001b[0mts_result\u001b[0m \u001b[1;33m=\u001b[0m \u001b[0mdata\u001b[0m\u001b[1;33m.\u001b[0m\u001b[0mget\u001b[0m\u001b[1;33m(\u001b[0m\u001b[1;34m'listTargetText'\u001b[0m\u001b[1;33m)\u001b[0m\u001b[1;33m\u001b[0m\u001b[1;33m\u001b[0m\u001b[0m\n\u001b[0;32m    594\u001b[0m                 \u001b[0mi\u001b[0m \u001b[1;33m+=\u001b[0m \u001b[1;36m1\u001b[0m\u001b[1;33m\u001b[0m\u001b[1;33m\u001b[0m\u001b[0m\n",
      "\u001b[1;32mc:\\users\\franz\\appdata\\local\\programs\\python\\python36\\lib\\site-packages\\requests\\models.py\u001b[0m in \u001b[0;36mjson\u001b[1;34m(self, **kwargs)\u001b[0m\n\u001b[0;32m    896\u001b[0m                     \u001b[1;31m# used.\u001b[0m\u001b[1;33m\u001b[0m\u001b[1;33m\u001b[0m\u001b[1;33m\u001b[0m\u001b[0m\n\u001b[0;32m    897\u001b[0m                     \u001b[1;32mpass\u001b[0m\u001b[1;33m\u001b[0m\u001b[1;33m\u001b[0m\u001b[0m\n\u001b[1;32m--> 898\u001b[1;33m         \u001b[1;32mreturn\u001b[0m \u001b[0mcomplexjson\u001b[0m\u001b[1;33m.\u001b[0m\u001b[0mloads\u001b[0m\u001b[1;33m(\u001b[0m\u001b[0mself\u001b[0m\u001b[1;33m.\u001b[0m\u001b[0mtext\u001b[0m\u001b[1;33m,\u001b[0m \u001b[1;33m**\u001b[0m\u001b[0mkwargs\u001b[0m\u001b[1;33m)\u001b[0m\u001b[1;33m\u001b[0m\u001b[1;33m\u001b[0m\u001b[0m\n\u001b[0m\u001b[0;32m    899\u001b[0m \u001b[1;33m\u001b[0m\u001b[0m\n\u001b[0;32m    900\u001b[0m     \u001b[1;33m@\u001b[0m\u001b[0mproperty\u001b[0m\u001b[1;33m\u001b[0m\u001b[1;33m\u001b[0m\u001b[0m\n",
      "\u001b[1;32mc:\\users\\franz\\appdata\\local\\programs\\python\\python36\\lib\\json\\__init__.py\u001b[0m in \u001b[0;36mloads\u001b[1;34m(s, encoding, cls, object_hook, parse_float, parse_int, parse_constant, object_pairs_hook, **kw)\u001b[0m\n\u001b[0;32m    352\u001b[0m             \u001b[0mparse_int\u001b[0m \u001b[1;32mis\u001b[0m \u001b[1;32mNone\u001b[0m \u001b[1;32mand\u001b[0m \u001b[0mparse_float\u001b[0m \u001b[1;32mis\u001b[0m \u001b[1;32mNone\u001b[0m \u001b[1;32mand\u001b[0m\u001b[1;33m\u001b[0m\u001b[1;33m\u001b[0m\u001b[0m\n\u001b[0;32m    353\u001b[0m             parse_constant is None and object_pairs_hook is None and not kw):\n\u001b[1;32m--> 354\u001b[1;33m         \u001b[1;32mreturn\u001b[0m \u001b[0m_default_decoder\u001b[0m\u001b[1;33m.\u001b[0m\u001b[0mdecode\u001b[0m\u001b[1;33m(\u001b[0m\u001b[0ms\u001b[0m\u001b[1;33m)\u001b[0m\u001b[1;33m\u001b[0m\u001b[1;33m\u001b[0m\u001b[0m\n\u001b[0m\u001b[0;32m    355\u001b[0m     \u001b[1;32mif\u001b[0m \u001b[0mcls\u001b[0m \u001b[1;32mis\u001b[0m \u001b[1;32mNone\u001b[0m\u001b[1;33m:\u001b[0m\u001b[1;33m\u001b[0m\u001b[1;33m\u001b[0m\u001b[0m\n\u001b[0;32m    356\u001b[0m         \u001b[0mcls\u001b[0m \u001b[1;33m=\u001b[0m \u001b[0mJSONDecoder\u001b[0m\u001b[1;33m\u001b[0m\u001b[1;33m\u001b[0m\u001b[0m\n",
      "\u001b[1;32mc:\\users\\franz\\appdata\\local\\programs\\python\\python36\\lib\\json\\decoder.py\u001b[0m in \u001b[0;36mdecode\u001b[1;34m(self, s, _w)\u001b[0m\n\u001b[0;32m    337\u001b[0m \u001b[1;33m\u001b[0m\u001b[0m\n\u001b[0;32m    338\u001b[0m         \"\"\"\n\u001b[1;32m--> 339\u001b[1;33m         \u001b[0mobj\u001b[0m\u001b[1;33m,\u001b[0m \u001b[0mend\u001b[0m \u001b[1;33m=\u001b[0m \u001b[0mself\u001b[0m\u001b[1;33m.\u001b[0m\u001b[0mraw_decode\u001b[0m\u001b[1;33m(\u001b[0m\u001b[0ms\u001b[0m\u001b[1;33m,\u001b[0m \u001b[0midx\u001b[0m\u001b[1;33m=\u001b[0m\u001b[0m_w\u001b[0m\u001b[1;33m(\u001b[0m\u001b[0ms\u001b[0m\u001b[1;33m,\u001b[0m \u001b[1;36m0\u001b[0m\u001b[1;33m)\u001b[0m\u001b[1;33m.\u001b[0m\u001b[0mend\u001b[0m\u001b[1;33m(\u001b[0m\u001b[1;33m)\u001b[0m\u001b[1;33m)\u001b[0m\u001b[1;33m\u001b[0m\u001b[1;33m\u001b[0m\u001b[0m\n\u001b[0m\u001b[0;32m    340\u001b[0m         \u001b[0mend\u001b[0m \u001b[1;33m=\u001b[0m \u001b[0m_w\u001b[0m\u001b[1;33m(\u001b[0m\u001b[0ms\u001b[0m\u001b[1;33m,\u001b[0m \u001b[0mend\u001b[0m\u001b[1;33m)\u001b[0m\u001b[1;33m.\u001b[0m\u001b[0mend\u001b[0m\u001b[1;33m(\u001b[0m\u001b[1;33m)\u001b[0m\u001b[1;33m\u001b[0m\u001b[1;33m\u001b[0m\u001b[0m\n\u001b[0;32m    341\u001b[0m         \u001b[1;32mif\u001b[0m \u001b[0mend\u001b[0m \u001b[1;33m!=\u001b[0m \u001b[0mlen\u001b[0m\u001b[1;33m(\u001b[0m\u001b[0ms\u001b[0m\u001b[1;33m)\u001b[0m\u001b[1;33m:\u001b[0m\u001b[1;33m\u001b[0m\u001b[1;33m\u001b[0m\u001b[0m\n",
      "\u001b[1;32mc:\\users\\franz\\appdata\\local\\programs\\python\\python36\\lib\\json\\decoder.py\u001b[0m in \u001b[0;36mraw_decode\u001b[1;34m(self, s, idx)\u001b[0m\n\u001b[0;32m    355\u001b[0m             \u001b[0mobj\u001b[0m\u001b[1;33m,\u001b[0m \u001b[0mend\u001b[0m \u001b[1;33m=\u001b[0m \u001b[0mself\u001b[0m\u001b[1;33m.\u001b[0m\u001b[0mscan_once\u001b[0m\u001b[1;33m(\u001b[0m\u001b[0ms\u001b[0m\u001b[1;33m,\u001b[0m \u001b[0midx\u001b[0m\u001b[1;33m)\u001b[0m\u001b[1;33m\u001b[0m\u001b[1;33m\u001b[0m\u001b[0m\n\u001b[0;32m    356\u001b[0m         \u001b[1;32mexcept\u001b[0m \u001b[0mStopIteration\u001b[0m \u001b[1;32mas\u001b[0m \u001b[0merr\u001b[0m\u001b[1;33m:\u001b[0m\u001b[1;33m\u001b[0m\u001b[1;33m\u001b[0m\u001b[0m\n\u001b[1;32m--> 357\u001b[1;33m             \u001b[1;32mraise\u001b[0m \u001b[0mJSONDecodeError\u001b[0m\u001b[1;33m(\u001b[0m\u001b[1;34m\"Expecting value\"\u001b[0m\u001b[1;33m,\u001b[0m \u001b[0ms\u001b[0m\u001b[1;33m,\u001b[0m \u001b[0merr\u001b[0m\u001b[1;33m.\u001b[0m\u001b[0mvalue\u001b[0m\u001b[1;33m)\u001b[0m \u001b[1;32mfrom\u001b[0m \u001b[1;32mNone\u001b[0m\u001b[1;33m\u001b[0m\u001b[1;33m\u001b[0m\u001b[0m\n\u001b[0m\u001b[0;32m    358\u001b[0m         \u001b[1;32mreturn\u001b[0m \u001b[0mobj\u001b[0m\u001b[1;33m,\u001b[0m \u001b[0mend\u001b[0m\u001b[1;33m\u001b[0m\u001b[1;33m\u001b[0m\u001b[0m\n",
      "\u001b[1;31mJSONDecodeError\u001b[0m: Expecting value: line 1 column 1 (char 0)"
     ]
    }
   ],
   "source": [
    "df_dev_tcn['translation_output'] = ts.alibaba(list(df_dev_tcn['text'].values),\n",
    "                                              use_domain='general',\n",
    "                                              from_language='zh',\n",
    "                                              sleep_seconds=0.4)"
   ]
  },
  {
   "cell_type": "code",
   "execution_count": 31,
   "metadata": {},
   "outputs": [
    {
     "data": {
      "text/html": [
       "<div>\n",
       "<style scoped>\n",
       "    .dataframe tbody tr th:only-of-type {\n",
       "        vertical-align: middle;\n",
       "    }\n",
       "\n",
       "    .dataframe tbody tr th {\n",
       "        vertical-align: top;\n",
       "    }\n",
       "\n",
       "    .dataframe thead th {\n",
       "        text-align: right;\n",
       "    }\n",
       "</style>\n",
       "<table border=\"1\" class=\"dataframe\">\n",
       "  <thead>\n",
       "    <tr style=\"text-align: right;\">\n",
       "      <th></th>\n",
       "      <th>text</th>\n",
       "      <th>split</th>\n",
       "      <th>translation_output</th>\n",
       "    </tr>\n",
       "  </thead>\n",
       "  <tbody>\n",
       "    <tr>\n",
       "      <th>995</th>\n",
       "      <td>【HippoRed】撕破乐趣★独特风格★中直筒牛仔裤 O591_445</td>\n",
       "      <td>private</td>\n",
       "      <td>0 phone case soft case lanyard shell big eye r...</td>\n",
       "    </tr>\n",
       "    <tr>\n",
       "      <th>996</th>\n",
       "      <td>兒童套裝 台灣製薄長袖居家套裝 魔法Baby~k60092</td>\n",
       "      <td>private</td>\n",
       "      <td>0 phone case soft case lanyard shell big eye r...</td>\n",
       "    </tr>\n",
       "    <tr>\n",
       "      <th>997</th>\n",
       "      <td>LONGCHAMP Le Pliage Neo高密尼龍後背包(中型)</td>\n",
       "      <td>private</td>\n",
       "      <td>0 phone case soft case lanyard shell big eye r...</td>\n",
       "    </tr>\n",
       "    <tr>\n",
       "      <th>998</th>\n",
       "      <td>iFairies 開口可調節戒指★ifairies【56472】【56472】</td>\n",
       "      <td>private</td>\n",
       "      <td>0 phone case soft case lanyard shell big eye r...</td>\n",
       "    </tr>\n",
       "    <tr>\n",
       "      <th>999</th>\n",
       "      <td>PolarStar 女 排汗快干T恤『黑』P18102</td>\n",
       "      <td>private</td>\n",
       "      <td>0 phone case soft case lanyard shell big eye r...</td>\n",
       "    </tr>\n",
       "  </tbody>\n",
       "</table>\n",
       "</div>"
      ],
      "text/plain": [
       "                                        text    split  \\\n",
       "995      【HippoRed】撕破乐趣★独特风格★中直筒牛仔裤 O591_445  private   \n",
       "996            兒童套裝 台灣製薄長袖居家套裝 魔法Baby~k60092  private   \n",
       "997       LONGCHAMP Le Pliage Neo高密尼龍後背包(中型)  private   \n",
       "998  iFairies 開口可調節戒指★ifairies【56472】【56472】  private   \n",
       "999              PolarStar 女 排汗快干T恤『黑』P18102  private   \n",
       "\n",
       "                                    translation_output  \n",
       "995  0 phone case soft case lanyard shell big eye r...  \n",
       "996  0 phone case soft case lanyard shell big eye r...  \n",
       "997  0 phone case soft case lanyard shell big eye r...  \n",
       "998  0 phone case soft case lanyard shell big eye r...  \n",
       "999  0 phone case soft case lanyard shell big eye r...  "
      ]
     },
     "execution_count": 31,
     "metadata": {},
     "output_type": "execute_result"
    }
   ],
   "source": [
    "df_dev_tcn.tail()"
   ]
  },
  {
   "cell_type": "code",
   "execution_count": 7,
   "metadata": {},
   "outputs": [],
   "source": [
    "wyw_text = '季姬寂，集鸡，鸡即棘鸡。棘鸡饥叽，季姬及箕稷济鸡。'\n",
    "chs_text = '季姬感到寂寞，罗集了一些鸡来养，鸡是那种出自荆棘丛中的野鸡。野鸡饿了唧唧叫，季姬就拿竹箕中的谷物喂鸡。'"
   ]
  },
  {
   "cell_type": "code",
   "execution_count": 17,
   "metadata": {},
   "outputs": [
    {
     "name": "stdout",
     "output_type": "stream",
     "text": [
      "[20:38:43] UseTimeSeconds(fn: deepl_api): 3.58\n",
      "Ji Ji is silent, and collects chickens, the chickens are the spiny chickens.If the fowls are hungry, Jiji and Jiji will help the fowls.\n"
     ]
    }
   ],
   "source": [
    "print(ts.deepl(wyw_text, from_language='zh'))"
   ]
  },
  {
   "cell_type": "code",
   "execution_count": 18,
   "metadata": {},
   "outputs": [
    {
     "name": "stdout",
     "output_type": "stream",
     "text": [
      "[20:38:47] UseTimeSeconds(fn: alibaba_api): 2.49\n",
      "Ji Ji is quiet, collecting chicken, chicken is chicken. Braised Chicken, Ji Ji and Ji ji ji chicken.\n"
     ]
    }
   ],
   "source": [
    "print(ts.alibaba(wyw_text, use_domain='general', from_language='zh'))"
   ]
  },
  {
   "cell_type": "code",
   "execution_count": 28,
   "metadata": {},
   "outputs": [
    {
     "name": "stdout",
     "output_type": "stream",
     "text": [
      "[20:45:58] UseTimeSeconds(fn: alibaba_api): 2.1\n",
      "['Ji Ji is quiet, chicken, chicken is chicken. Braised Chicken, Ji Ji and Ji ji ji chicken. ', 'Ji Ji felt lonely and gathered some chickens to raise. Chickens are pheasants from thorns. When pheasants are hungry, Ji Ji will feed the chicken with the grain in the bamboo dustpan. ',' Ji Ji Ji, collect chicken, chicken is chicken. Braised Chicken, Ji Ji and Ji ji ji chicken. ', 'Ji Ji felt lonely and gathered some chickens to raise. Chickens are pheasants from thorns. When pheasants are hungry, Ji Ji will feed the chicken with the grain in the bamboo dustpan. ',' Ji Ji Ji, collect chicken, chicken is chicken. Braised Chicken, Ji Ji and Ji ji ji chicken. ', 'Ji Ji felt lonely and gathered some chickens to raise. Chickens are pheasants from thorns. When pheasants are hungry, Ji Ji will feed the chicken with the grain in the bamboo dustpan. ',' Ji Ji Ji, collect chicken, chicken is chicken. Braised Chicken, Ji Ji and Ji ji ji chicken. ', 'Ji Ji felt lonely and gathered some chickens to raise. Chickens are pheasants from thorns. When pheasants are hungry, Ji Ji will feed the chicken with the grain in the bamboo dustpan. ']\n"
     ]
    }
   ],
   "source": [
    "print(ts.alibaba([wyw_text, chs_text]*4, use_domain='general', from_language='zh', sleep_seconds=0.4))"
   ]
  },
  {
   "cell_type": "code",
   "execution_count": 26,
   "metadata": {},
   "outputs": [
    {
     "data": {
      "text/plain": [
       "\u001b[1;31mSignature:\u001b[0m \u001b[0mts\u001b[0m\u001b[1;33m.\u001b[0m\u001b[0malibaba\u001b[0m\u001b[1;33m(\u001b[0m\u001b[0mquery_text\u001b[0m\u001b[1;33m,\u001b[0m \u001b[0mfrom_language\u001b[0m\u001b[1;33m=\u001b[0m\u001b[1;34m'auto'\u001b[0m\u001b[1;33m,\u001b[0m \u001b[0mto_language\u001b[0m\u001b[1;33m=\u001b[0m\u001b[1;34m'en'\u001b[0m\u001b[1;33m,\u001b[0m \u001b[1;33m**\u001b[0m\u001b[0mkwargs\u001b[0m\u001b[1;33m)\u001b[0m\u001b[1;33m\u001b[0m\u001b[1;33m\u001b[0m\u001b[0m\n",
       "\u001b[1;31mDocstring:\u001b[0m\n",
       "https://translate.alibaba.com\n",
       ":param query_text: string, must.\n",
       ":param from_language: string, default 'auto'.\n",
       ":param to_language: string, default 'en'.\n",
       ":param **kwargs:\n",
       "        :param use_domain: string, default 'message', choose from (\"general\",\"message\",\"offer\")\n",
       "        :param is_detail_result: boolean, default False.\n",
       "        :param proxies: dict, default None.\n",
       "        :param sleep_seconds: float, >0.05. Best to set it yourself, otherwise there will be surprises.\n",
       ":return: string or dict\n",
       "\u001b[1;31mFile:\u001b[0m      c:\\users\\franz\\appdata\\local\\programs\\python\\python36\\lib\\site-packages\\translators\\apis.py\n",
       "\u001b[1;31mType:\u001b[0m      method\n"
      ]
     },
     "metadata": {},
     "output_type": "display_data"
    }
   ],
   "source": [
    "?ts.alibaba"
   ]
  },
  {
   "cell_type": "code",
   "execution_count": 19,
   "metadata": {},
   "outputs": [
    {
     "name": "stdout",
     "output_type": "stream",
     "text": [
      "[20:38:48] UseTimeSeconds(fn: google_api): 0.82\n",
      "Ji Jiji, collect chickens, chickens are spiny chickens. The spiny chicken is hungry, Ji Ji and Ji Jiji chicken.\n"
     ]
    }
   ],
   "source": [
    "print(ts.google(wyw_text, if_use_cn_host=True, from_language='zh'))"
   ]
  },
  {
   "cell_type": "code",
   "execution_count": 20,
   "metadata": {},
   "outputs": [
    {
     "name": "stdout",
     "output_type": "stream",
     "text": [
      "[20:38:51] UseTimeSeconds(fn: bing_api): 0.41\n",
      "Ji Ji is silent, set chicken, chicken is the chicken. The ratchets are hungry, and the jiji and the roosters are in their sights.\n"
     ]
    }
   ],
   "source": [
    "print(ts.bing(wyw_text, if_use_cn_host=False, from_language='zh'))"
   ]
  },
  {
   "cell_type": "code",
   "execution_count": 21,
   "metadata": {},
   "outputs": [
    {
     "data": {
      "text/plain": [
       "\u001b[1;31mSignature:\u001b[0m \u001b[0mts\u001b[0m\u001b[1;33m.\u001b[0m\u001b[0mbing\u001b[0m\u001b[1;33m(\u001b[0m\u001b[0mquery_text\u001b[0m\u001b[1;33m,\u001b[0m \u001b[0mfrom_language\u001b[0m\u001b[1;33m=\u001b[0m\u001b[1;34m'auto'\u001b[0m\u001b[1;33m,\u001b[0m \u001b[0mto_language\u001b[0m\u001b[1;33m=\u001b[0m\u001b[1;34m'en'\u001b[0m\u001b[1;33m,\u001b[0m \u001b[1;33m**\u001b[0m\u001b[0mkwargs\u001b[0m\u001b[1;33m)\u001b[0m\u001b[1;33m\u001b[0m\u001b[1;33m\u001b[0m\u001b[0m\n",
       "\u001b[1;31mDocstring:\u001b[0m\n",
       "http://bing.com/Translator, http://cn.bing.com/Translator.\n",
       ":param query_text: string, must.\n",
       ":param from_language: string, default 'auto'.\n",
       ":param to_language: string, default 'en'.\n",
       ":param **kwargs:\n",
       "        :param if_use_cn_host: boolean, default None.\n",
       "        :param is_detail_result: boolean, default False.\n",
       "        :param proxies: dict, default None.\n",
       "        :param sleep_seconds: float, >0.05. Best to set it yourself, otherwise there will be surprises.\n",
       ":return: string or list\n",
       "\u001b[1;31mFile:\u001b[0m      c:\\users\\franz\\appdata\\local\\programs\\python\\python36\\lib\\site-packages\\translators\\apis.py\n",
       "\u001b[1;31mType:\u001b[0m      method\n"
      ]
     },
     "metadata": {},
     "output_type": "display_data"
    }
   ],
   "source": [
    "?ts.bing"
   ]
  },
  {
   "cell_type": "code",
   "execution_count": null,
   "metadata": {},
   "outputs": [],
   "source": []
  }
 ],
 "metadata": {
  "kernelspec": {
   "display_name": "Python 3",
   "language": "python",
   "name": "python3"
  },
  "language_info": {
   "codemirror_mode": {
    "name": "ipython",
    "version": 3
   },
   "file_extension": ".py",
   "mimetype": "text/x-python",
   "name": "python",
   "nbconvert_exporter": "python",
   "pygments_lexer": "ipython3",
   "version": "3.6.8"
  }
 },
 "nbformat": 4,
 "nbformat_minor": 4
}
