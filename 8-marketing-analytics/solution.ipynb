{
 "cells": [
  {
   "cell_type": "code",
   "execution_count": 1,
   "metadata": {},
   "outputs": [],
   "source": [
    "import numpy as np\n",
    "import pandas as pd\n",
    "from sklearn.utils import class_weight\n",
    "from sklearn.model_selection import train_test_split, GridSearchCV\n",
    "from sklearn.metrics import matthews_corrcoef, make_scorer\n",
    "import xgboost as xgb\n",
    "import matplotlib.pyplot as plt"
   ]
  },
  {
   "cell_type": "markdown",
   "metadata": {},
   "source": [
    "## Dataset"
   ]
  },
  {
   "cell_type": "markdown",
   "metadata": {},
   "source": [
    "### Load dataset"
   ]
  },
  {
   "cell_type": "code",
   "execution_count": 2,
   "metadata": {},
   "outputs": [],
   "source": [
    "df_train = pd.read_csv('marketing-analytics-dataset/train.csv', encoding='utf8', parse_dates=['grass_date'])\n",
    "df_test  = pd.read_csv('marketing-analytics-dataset/test.csv', encoding='utf8',  parse_dates=['grass_date'])\n",
    "df_users = pd.read_csv('marketing-analytics-dataset/users.csv', encoding='utf8')\n",
    "df_submission = pd.read_csv('marketing-analytics-dataset/sample_submission_0_1.csv')"
   ]
  },
  {
   "cell_type": "code",
   "execution_count": 3,
   "metadata": {},
   "outputs": [
    {
     "data": {
      "text/html": [
       "<div>\n",
       "<style scoped>\n",
       "    .dataframe tbody tr th:only-of-type {\n",
       "        vertical-align: middle;\n",
       "    }\n",
       "\n",
       "    .dataframe tbody tr th {\n",
       "        vertical-align: top;\n",
       "    }\n",
       "\n",
       "    .dataframe thead th {\n",
       "        text-align: right;\n",
       "    }\n",
       "</style>\n",
       "<table border=\"1\" class=\"dataframe\">\n",
       "  <thead>\n",
       "    <tr style=\"text-align: right;\">\n",
       "      <th></th>\n",
       "      <th>country_code</th>\n",
       "      <th>grass_date</th>\n",
       "      <th>user_id</th>\n",
       "      <th>subject_line_length</th>\n",
       "      <th>last_open_day</th>\n",
       "      <th>last_login_day</th>\n",
       "      <th>last_checkout_day</th>\n",
       "      <th>open_count_last_10_days</th>\n",
       "      <th>open_count_last_30_days</th>\n",
       "      <th>open_count_last_60_days</th>\n",
       "      <th>login_count_last_10_days</th>\n",
       "      <th>login_count_last_30_days</th>\n",
       "      <th>login_count_last_60_days</th>\n",
       "      <th>checkout_count_last_10_days</th>\n",
       "      <th>checkout_count_last_30_days</th>\n",
       "      <th>checkout_count_last_60_days</th>\n",
       "      <th>open_flag</th>\n",
       "      <th>row_id</th>\n",
       "    </tr>\n",
       "  </thead>\n",
       "  <tbody>\n",
       "    <tr>\n",
       "      <th>73534</th>\n",
       "      <td>6</td>\n",
       "      <td>2019-09-02 00:00:00+08:00</td>\n",
       "      <td>127613</td>\n",
       "      <td>39</td>\n",
       "      <td>24</td>\n",
       "      <td>36</td>\n",
       "      <td>279</td>\n",
       "      <td>0</td>\n",
       "      <td>1</td>\n",
       "      <td>1</td>\n",
       "      <td>0</td>\n",
       "      <td>0</td>\n",
       "      <td>0</td>\n",
       "      <td>0</td>\n",
       "      <td>0</td>\n",
       "      <td>0</td>\n",
       "      <td>0</td>\n",
       "      <td>73534</td>\n",
       "    </tr>\n",
       "    <tr>\n",
       "      <th>73535</th>\n",
       "      <td>2</td>\n",
       "      <td>2019-09-02 00:00:00+08:00</td>\n",
       "      <td>127620</td>\n",
       "      <td>38</td>\n",
       "      <td>46</td>\n",
       "      <td>10</td>\n",
       "      <td>51</td>\n",
       "      <td>0</td>\n",
       "      <td>0</td>\n",
       "      <td>1</td>\n",
       "      <td>0</td>\n",
       "      <td>0</td>\n",
       "      <td>0</td>\n",
       "      <td>0</td>\n",
       "      <td>0</td>\n",
       "      <td>0</td>\n",
       "      <td>0</td>\n",
       "      <td>73535</td>\n",
       "    </tr>\n",
       "    <tr>\n",
       "      <th>73536</th>\n",
       "      <td>2</td>\n",
       "      <td>2019-09-02 00:00:00+08:00</td>\n",
       "      <td>127696</td>\n",
       "      <td>32</td>\n",
       "      <td>Never open</td>\n",
       "      <td>Never login</td>\n",
       "      <td>Never checkout</td>\n",
       "      <td>0</td>\n",
       "      <td>0</td>\n",
       "      <td>0</td>\n",
       "      <td>0</td>\n",
       "      <td>0</td>\n",
       "      <td>0</td>\n",
       "      <td>0</td>\n",
       "      <td>0</td>\n",
       "      <td>0</td>\n",
       "      <td>0</td>\n",
       "      <td>73536</td>\n",
       "    </tr>\n",
       "    <tr>\n",
       "      <th>73537</th>\n",
       "      <td>2</td>\n",
       "      <td>2019-09-02 00:00:00+08:00</td>\n",
       "      <td>127807</td>\n",
       "      <td>38</td>\n",
       "      <td>5</td>\n",
       "      <td>34</td>\n",
       "      <td>Never checkout</td>\n",
       "      <td>2</td>\n",
       "      <td>4</td>\n",
       "      <td>4</td>\n",
       "      <td>0</td>\n",
       "      <td>0</td>\n",
       "      <td>0</td>\n",
       "      <td>0</td>\n",
       "      <td>0</td>\n",
       "      <td>0</td>\n",
       "      <td>1</td>\n",
       "      <td>73537</td>\n",
       "    </tr>\n",
       "    <tr>\n",
       "      <th>73538</th>\n",
       "      <td>6</td>\n",
       "      <td>2019-09-02 00:00:00+08:00</td>\n",
       "      <td>127880</td>\n",
       "      <td>39</td>\n",
       "      <td>1</td>\n",
       "      <td>3</td>\n",
       "      <td>Never checkout</td>\n",
       "      <td>2</td>\n",
       "      <td>2</td>\n",
       "      <td>3</td>\n",
       "      <td>0</td>\n",
       "      <td>0</td>\n",
       "      <td>0</td>\n",
       "      <td>0</td>\n",
       "      <td>0</td>\n",
       "      <td>0</td>\n",
       "      <td>0</td>\n",
       "      <td>73538</td>\n",
       "    </tr>\n",
       "  </tbody>\n",
       "</table>\n",
       "</div>"
      ],
      "text/plain": [
       "       country_code                grass_date  user_id  subject_line_length  \\\n",
       "73534             6 2019-09-02 00:00:00+08:00   127613                   39   \n",
       "73535             2 2019-09-02 00:00:00+08:00   127620                   38   \n",
       "73536             2 2019-09-02 00:00:00+08:00   127696                   32   \n",
       "73537             2 2019-09-02 00:00:00+08:00   127807                   38   \n",
       "73538             6 2019-09-02 00:00:00+08:00   127880                   39   \n",
       "\n",
       "      last_open_day last_login_day last_checkout_day  open_count_last_10_days  \\\n",
       "73534            24             36               279                        0   \n",
       "73535            46             10                51                        0   \n",
       "73536    Never open    Never login    Never checkout                        0   \n",
       "73537             5             34    Never checkout                        2   \n",
       "73538             1              3    Never checkout                        2   \n",
       "\n",
       "       open_count_last_30_days  open_count_last_60_days  \\\n",
       "73534                        1                        1   \n",
       "73535                        0                        1   \n",
       "73536                        0                        0   \n",
       "73537                        4                        4   \n",
       "73538                        2                        3   \n",
       "\n",
       "       login_count_last_10_days  login_count_last_30_days  \\\n",
       "73534                         0                         0   \n",
       "73535                         0                         0   \n",
       "73536                         0                         0   \n",
       "73537                         0                         0   \n",
       "73538                         0                         0   \n",
       "\n",
       "       login_count_last_60_days  checkout_count_last_10_days  \\\n",
       "73534                         0                            0   \n",
       "73535                         0                            0   \n",
       "73536                         0                            0   \n",
       "73537                         0                            0   \n",
       "73538                         0                            0   \n",
       "\n",
       "       checkout_count_last_30_days  checkout_count_last_60_days  open_flag  \\\n",
       "73534                            0                            0          0   \n",
       "73535                            0                            0          0   \n",
       "73536                            0                            0          0   \n",
       "73537                            0                            0          1   \n",
       "73538                            0                            0          0   \n",
       "\n",
       "       row_id  \n",
       "73534   73534  \n",
       "73535   73535  \n",
       "73536   73536  \n",
       "73537   73537  \n",
       "73538   73538  "
      ]
     },
     "execution_count": 3,
     "metadata": {},
     "output_type": "execute_result"
    }
   ],
   "source": [
    "df_train.tail()"
   ]
  },
  {
   "cell_type": "code",
   "execution_count": 4,
   "metadata": {},
   "outputs": [
    {
     "data": {
      "text/html": [
       "<div>\n",
       "<style scoped>\n",
       "    .dataframe tbody tr th:only-of-type {\n",
       "        vertical-align: middle;\n",
       "    }\n",
       "\n",
       "    .dataframe tbody tr th {\n",
       "        vertical-align: top;\n",
       "    }\n",
       "\n",
       "    .dataframe thead th {\n",
       "        text-align: right;\n",
       "    }\n",
       "</style>\n",
       "<table border=\"1\" class=\"dataframe\">\n",
       "  <thead>\n",
       "    <tr style=\"text-align: right;\">\n",
       "      <th></th>\n",
       "      <th>country_code</th>\n",
       "      <th>grass_date</th>\n",
       "      <th>user_id</th>\n",
       "      <th>subject_line_length</th>\n",
       "      <th>last_open_day</th>\n",
       "      <th>last_login_day</th>\n",
       "      <th>last_checkout_day</th>\n",
       "      <th>open_count_last_10_days</th>\n",
       "      <th>open_count_last_30_days</th>\n",
       "      <th>open_count_last_60_days</th>\n",
       "      <th>login_count_last_10_days</th>\n",
       "      <th>login_count_last_30_days</th>\n",
       "      <th>login_count_last_60_days</th>\n",
       "      <th>checkout_count_last_10_days</th>\n",
       "      <th>checkout_count_last_30_days</th>\n",
       "      <th>checkout_count_last_60_days</th>\n",
       "      <th>row_id</th>\n",
       "    </tr>\n",
       "  </thead>\n",
       "  <tbody>\n",
       "    <tr>\n",
       "      <th>55965</th>\n",
       "      <td>6</td>\n",
       "      <td>2019-09-29 00:00:00+08:00</td>\n",
       "      <td>127348</td>\n",
       "      <td>53</td>\n",
       "      <td>Never open</td>\n",
       "      <td>4</td>\n",
       "      <td>8</td>\n",
       "      <td>0</td>\n",
       "      <td>0</td>\n",
       "      <td>0</td>\n",
       "      <td>0</td>\n",
       "      <td>0</td>\n",
       "      <td>0</td>\n",
       "      <td>0</td>\n",
       "      <td>0</td>\n",
       "      <td>0</td>\n",
       "      <td>55965</td>\n",
       "    </tr>\n",
       "    <tr>\n",
       "      <th>55966</th>\n",
       "      <td>6</td>\n",
       "      <td>2019-09-29 00:00:00+08:00</td>\n",
       "      <td>127396</td>\n",
       "      <td>53</td>\n",
       "      <td>59</td>\n",
       "      <td>802</td>\n",
       "      <td>1207</td>\n",
       "      <td>0</td>\n",
       "      <td>0</td>\n",
       "      <td>1</td>\n",
       "      <td>0</td>\n",
       "      <td>0</td>\n",
       "      <td>0</td>\n",
       "      <td>0</td>\n",
       "      <td>0</td>\n",
       "      <td>0</td>\n",
       "      <td>55966</td>\n",
       "    </tr>\n",
       "    <tr>\n",
       "      <th>55967</th>\n",
       "      <td>6</td>\n",
       "      <td>2019-09-29 00:00:00+08:00</td>\n",
       "      <td>127574</td>\n",
       "      <td>43</td>\n",
       "      <td>Never open</td>\n",
       "      <td>7</td>\n",
       "      <td>Never checkout</td>\n",
       "      <td>0</td>\n",
       "      <td>0</td>\n",
       "      <td>0</td>\n",
       "      <td>0</td>\n",
       "      <td>0</td>\n",
       "      <td>0</td>\n",
       "      <td>0</td>\n",
       "      <td>0</td>\n",
       "      <td>0</td>\n",
       "      <td>55967</td>\n",
       "    </tr>\n",
       "    <tr>\n",
       "      <th>55968</th>\n",
       "      <td>6</td>\n",
       "      <td>2019-09-29 00:00:00+08:00</td>\n",
       "      <td>127887</td>\n",
       "      <td>43</td>\n",
       "      <td>5</td>\n",
       "      <td>5</td>\n",
       "      <td>6</td>\n",
       "      <td>2</td>\n",
       "      <td>5</td>\n",
       "      <td>14</td>\n",
       "      <td>0</td>\n",
       "      <td>0</td>\n",
       "      <td>0</td>\n",
       "      <td>0</td>\n",
       "      <td>0</td>\n",
       "      <td>0</td>\n",
       "      <td>55968</td>\n",
       "    </tr>\n",
       "    <tr>\n",
       "      <th>55969</th>\n",
       "      <td>6</td>\n",
       "      <td>2019-09-29 00:00:00+08:00</td>\n",
       "      <td>127895</td>\n",
       "      <td>53</td>\n",
       "      <td>5</td>\n",
       "      <td>3</td>\n",
       "      <td>20</td>\n",
       "      <td>2</td>\n",
       "      <td>14</td>\n",
       "      <td>27</td>\n",
       "      <td>0</td>\n",
       "      <td>0</td>\n",
       "      <td>0</td>\n",
       "      <td>0</td>\n",
       "      <td>0</td>\n",
       "      <td>0</td>\n",
       "      <td>55969</td>\n",
       "    </tr>\n",
       "  </tbody>\n",
       "</table>\n",
       "</div>"
      ],
      "text/plain": [
       "       country_code                grass_date  user_id  subject_line_length  \\\n",
       "55965             6 2019-09-29 00:00:00+08:00   127348                   53   \n",
       "55966             6 2019-09-29 00:00:00+08:00   127396                   53   \n",
       "55967             6 2019-09-29 00:00:00+08:00   127574                   43   \n",
       "55968             6 2019-09-29 00:00:00+08:00   127887                   43   \n",
       "55969             6 2019-09-29 00:00:00+08:00   127895                   53   \n",
       "\n",
       "      last_open_day last_login_day last_checkout_day  open_count_last_10_days  \\\n",
       "55965    Never open              4                 8                        0   \n",
       "55966            59            802              1207                        0   \n",
       "55967    Never open              7    Never checkout                        0   \n",
       "55968             5              5                 6                        2   \n",
       "55969             5              3                20                        2   \n",
       "\n",
       "       open_count_last_30_days  open_count_last_60_days  \\\n",
       "55965                        0                        0   \n",
       "55966                        0                        1   \n",
       "55967                        0                        0   \n",
       "55968                        5                       14   \n",
       "55969                       14                       27   \n",
       "\n",
       "       login_count_last_10_days  login_count_last_30_days  \\\n",
       "55965                         0                         0   \n",
       "55966                         0                         0   \n",
       "55967                         0                         0   \n",
       "55968                         0                         0   \n",
       "55969                         0                         0   \n",
       "\n",
       "       login_count_last_60_days  checkout_count_last_10_days  \\\n",
       "55965                         0                            0   \n",
       "55966                         0                            0   \n",
       "55967                         0                            0   \n",
       "55968                         0                            0   \n",
       "55969                         0                            0   \n",
       "\n",
       "       checkout_count_last_30_days  checkout_count_last_60_days  row_id  \n",
       "55965                            0                            0   55965  \n",
       "55966                            0                            0   55966  \n",
       "55967                            0                            0   55967  \n",
       "55968                            0                            0   55968  \n",
       "55969                            0                            0   55969  "
      ]
     },
     "execution_count": 4,
     "metadata": {},
     "output_type": "execute_result"
    }
   ],
   "source": [
    "df_test.tail()"
   ]
  },
  {
   "cell_type": "code",
   "execution_count": 5,
   "metadata": {},
   "outputs": [
    {
     "data": {
      "text/html": [
       "<div>\n",
       "<style scoped>\n",
       "    .dataframe tbody tr th:only-of-type {\n",
       "        vertical-align: middle;\n",
       "    }\n",
       "\n",
       "    .dataframe tbody tr th {\n",
       "        vertical-align: top;\n",
       "    }\n",
       "\n",
       "    .dataframe thead th {\n",
       "        text-align: right;\n",
       "    }\n",
       "</style>\n",
       "<table border=\"1\" class=\"dataframe\">\n",
       "  <thead>\n",
       "    <tr style=\"text-align: right;\">\n",
       "      <th></th>\n",
       "      <th>user_id</th>\n",
       "      <th>attr_1</th>\n",
       "      <th>attr_2</th>\n",
       "      <th>attr_3</th>\n",
       "      <th>age</th>\n",
       "      <th>domain</th>\n",
       "    </tr>\n",
       "  </thead>\n",
       "  <tbody>\n",
       "    <tr>\n",
       "      <th>127881</th>\n",
       "      <td>127921</td>\n",
       "      <td>NaN</td>\n",
       "      <td>1.0</td>\n",
       "      <td>0.0</td>\n",
       "      <td>NaN</td>\n",
       "      <td>@yahoo.com</td>\n",
       "    </tr>\n",
       "    <tr>\n",
       "      <th>127882</th>\n",
       "      <td>127922</td>\n",
       "      <td>1.0</td>\n",
       "      <td>1.0</td>\n",
       "      <td>0.0</td>\n",
       "      <td>20.0</td>\n",
       "      <td>@gmail.com</td>\n",
       "    </tr>\n",
       "    <tr>\n",
       "      <th>127883</th>\n",
       "      <td>127923</td>\n",
       "      <td>NaN</td>\n",
       "      <td>1.0</td>\n",
       "      <td>0.0</td>\n",
       "      <td>NaN</td>\n",
       "      <td>@gmail.com</td>\n",
       "    </tr>\n",
       "    <tr>\n",
       "      <th>127884</th>\n",
       "      <td>127924</td>\n",
       "      <td>NaN</td>\n",
       "      <td>0.0</td>\n",
       "      <td>0.0</td>\n",
       "      <td>NaN</td>\n",
       "      <td>@gmail.com</td>\n",
       "    </tr>\n",
       "    <tr>\n",
       "      <th>127885</th>\n",
       "      <td>127925</td>\n",
       "      <td>NaN</td>\n",
       "      <td>1.0</td>\n",
       "      <td>0.0</td>\n",
       "      <td>NaN</td>\n",
       "      <td>@gmail.com</td>\n",
       "    </tr>\n",
       "  </tbody>\n",
       "</table>\n",
       "</div>"
      ],
      "text/plain": [
       "        user_id  attr_1  attr_2  attr_3   age      domain\n",
       "127881   127921     NaN     1.0     0.0   NaN  @yahoo.com\n",
       "127882   127922     1.0     1.0     0.0  20.0  @gmail.com\n",
       "127883   127923     NaN     1.0     0.0   NaN  @gmail.com\n",
       "127884   127924     NaN     0.0     0.0   NaN  @gmail.com\n",
       "127885   127925     NaN     1.0     0.0   NaN  @gmail.com"
      ]
     },
     "execution_count": 5,
     "metadata": {},
     "output_type": "execute_result"
    }
   ],
   "source": [
    "df_users.tail()"
   ]
  },
  {
   "cell_type": "markdown",
   "metadata": {},
   "source": [
    "### EDA"
   ]
  },
  {
   "cell_type": "code",
   "execution_count": 6,
   "metadata": {},
   "outputs": [
    {
     "data": {
      "text/plain": [
       "array([1, 2, 3, 4, 5, 6, 7], dtype=int64)"
      ]
     },
     "execution_count": 6,
     "metadata": {},
     "output_type": "execute_result"
    }
   ],
   "source": [
    "np.unique(df_train['country_code'])"
   ]
  },
  {
   "cell_type": "code",
   "execution_count": 7,
   "metadata": {},
   "outputs": [
    {
     "data": {
      "text/plain": [
       "array([0, 1], dtype=int64)"
      ]
     },
     "execution_count": 7,
     "metadata": {},
     "output_type": "execute_result"
    }
   ],
   "source": [
    "np.unique(df_train['open_flag'])"
   ]
  },
  {
   "cell_type": "code",
   "execution_count": 8,
   "metadata": {},
   "outputs": [
    {
     "data": {
      "text/plain": [
       "(62083, 11456)"
      ]
     },
     "execution_count": 8,
     "metadata": {},
     "output_type": "execute_result"
    }
   ],
   "source": [
    "len(df_train['open_flag'][df_train['open_flag'] == 0]), len(df_train['open_flag'][df_train['open_flag'] == 1])"
   ]
  },
  {
   "cell_type": "code",
   "execution_count": 9,
   "metadata": {},
   "outputs": [
    {
     "name": "stderr",
     "output_type": "stream",
     "text": [
      "c:\\users\\franz\\appdata\\local\\programs\\python\\python36\\lib\\site-packages\\sklearn\\utils\\validation.py:71: FutureWarning: Pass classes=[0 1], y=0        0\n",
      "1        1\n",
      "2        0\n",
      "3        0\n",
      "4        0\n",
      "        ..\n",
      "73534    0\n",
      "73535    0\n",
      "73536    0\n",
      "73537    1\n",
      "73538    0\n",
      "Name: open_flag, Length: 73539, dtype: int64 as keyword args. From version 0.25 passing these as positional arguments will result in an error\n",
      "  FutureWarning)\n"
     ]
    },
    {
     "data": {
      "text/plain": [
       "array([0.59226358, 3.20962814])"
      ]
     },
     "execution_count": 9,
     "metadata": {},
     "output_type": "execute_result"
    }
   ],
   "source": [
    "class_weights = class_weight.compute_class_weight('balanced',\n",
    "                                                  np.unique(df_train['open_flag']),\n",
    "                                                  df_train['open_flag'])\n",
    "class_weights"
   ]
  },
  {
   "cell_type": "code",
   "execution_count": 10,
   "metadata": {},
   "outputs": [
    {
     "name": "stdout",
     "output_type": "stream",
     "text": [
      "# unique users: 72845\n",
      "repeat ratio: 0.009437169393111138\n"
     ]
    }
   ],
   "source": [
    "n_unique = len(np.unique(df_train['user_id']))\n",
    "print(\"# unique users:\", n_unique)\n",
    "print(\"repeat ratio:\", (len(df_train) - n_unique) / len(df_train))"
   ]
  },
  {
   "cell_type": "code",
   "execution_count": 11,
   "metadata": {},
   "outputs": [
    {
     "name": "stdout",
     "output_type": "stream",
     "text": [
      "73539\n",
      "463\n",
      "74\n",
      "2334\n"
     ]
    }
   ],
   "source": [
    "print(len(df_train))\n",
    "print(len(df_train[(df_train['last_open_day'] == 'Never open') & (df_train['open_flag'] == 1)]))\n",
    "print(len(df_train[(df_train['last_login_day'] == 'Never login') & (df_train['open_flag'] == 1)]))\n",
    "print(len(df_train[(df_train['last_checkout_day'] == 'Never checkout') & (df_train['open_flag'] == 1)]))"
   ]
  },
  {
   "cell_type": "code",
   "execution_count": 12,
   "metadata": {},
   "outputs": [
    {
     "data": {
      "text/plain": [
       "array([0, 1], dtype=int64)"
      ]
     },
     "execution_count": 12,
     "metadata": {},
     "output_type": "execute_result"
    }
   ],
   "source": [
    "np.unique(df_train['open_flag'])"
   ]
  },
  {
   "cell_type": "code",
   "execution_count": 13,
   "metadata": {},
   "outputs": [
    {
     "name": "stdout",
     "output_type": "stream",
     "text": [
      "# of samples:         73539\n",
      "# of open_flag==1000: 0\n"
     ]
    }
   ],
   "source": [
    "print(\"# of samples:        \", len(df_train))\n",
    "print(\"# of open_flag==1000:\", len(df_train[df_train['open_flag'] == 1000]))"
   ]
  },
  {
   "cell_type": "code",
   "execution_count": 14,
   "metadata": {},
   "outputs": [
    {
     "data": {
      "text/plain": [
       "Timestamp('2019-07-16 00:00:00+0800', tz='pytz.FixedOffset(480)')"
      ]
     },
     "execution_count": 14,
     "metadata": {},
     "output_type": "execute_result"
    }
   ],
   "source": [
    "min_date = df_train['grass_date'].min()\n",
    "min_date"
   ]
  },
  {
   "cell_type": "markdown",
   "metadata": {},
   "source": [
    "#### Users"
   ]
  },
  {
   "cell_type": "code",
   "execution_count": 16,
   "metadata": {},
   "outputs": [
    {
     "name": "stdout",
     "output_type": "stream",
     "text": [
      "[0. 1.]\n",
      "[0. 1.]\n",
      "[0. 1. 2. 3. 4.]\n"
     ]
    }
   ],
   "source": [
    "print(np.unique(df_users['attr_1'].dropna()))\n",
    "print(np.unique(df_users['attr_2'].dropna()))\n",
    "print(np.unique(df_users['attr_3'].dropna()))"
   ]
  },
  {
   "cell_type": "code",
   "execution_count": 17,
   "metadata": {},
   "outputs": [
    {
     "name": "stdout",
     "output_type": "stream",
     "text": [
      "#Users: 127886\n",
      "78987\n",
      "127439\n",
      "127886\n"
     ]
    }
   ],
   "source": [
    "print(\"#Users:\", len(df_users))\n",
    "print(len(df_users['attr_1'].dropna()))\n",
    "print(len(df_users['attr_2'].dropna()))\n",
    "print(len(df_users['attr_3'].dropna()))"
   ]
  },
  {
   "cell_type": "markdown",
   "metadata": {},
   "source": [
    "### Preprocess"
   ]
  },
  {
   "cell_type": "code",
   "execution_count": 18,
   "metadata": {},
   "outputs": [],
   "source": [
    "df_train['has_opened'] = 1*(df_train['last_open_day'] != 'Never open')\n",
    "df_train.loc[df_train['last_open_day'] == 'Never open', 'last_open_day'] = 1000\n",
    "df_train['last_open_day'] = df_train['last_open_day'].astype(int)\n",
    "df_test['has_opened']  =  1*(df_test['last_open_day'] != 'Never open')\n",
    "df_test.loc[df_test['last_open_day'] == 'Never open', 'last_open_day']   = 1000\n",
    "df_test['last_open_day'] = df_test['last_open_day'].astype(int)"
   ]
  },
  {
   "cell_type": "code",
   "execution_count": 19,
   "metadata": {},
   "outputs": [],
   "source": [
    "df_train['has_login'] = 1*(df_train['last_login_day'] != 'Never login')\n",
    "df_train.loc[df_train['last_login_day'] == 'Never login', 'last_login_day'] = 1000\n",
    "df_train['last_login_day'] = df_train['last_login_day'].astype(int)\n",
    "df_test['has_login']  =  1*(df_test['last_login_day'] != 'Never login')\n",
    "df_test.loc[df_test['last_login_day'] == 'Never login', 'last_login_day']   = 1000\n",
    "df_test['last_login_day'] = df_test['last_login_day'].astype(int)"
   ]
  },
  {
   "cell_type": "code",
   "execution_count": 20,
   "metadata": {},
   "outputs": [],
   "source": [
    "df_train['has_checkouted'] = 1*(df_train['last_checkout_day'] != 'Never checkout')\n",
    "df_train.loc[df_train['last_checkout_day'] == 'Never checkout', 'last_checkout_day'] = 1000\n",
    "df_train['last_checkout_day'] = df_train['last_checkout_day'].astype(int)\n",
    "df_test['has_checkouted']  =  1*(df_test['last_checkout_day'] != 'Never checkout')\n",
    "df_test.loc[df_test['last_checkout_day'] == 'Never checkout', 'last_checkout_day']   = 1000\n",
    "df_test['last_checkout_day'] = df_test['last_checkout_day'].astype(int)"
   ]
  },
  {
   "cell_type": "markdown",
   "metadata": {},
   "source": [
    "### Dates"
   ]
  },
  {
   "cell_type": "code",
   "execution_count": 35,
   "metadata": {},
   "outputs": [],
   "source": [
    "#df_train['year']  = df_train['grass_date'].dt.year\n",
    "#df_train['month'] = df_train['grass_date'].dt.month\n",
    "#df_train['day']   = df_train['grass_date'].dt.day\n",
    "df_train['days_from_start'] = (df_train['grass_date'] - min_date).dt.days"
   ]
  },
  {
   "cell_type": "code",
   "execution_count": 36,
   "metadata": {},
   "outputs": [],
   "source": [
    "#df_test['year']   = df_test['grass_date'].dt.year\n",
    "#df_test['month']  = df_test['grass_date'].dt.month\n",
    "#df_test['day']    = df_test['grass_date'].dt.day\n",
    "df_test['days_from_start']  = (df_test['grass_date'] - min_date).dt.days"
   ]
  },
  {
   "cell_type": "markdown",
   "metadata": {},
   "source": [
    "### Merge"
   ]
  },
  {
   "cell_type": "code",
   "execution_count": 37,
   "metadata": {},
   "outputs": [],
   "source": [
    "df_train_ = pd.concat([df_train, pd.get_dummies(df_train['country_code'], prefix='country')], axis=1)\n",
    "df_test_  = pd.concat([df_test,  pd.get_dummies(df_test['country_code'],  prefix='country')], axis=1)"
   ]
  },
  {
   "cell_type": "code",
   "execution_count": 38,
   "metadata": {},
   "outputs": [
    {
     "data": {
      "text/html": [
       "<div>\n",
       "<style scoped>\n",
       "    .dataframe tbody tr th:only-of-type {\n",
       "        vertical-align: middle;\n",
       "    }\n",
       "\n",
       "    .dataframe tbody tr th {\n",
       "        vertical-align: top;\n",
       "    }\n",
       "\n",
       "    .dataframe thead th {\n",
       "        text-align: right;\n",
       "    }\n",
       "</style>\n",
       "<table border=\"1\" class=\"dataframe\">\n",
       "  <thead>\n",
       "    <tr style=\"text-align: right;\">\n",
       "      <th></th>\n",
       "      <th>user_id</th>\n",
       "      <th>attr_1</th>\n",
       "      <th>attr_2</th>\n",
       "      <th>attr_3</th>\n",
       "      <th>age</th>\n",
       "      <th>domain</th>\n",
       "      <th>domain_@163.com</th>\n",
       "      <th>domain_@gmail.com</th>\n",
       "      <th>domain_@hotmail.com</th>\n",
       "      <th>domain_@icloud.com</th>\n",
       "      <th>domain_@live.com</th>\n",
       "      <th>domain_@outlook.com</th>\n",
       "      <th>domain_@qq.com</th>\n",
       "      <th>domain_@rocketmail.com</th>\n",
       "      <th>domain_@yahoo.com</th>\n",
       "      <th>domain_@ymail.com</th>\n",
       "      <th>domain_other</th>\n",
       "    </tr>\n",
       "  </thead>\n",
       "  <tbody>\n",
       "    <tr>\n",
       "      <th>0</th>\n",
       "      <td>0</td>\n",
       "      <td>NaN</td>\n",
       "      <td>1.0</td>\n",
       "      <td>0.0</td>\n",
       "      <td>NaN</td>\n",
       "      <td>@gmail.com</td>\n",
       "      <td>0</td>\n",
       "      <td>1</td>\n",
       "      <td>0</td>\n",
       "      <td>0</td>\n",
       "      <td>0</td>\n",
       "      <td>0</td>\n",
       "      <td>0</td>\n",
       "      <td>0</td>\n",
       "      <td>0</td>\n",
       "      <td>0</td>\n",
       "      <td>0</td>\n",
       "    </tr>\n",
       "    <tr>\n",
       "      <th>1</th>\n",
       "      <td>1</td>\n",
       "      <td>1.0</td>\n",
       "      <td>1.0</td>\n",
       "      <td>2.0</td>\n",
       "      <td>50.0</td>\n",
       "      <td>@gmail.com</td>\n",
       "      <td>0</td>\n",
       "      <td>1</td>\n",
       "      <td>0</td>\n",
       "      <td>0</td>\n",
       "      <td>0</td>\n",
       "      <td>0</td>\n",
       "      <td>0</td>\n",
       "      <td>0</td>\n",
       "      <td>0</td>\n",
       "      <td>0</td>\n",
       "      <td>0</td>\n",
       "    </tr>\n",
       "    <tr>\n",
       "      <th>2</th>\n",
       "      <td>2</td>\n",
       "      <td>NaN</td>\n",
       "      <td>1.0</td>\n",
       "      <td>0.0</td>\n",
       "      <td>NaN</td>\n",
       "      <td>other</td>\n",
       "      <td>0</td>\n",
       "      <td>0</td>\n",
       "      <td>0</td>\n",
       "      <td>0</td>\n",
       "      <td>0</td>\n",
       "      <td>0</td>\n",
       "      <td>0</td>\n",
       "      <td>0</td>\n",
       "      <td>0</td>\n",
       "      <td>0</td>\n",
       "      <td>1</td>\n",
       "    </tr>\n",
       "    <tr>\n",
       "      <th>3</th>\n",
       "      <td>3</td>\n",
       "      <td>NaN</td>\n",
       "      <td>1.0</td>\n",
       "      <td>0.0</td>\n",
       "      <td>NaN</td>\n",
       "      <td>@gmail.com</td>\n",
       "      <td>0</td>\n",
       "      <td>1</td>\n",
       "      <td>0</td>\n",
       "      <td>0</td>\n",
       "      <td>0</td>\n",
       "      <td>0</td>\n",
       "      <td>0</td>\n",
       "      <td>0</td>\n",
       "      <td>0</td>\n",
       "      <td>0</td>\n",
       "      <td>0</td>\n",
       "    </tr>\n",
       "    <tr>\n",
       "      <th>4</th>\n",
       "      <td>4</td>\n",
       "      <td>1.0</td>\n",
       "      <td>1.0</td>\n",
       "      <td>2.0</td>\n",
       "      <td>33.0</td>\n",
       "      <td>@gmail.com</td>\n",
       "      <td>0</td>\n",
       "      <td>1</td>\n",
       "      <td>0</td>\n",
       "      <td>0</td>\n",
       "      <td>0</td>\n",
       "      <td>0</td>\n",
       "      <td>0</td>\n",
       "      <td>0</td>\n",
       "      <td>0</td>\n",
       "      <td>0</td>\n",
       "      <td>0</td>\n",
       "    </tr>\n",
       "  </tbody>\n",
       "</table>\n",
       "</div>"
      ],
      "text/plain": [
       "   user_id  attr_1  attr_2  attr_3   age      domain  domain_@163.com  \\\n",
       "0        0     NaN     1.0     0.0   NaN  @gmail.com                0   \n",
       "1        1     1.0     1.0     2.0  50.0  @gmail.com                0   \n",
       "2        2     NaN     1.0     0.0   NaN       other                0   \n",
       "3        3     NaN     1.0     0.0   NaN  @gmail.com                0   \n",
       "4        4     1.0     1.0     2.0  33.0  @gmail.com                0   \n",
       "\n",
       "   domain_@gmail.com  domain_@hotmail.com  domain_@icloud.com  \\\n",
       "0                  1                    0                   0   \n",
       "1                  1                    0                   0   \n",
       "2                  0                    0                   0   \n",
       "3                  1                    0                   0   \n",
       "4                  1                    0                   0   \n",
       "\n",
       "   domain_@live.com  domain_@outlook.com  domain_@qq.com  \\\n",
       "0                 0                    0               0   \n",
       "1                 0                    0               0   \n",
       "2                 0                    0               0   \n",
       "3                 0                    0               0   \n",
       "4                 0                    0               0   \n",
       "\n",
       "   domain_@rocketmail.com  domain_@yahoo.com  domain_@ymail.com  domain_other  \n",
       "0                       0                  0                  0             0  \n",
       "1                       0                  0                  0             0  \n",
       "2                       0                  0                  0             1  \n",
       "3                       0                  0                  0             0  \n",
       "4                       0                  0                  0             0  "
      ]
     },
     "execution_count": 38,
     "metadata": {},
     "output_type": "execute_result"
    }
   ],
   "source": [
    "df_users_ = pd.concat([df_users, pd.get_dummies(df_users['domain'], prefix='domain')], axis=1)\n",
    "df_users_.head()"
   ]
  },
  {
   "cell_type": "code",
   "execution_count": 44,
   "metadata": {},
   "outputs": [
    {
     "data": {
      "text/html": [
       "<div>\n",
       "<style scoped>\n",
       "    .dataframe tbody tr th:only-of-type {\n",
       "        vertical-align: middle;\n",
       "    }\n",
       "\n",
       "    .dataframe tbody tr th {\n",
       "        vertical-align: top;\n",
       "    }\n",
       "\n",
       "    .dataframe thead th {\n",
       "        text-align: right;\n",
       "    }\n",
       "</style>\n",
       "<table border=\"1\" class=\"dataframe\">\n",
       "  <thead>\n",
       "    <tr style=\"text-align: right;\">\n",
       "      <th></th>\n",
       "      <th>country_code</th>\n",
       "      <th>grass_date</th>\n",
       "      <th>user_id</th>\n",
       "      <th>subject_line_length</th>\n",
       "      <th>last_open_day</th>\n",
       "      <th>last_login_day</th>\n",
       "      <th>last_checkout_day</th>\n",
       "      <th>open_count_last_10_days</th>\n",
       "      <th>open_count_last_30_days</th>\n",
       "      <th>open_count_last_60_days</th>\n",
       "      <th>...</th>\n",
       "      <th>domain_@gmail.com</th>\n",
       "      <th>domain_@hotmail.com</th>\n",
       "      <th>domain_@icloud.com</th>\n",
       "      <th>domain_@live.com</th>\n",
       "      <th>domain_@outlook.com</th>\n",
       "      <th>domain_@qq.com</th>\n",
       "      <th>domain_@rocketmail.com</th>\n",
       "      <th>domain_@yahoo.com</th>\n",
       "      <th>domain_@ymail.com</th>\n",
       "      <th>domain_other</th>\n",
       "    </tr>\n",
       "  </thead>\n",
       "  <tbody>\n",
       "    <tr>\n",
       "      <th>73534</th>\n",
       "      <td>6</td>\n",
       "      <td>2019-09-02 00:00:00+08:00</td>\n",
       "      <td>127613</td>\n",
       "      <td>39</td>\n",
       "      <td>24</td>\n",
       "      <td>36</td>\n",
       "      <td>279</td>\n",
       "      <td>0</td>\n",
       "      <td>1</td>\n",
       "      <td>1</td>\n",
       "      <td>...</td>\n",
       "      <td>0</td>\n",
       "      <td>1</td>\n",
       "      <td>0</td>\n",
       "      <td>0</td>\n",
       "      <td>0</td>\n",
       "      <td>0</td>\n",
       "      <td>0</td>\n",
       "      <td>0</td>\n",
       "      <td>0</td>\n",
       "      <td>0</td>\n",
       "    </tr>\n",
       "    <tr>\n",
       "      <th>73535</th>\n",
       "      <td>2</td>\n",
       "      <td>2019-09-02 00:00:00+08:00</td>\n",
       "      <td>127620</td>\n",
       "      <td>38</td>\n",
       "      <td>46</td>\n",
       "      <td>10</td>\n",
       "      <td>51</td>\n",
       "      <td>0</td>\n",
       "      <td>0</td>\n",
       "      <td>1</td>\n",
       "      <td>...</td>\n",
       "      <td>1</td>\n",
       "      <td>0</td>\n",
       "      <td>0</td>\n",
       "      <td>0</td>\n",
       "      <td>0</td>\n",
       "      <td>0</td>\n",
       "      <td>0</td>\n",
       "      <td>0</td>\n",
       "      <td>0</td>\n",
       "      <td>0</td>\n",
       "    </tr>\n",
       "    <tr>\n",
       "      <th>73536</th>\n",
       "      <td>2</td>\n",
       "      <td>2019-09-02 00:00:00+08:00</td>\n",
       "      <td>127696</td>\n",
       "      <td>32</td>\n",
       "      <td>1000</td>\n",
       "      <td>1000</td>\n",
       "      <td>1000</td>\n",
       "      <td>0</td>\n",
       "      <td>0</td>\n",
       "      <td>0</td>\n",
       "      <td>...</td>\n",
       "      <td>1</td>\n",
       "      <td>0</td>\n",
       "      <td>0</td>\n",
       "      <td>0</td>\n",
       "      <td>0</td>\n",
       "      <td>0</td>\n",
       "      <td>0</td>\n",
       "      <td>0</td>\n",
       "      <td>0</td>\n",
       "      <td>0</td>\n",
       "    </tr>\n",
       "    <tr>\n",
       "      <th>73537</th>\n",
       "      <td>2</td>\n",
       "      <td>2019-09-02 00:00:00+08:00</td>\n",
       "      <td>127807</td>\n",
       "      <td>38</td>\n",
       "      <td>5</td>\n",
       "      <td>34</td>\n",
       "      <td>1000</td>\n",
       "      <td>2</td>\n",
       "      <td>4</td>\n",
       "      <td>4</td>\n",
       "      <td>...</td>\n",
       "      <td>1</td>\n",
       "      <td>0</td>\n",
       "      <td>0</td>\n",
       "      <td>0</td>\n",
       "      <td>0</td>\n",
       "      <td>0</td>\n",
       "      <td>0</td>\n",
       "      <td>0</td>\n",
       "      <td>0</td>\n",
       "      <td>0</td>\n",
       "    </tr>\n",
       "    <tr>\n",
       "      <th>73538</th>\n",
       "      <td>6</td>\n",
       "      <td>2019-09-02 00:00:00+08:00</td>\n",
       "      <td>127880</td>\n",
       "      <td>39</td>\n",
       "      <td>1</td>\n",
       "      <td>3</td>\n",
       "      <td>1000</td>\n",
       "      <td>2</td>\n",
       "      <td>2</td>\n",
       "      <td>3</td>\n",
       "      <td>...</td>\n",
       "      <td>1</td>\n",
       "      <td>0</td>\n",
       "      <td>0</td>\n",
       "      <td>0</td>\n",
       "      <td>0</td>\n",
       "      <td>0</td>\n",
       "      <td>0</td>\n",
       "      <td>0</td>\n",
       "      <td>0</td>\n",
       "      <td>0</td>\n",
       "    </tr>\n",
       "  </tbody>\n",
       "</table>\n",
       "<p>5 rows × 45 columns</p>\n",
       "</div>"
      ],
      "text/plain": [
       "       country_code                grass_date  user_id  subject_line_length  \\\n",
       "73534             6 2019-09-02 00:00:00+08:00   127613                   39   \n",
       "73535             2 2019-09-02 00:00:00+08:00   127620                   38   \n",
       "73536             2 2019-09-02 00:00:00+08:00   127696                   32   \n",
       "73537             2 2019-09-02 00:00:00+08:00   127807                   38   \n",
       "73538             6 2019-09-02 00:00:00+08:00   127880                   39   \n",
       "\n",
       "       last_open_day  last_login_day  last_checkout_day  \\\n",
       "73534             24              36                279   \n",
       "73535             46              10                 51   \n",
       "73536           1000            1000               1000   \n",
       "73537              5              34               1000   \n",
       "73538              1               3               1000   \n",
       "\n",
       "       open_count_last_10_days  open_count_last_30_days  \\\n",
       "73534                        0                        1   \n",
       "73535                        0                        0   \n",
       "73536                        0                        0   \n",
       "73537                        2                        4   \n",
       "73538                        2                        2   \n",
       "\n",
       "       open_count_last_60_days  ...  domain_@gmail.com  domain_@hotmail.com  \\\n",
       "73534                        1  ...                  0                    1   \n",
       "73535                        1  ...                  1                    0   \n",
       "73536                        0  ...                  1                    0   \n",
       "73537                        4  ...                  1                    0   \n",
       "73538                        3  ...                  1                    0   \n",
       "\n",
       "       domain_@icloud.com  domain_@live.com  domain_@outlook.com  \\\n",
       "73534                   0                 0                    0   \n",
       "73535                   0                 0                    0   \n",
       "73536                   0                 0                    0   \n",
       "73537                   0                 0                    0   \n",
       "73538                   0                 0                    0   \n",
       "\n",
       "       domain_@qq.com  domain_@rocketmail.com  domain_@yahoo.com  \\\n",
       "73534               0                       0                  0   \n",
       "73535               0                       0                  0   \n",
       "73536               0                       0                  0   \n",
       "73537               0                       0                  0   \n",
       "73538               0                       0                  0   \n",
       "\n",
       "       domain_@ymail.com  domain_other  \n",
       "73534                  0             0  \n",
       "73535                  0             0  \n",
       "73536                  0             0  \n",
       "73537                  0             0  \n",
       "73538                  0             0  \n",
       "\n",
       "[5 rows x 45 columns]"
      ]
     },
     "execution_count": 44,
     "metadata": {},
     "output_type": "execute_result"
    }
   ],
   "source": [
    "df_train_merged = df_train_.merge(df_users_, on='user_id', how='left')\n",
    "df_train_merged.tail()"
   ]
  },
  {
   "cell_type": "code",
   "execution_count": 45,
   "metadata": {},
   "outputs": [
    {
     "data": {
      "text/html": [
       "<div>\n",
       "<style scoped>\n",
       "    .dataframe tbody tr th:only-of-type {\n",
       "        vertical-align: middle;\n",
       "    }\n",
       "\n",
       "    .dataframe tbody tr th {\n",
       "        vertical-align: top;\n",
       "    }\n",
       "\n",
       "    .dataframe thead th {\n",
       "        text-align: right;\n",
       "    }\n",
       "</style>\n",
       "<table border=\"1\" class=\"dataframe\">\n",
       "  <thead>\n",
       "    <tr style=\"text-align: right;\">\n",
       "      <th></th>\n",
       "      <th>country_code</th>\n",
       "      <th>grass_date</th>\n",
       "      <th>user_id</th>\n",
       "      <th>subject_line_length</th>\n",
       "      <th>last_open_day</th>\n",
       "      <th>last_login_day</th>\n",
       "      <th>last_checkout_day</th>\n",
       "      <th>open_count_last_10_days</th>\n",
       "      <th>open_count_last_30_days</th>\n",
       "      <th>open_count_last_60_days</th>\n",
       "      <th>...</th>\n",
       "      <th>domain_@gmail.com</th>\n",
       "      <th>domain_@hotmail.com</th>\n",
       "      <th>domain_@icloud.com</th>\n",
       "      <th>domain_@live.com</th>\n",
       "      <th>domain_@outlook.com</th>\n",
       "      <th>domain_@qq.com</th>\n",
       "      <th>domain_@rocketmail.com</th>\n",
       "      <th>domain_@yahoo.com</th>\n",
       "      <th>domain_@ymail.com</th>\n",
       "      <th>domain_other</th>\n",
       "    </tr>\n",
       "  </thead>\n",
       "  <tbody>\n",
       "    <tr>\n",
       "      <th>55965</th>\n",
       "      <td>6</td>\n",
       "      <td>2019-09-29 00:00:00+08:00</td>\n",
       "      <td>127348</td>\n",
       "      <td>53</td>\n",
       "      <td>1000</td>\n",
       "      <td>4</td>\n",
       "      <td>8</td>\n",
       "      <td>0</td>\n",
       "      <td>0</td>\n",
       "      <td>0</td>\n",
       "      <td>...</td>\n",
       "      <td>1</td>\n",
       "      <td>0</td>\n",
       "      <td>0</td>\n",
       "      <td>0</td>\n",
       "      <td>0</td>\n",
       "      <td>0</td>\n",
       "      <td>0</td>\n",
       "      <td>0</td>\n",
       "      <td>0</td>\n",
       "      <td>0</td>\n",
       "    </tr>\n",
       "    <tr>\n",
       "      <th>55966</th>\n",
       "      <td>6</td>\n",
       "      <td>2019-09-29 00:00:00+08:00</td>\n",
       "      <td>127396</td>\n",
       "      <td>53</td>\n",
       "      <td>59</td>\n",
       "      <td>802</td>\n",
       "      <td>1207</td>\n",
       "      <td>0</td>\n",
       "      <td>0</td>\n",
       "      <td>1</td>\n",
       "      <td>...</td>\n",
       "      <td>1</td>\n",
       "      <td>0</td>\n",
       "      <td>0</td>\n",
       "      <td>0</td>\n",
       "      <td>0</td>\n",
       "      <td>0</td>\n",
       "      <td>0</td>\n",
       "      <td>0</td>\n",
       "      <td>0</td>\n",
       "      <td>0</td>\n",
       "    </tr>\n",
       "    <tr>\n",
       "      <th>55967</th>\n",
       "      <td>6</td>\n",
       "      <td>2019-09-29 00:00:00+08:00</td>\n",
       "      <td>127574</td>\n",
       "      <td>43</td>\n",
       "      <td>1000</td>\n",
       "      <td>7</td>\n",
       "      <td>1000</td>\n",
       "      <td>0</td>\n",
       "      <td>0</td>\n",
       "      <td>0</td>\n",
       "      <td>...</td>\n",
       "      <td>0</td>\n",
       "      <td>1</td>\n",
       "      <td>0</td>\n",
       "      <td>0</td>\n",
       "      <td>0</td>\n",
       "      <td>0</td>\n",
       "      <td>0</td>\n",
       "      <td>0</td>\n",
       "      <td>0</td>\n",
       "      <td>0</td>\n",
       "    </tr>\n",
       "    <tr>\n",
       "      <th>55968</th>\n",
       "      <td>6</td>\n",
       "      <td>2019-09-29 00:00:00+08:00</td>\n",
       "      <td>127887</td>\n",
       "      <td>43</td>\n",
       "      <td>5</td>\n",
       "      <td>5</td>\n",
       "      <td>6</td>\n",
       "      <td>2</td>\n",
       "      <td>5</td>\n",
       "      <td>14</td>\n",
       "      <td>...</td>\n",
       "      <td>1</td>\n",
       "      <td>0</td>\n",
       "      <td>0</td>\n",
       "      <td>0</td>\n",
       "      <td>0</td>\n",
       "      <td>0</td>\n",
       "      <td>0</td>\n",
       "      <td>0</td>\n",
       "      <td>0</td>\n",
       "      <td>0</td>\n",
       "    </tr>\n",
       "    <tr>\n",
       "      <th>55969</th>\n",
       "      <td>6</td>\n",
       "      <td>2019-09-29 00:00:00+08:00</td>\n",
       "      <td>127895</td>\n",
       "      <td>53</td>\n",
       "      <td>5</td>\n",
       "      <td>3</td>\n",
       "      <td>20</td>\n",
       "      <td>2</td>\n",
       "      <td>14</td>\n",
       "      <td>27</td>\n",
       "      <td>...</td>\n",
       "      <td>0</td>\n",
       "      <td>1</td>\n",
       "      <td>0</td>\n",
       "      <td>0</td>\n",
       "      <td>0</td>\n",
       "      <td>0</td>\n",
       "      <td>0</td>\n",
       "      <td>0</td>\n",
       "      <td>0</td>\n",
       "      <td>0</td>\n",
       "    </tr>\n",
       "  </tbody>\n",
       "</table>\n",
       "<p>5 rows × 44 columns</p>\n",
       "</div>"
      ],
      "text/plain": [
       "       country_code                grass_date  user_id  subject_line_length  \\\n",
       "55965             6 2019-09-29 00:00:00+08:00   127348                   53   \n",
       "55966             6 2019-09-29 00:00:00+08:00   127396                   53   \n",
       "55967             6 2019-09-29 00:00:00+08:00   127574                   43   \n",
       "55968             6 2019-09-29 00:00:00+08:00   127887                   43   \n",
       "55969             6 2019-09-29 00:00:00+08:00   127895                   53   \n",
       "\n",
       "       last_open_day  last_login_day  last_checkout_day  \\\n",
       "55965           1000               4                  8   \n",
       "55966             59             802               1207   \n",
       "55967           1000               7               1000   \n",
       "55968              5               5                  6   \n",
       "55969              5               3                 20   \n",
       "\n",
       "       open_count_last_10_days  open_count_last_30_days  \\\n",
       "55965                        0                        0   \n",
       "55966                        0                        0   \n",
       "55967                        0                        0   \n",
       "55968                        2                        5   \n",
       "55969                        2                       14   \n",
       "\n",
       "       open_count_last_60_days  ...  domain_@gmail.com  domain_@hotmail.com  \\\n",
       "55965                        0  ...                  1                    0   \n",
       "55966                        1  ...                  1                    0   \n",
       "55967                        0  ...                  0                    1   \n",
       "55968                       14  ...                  1                    0   \n",
       "55969                       27  ...                  0                    1   \n",
       "\n",
       "       domain_@icloud.com  domain_@live.com  domain_@outlook.com  \\\n",
       "55965                   0                 0                    0   \n",
       "55966                   0                 0                    0   \n",
       "55967                   0                 0                    0   \n",
       "55968                   0                 0                    0   \n",
       "55969                   0                 0                    0   \n",
       "\n",
       "       domain_@qq.com  domain_@rocketmail.com  domain_@yahoo.com  \\\n",
       "55965               0                       0                  0   \n",
       "55966               0                       0                  0   \n",
       "55967               0                       0                  0   \n",
       "55968               0                       0                  0   \n",
       "55969               0                       0                  0   \n",
       "\n",
       "       domain_@ymail.com  domain_other  \n",
       "55965                  0             0  \n",
       "55966                  0             0  \n",
       "55967                  0             0  \n",
       "55968                  0             0  \n",
       "55969                  0             0  \n",
       "\n",
       "[5 rows x 44 columns]"
      ]
     },
     "execution_count": 45,
     "metadata": {},
     "output_type": "execute_result"
    }
   ],
   "source": [
    "df_test_merged = df_test_.merge(df_users_, on='user_id')\n",
    "df_test_merged.tail()"
   ]
  },
  {
   "cell_type": "code",
   "execution_count": 46,
   "metadata": {},
   "outputs": [
    {
     "data": {
      "text/plain": [
       "Index(['country_code', 'grass_date', 'user_id', 'subject_line_length',\n",
       "       'last_open_day', 'last_login_day', 'last_checkout_day',\n",
       "       'open_count_last_10_days', 'open_count_last_30_days',\n",
       "       'open_count_last_60_days', 'login_count_last_10_days',\n",
       "       'login_count_last_30_days', 'login_count_last_60_days',\n",
       "       'checkout_count_last_10_days', 'checkout_count_last_30_days',\n",
       "       'checkout_count_last_60_days', 'open_flag', 'row_id', 'has_opened',\n",
       "       'has_login', 'has_checkouted', 'days_from_start', 'country_1',\n",
       "       'country_2', 'country_3', 'country_4', 'country_5', 'country_6',\n",
       "       'country_7', 'attr_1', 'attr_2', 'attr_3', 'age', 'domain',\n",
       "       'domain_@163.com', 'domain_@gmail.com', 'domain_@hotmail.com',\n",
       "       'domain_@icloud.com', 'domain_@live.com', 'domain_@outlook.com',\n",
       "       'domain_@qq.com', 'domain_@rocketmail.com', 'domain_@yahoo.com',\n",
       "       'domain_@ymail.com', 'domain_other'],\n",
       "      dtype='object')"
      ]
     },
     "execution_count": 46,
     "metadata": {},
     "output_type": "execute_result"
    }
   ],
   "source": [
    "df_train_merged.columns"
   ]
  },
  {
   "cell_type": "markdown",
   "metadata": {},
   "source": [
    "### Prepare X-Y"
   ]
  },
  {
   "cell_type": "code",
   "execution_count": 47,
   "metadata": {},
   "outputs": [],
   "source": [
    "RELEVANT_COLS = [#'country_code', #'grass_date', \n",
    "                 #'year', 'month', 'day',\n",
    "                 'days_from_start',\n",
    "                 'country_1', 'country_2', 'country_3', 'country_4',\n",
    "                 'country_5', 'country_6', 'country_7',\n",
    "                 'subject_line_length', \n",
    "                 'last_open_day', 'last_login_day', 'last_checkout_day',\n",
    "                 'open_count_last_10_days', 'open_count_last_30_days', 'open_count_last_60_days',\n",
    "                 'login_count_last_10_days', 'login_count_last_30_days', 'login_count_last_60_days',\n",
    "                 'checkout_count_last_10_days', 'checkout_count_last_30_days', 'checkout_count_last_60_days',\n",
    "                 'has_opened', 'has_login', 'has_checkouted',\n",
    "                 #'attr_1', 'attr_2', 'attr_3',\n",
    "                 'age',\n",
    "                 'domain_@163.com', 'domain_@gmail.com', 'domain_@hotmail.com',\n",
    "                 'domain_@icloud.com', 'domain_@live.com', 'domain_@outlook.com',\n",
    "                 'domain_@qq.com', 'domain_@rocketmail.com', 'domain_@yahoo.com', \n",
    "                 'domain_@ymail.com', 'domain_other']\n",
    "X = df_train_merged[RELEVANT_COLS]\n",
    "y = df_train_merged['open_flag']\n",
    "X_test = df_test_merged[RELEVANT_COLS]"
   ]
  },
  {
   "cell_type": "code",
   "execution_count": 48,
   "metadata": {},
   "outputs": [],
   "source": [
    "X_train, X_valid, y_train, y_valid = train_test_split(X, y, test_size=0.1)"
   ]
  },
  {
   "cell_type": "code",
   "execution_count": 49,
   "metadata": {},
   "outputs": [
    {
     "data": {
      "text/plain": [
       "((66185, 36), (66185,))"
      ]
     },
     "execution_count": 49,
     "metadata": {},
     "output_type": "execute_result"
    }
   ],
   "source": [
    "X_train.shape, y_train.shape"
   ]
  },
  {
   "cell_type": "code",
   "execution_count": 50,
   "metadata": {},
   "outputs": [
    {
     "data": {
      "text/plain": [
       "((7354, 36), (7354,))"
      ]
     },
     "execution_count": 50,
     "metadata": {},
     "output_type": "execute_result"
    }
   ],
   "source": [
    "X_valid.shape, y_valid.shape"
   ]
  },
  {
   "cell_type": "code",
   "execution_count": 51,
   "metadata": {},
   "outputs": [
    {
     "data": {
      "text/plain": [
       "array([0, 1], dtype=int64)"
      ]
     },
     "execution_count": 51,
     "metadata": {},
     "output_type": "execute_result"
    }
   ],
   "source": [
    "np.unique(y_train)"
   ]
  },
  {
   "cell_type": "markdown",
   "metadata": {},
   "source": [
    "## Model"
   ]
  },
  {
   "cell_type": "code",
   "execution_count": 52,
   "metadata": {},
   "outputs": [],
   "source": [
    "params = {\n",
    "        #'min_child_weight': [1, 5, 10],\n",
    "        #'gamma': [0.5, 1, 2],\n",
    "        #'subsample': [0.6, 0.8, 1.0],\n",
    "        'colsample_bytree': [0.6, 0.8, 1.0],\n",
    "        'max_depth': [5, 10, 15],\n",
    "        'n_estimators': [50, 100, 150]\n",
    "        }"
   ]
  },
  {
   "cell_type": "code",
   "execution_count": 53,
   "metadata": {},
   "outputs": [],
   "source": [
    "xgb_model = xgb.XGBClassifier(scale_pos_weight=class_weights[1], objective='binary:logistic')"
   ]
  },
  {
   "cell_type": "code",
   "execution_count": 54,
   "metadata": {},
   "outputs": [],
   "source": [
    "clf = GridSearchCV(xgb_model, params, scoring=make_scorer(matthews_corrcoef))"
   ]
  },
  {
   "cell_type": "code",
   "execution_count": 55,
   "metadata": {},
   "outputs": [
    {
     "name": "stdout",
     "output_type": "stream",
     "text": [
      "Wall time: 10min 50s\n"
     ]
    },
    {
     "data": {
      "text/plain": [
       "GridSearchCV(estimator=XGBClassifier(base_score=None, booster=None,\n",
       "                                     colsample_bylevel=None,\n",
       "                                     colsample_bynode=None,\n",
       "                                     colsample_bytree=None, gamma=None,\n",
       "                                     gpu_id=None, importance_type='gain',\n",
       "                                     interaction_constraints=None,\n",
       "                                     learning_rate=None, max_delta_step=None,\n",
       "                                     max_depth=None, min_child_weight=None,\n",
       "                                     missing=nan, monotone_constraints=None,\n",
       "                                     n_estimators=100, n_jobs=None,\n",
       "                                     num_parallel_tree=None, random_state=None,\n",
       "                                     reg_alpha=None, reg_lambda=None,\n",
       "                                     scale_pos_weight=3.2096281424581004,\n",
       "                                     subsample=None, tree_method=None,\n",
       "                                     validate_parameters=None, verbosity=None),\n",
       "             param_grid={'colsample_bytree': [0.6, 0.8, 1.0],\n",
       "                         'max_depth': [5, 10, 15],\n",
       "                         'n_estimators': [50, 100, 150]},\n",
       "             scoring=make_scorer(matthews_corrcoef))"
      ]
     },
     "execution_count": 55,
     "metadata": {},
     "output_type": "execute_result"
    }
   ],
   "source": [
    "%%time\n",
    "# xgb_model.fit(X_train, y_train, verbose=1)\n",
    "clf.fit(X_train, y_train, verbose=1)"
   ]
  },
  {
   "cell_type": "markdown",
   "metadata": {},
   "source": [
    "### Test"
   ]
  },
  {
   "cell_type": "code",
   "execution_count": 56,
   "metadata": {},
   "outputs": [],
   "source": [
    "# y_preds = xgb_model.predict(X_valid)\n",
    "y_preds = clf.predict(X_valid)"
   ]
  },
  {
   "cell_type": "code",
   "execution_count": 57,
   "metadata": {},
   "outputs": [
    {
     "data": {
      "text/plain": [
       "0.5241645860278625"
      ]
     },
     "execution_count": 57,
     "metadata": {},
     "output_type": "execute_result"
    }
   ],
   "source": [
    "matthews_corrcoef(y_valid, y_preds)"
   ]
  },
  {
   "cell_type": "code",
   "execution_count": 58,
   "metadata": {},
   "outputs": [
    {
     "data": {
      "text/plain": [
       "0.5209553697223651"
      ]
     },
     "execution_count": 58,
     "metadata": {},
     "output_type": "execute_result"
    }
   ],
   "source": [
    "0.5209553697223651"
   ]
  },
  {
   "cell_type": "markdown",
   "metadata": {},
   "source": [
    "### Predict"
   ]
  },
  {
   "cell_type": "code",
   "execution_count": 59,
   "metadata": {},
   "outputs": [],
   "source": [
    "#y_preds = xgb_model.predict(X_test)\n",
    "y_preds = clf.predict(X_test)"
   ]
  },
  {
   "cell_type": "code",
   "execution_count": 60,
   "metadata": {},
   "outputs": [],
   "source": [
    "df_submission['open_flag'] = y_preds"
   ]
  },
  {
   "cell_type": "code",
   "execution_count": 61,
   "metadata": {},
   "outputs": [],
   "source": [
    "df_submission.to_csv('submissions/submission_9.csv', index=False)"
   ]
  },
  {
   "cell_type": "code",
   "execution_count": null,
   "metadata": {},
   "outputs": [],
   "source": []
  }
 ],
 "metadata": {
  "kernelspec": {
   "display_name": "Python 3",
   "language": "python",
   "name": "python3"
  },
  "language_info": {
   "codemirror_mode": {
    "name": "ipython",
    "version": 3
   },
   "file_extension": ".py",
   "mimetype": "text/x-python",
   "name": "python",
   "nbconvert_exporter": "python",
   "pygments_lexer": "ipython3",
   "version": "3.6.8"
  }
 },
 "nbformat": 4,
 "nbformat_minor": 4
}
