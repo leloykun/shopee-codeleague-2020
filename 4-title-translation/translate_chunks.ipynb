{
 "cells": [
  {
   "cell_type": "code",
   "execution_count": 1,
   "metadata": {},
   "outputs": [],
   "source": [
    "import pandas as pd\n",
    "\n",
    "from google.cloud import translate_v2 as translate\n",
    "translate_client = translate.Client()"
   ]
  },
  {
   "cell_type": "code",
   "execution_count": 7,
   "metadata": {},
   "outputs": [],
   "source": [
    "df_tcn_chunk_1 = pd.read_csv('product-translation-dataset/train_tcn_chunks/part_1.csv')\n",
    "df_en_chunk_1  = pd.read_csv('product-translation-dataset/train_en_chunks/part_1.csv')"
   ]
  },
  {
   "cell_type": "code",
   "execution_count": 8,
   "metadata": {},
   "outputs": [
    {
     "data": {
      "text/plain": [
       "product_title    701311\n",
       "dtype: int64"
      ]
     },
     "execution_count": 8,
     "metadata": {},
     "output_type": "execute_result"
    }
   ],
   "source": [
    "df_tcn_chunk_1.sum().str.len() + df_en_chunk_1.sum().str.len()"
   ]
  },
  {
   "cell_type": "code",
   "execution_count": 9,
   "metadata": {},
   "outputs": [
    {
     "data": {
      "text/html": [
       "<div>\n",
       "<style scoped>\n",
       "    .dataframe tbody tr th:only-of-type {\n",
       "        vertical-align: middle;\n",
       "    }\n",
       "\n",
       "    .dataframe tbody tr th {\n",
       "        vertical-align: top;\n",
       "    }\n",
       "\n",
       "    .dataframe thead th {\n",
       "        text-align: right;\n",
       "    }\n",
       "</style>\n",
       "<table border=\"1\" class=\"dataframe\">\n",
       "  <thead>\n",
       "    <tr style=\"text-align: right;\">\n",
       "      <th></th>\n",
       "      <th>product_title</th>\n",
       "    </tr>\n",
       "  </thead>\n",
       "  <tbody>\n",
       "    <tr>\n",
       "      <th>9995</th>\n",
       "      <td>全新正品Adidas Originals Falcon B28126 黑粉 郭雪芙杨幂 着用</td>\n",
       "    </tr>\n",
       "    <tr>\n",
       "      <th>9996</th>\n",
       "      <td>【易先生】COACH 65988肩背包 斜垮时尚女包 六色可选 全皮 双拉链 侧背包 手拿包...</td>\n",
       "    </tr>\n",
       "    <tr>\n",
       "      <th>9997</th>\n",
       "      <td>全新现货Louis Vuitton LV 路易威登男女款Zippy老花帆布钱夹LV长款M60...</td>\n",
       "    </tr>\n",
       "    <tr>\n",
       "      <th>9998</th>\n",
       "      <td>固豪腰部按摩器家用腰椎按摩仪背部腰酸腰疼按摩神器车载按摩靠垫</td>\n",
       "    </tr>\n",
       "    <tr>\n",
       "      <th>9999</th>\n",
       "      <td>【俊滢特卖】\\n旅行简约便携女收纳小号首饰品包盒耳钉耳环公主戒指麻料中式刺绣 美甲头绳多功能...</td>\n",
       "    </tr>\n",
       "  </tbody>\n",
       "</table>\n",
       "</div>"
      ],
      "text/plain": [
       "                                          product_title\n",
       "9995     全新正品Adidas Originals Falcon B28126 黑粉 郭雪芙杨幂 着用\n",
       "9996  【易先生】COACH 65988肩背包 斜垮时尚女包 六色可选 全皮 双拉链 侧背包 手拿包...\n",
       "9997  全新现货Louis Vuitton LV 路易威登男女款Zippy老花帆布钱夹LV长款M60...\n",
       "9998                     固豪腰部按摩器家用腰椎按摩仪背部腰酸腰疼按摩神器车载按摩靠垫\n",
       "9999  【俊滢特卖】\\n旅行简约便携女收纳小号首饰品包盒耳钉耳环公主戒指麻料中式刺绣 美甲头绳多功能..."
      ]
     },
     "execution_count": 9,
     "metadata": {},
     "output_type": "execute_result"
    }
   ],
   "source": [
    "df_tcn_chunk_1.tail()"
   ]
  },
  {
   "cell_type": "code",
   "execution_count": 20,
   "metadata": {},
   "outputs": [
    {
     "data": {
      "text/html": [
       "<div>\n",
       "<style scoped>\n",
       "    .dataframe tbody tr th:only-of-type {\n",
       "        vertical-align: middle;\n",
       "    }\n",
       "\n",
       "    .dataframe tbody tr th {\n",
       "        vertical-align: top;\n",
       "    }\n",
       "\n",
       "    .dataframe thead th {\n",
       "        text-align: right;\n",
       "    }\n",
       "</style>\n",
       "<table border=\"1\" class=\"dataframe\">\n",
       "  <thead>\n",
       "    <tr style=\"text-align: right;\">\n",
       "      <th></th>\n",
       "      <th>product_title</th>\n",
       "    </tr>\n",
       "  </thead>\n",
       "  <tbody>\n",
       "    <tr>\n",
       "      <th>9995</th>\n",
       "      <td>women fashion floral long dress</td>\n",
       "    </tr>\n",
       "    <tr>\n",
       "      <th>9996</th>\n",
       "      <td>Flawless Facial Hair Remover</td>\n",
       "    </tr>\n",
       "    <tr>\n",
       "      <th>9997</th>\n",
       "      <td>Active white Total Body Whitening Powder 60g</td>\n",
       "    </tr>\n",
       "    <tr>\n",
       "      <th>9998</th>\n",
       "      <td>Tonymoly Timeless Ferment Snail Foam cleanser ...</td>\n",
       "    </tr>\n",
       "    <tr>\n",
       "      <th>9999</th>\n",
       "      <td>Ghostgirl Lovesick by Tonya Hurley</td>\n",
       "    </tr>\n",
       "  </tbody>\n",
       "</table>\n",
       "</div>"
      ],
      "text/plain": [
       "                                          product_title\n",
       "9995                    women fashion floral long dress\n",
       "9996                       Flawless Facial Hair Remover\n",
       "9997       Active white Total Body Whitening Powder 60g\n",
       "9998  Tonymoly Timeless Ferment Snail Foam cleanser ...\n",
       "9999                 Ghostgirl Lovesick by Tonya Hurley"
      ]
     },
     "execution_count": 20,
     "metadata": {},
     "output_type": "execute_result"
    }
   ],
   "source": [
    "df_en_chunk_1.tail()"
   ]
  },
  {
   "cell_type": "code",
   "execution_count": 14,
   "metadata": {},
   "outputs": [],
   "source": [
    "df_tcn_chunk_1['translated_output'] = df_tcn_chunk_1['product_title'].apply(lambda x : translate_client.translate(x, source_language='zh', target_language='en')['translatedText'])"
   ]
  },
  {
   "cell_type": "code",
   "execution_count": 19,
   "metadata": {},
   "outputs": [],
   "source": [
    "df_tcn_chunk_1.to_csv(\"product-translation-dataset/translations/tcn2en.csv\", index=False)"
   ]
  },
  {
   "cell_type": "code",
   "execution_count": 21,
   "metadata": {},
   "outputs": [
    {
     "name": "stdout",
     "output_type": "stream",
     "text": [
      "Wall time: 22min 57s\n"
     ]
    }
   ],
   "source": [
    "%%time\n",
    "df_en_chunk_1['translated_output'] = df_en_chunk_1['product_title'].apply(lambda x : translate_client.translate(x, source_language='en', target_language='zh')['translatedText'])"
   ]
  },
  {
   "cell_type": "code",
   "execution_count": 22,
   "metadata": {},
   "outputs": [
    {
     "data": {
      "text/html": [
       "<div>\n",
       "<style scoped>\n",
       "    .dataframe tbody tr th:only-of-type {\n",
       "        vertical-align: middle;\n",
       "    }\n",
       "\n",
       "    .dataframe tbody tr th {\n",
       "        vertical-align: top;\n",
       "    }\n",
       "\n",
       "    .dataframe thead th {\n",
       "        text-align: right;\n",
       "    }\n",
       "</style>\n",
       "<table border=\"1\" class=\"dataframe\">\n",
       "  <thead>\n",
       "    <tr style=\"text-align: right;\">\n",
       "      <th></th>\n",
       "      <th>product_title</th>\n",
       "      <th>translated_output</th>\n",
       "    </tr>\n",
       "  </thead>\n",
       "  <tbody>\n",
       "    <tr>\n",
       "      <th>0</th>\n",
       "      <td>Vermicast Pure Organic Fertilizer 1kg</td>\n",
       "      <td>mic微纯有机肥1kg</td>\n",
       "    </tr>\n",
       "    <tr>\n",
       "      <th>1</th>\n",
       "      <td>Denim jumper short with inner 9775 ag</td>\n",
       "      <td>牛仔布短款短裤，内部有9775 AG</td>\n",
       "    </tr>\n",
       "    <tr>\n",
       "      <th>2</th>\n",
       "      <td>Battle for Souls</td>\n",
       "      <td>灵魂之战</td>\n",
       "    </tr>\n",
       "    <tr>\n",
       "      <th>3</th>\n",
       "      <td>Princess Gullie Fashionista Kids Wear Rainbow ...</td>\n",
       "      <td>公主古利（Gullie）时尚达人的孩子们穿着彩虹色连身裤和连身衣</td>\n",
       "    </tr>\n",
       "    <tr>\n",
       "      <th>4</th>\n",
       "      <td>Masking tape 3 inch core</td>\n",
       "      <td>美纹纸胶带3英寸芯</td>\n",
       "    </tr>\n",
       "  </tbody>\n",
       "</table>\n",
       "</div>"
      ],
      "text/plain": [
       "                                       product_title  \\\n",
       "0              Vermicast Pure Organic Fertilizer 1kg   \n",
       "1              Denim jumper short with inner 9775 ag   \n",
       "2                                   Battle for Souls   \n",
       "3  Princess Gullie Fashionista Kids Wear Rainbow ...   \n",
       "4                           Masking tape 3 inch core   \n",
       "\n",
       "                  translated_output  \n",
       "0                       mic微纯有机肥1kg  \n",
       "1                牛仔布短款短裤，内部有9775 AG  \n",
       "2                              灵魂之战  \n",
       "3  公主古利（Gullie）时尚达人的孩子们穿着彩虹色连身裤和连身衣  \n",
       "4                         美纹纸胶带3英寸芯  "
      ]
     },
     "execution_count": 22,
     "metadata": {},
     "output_type": "execute_result"
    }
   ],
   "source": [
    "df_en_chunk_1.head()"
   ]
  },
  {
   "cell_type": "code",
   "execution_count": 23,
   "metadata": {},
   "outputs": [],
   "source": [
    "df_en_chunk_1.to_csv(\"product-translation-dataset/translations/en2tcn.csv\", index=False)"
   ]
  },
  {
   "cell_type": "code",
   "execution_count": null,
   "metadata": {},
   "outputs": [],
   "source": []
  },
  {
   "cell_type": "code",
   "execution_count": null,
   "metadata": {},
   "outputs": [],
   "source": []
  },
  {
   "cell_type": "code",
   "execution_count": 5,
   "metadata": {},
   "outputs": [
    {
     "data": {
      "text/html": [
       "<div>\n",
       "<style scoped>\n",
       "    .dataframe tbody tr th:only-of-type {\n",
       "        vertical-align: middle;\n",
       "    }\n",
       "\n",
       "    .dataframe tbody tr th {\n",
       "        vertical-align: top;\n",
       "    }\n",
       "\n",
       "    .dataframe thead th {\n",
       "        text-align: right;\n",
       "    }\n",
       "</style>\n",
       "<table border=\"1\" class=\"dataframe\">\n",
       "  <thead>\n",
       "    <tr style=\"text-align: right;\">\n",
       "      <th></th>\n",
       "      <th>product_title</th>\n",
       "    </tr>\n",
       "  </thead>\n",
       "  <tbody>\n",
       "    <tr>\n",
       "      <th>0</th>\n",
       "      <td>【PolarStar】美麗諾羊毛保暖襪『淺灰』P18634</td>\n",
       "    </tr>\n",
       "    <tr>\n",
       "      <th>1</th>\n",
       "      <td>甜蜜水晶~天然水晶五行珠手鍊10mm手鍊</td>\n",
       "    </tr>\n",
       "    <tr>\n",
       "      <th>2</th>\n",
       "      <td>粉晶六角柱純銀項鍊</td>\n",
       "    </tr>\n",
       "    <tr>\n",
       "      <th>3</th>\n",
       "      <td>3M SCOTCH VHB 超強力雙面膠-戶外專用 V1808</td>\n",
       "    </tr>\n",
       "    <tr>\n",
       "      <th>4</th>\n",
       "      <td>燈專屬優惠 *4盒</td>\n",
       "    </tr>\n",
       "  </tbody>\n",
       "</table>\n",
       "</div>"
      ],
      "text/plain": [
       "                     product_title\n",
       "0    【PolarStar】美麗諾羊毛保暖襪『淺灰』P18634\n",
       "1             甜蜜水晶~天然水晶五行珠手鍊10mm手鍊\n",
       "2                        粉晶六角柱純銀項鍊\n",
       "3  3M SCOTCH VHB 超強力雙面膠-戶外專用 V1808\n",
       "4                        燈專屬優惠 *4盒"
      ]
     },
     "execution_count": 5,
     "metadata": {},
     "output_type": "execute_result"
    }
   ],
   "source": [
    "df_test_tcn = pd.read_csv('product-translation-dataset/test_tcn.csv').drop('split', axis=1)\n",
    "df_test_tcn.columns = ['product_title']\n",
    "df_test_tcn.head()"
   ]
  },
  {
   "cell_type": "code",
   "execution_count": 6,
   "metadata": {},
   "outputs": [
    {
     "data": {
      "text/plain": [
       "product_title    301445\n",
       "dtype: int64"
      ]
     },
     "execution_count": 6,
     "metadata": {},
     "output_type": "execute_result"
    }
   ],
   "source": [
    "df_test_tcn.sum().str.len()"
   ]
  },
  {
   "cell_type": "code",
   "execution_count": 7,
   "metadata": {},
   "outputs": [],
   "source": [
    "df_test_tcn['translated_output'] = df_test_tcn['product_title'].apply(lambda x : translate_client.translate(x, source_language='zh', target_language='en')['translatedText'])"
   ]
  },
  {
   "cell_type": "code",
   "execution_count": 8,
   "metadata": {},
   "outputs": [],
   "source": [
    "df_test_tcn.to_csv(\"product-translation-dataset/translations/test_tcn2en.csv\", index=False)"
   ]
  },
  {
   "cell_type": "code",
   "execution_count": 11,
   "metadata": {},
   "outputs": [],
   "source": [
    "df_test_tcn_ = df_test_tcn[['translated_output']]\n",
    "df_test_tcn_.to_csv(\"product-translation-dataset/translations/test_en.csv\", index=False)"
   ]
  },
  {
   "cell_type": "code",
   "execution_count": null,
   "metadata": {},
   "outputs": [],
   "source": []
  }
 ],
 "metadata": {
  "kernelspec": {
   "display_name": "Python 3",
   "language": "python",
   "name": "python3"
  },
  "language_info": {
   "codemirror_mode": {
    "name": "ipython",
    "version": 3
   },
   "file_extension": ".py",
   "mimetype": "text/x-python",
   "name": "python",
   "nbconvert_exporter": "python",
   "pygments_lexer": "ipython3",
   "version": "3.6.8"
  }
 },
 "nbformat": 4,
 "nbformat_minor": 4
}
