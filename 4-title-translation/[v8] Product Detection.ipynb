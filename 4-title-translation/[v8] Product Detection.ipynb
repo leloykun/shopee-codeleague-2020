{
 "cells": [
  {
   "cell_type": "code",
   "execution_count": 1,
   "metadata": {},
   "outputs": [],
   "source": [
    "# !pip install git+https://github.com/aleju/imgaug.git git+https://github.com/docPhil99/ImageDataAugmentor"
   ]
  },
  {
   "cell_type": "code",
   "execution_count": 2,
   "metadata": {},
   "outputs": [],
   "source": [
    "import tensorflow as tf\n",
    "import tensorflow.keras as tfk\n",
    "import tensorflow_addons as tfa\n",
    "\n",
    "from tensorflow.keras.preprocessing import image as tfk_image\n",
    "from tensorflow.keras.preprocessing.image import ImageDataGenerator as tfk_ImageDataGenerator\n",
    "\n",
    "#from tensorflow.python.keras.applications.efficientnet import EfficientNetB4 as tfk_BaseModel\n",
    "#from tensorflow.python.keras.applications.efficientnet import preprocess_input as tfk_preprocess_input\n",
    "\n",
    "#from tensorflow.python.keras.applications.inception_v3 import InceptionV3 as tfk_BaseModel\n",
    "#from tensorflow.python.keras.applications.inception_v3 import preprocess_input as tfk_preprocess_input\n",
    "\n",
    "#from tensorflow.python.keras.applications.resnet import ResNet50 as tfk_BaseModel\n",
    "#from tensorflow.python.keras.applications.resnet import preprocess_input as tfk_preprocess_input\n",
    "\n",
    "from tensorflow.python.keras.applications.xception import Xception as tfk_BaseModel\n",
    "from tensorflow.python.keras.applications.xception import preprocess_input as tfk_preprocess_input\n",
    "\n",
    "from ImageDataAugmentor.image_data_augmentor import ImageDataAugmentor\n",
    "import albumentations as A\n",
    "\n",
    "import datetime, os\n",
    "\n",
    "import numpy as np\n",
    "import pandas as pd\n",
    "import matplotlib.pyplot as plt\n",
    "import seaborn as sns; sns.set();\n",
    "from PIL import Image, ImageEnhance\n",
    "\n",
    "from sklearn.utils import class_weight\n",
    "from sklearn.metrics import confusion_matrix, log_loss, accuracy_score\n",
    "from sklearn.preprocessing import OneHotEncoder"
   ]
  },
  {
   "cell_type": "markdown",
   "metadata": {},
   "source": [
    "## Prepare Dataset"
   ]
  },
  {
   "cell_type": "markdown",
   "metadata": {},
   "source": [
    "### Load and combine datasets"
   ]
  },
  {
   "cell_type": "code",
   "execution_count": 3,
   "metadata": {},
   "outputs": [],
   "source": [
    "pd_shopee_train = pd.read_csv('shopee-product-detection-dataset/train.csv')\n",
    "# pd_confusing_images = pd.read_csv('shopee-product-detection-dataset/confusing_images_2__mistake_ratio=0.9.csv')\n",
    "pd_amazon_train = pd.read_csv('amazon-scraped-dataset/amazon.csv')"
   ]
  },
  {
   "cell_type": "code",
   "execution_count": 4,
   "metadata": {},
   "outputs": [],
   "source": [
    "# uncomment to clean up the shopee dataset\n",
    "# mask = ~pd_shopee_train.set_index('dir_filename').index.isin(pd_confusing_images.set_index('dir_filename').index)\n",
    "# pd_shopee_train = pd_shopee_train.loc[mask].copy()"
   ]
  },
  {
   "cell_type": "code",
   "execution_count": 5,
   "metadata": {},
   "outputs": [],
   "source": [
    "pd_shopee_train = pd_shopee_train.sample(frac=1).reset_index(drop=True)\n",
    "pd_shopee_train['category']     = pd_shopee_train['category'].apply(lambda x : '{:02d}'.format(x))\n",
    "pd_shopee_train['dir_filename'] = pd_shopee_train.apply(lambda x: 'shopee-product-detection-dataset/train/{}/{}'.format(x.category, x.filename), axis=1)\n",
    "\n",
    "pd_amazon_train = pd_amazon_train.sample(frac=1).reset_index(drop=True)\n",
    "pd_amazon_train['category']     = pd_amazon_train['category'].apply(lambda x : '{:02d}'.format(x))\n",
    "pd_amazon_train['dir_filename'] = pd_amazon_train.apply(lambda x: 'amazon-scraped-dataset/{}/{}'.format(x.category, x.filename), axis=1)"
   ]
  },
  {
   "cell_type": "code",
   "execution_count": 6,
   "metadata": {},
   "outputs": [
    {
     "data": {
      "text/html": [
       "<div>\n",
       "<style scoped>\n",
       "    .dataframe tbody tr th:only-of-type {\n",
       "        vertical-align: middle;\n",
       "    }\n",
       "\n",
       "    .dataframe tbody tr th {\n",
       "        vertical-align: top;\n",
       "    }\n",
       "\n",
       "    .dataframe thead th {\n",
       "        text-align: right;\n",
       "    }\n",
       "</style>\n",
       "<table border=\"1\" class=\"dataframe\">\n",
       "  <thead>\n",
       "    <tr style=\"text-align: right;\">\n",
       "      <th></th>\n",
       "      <th>filename</th>\n",
       "      <th>category</th>\n",
       "      <th>dir_filename</th>\n",
       "    </tr>\n",
       "  </thead>\n",
       "  <tbody>\n",
       "    <tr>\n",
       "      <th>0</th>\n",
       "      <td>dcc1e336342fc2da16c7b6411660adbf.jpg</td>\n",
       "      <td>19</td>\n",
       "      <td>shopee-product-detection-dataset/train/19/dcc1...</td>\n",
       "    </tr>\n",
       "    <tr>\n",
       "      <th>1</th>\n",
       "      <td>63927ec859cf4c6afe452841dafa47ef.jpg</td>\n",
       "      <td>39</td>\n",
       "      <td>shopee-product-detection-dataset/train/39/6392...</td>\n",
       "    </tr>\n",
       "    <tr>\n",
       "      <th>2</th>\n",
       "      <td>f2aef279f4e18fcafd2d52d3004dbcd9.jpg</td>\n",
       "      <td>09</td>\n",
       "      <td>shopee-product-detection-dataset/train/09/f2ae...</td>\n",
       "    </tr>\n",
       "    <tr>\n",
       "      <th>3</th>\n",
       "      <td>d2f4445f1adf32d10551f7978614af87.jpg</td>\n",
       "      <td>34</td>\n",
       "      <td>shopee-product-detection-dataset/train/34/d2f4...</td>\n",
       "    </tr>\n",
       "    <tr>\n",
       "      <th>4</th>\n",
       "      <td>3d87bc36a317e930b84013530643019f.jpg</td>\n",
       "      <td>29</td>\n",
       "      <td>shopee-product-detection-dataset/train/29/3d87...</td>\n",
       "    </tr>\n",
       "  </tbody>\n",
       "</table>\n",
       "</div>"
      ],
      "text/plain": [
       "                               filename category  \\\n",
       "0  dcc1e336342fc2da16c7b6411660adbf.jpg       19   \n",
       "1  63927ec859cf4c6afe452841dafa47ef.jpg       39   \n",
       "2  f2aef279f4e18fcafd2d52d3004dbcd9.jpg       09   \n",
       "3  d2f4445f1adf32d10551f7978614af87.jpg       34   \n",
       "4  3d87bc36a317e930b84013530643019f.jpg       29   \n",
       "\n",
       "                                        dir_filename  \n",
       "0  shopee-product-detection-dataset/train/19/dcc1...  \n",
       "1  shopee-product-detection-dataset/train/39/6392...  \n",
       "2  shopee-product-detection-dataset/train/09/f2ae...  \n",
       "3  shopee-product-detection-dataset/train/34/d2f4...  \n",
       "4  shopee-product-detection-dataset/train/29/3d87...  "
      ]
     },
     "execution_count": 6,
     "metadata": {},
     "output_type": "execute_result"
    }
   ],
   "source": [
    "pd_combined_dataset = pd_shopee_train.merge(pd_amazon_train, how='outer')\n",
    "pd_combined_dataset.head()"
   ]
  },
  {
   "cell_type": "code",
   "execution_count": 7,
   "metadata": {},
   "outputs": [],
   "source": [
    "assert(len(pd_shopee_train) + len(pd_amazon_train) == len(pd_combined_dataset))\n",
    "assert(np.all(np.unique(pd_combined_dataset['category']) == \n",
    "              np.array(['{:02d}'.format(cat) for cat in range(42)])))"
   ]
  },
  {
   "cell_type": "markdown",
   "metadata": {},
   "source": [
    "### Prepare data generators"
   ]
  },
  {
   "cell_type": "code",
   "execution_count": 8,
   "metadata": {},
   "outputs": [],
   "source": [
    "input_shape = (256, 256, 3)\n",
    "batch_size  = 64 #64+32"
   ]
  },
  {
   "cell_type": "code",
   "execution_count": 9,
   "metadata": {},
   "outputs": [],
   "source": [
    "AUGMENTATIONS = A.Compose([\n",
    "    A.HorizontalFlip(),\n",
    "    A.VerticalFlip(),\n",
    "    A.Rotate(),\n",
    "    A.OneOf([\n",
    "        A.RandomContrast(),\n",
    "        A.RandomGamma(),\n",
    "        A.RandomBrightness(),\n",
    "    ], p = 0.3),\n",
    "    A.OneOf([\n",
    "        A.ElasticTransform(\n",
    "            alpha = 120,\n",
    "            sigma = 120 * 0.05,\n",
    "            alpha_affine = 120 * 0.03\n",
    "        ),\n",
    "        A.GridDistortion(),\n",
    "        A.OpticalDistortion(\n",
    "            distort_limit = 2,\n",
    "            shift_limit = 0.5\n",
    "        ),\n",
    "    ], p = 0.3),\n",
    "    A.OneOf([\n",
    "        A.Cutout(\n",
    "            num_holes=4,\n",
    "            max_h_size=64,\n",
    "            max_w_size=64,\n",
    "            #fill_mode=\"gaussian\"\n",
    "        ),\n",
    "        A.GridDropout(\n",
    "            ratio=0.25,\n",
    "            holes_number_x=8,\n",
    "            holes_number_y=8,\n",
    "            #fill_mode=\"gaussian\"\n",
    "        ),\n",
    "    ], p=1),\n",
    "])"
   ]
  },
  {
   "cell_type": "code",
   "execution_count": 10,
   "metadata": {},
   "outputs": [
    {
     "name": "stdout",
     "output_type": "stream",
     "text": [
      "Found 94554 validated image filenames belonging to 42 classes.\n",
      "Found 10505 validated image filenames belonging to 42 classes.\n"
     ]
    }
   ],
   "source": [
    "train_datagen = ImageDataAugmentor(\n",
    "    preprocess_input=tfk_preprocess_input,\n",
    "    validation_split=0.1,\n",
    "    augment=AUGMENTATIONS,\n",
    ")\n",
    "\n",
    "train_generator = train_datagen.flow_from_dataframe(\n",
    "    pd_shopee_train,\n",
    "    directory='',\n",
    "    x_col='dir_filename',\n",
    "    y_col='category',\n",
    "    target_size=input_shape[:2],\n",
    "    color_mode='rgb',\n",
    "    batch_size=batch_size,\n",
    "    class_mode='categorical',\n",
    "    shuffle=True,\n",
    "    subset='training'\n",
    ")\n",
    "\n",
    "val_generator = train_datagen.flow_from_dataframe(\n",
    "    pd_shopee_train,\n",
    "    directory='',\n",
    "    x_col='dir_filename',\n",
    "    y_col='category',\n",
    "    target_size=input_shape[:2],\n",
    "    color_mode='rgb',\n",
    "    batch_size=batch_size,\n",
    "    class_mode='categorical',\n",
    "    shuffle=True,\n",
    "    subset='validation'\n",
    ")"
   ]
  },
  {
   "cell_type": "markdown",
   "metadata": {},
   "source": [
    "### Check class distributions"
   ]
  },
  {
   "cell_type": "code",
   "execution_count": 11,
   "metadata": {},
   "outputs": [
    {
     "data": {
      "image/png": "[encoded data removed]",
      "text/plain": [
       "<Figure size 432x288 with 1 Axes>"
      ]
     },
     "metadata": {},
     "output_type": "display_data"
    }
   ],
   "source": [
    "plt.title(\"Class Distribution in Combined Dataset\")\n",
    "plt.xlabel(\"Class\")\n",
    "plt.ylabel(\"Freq\")\n",
    "plt.hist(pd_combined_dataset['category'].astype(int), bins=np.arange(43));"
   ]
  },
  {
   "cell_type": "code",
   "execution_count": 12,
   "metadata": {},
   "outputs": [
    {
     "data": {
      "image/png": "[encoded data removed]",
      "text/plain": [
       "<Figure size 432x288 with 1 Axes>"
      ]
     },
     "metadata": {},
     "output_type": "display_data"
    }
   ],
   "source": [
    "plt.hist(train_generator.classes, bins=np.arange(43));"
   ]
  },
  {
   "cell_type": "code",
   "execution_count": 13,
   "metadata": {},
   "outputs": [
    {
     "data": {
      "image/png": "[encoded data removed]",
      "text/plain": [
       "<Figure size 432x288 with 1 Axes>"
      ]
     },
     "metadata": {},
     "output_type": "display_data"
    }
   ],
   "source": [
    "plt.hist(val_generator.classes, bins=np.arange(43));"
   ]
  },
  {
   "cell_type": "markdown",
   "metadata": {},
   "source": [
    "### Calculate class weights"
   ]
  },
  {
   "cell_type": "code",
   "execution_count": 14,
   "metadata": {},
   "outputs": [
    {
     "data": {
      "image/png": "[encoded data removed]",
      "text/plain": [
       "<Figure size 432x288 with 1 Axes>"
      ]
     },
     "metadata": {},
     "output_type": "display_data"
    }
   ],
   "source": [
    "class_weights = class_weight.compute_class_weight('balanced',\n",
    "                                                  np.unique(train_generator.classes),\n",
    "                                                  train_generator.classes)\n",
    "class_weights = {i : class_weights[i] for i in range(len(class_weights))}\n",
    "#for i in [0, 1, 2, 3, 20, 41]:\n",
    "#    class_weights[i] = 1.25\n",
    "plt.title(\"Class Weights\")\n",
    "plt.ylabel(\"Weight\")\n",
    "plt.xlabel(\"Class\")\n",
    "plt.bar(class_weights.keys(), class_weights.values());"
   ]
  },
  {
   "cell_type": "markdown",
   "metadata": {},
   "source": [
    "## Prepare Model"
   ]
  },
  {
   "cell_type": "code",
   "execution_count": 15,
   "metadata": {},
   "outputs": [],
   "source": [
    "base_model = tfk_BaseModel(input_shape=input_shape, weights='imagenet', include_top=False)"
   ]
  },
  {
   "cell_type": "code",
   "execution_count": 16,
   "metadata": {},
   "outputs": [],
   "source": [
    "TYPE = 2\n",
    "if TYPE == 1:\n",
    "    for layer in base_model.layers[:-18]:\n",
    "        layer.trainable = False\n",
    "    model = tfk.Sequential([\n",
    "        base_model,\n",
    "        tfk.layers.GlobalMaxPooling2D(),\n",
    "        tfk.layers.Dense(512, activation='relu'),\n",
    "        tfk.layers.Dense(128, activation='relu'),\n",
    "        tfk.layers.Dense(42, activation='softmax', name='output_layer'),\n",
    "    ])\n",
    "elif TYPE == 2:\n",
    "    model = tfk.Sequential([\n",
    "        base_model,\n",
    "        tfk.layers.GlobalMaxPooling2D(),\n",
    "        tfk.layers.Dropout(rate=0.2),\n",
    "        tfk.layers.Dense(42, activation='softmax', name='output_layer'),\n",
    "    ])\n",
    "elif TYPE == 3:\n",
    "    for layer in base_model.layers[:-len(base_model.layers)//5]:\n",
    "        layer.trainable = False\n",
    "    model = tfk.Sequential([\n",
    "        base_model,\n",
    "        tfk.layers.GlobalMaxPooling2D(),\n",
    "        tfk.layers.Dropout(rate=0.2),\n",
    "        tfk.layers.Dense(42, activation='softmax', name='output_layer'),\n",
    "    ])"
   ]
  },
  {
   "cell_type": "code",
   "execution_count": 17,
   "metadata": {},
   "outputs": [
    {
     "name": "stdout",
     "output_type": "stream",
     "text": [
      "Model: \"sequential\"\n",
      "_________________________________________________________________\n",
      "Layer (type)                 Output Shape              Param #   \n",
      "=================================================================\n",
      "xception (Model)             (None, 8, 8, 2048)        20861480  \n",
      "_________________________________________________________________\n",
      "global_max_pooling2d (Global (None, 2048)              0         \n",
      "_________________________________________________________________\n",
      "dropout (Dropout)            (None, 2048)              0         \n",
      "_________________________________________________________________\n",
      "output_layer (Dense)         (None, 42)                86058     \n",
      "=================================================================\n",
      "Total params: 20,947,538\n",
      "Trainable params: 20,893,010\n",
      "Non-trainable params: 54,528\n",
      "_________________________________________________________________\n"
     ]
    }
   ],
   "source": [
    "model.summary()"
   ]
  },
  {
   "cell_type": "code",
   "execution_count": 18,
   "metadata": {},
   "outputs": [
    {
     "data": {
      "image/png": "[encoded data removed]",
      "text/plain": [
       "<IPython.core.display.Image object>"
      ]
     },
     "execution_count": 18,
     "metadata": {},
     "output_type": "execute_result"
    }
   ],
   "source": [
    "tfk.utils.plot_model(model, rankdir='LR', dpi=300, show_shapes=False)"
   ]
  },
  {
   "cell_type": "code",
   "execution_count": 19,
   "metadata": {},
   "outputs": [],
   "source": [
    "# model.save('model_aug_full_4.h5')"
   ]
  },
  {
   "cell_type": "markdown",
   "metadata": {},
   "source": [
    "## Train Top Layers of Model"
   ]
  },
  {
   "cell_type": "markdown",
   "metadata": {},
   "source": [
    "### Load model"
   ]
  },
  {
   "cell_type": "code",
   "execution_count": 20,
   "metadata": {},
   "outputs": [],
   "source": [
    "# model = tfk.models.load_model('model_aug_full_cleaner_19.h5')"
   ]
  },
  {
   "cell_type": "markdown",
   "metadata": {},
   "source": [
    "### Prepare callbacks"
   ]
  },
  {
   "cell_type": "code",
   "execution_count": 21,
   "metadata": {},
   "outputs": [],
   "source": [
    "reduce_lr = tf.keras.callbacks.ReduceLROnPlateau(\n",
    "    monitor='val_loss',\n",
    "    factor=0.2,\n",
    "    patience=10,\n",
    "    min_lr=1e-7\n",
    ")\n",
    "\n",
    "early_stop = tfk.callbacks.EarlyStopping(\n",
    "    monitor='val_loss',\n",
    "    patience=30,\n",
    "    restore_best_weights=True\n",
    ")\n",
    "\n",
    "log_dir = os.path.join(\".model_files/logs/\" + datetime.datetime.now().strftime(\"%Y%m%d-%H%M%S\"))\n",
    "if not os.path.exists(log_dir):\n",
    "    os.makedirs(log_dir)\n",
    "\n",
    "checkpoint = tfk.callbacks.ModelCheckpoint(\n",
    "    filepath = log_dir + '/ckpt/',\n",
    "    save_freq ='epoch',\n",
    "    save_best_only=True,\n",
    "    monitor='val_loss'\n",
    ")\n",
    "\n",
    "tensorboard_callback = tf.keras.callbacks.TensorBoard(\n",
    "    log_dir=log_dir,\n",
    "    histogram_freq=0,\n",
    "    update_freq=100,\n",
    "    write_graph=False,\n",
    "    profile_batch = 0\n",
    ")\n",
    "\n",
    "class LRTensorBoard(tf.keras.callbacks.TensorBoard):\n",
    "    def __init__(self, log_dir, **kwargs):  # add other arguments to __init__ if you need\n",
    "        super().__init__(log_dir=log_dir, **kwargs)\n",
    "\n",
    "    def on_epoch_end(self, epoch, logs=None):\n",
    "        logs = logs or {}\n",
    "        lr_sched = getattr(self.model.optimizer, \"lr\", None)\n",
    "        logs.update({'lr': tf.keras.backend.get_value(lr_sched(tf.cast(self.model.optimizer.iterations, tf.float32)))})\n",
    "        super().on_epoch_end(epoch, logs)\n",
    "\n",
    "lr_tensorboard_callback = LRTensorBoard(log_dir=log_dir)\n",
    "        \n",
    "#tqdm_callback = tfa.callbacks.TQDMCallback()"
   ]
  },
  {
   "cell_type": "markdown",
   "metadata": {},
   "source": [
    "### Compile model"
   ]
  },
  {
   "cell_type": "code",
   "execution_count": 22,
   "metadata": {},
   "outputs": [],
   "source": [
    "lr_schedule = tfa.optimizers.ExponentialCyclicalLearningRate(\n",
    "    initial_learning_rate=1e-6,\n",
    "    maximal_learning_rate=1e-3,\n",
    "    step_size=2*train_generator.n//batch_size\n",
    ")\n",
    "\n",
    "model.compile(optimizer=tfk.optimizers.Adam(learning_rate=5e-5),\n",
    "              loss=tfk.losses.CategoricalCrossentropy(label_smoothing=0.1),\n",
    "              metrics=['accuracy'])"
   ]
  },
  {
   "cell_type": "markdown",
   "metadata": {},
   "source": [
    "### Train model"
   ]
  },
  {
   "cell_type": "code",
   "execution_count": 23,
   "metadata": {},
   "outputs": [],
   "source": [
    "histories = []"
   ]
  },
  {
   "cell_type": "code",
   "execution_count": null,
   "metadata": {},
   "outputs": [],
   "source": [
    "for v in range(26, 30+1):\n",
    "    print(\"---------------- {} ----------------\".format(v))\n",
    "    print(\"Learning rate: {}\".format(tfk.backend.get_value(getattr(model.optimizer, \"lr\", None))))\n",
    "    history = model.fit(train_generator,\n",
    "                        initial_epoch=0,\n",
    "                        epochs=15,\n",
    "                        steps_per_epoch=200,\n",
    "                        validation_steps=20,\n",
    "                        validation_data=val_generator,\n",
    "                        class_weight=class_weights,\n",
    "                        callbacks=[reduce_lr,\n",
    "                                   early_stop, \n",
    "                                   #checkpoint, \n",
    "                                   tensorboard_callback,\n",
    "                                   #lr_tensorboard_callback,\n",
    "                                   #tqdm_callback\n",
    "                                  ]\n",
    "                       )\n",
    "    histories.append(pd.DataFrame(history.history))\n",
    "    pd.concat(histories).to_csv(\"history_aug_full_cleaner_{}.csv\".format(v), index=False)\n",
    "    model.save('model_aug_full_cleaner_{}.h5'.format(v))"
   ]
  },
  {
   "cell_type": "markdown",
   "metadata": {},
   "source": [
    "## Testing"
   ]
  },
  {
   "cell_type": "markdown",
   "metadata": {},
   "source": [
    "We'll do in-sample testing here. A bit non-standard, but good enough."
   ]
  },
  {
   "cell_type": "code",
   "execution_count": 67,
   "metadata": {},
   "outputs": [],
   "source": [
    "# model = tfk.models.load_model('model_clean_3.h5')"
   ]
  },
  {
   "cell_type": "markdown",
   "metadata": {},
   "source": [
    "### Prepare unaugmented dataset generator"
   ]
  },
  {
   "cell_type": "code",
   "execution_count": 68,
   "metadata": {},
   "outputs": [
    {
     "name": "stdout",
     "output_type": "stream",
     "text": [
      "Found 105059 validated image filenames belonging to 42 classes.\n"
     ]
    }
   ],
   "source": [
    "clean_datagen = tfk_ImageDataGenerator(\n",
    "    preprocessing_function=tfk_preprocess_input,\n",
    ")\n",
    "\n",
    "clean_generator = clean_datagen.flow_from_dataframe(\n",
    "    pd_shopee_train,\n",
    "    directory='',\n",
    "    x_col='dir_filename',\n",
    "    y_col='category',\n",
    "    target_size=input_shape[:2],\n",
    "    color_mode='rgb',\n",
    "    batch_size=batch_size,\n",
    "    class_mode='categorical',\n",
    "    shuffle=True,\n",
    ")"
   ]
  },
  {
   "cell_type": "markdown",
   "metadata": {},
   "source": [
    "### In-sample Testing"
   ]
  },
  {
   "cell_type": "code",
   "execution_count": 69,
   "metadata": {},
   "outputs": [
    {
     "name": "stdout",
     "output_type": "stream",
     "text": [
      "step: 10\n",
      "step: 20\n",
      "step: 30\n",
      "step: 40\n",
      "step: 50\n",
      "Wall time: 23.2 s\n"
     ]
    }
   ],
   "source": [
    "%%time\n",
    "y_pred = []\n",
    "y_true = []\n",
    "\n",
    "for i in range(50):\n",
    "    if (i+1) % 10 == 0:\n",
    "        print(\"step:\", i+1)\n",
    "    x, y = next(iter(clean_generator))\n",
    "    y_true.extend(y)\n",
    "    y_pred.extend(model.predict(x))\n",
    "\n",
    "y_pred = np.array(y_pred)\n",
    "y_true = np.array(y_true)"
   ]
  },
  {
   "cell_type": "code",
   "execution_count": 70,
   "metadata": {},
   "outputs": [],
   "source": [
    "matrix = confusion_matrix(y_true.argmax(axis=1), y_pred.argmax(axis=1))\n",
    "matrix_ = matrix.copy()\n",
    "for i in range(len(matrix)):\n",
    "    matrix_[i, i] = 0"
   ]
  },
  {
   "cell_type": "code",
   "execution_count": 71,
   "metadata": {},
   "outputs": [
    {
     "data": {
      "image/png": "[encoded data removed]",
      "text/plain": [
       "<Figure size 1152x648 with 2 Axes>"
      ]
     },
     "metadata": {},
     "output_type": "display_data"
    }
   ],
   "source": [
    "plt.figure(figsize = (16,9))\n",
    "sns.heatmap(matrix_, linecolor='grey', linewidth=0.1)\n",
    "plt.title(\"Confusion Matrix\")\n",
    "plt.xlabel(\"Predicted Label\")\n",
    "plt.ylabel(\"True Label\")\n",
    "plt.savefig('confusion_matrix.png', \n",
    "            #transparent=True,\n",
    "            bbox_inches='tight')"
   ]
  },
  {
   "cell_type": "code",
   "execution_count": 72,
   "metadata": {},
   "outputs": [],
   "source": [
    "def label_smoother(x, alpha=0.1):\n",
    "    return (1 - alpha) * x + alpha / x.shape[1]"
   ]
  },
  {
   "cell_type": "code",
   "execution_count": 73,
   "metadata": {},
   "outputs": [
    {
     "name": "stdout",
     "output_type": "stream",
     "text": [
      "Loss: 1.1015037\n",
      "Accuracy: 0.9475\n"
     ]
    }
   ],
   "source": [
    "loss     = tfk.losses.categorical_crossentropy(y_pred, label_smoother(y_true, alpha=0.1)).numpy().mean()\n",
    "accuracy = accuracy_score(y_pred.argmax(axis=1), y_true.argmax(axis=1))\n",
    "\n",
    "print(\"Loss:\", loss)\n",
    "print(\"Accuracy:\", accuracy)"
   ]
  },
  {
   "cell_type": "markdown",
   "metadata": {},
   "source": [
    "## Generate Submission"
   ]
  },
  {
   "cell_type": "markdown",
   "metadata": {},
   "source": [
    "### Prepare test data generator"
   ]
  },
  {
   "cell_type": "code",
   "execution_count": 74,
   "metadata": {},
   "outputs": [
    {
     "data": {
      "text/html": [
       "<div>\n",
       "<style scoped>\n",
       "    .dataframe tbody tr th:only-of-type {\n",
       "        vertical-align: middle;\n",
       "    }\n",
       "\n",
       "    .dataframe tbody tr th {\n",
       "        vertical-align: top;\n",
       "    }\n",
       "\n",
       "    .dataframe thead th {\n",
       "        text-align: right;\n",
       "    }\n",
       "</style>\n",
       "<table border=\"1\" class=\"dataframe\">\n",
       "  <thead>\n",
       "    <tr style=\"text-align: right;\">\n",
       "      <th></th>\n",
       "      <th>filename</th>\n",
       "      <th>category</th>\n",
       "    </tr>\n",
       "  </thead>\n",
       "  <tbody>\n",
       "    <tr>\n",
       "      <th>0</th>\n",
       "      <td>fd663cf2b6e1d7b02938c6aaae0a32d2.jpg</td>\n",
       "      <td>43</td>\n",
       "    </tr>\n",
       "    <tr>\n",
       "      <th>1</th>\n",
       "      <td>c7fd77508a8c355eaab0d4e10efd6b15.jpg</td>\n",
       "      <td>43</td>\n",
       "    </tr>\n",
       "    <tr>\n",
       "      <th>2</th>\n",
       "      <td>127f3e6d6e3491b2459812353f33a913.jpg</td>\n",
       "      <td>43</td>\n",
       "    </tr>\n",
       "    <tr>\n",
       "      <th>3</th>\n",
       "      <td>5ca4f2da11eda083064e6c36f37eeb81.jpg</td>\n",
       "      <td>43</td>\n",
       "    </tr>\n",
       "    <tr>\n",
       "      <th>4</th>\n",
       "      <td>46d681a542f2c71be017eef6aae23313.jpg</td>\n",
       "      <td>43</td>\n",
       "    </tr>\n",
       "  </tbody>\n",
       "</table>\n",
       "</div>"
      ],
      "text/plain": [
       "                               filename  category\n",
       "0  fd663cf2b6e1d7b02938c6aaae0a32d2.jpg        43\n",
       "1  c7fd77508a8c355eaab0d4e10efd6b15.jpg        43\n",
       "2  127f3e6d6e3491b2459812353f33a913.jpg        43\n",
       "3  5ca4f2da11eda083064e6c36f37eeb81.jpg        43\n",
       "4  46d681a542f2c71be017eef6aae23313.jpg        43"
      ]
     },
     "execution_count": 74,
     "metadata": {},
     "output_type": "execute_result"
    }
   ],
   "source": [
    "pd_test = pd.read_csv('shopee-product-detection-dataset/test.csv')\n",
    "pd_test.head()"
   ]
  },
  {
   "cell_type": "code",
   "execution_count": 75,
   "metadata": {},
   "outputs": [
    {
     "name": "stdout",
     "output_type": "stream",
     "text": [
      "Found 12186 validated image filenames.\n"
     ]
    }
   ],
   "source": [
    "test_datagen = tfk_ImageDataGenerator(\n",
    "    preprocessing_function=tfk_preprocess_input\n",
    ")\n",
    "\n",
    "test_generator = test_datagen.flow_from_dataframe(\n",
    "    pd_test,\n",
    "    directory='shopee-product-detection-dataset/test/',\n",
    "    x_col='filename',\n",
    "    target_size=input_shape[:2],\n",
    "    color_mode='rgb',\n",
    "    batch_size=batch_size,\n",
    "    class_mode=None,\n",
    "    shuffle=False,\n",
    ")"
   ]
  },
  {
   "cell_type": "markdown",
   "metadata": {},
   "source": [
    "### Predict categories"
   ]
  },
  {
   "cell_type": "code",
   "execution_count": 76,
   "metadata": {},
   "outputs": [
    {
     "name": "stdout",
     "output_type": "stream",
     "text": [
      "191/191 [==============================] - 57s 299ms/step\n"
     ]
    }
   ],
   "source": [
    "y_pred = model.predict(test_generator, verbose=1, steps=test_generator.n//batch_size+1)\n",
    "y_pred = y_pred[:test_generator.n]"
   ]
  },
  {
   "cell_type": "code",
   "execution_count": 77,
   "metadata": {},
   "outputs": [
    {
     "data": {
      "text/html": [
       "<div>\n",
       "<style scoped>\n",
       "    .dataframe tbody tr th:only-of-type {\n",
       "        vertical-align: middle;\n",
       "    }\n",
       "\n",
       "    .dataframe tbody tr th {\n",
       "        vertical-align: top;\n",
       "    }\n",
       "\n",
       "    .dataframe thead th {\n",
       "        text-align: right;\n",
       "    }\n",
       "</style>\n",
       "<table border=\"1\" class=\"dataframe\">\n",
       "  <thead>\n",
       "    <tr style=\"text-align: right;\">\n",
       "      <th></th>\n",
       "      <th>filename</th>\n",
       "      <th>category</th>\n",
       "    </tr>\n",
       "  </thead>\n",
       "  <tbody>\n",
       "    <tr>\n",
       "      <th>0</th>\n",
       "      <td>fd663cf2b6e1d7b02938c6aaae0a32d2.jpg</td>\n",
       "      <td>20</td>\n",
       "    </tr>\n",
       "    <tr>\n",
       "      <th>1</th>\n",
       "      <td>c7fd77508a8c355eaab0d4e10efd6b15.jpg</td>\n",
       "      <td>27</td>\n",
       "    </tr>\n",
       "    <tr>\n",
       "      <th>2</th>\n",
       "      <td>127f3e6d6e3491b2459812353f33a913.jpg</td>\n",
       "      <td>04</td>\n",
       "    </tr>\n",
       "    <tr>\n",
       "      <th>3</th>\n",
       "      <td>5ca4f2da11eda083064e6c36f37eeb81.jpg</td>\n",
       "      <td>22</td>\n",
       "    </tr>\n",
       "    <tr>\n",
       "      <th>4</th>\n",
       "      <td>46d681a542f2c71be017eef6aae23313.jpg</td>\n",
       "      <td>12</td>\n",
       "    </tr>\n",
       "  </tbody>\n",
       "</table>\n",
       "</div>"
      ],
      "text/plain": [
       "                               filename category\n",
       "0  fd663cf2b6e1d7b02938c6aaae0a32d2.jpg       20\n",
       "1  c7fd77508a8c355eaab0d4e10efd6b15.jpg       27\n",
       "2  127f3e6d6e3491b2459812353f33a913.jpg       04\n",
       "3  5ca4f2da11eda083064e6c36f37eeb81.jpg       22\n",
       "4  46d681a542f2c71be017eef6aae23313.jpg       12"
      ]
     },
     "execution_count": 77,
     "metadata": {},
     "output_type": "execute_result"
    }
   ],
   "source": [
    "pd_submission = pd_test.copy()\n",
    "pd_submission['category'] = list(map(lambda x : '{:02d}'.format(x), y_pred.argmax(axis=1)))\n",
    "pd_submission.head()"
   ]
  },
  {
   "cell_type": "code",
   "execution_count": 78,
   "metadata": {},
   "outputs": [
    {
     "data": {
      "text/html": [
       "<div>\n",
       "<style scoped>\n",
       "    .dataframe tbody tr th:only-of-type {\n",
       "        vertical-align: middle;\n",
       "    }\n",
       "\n",
       "    .dataframe tbody tr th {\n",
       "        vertical-align: top;\n",
       "    }\n",
       "\n",
       "    .dataframe thead th {\n",
       "        text-align: right;\n",
       "    }\n",
       "</style>\n",
       "<table border=\"1\" class=\"dataframe\">\n",
       "  <thead>\n",
       "    <tr style=\"text-align: right;\">\n",
       "      <th></th>\n",
       "      <th>filename</th>\n",
       "      <th>0</th>\n",
       "      <th>1</th>\n",
       "      <th>2</th>\n",
       "      <th>3</th>\n",
       "      <th>4</th>\n",
       "      <th>5</th>\n",
       "      <th>6</th>\n",
       "      <th>7</th>\n",
       "      <th>8</th>\n",
       "      <th>...</th>\n",
       "      <th>32</th>\n",
       "      <th>33</th>\n",
       "      <th>34</th>\n",
       "      <th>35</th>\n",
       "      <th>36</th>\n",
       "      <th>37</th>\n",
       "      <th>38</th>\n",
       "      <th>39</th>\n",
       "      <th>40</th>\n",
       "      <th>41</th>\n",
       "    </tr>\n",
       "  </thead>\n",
       "  <tbody>\n",
       "    <tr>\n",
       "      <th>0</th>\n",
       "      <td>fd663cf2b6e1d7b02938c6aaae0a32d2.jpg</td>\n",
       "      <td>0.001062</td>\n",
       "      <td>0.000684</td>\n",
       "      <td>0.000134</td>\n",
       "      <td>0.000199</td>\n",
       "      <td>0.000540</td>\n",
       "      <td>0.000284</td>\n",
       "      <td>0.000295</td>\n",
       "      <td>0.000402</td>\n",
       "      <td>0.000438</td>\n",
       "      <td>...</td>\n",
       "      <td>0.000095</td>\n",
       "      <td>0.000192</td>\n",
       "      <td>0.000609</td>\n",
       "      <td>0.000310</td>\n",
       "      <td>0.002228</td>\n",
       "      <td>0.000379</td>\n",
       "      <td>0.001500</td>\n",
       "      <td>0.001930</td>\n",
       "      <td>0.000345</td>\n",
       "      <td>0.051738</td>\n",
       "    </tr>\n",
       "    <tr>\n",
       "      <th>1</th>\n",
       "      <td>c7fd77508a8c355eaab0d4e10efd6b15.jpg</td>\n",
       "      <td>0.001451</td>\n",
       "      <td>0.001337</td>\n",
       "      <td>0.001185</td>\n",
       "      <td>0.000925</td>\n",
       "      <td>0.001583</td>\n",
       "      <td>0.001145</td>\n",
       "      <td>0.001150</td>\n",
       "      <td>0.001464</td>\n",
       "      <td>0.002079</td>\n",
       "      <td>...</td>\n",
       "      <td>0.000806</td>\n",
       "      <td>0.000773</td>\n",
       "      <td>0.001577</td>\n",
       "      <td>0.001187</td>\n",
       "      <td>0.000801</td>\n",
       "      <td>0.000818</td>\n",
       "      <td>0.000771</td>\n",
       "      <td>0.001410</td>\n",
       "      <td>0.000974</td>\n",
       "      <td>0.000545</td>\n",
       "    </tr>\n",
       "    <tr>\n",
       "      <th>2</th>\n",
       "      <td>127f3e6d6e3491b2459812353f33a913.jpg</td>\n",
       "      <td>0.001669</td>\n",
       "      <td>0.001508</td>\n",
       "      <td>0.002610</td>\n",
       "      <td>0.001780</td>\n",
       "      <td>0.900689</td>\n",
       "      <td>0.001427</td>\n",
       "      <td>0.001080</td>\n",
       "      <td>0.002460</td>\n",
       "      <td>0.003593</td>\n",
       "      <td>...</td>\n",
       "      <td>0.001229</td>\n",
       "      <td>0.001360</td>\n",
       "      <td>0.001246</td>\n",
       "      <td>0.001766</td>\n",
       "      <td>0.000828</td>\n",
       "      <td>0.001636</td>\n",
       "      <td>0.003009</td>\n",
       "      <td>0.001626</td>\n",
       "      <td>0.001489</td>\n",
       "      <td>0.004999</td>\n",
       "    </tr>\n",
       "    <tr>\n",
       "      <th>3</th>\n",
       "      <td>5ca4f2da11eda083064e6c36f37eeb81.jpg</td>\n",
       "      <td>0.001432</td>\n",
       "      <td>0.001434</td>\n",
       "      <td>0.001345</td>\n",
       "      <td>0.000857</td>\n",
       "      <td>0.001710</td>\n",
       "      <td>0.000863</td>\n",
       "      <td>0.001031</td>\n",
       "      <td>0.000886</td>\n",
       "      <td>0.001776</td>\n",
       "      <td>...</td>\n",
       "      <td>0.001504</td>\n",
       "      <td>0.001558</td>\n",
       "      <td>0.003291</td>\n",
       "      <td>0.001593</td>\n",
       "      <td>0.001262</td>\n",
       "      <td>0.001746</td>\n",
       "      <td>0.001101</td>\n",
       "      <td>0.001213</td>\n",
       "      <td>0.000730</td>\n",
       "      <td>0.000641</td>\n",
       "    </tr>\n",
       "    <tr>\n",
       "      <th>4</th>\n",
       "      <td>46d681a542f2c71be017eef6aae23313.jpg</td>\n",
       "      <td>0.002208</td>\n",
       "      <td>0.001831</td>\n",
       "      <td>0.001414</td>\n",
       "      <td>0.001491</td>\n",
       "      <td>0.003105</td>\n",
       "      <td>0.002208</td>\n",
       "      <td>0.002535</td>\n",
       "      <td>0.001520</td>\n",
       "      <td>0.001259</td>\n",
       "      <td>...</td>\n",
       "      <td>0.001109</td>\n",
       "      <td>0.002540</td>\n",
       "      <td>0.001707</td>\n",
       "      <td>0.006560</td>\n",
       "      <td>0.000566</td>\n",
       "      <td>0.001022</td>\n",
       "      <td>0.001550</td>\n",
       "      <td>0.004861</td>\n",
       "      <td>0.001709</td>\n",
       "      <td>0.001399</td>\n",
       "    </tr>\n",
       "  </tbody>\n",
       "</table>\n",
       "<p>5 rows × 43 columns</p>\n",
       "</div>"
      ],
      "text/plain": [
       "                               filename         0         1         2  \\\n",
       "0  fd663cf2b6e1d7b02938c6aaae0a32d2.jpg  0.001062  0.000684  0.000134   \n",
       "1  c7fd77508a8c355eaab0d4e10efd6b15.jpg  0.001451  0.001337  0.001185   \n",
       "2  127f3e6d6e3491b2459812353f33a913.jpg  0.001669  0.001508  0.002610   \n",
       "3  5ca4f2da11eda083064e6c36f37eeb81.jpg  0.001432  0.001434  0.001345   \n",
       "4  46d681a542f2c71be017eef6aae23313.jpg  0.002208  0.001831  0.001414   \n",
       "\n",
       "          3         4         5         6         7         8  ...        32  \\\n",
       "0  0.000199  0.000540  0.000284  0.000295  0.000402  0.000438  ...  0.000095   \n",
       "1  0.000925  0.001583  0.001145  0.001150  0.001464  0.002079  ...  0.000806   \n",
       "2  0.001780  0.900689  0.001427  0.001080  0.002460  0.003593  ...  0.001229   \n",
       "3  0.000857  0.001710  0.000863  0.001031  0.000886  0.001776  ...  0.001504   \n",
       "4  0.001491  0.003105  0.002208  0.002535  0.001520  0.001259  ...  0.001109   \n",
       "\n",
       "         33        34        35        36        37        38        39  \\\n",
       "0  0.000192  0.000609  0.000310  0.002228  0.000379  0.001500  0.001930   \n",
       "1  0.000773  0.001577  0.001187  0.000801  0.000818  0.000771  0.001410   \n",
       "2  0.001360  0.001246  0.001766  0.000828  0.001636  0.003009  0.001626   \n",
       "3  0.001558  0.003291  0.001593  0.001262  0.001746  0.001101  0.001213   \n",
       "4  0.002540  0.001707  0.006560  0.000566  0.001022  0.001550  0.004861   \n",
       "\n",
       "         40        41  \n",
       "0  0.000345  0.051738  \n",
       "1  0.000974  0.000545  \n",
       "2  0.001489  0.004999  \n",
       "3  0.000730  0.000641  \n",
       "4  0.001709  0.001399  \n",
       "\n",
       "[5 rows x 43 columns]"
      ]
     },
     "execution_count": 78,
     "metadata": {},
     "output_type": "execute_result"
    }
   ],
   "source": [
    "pd_submission_ = pd_submission.drop(['category'], axis=1)\n",
    "for c in range(42):\n",
    "    pd_submission_[c] = y_pred[:,c]\n",
    "pd_submission_.head()"
   ]
  },
  {
   "cell_type": "code",
   "execution_count": 79,
   "metadata": {},
   "outputs": [],
   "source": [
    "version = 28\n",
    "pd_submission.to_csv('submission_{}.csv'.format(version), index=False)\n",
    "pd_submission_.to_csv('submission_{}_dist.csv'.format(version), index=False)"
   ]
  },
  {
   "cell_type": "markdown",
   "metadata": {},
   "source": [
    "### Compare to previous submission"
   ]
  },
  {
   "cell_type": "code",
   "execution_count": 80,
   "metadata": {},
   "outputs": [
    {
     "name": "stdout",
     "output_type": "stream",
     "text": [
      "567 12186 0.0465288035450517\n"
     ]
    },
    {
     "data": {
      "text/html": [
       "<div>\n",
       "<style scoped>\n",
       "    .dataframe tbody tr th:only-of-type {\n",
       "        vertical-align: middle;\n",
       "    }\n",
       "\n",
       "    .dataframe tbody tr th {\n",
       "        vertical-align: top;\n",
       "    }\n",
       "\n",
       "    .dataframe thead th {\n",
       "        text-align: right;\n",
       "    }\n",
       "</style>\n",
       "<table border=\"1\" class=\"dataframe\">\n",
       "  <thead>\n",
       "    <tr style=\"text-align: right;\">\n",
       "      <th></th>\n",
       "      <th>filename</th>\n",
       "      <th>category_27</th>\n",
       "      <th>category</th>\n",
       "    </tr>\n",
       "  </thead>\n",
       "  <tbody>\n",
       "    <tr>\n",
       "      <th>27</th>\n",
       "      <td>2e9521b6c76dd1d7bebbeb8a2d84cacc.jpg</td>\n",
       "      <td>14</td>\n",
       "      <td>38</td>\n",
       "    </tr>\n",
       "    <tr>\n",
       "      <th>33</th>\n",
       "      <td>26ef13b0da02bfa1ba211ee523b3fdbd.jpg</td>\n",
       "      <td>41</td>\n",
       "      <td>08</td>\n",
       "    </tr>\n",
       "    <tr>\n",
       "      <th>88</th>\n",
       "      <td>b00ec65ae02183e69f16e5a46d9d7973.jpg</td>\n",
       "      <td>26</td>\n",
       "      <td>19</td>\n",
       "    </tr>\n",
       "    <tr>\n",
       "      <th>91</th>\n",
       "      <td>5f6da1149fd4109457d375d70a8def4c.jpg</td>\n",
       "      <td>38</td>\n",
       "      <td>40</td>\n",
       "    </tr>\n",
       "    <tr>\n",
       "      <th>92</th>\n",
       "      <td>0f76078f68b2d6ae47e86ae488b6de08.jpg</td>\n",
       "      <td>00</td>\n",
       "      <td>02</td>\n",
       "    </tr>\n",
       "    <tr>\n",
       "      <th>123</th>\n",
       "      <td>835de04e18d0eff0774584a555e42a2a.jpg</td>\n",
       "      <td>33</td>\n",
       "      <td>35</td>\n",
       "    </tr>\n",
       "    <tr>\n",
       "      <th>159</th>\n",
       "      <td>805f92f1ddbd068096384d595596ffb9.jpg</td>\n",
       "      <td>12</td>\n",
       "      <td>34</td>\n",
       "    </tr>\n",
       "    <tr>\n",
       "      <th>223</th>\n",
       "      <td>2d5c4d3c9dcae43e0317e985e339db54.jpg</td>\n",
       "      <td>02</td>\n",
       "      <td>00</td>\n",
       "    </tr>\n",
       "    <tr>\n",
       "      <th>237</th>\n",
       "      <td>aca99804062a29a553c037c164a8c59b.jpg</td>\n",
       "      <td>38</td>\n",
       "      <td>07</td>\n",
       "    </tr>\n",
       "    <tr>\n",
       "      <th>243</th>\n",
       "      <td>3a3aa10a8b3640139ffaa19437509b2e.jpg</td>\n",
       "      <td>31</td>\n",
       "      <td>20</td>\n",
       "    </tr>\n",
       "    <tr>\n",
       "      <th>276</th>\n",
       "      <td>bc50bb2ae42f5e9552815a4dff3ead59.jpg</td>\n",
       "      <td>09</td>\n",
       "      <td>36</td>\n",
       "    </tr>\n",
       "    <tr>\n",
       "      <th>294</th>\n",
       "      <td>97e9a171bd147edbb1feb62e941c356b.jpg</td>\n",
       "      <td>36</td>\n",
       "      <td>20</td>\n",
       "    </tr>\n",
       "    <tr>\n",
       "      <th>319</th>\n",
       "      <td>95b805c78c3f0b8ab7d2cd8cdb399000.jpg</td>\n",
       "      <td>07</td>\n",
       "      <td>22</td>\n",
       "    </tr>\n",
       "    <tr>\n",
       "      <th>335</th>\n",
       "      <td>a1b724d220b55fd36251fda8a663973a.jpg</td>\n",
       "      <td>22</td>\n",
       "      <td>03</td>\n",
       "    </tr>\n",
       "    <tr>\n",
       "      <th>337</th>\n",
       "      <td>81211c018458dbf7dcd4312eda39d7e1.jpg</td>\n",
       "      <td>38</td>\n",
       "      <td>16</td>\n",
       "    </tr>\n",
       "    <tr>\n",
       "      <th>383</th>\n",
       "      <td>d340396a724ee484e81ca138bdd19e9d.jpg</td>\n",
       "      <td>32</td>\n",
       "      <td>22</td>\n",
       "    </tr>\n",
       "    <tr>\n",
       "      <th>394</th>\n",
       "      <td>4f47c0c0ec8882b2b374918b8a034e26.jpg</td>\n",
       "      <td>36</td>\n",
       "      <td>35</td>\n",
       "    </tr>\n",
       "    <tr>\n",
       "      <th>408</th>\n",
       "      <td>098637c7d594d4779eaba0c3e7125648.jpg</td>\n",
       "      <td>30</td>\n",
       "      <td>16</td>\n",
       "    </tr>\n",
       "    <tr>\n",
       "      <th>415</th>\n",
       "      <td>7dea637087ae033d0b95c4242fd83844.jpg</td>\n",
       "      <td>36</td>\n",
       "      <td>41</td>\n",
       "    </tr>\n",
       "    <tr>\n",
       "      <th>440</th>\n",
       "      <td>25499b4fc34655c01dca6cc0fd77602d.jpg</td>\n",
       "      <td>19</td>\n",
       "      <td>18</td>\n",
       "    </tr>\n",
       "  </tbody>\n",
       "</table>\n",
       "</div>"
      ],
      "text/plain": [
       "                                 filename category_27 category\n",
       "27   2e9521b6c76dd1d7bebbeb8a2d84cacc.jpg          14       38\n",
       "33   26ef13b0da02bfa1ba211ee523b3fdbd.jpg          41       08\n",
       "88   b00ec65ae02183e69f16e5a46d9d7973.jpg          26       19\n",
       "91   5f6da1149fd4109457d375d70a8def4c.jpg          38       40\n",
       "92   0f76078f68b2d6ae47e86ae488b6de08.jpg          00       02\n",
       "123  835de04e18d0eff0774584a555e42a2a.jpg          33       35\n",
       "159  805f92f1ddbd068096384d595596ffb9.jpg          12       34\n",
       "223  2d5c4d3c9dcae43e0317e985e339db54.jpg          02       00\n",
       "237  aca99804062a29a553c037c164a8c59b.jpg          38       07\n",
       "243  3a3aa10a8b3640139ffaa19437509b2e.jpg          31       20\n",
       "276  bc50bb2ae42f5e9552815a4dff3ead59.jpg          09       36\n",
       "294  97e9a171bd147edbb1feb62e941c356b.jpg          36       20\n",
       "319  95b805c78c3f0b8ab7d2cd8cdb399000.jpg          07       22\n",
       "335  a1b724d220b55fd36251fda8a663973a.jpg          22       03\n",
       "337  81211c018458dbf7dcd4312eda39d7e1.jpg          38       16\n",
       "383  d340396a724ee484e81ca138bdd19e9d.jpg          32       22\n",
       "394  4f47c0c0ec8882b2b374918b8a034e26.jpg          36       35\n",
       "408  098637c7d594d4779eaba0c3e7125648.jpg          30       16\n",
       "415  7dea637087ae033d0b95c4242fd83844.jpg          36       41\n",
       "440  25499b4fc34655c01dca6cc0fd77602d.jpg          19       18"
      ]
     },
     "execution_count": 80,
     "metadata": {},
     "output_type": "execute_result"
    }
   ],
   "source": [
    "now  = version\n",
    "cat_now_name  = 'category_{}'.format(now)\n",
    "prev = '27'\n",
    "cat_prev_name = 'category_{}'.format(prev)\n",
    "\n",
    "pd_submission_prev = pd.read_csv('submission_{}.csv'.format(prev))\n",
    "pd_submission_prev['category'] = pd_submission_prev['category'].apply(lambda x : '{:02d}'.format(x))\n",
    "pd_submission_prev.columns = ['filename', cat_prev_name]\n",
    "pd_submission_prev = pd_submission_prev.merge(pd_submission.sort_values(by='filename'), on='filename')\n",
    "pd_iba = pd_submission_prev[pd_submission_prev[cat_prev_name] != pd_submission_prev['category']]\n",
    "print(len(pd_iba), len(pd_submission_prev), len(pd_iba) / len(pd_submission_prev))\n",
    "pd_iba.head(20)"
   ]
  },
  {
   "cell_type": "code",
   "execution_count": 81,
   "metadata": {},
   "outputs": [],
   "source": [
    "matrix = confusion_matrix(pd_submission_prev['category'], pd_submission_prev[cat_prev_name])\n",
    "matrix_ = matrix.copy()\n",
    "for i in range(len(matrix)):\n",
    "    matrix_[i, i] = 0"
   ]
  },
  {
   "cell_type": "code",
   "execution_count": 82,
   "metadata": {},
   "outputs": [
    {
     "data": {
      "image/png": "[encoded data removed]",
      "text/plain": [
       "<Figure size 1152x648 with 2 Axes>"
      ]
     },
     "metadata": {},
     "output_type": "display_data"
    }
   ],
   "source": [
    "plt.figure(figsize = (16,9))\n",
    "sns.heatmap(matrix_, linecolor='grey', linewidth=0.1)\n",
    "plt.title(\"Confusion Matrix\")\n",
    "plt.xlabel(\"Better Label\")\n",
    "plt.ylabel(\"Bad Label\")\n",
    "plt.savefig('confusion_matrix.png', \n",
    "            #transparent=True,\n",
    "            bbox_inches='tight')"
   ]
  },
  {
   "cell_type": "code",
   "execution_count": 83,
   "metadata": {},
   "outputs": [],
   "source": [
    "pd_iba.to_csv(\"iba.csv\", index=False)"
   ]
  },
  {
   "cell_type": "code",
   "execution_count": 84,
   "metadata": {},
   "outputs": [
    {
     "name": "stdout",
     "output_type": "stream",
     "text": [
      "9 0.0007385524372230429\n"
     ]
    },
    {
     "data": {
      "text/html": [
       "<div>\n",
       "<style scoped>\n",
       "    .dataframe tbody tr th:only-of-type {\n",
       "        vertical-align: middle;\n",
       "    }\n",
       "\n",
       "    .dataframe tbody tr th {\n",
       "        vertical-align: top;\n",
       "    }\n",
       "\n",
       "    .dataframe thead th {\n",
       "        text-align: right;\n",
       "    }\n",
       "</style>\n",
       "<table border=\"1\" class=\"dataframe\">\n",
       "  <thead>\n",
       "    <tr style=\"text-align: right;\">\n",
       "      <th></th>\n",
       "      <th>filename</th>\n",
       "      <th>category_27</th>\n",
       "      <th>category</th>\n",
       "    </tr>\n",
       "  </thead>\n",
       "  <tbody>\n",
       "    <tr>\n",
       "      <th>1952</th>\n",
       "      <td>a3ebc60c3f99cbdb957c0e66ce542661.jpg</td>\n",
       "      <td>20</td>\n",
       "      <td>41</td>\n",
       "    </tr>\n",
       "    <tr>\n",
       "      <th>3134</th>\n",
       "      <td>5b62c3aed0dcbfb0fea50041e9a232c8.jpg</td>\n",
       "      <td>20</td>\n",
       "      <td>41</td>\n",
       "    </tr>\n",
       "    <tr>\n",
       "      <th>3791</th>\n",
       "      <td>4f4ac25f31a06933a6d10f127b3a7778.jpg</td>\n",
       "      <td>20</td>\n",
       "      <td>41</td>\n",
       "    </tr>\n",
       "    <tr>\n",
       "      <th>6162</th>\n",
       "      <td>a6ffb9e99b156aed038f4023c458a279.jpg</td>\n",
       "      <td>20</td>\n",
       "      <td>41</td>\n",
       "    </tr>\n",
       "    <tr>\n",
       "      <th>8019</th>\n",
       "      <td>d8d36c64fbf062a251ed798391dd5099.jpg</td>\n",
       "      <td>20</td>\n",
       "      <td>41</td>\n",
       "    </tr>\n",
       "    <tr>\n",
       "      <th>8619</th>\n",
       "      <td>cb039abc1a4a814d074febda7fc72f88.jpg</td>\n",
       "      <td>20</td>\n",
       "      <td>41</td>\n",
       "    </tr>\n",
       "    <tr>\n",
       "      <th>10373</th>\n",
       "      <td>6de210cb997d6d05c73bbf59b22d54ff.jpg</td>\n",
       "      <td>20</td>\n",
       "      <td>41</td>\n",
       "    </tr>\n",
       "    <tr>\n",
       "      <th>10583</th>\n",
       "      <td>133bf282cd606e8866df945ce86ef3f9.jpg</td>\n",
       "      <td>20</td>\n",
       "      <td>41</td>\n",
       "    </tr>\n",
       "    <tr>\n",
       "      <th>11630</th>\n",
       "      <td>59b3b2b85afb42bb20d663f9dde07181.jpg</td>\n",
       "      <td>20</td>\n",
       "      <td>41</td>\n",
       "    </tr>\n",
       "  </tbody>\n",
       "</table>\n",
       "</div>"
      ],
      "text/plain": [
       "                                   filename category_27 category\n",
       "1952   a3ebc60c3f99cbdb957c0e66ce542661.jpg          20       41\n",
       "3134   5b62c3aed0dcbfb0fea50041e9a232c8.jpg          20       41\n",
       "3791   4f4ac25f31a06933a6d10f127b3a7778.jpg          20       41\n",
       "6162   a6ffb9e99b156aed038f4023c458a279.jpg          20       41\n",
       "8019   d8d36c64fbf062a251ed798391dd5099.jpg          20       41\n",
       "8619   cb039abc1a4a814d074febda7fc72f88.jpg          20       41\n",
       "10373  6de210cb997d6d05c73bbf59b22d54ff.jpg          20       41\n",
       "10583  133bf282cd606e8866df945ce86ef3f9.jpg          20       41\n",
       "11630  59b3b2b85afb42bb20d663f9dde07181.jpg          20       41"
      ]
     },
     "execution_count": 84,
     "metadata": {},
     "output_type": "execute_result"
    }
   ],
   "source": [
    "pd_query = pd_submission_prev[(pd_submission_prev['category_{}'.format(prev)] == '20') & (pd_submission_prev['category'] == '41')]\n",
    "print(len(pd_query), len(pd_query)/len(pd_submission_prev))\n",
    "pd_query.head(20)"
   ]
  },
  {
   "cell_type": "code",
   "execution_count": 44,
   "metadata": {},
   "outputs": [
    {
     "name": "stdout",
     "output_type": "stream",
     "text": [
      "30 0.002461841457410143\n"
     ]
    },
    {
     "data": {
      "text/html": [
       "<div>\n",
       "<style scoped>\n",
       "    .dataframe tbody tr th:only-of-type {\n",
       "        vertical-align: middle;\n",
       "    }\n",
       "\n",
       "    .dataframe tbody tr th {\n",
       "        vertical-align: top;\n",
       "    }\n",
       "\n",
       "    .dataframe thead th {\n",
       "        text-align: right;\n",
       "    }\n",
       "</style>\n",
       "<table border=\"1\" class=\"dataframe\">\n",
       "  <thead>\n",
       "    <tr style=\"text-align: right;\">\n",
       "      <th></th>\n",
       "      <th>filename</th>\n",
       "      <th>category_25</th>\n",
       "      <th>category</th>\n",
       "    </tr>\n",
       "  </thead>\n",
       "  <tbody>\n",
       "    <tr>\n",
       "      <th>419</th>\n",
       "      <td>41b8d6c7b78a01f77ed909c27c081794.jpg</td>\n",
       "      <td>41</td>\n",
       "      <td>20</td>\n",
       "    </tr>\n",
       "    <tr>\n",
       "      <th>1423</th>\n",
       "      <td>f95d477b242a327927d9ff5f8a72a9da.jpg</td>\n",
       "      <td>41</td>\n",
       "      <td>20</td>\n",
       "    </tr>\n",
       "    <tr>\n",
       "      <th>1598</th>\n",
       "      <td>0273cedf12ddeab3fdef5bb2dde65955.jpg</td>\n",
       "      <td>41</td>\n",
       "      <td>20</td>\n",
       "    </tr>\n",
       "    <tr>\n",
       "      <th>1944</th>\n",
       "      <td>89c9176f9bb746a60fb1d10a566c45b3.jpg</td>\n",
       "      <td>41</td>\n",
       "      <td>20</td>\n",
       "    </tr>\n",
       "    <tr>\n",
       "      <th>1952</th>\n",
       "      <td>a3ebc60c3f99cbdb957c0e66ce542661.jpg</td>\n",
       "      <td>41</td>\n",
       "      <td>20</td>\n",
       "    </tr>\n",
       "    <tr>\n",
       "      <th>2203</th>\n",
       "      <td>d881412afc4e613f8b28be4de46be149.jpg</td>\n",
       "      <td>41</td>\n",
       "      <td>20</td>\n",
       "    </tr>\n",
       "    <tr>\n",
       "      <th>2336</th>\n",
       "      <td>d50642fbb88ddd98719e0b3b5eaa6cdd.jpg</td>\n",
       "      <td>41</td>\n",
       "      <td>20</td>\n",
       "    </tr>\n",
       "    <tr>\n",
       "      <th>3004</th>\n",
       "      <td>c0ec76fd0d7bc7d2677481ea50b4e91f.jpg</td>\n",
       "      <td>41</td>\n",
       "      <td>20</td>\n",
       "    </tr>\n",
       "    <tr>\n",
       "      <th>3134</th>\n",
       "      <td>5b62c3aed0dcbfb0fea50041e9a232c8.jpg</td>\n",
       "      <td>41</td>\n",
       "      <td>20</td>\n",
       "    </tr>\n",
       "    <tr>\n",
       "      <th>3153</th>\n",
       "      <td>9e506bb1b5b8d2dc3348c92029df575e.jpg</td>\n",
       "      <td>41</td>\n",
       "      <td>20</td>\n",
       "    </tr>\n",
       "    <tr>\n",
       "      <th>3304</th>\n",
       "      <td>421f9cb07d0f3c1238034d23a5070e91.jpg</td>\n",
       "      <td>41</td>\n",
       "      <td>20</td>\n",
       "    </tr>\n",
       "    <tr>\n",
       "      <th>3872</th>\n",
       "      <td>a24f66e632cb59afc38fb90518865199.jpg</td>\n",
       "      <td>41</td>\n",
       "      <td>20</td>\n",
       "    </tr>\n",
       "    <tr>\n",
       "      <th>4245</th>\n",
       "      <td>dd4a68c1aecad1dd97f673394b9cb152.jpg</td>\n",
       "      <td>41</td>\n",
       "      <td>20</td>\n",
       "    </tr>\n",
       "    <tr>\n",
       "      <th>4446</th>\n",
       "      <td>035ceb00c4acd20613abb9fe49ee8e33.jpg</td>\n",
       "      <td>41</td>\n",
       "      <td>20</td>\n",
       "    </tr>\n",
       "    <tr>\n",
       "      <th>6378</th>\n",
       "      <td>7ee995f0ae4489b20d908d601a6a474a.jpg</td>\n",
       "      <td>41</td>\n",
       "      <td>20</td>\n",
       "    </tr>\n",
       "    <tr>\n",
       "      <th>6847</th>\n",
       "      <td>c62e079b6a7ff0ec03d59944ed79bd15.jpg</td>\n",
       "      <td>41</td>\n",
       "      <td>20</td>\n",
       "    </tr>\n",
       "    <tr>\n",
       "      <th>6854</th>\n",
       "      <td>243254d0b8e41fe6d2a8b928df15fe6f.jpg</td>\n",
       "      <td>41</td>\n",
       "      <td>20</td>\n",
       "    </tr>\n",
       "    <tr>\n",
       "      <th>7081</th>\n",
       "      <td>085c844b9c4c0030a8a1fa35d98eb45e.jpg</td>\n",
       "      <td>41</td>\n",
       "      <td>20</td>\n",
       "    </tr>\n",
       "    <tr>\n",
       "      <th>8189</th>\n",
       "      <td>cee68966f5710c07013aa028d021533d.jpg</td>\n",
       "      <td>41</td>\n",
       "      <td>20</td>\n",
       "    </tr>\n",
       "    <tr>\n",
       "      <th>8567</th>\n",
       "      <td>1ba47fad280dcfd5dcb9604b515492e7.jpg</td>\n",
       "      <td>41</td>\n",
       "      <td>20</td>\n",
       "    </tr>\n",
       "  </tbody>\n",
       "</table>\n",
       "</div>"
      ],
      "text/plain": [
       "                                  filename category_25 category\n",
       "419   41b8d6c7b78a01f77ed909c27c081794.jpg          41       20\n",
       "1423  f95d477b242a327927d9ff5f8a72a9da.jpg          41       20\n",
       "1598  0273cedf12ddeab3fdef5bb2dde65955.jpg          41       20\n",
       "1944  89c9176f9bb746a60fb1d10a566c45b3.jpg          41       20\n",
       "1952  a3ebc60c3f99cbdb957c0e66ce542661.jpg          41       20\n",
       "2203  d881412afc4e613f8b28be4de46be149.jpg          41       20\n",
       "2336  d50642fbb88ddd98719e0b3b5eaa6cdd.jpg          41       20\n",
       "3004  c0ec76fd0d7bc7d2677481ea50b4e91f.jpg          41       20\n",
       "3134  5b62c3aed0dcbfb0fea50041e9a232c8.jpg          41       20\n",
       "3153  9e506bb1b5b8d2dc3348c92029df575e.jpg          41       20\n",
       "3304  421f9cb07d0f3c1238034d23a5070e91.jpg          41       20\n",
       "3872  a24f66e632cb59afc38fb90518865199.jpg          41       20\n",
       "4245  dd4a68c1aecad1dd97f673394b9cb152.jpg          41       20\n",
       "4446  035ceb00c4acd20613abb9fe49ee8e33.jpg          41       20\n",
       "6378  7ee995f0ae4489b20d908d601a6a474a.jpg          41       20\n",
       "6847  c62e079b6a7ff0ec03d59944ed79bd15.jpg          41       20\n",
       "6854  243254d0b8e41fe6d2a8b928df15fe6f.jpg          41       20\n",
       "7081  085c844b9c4c0030a8a1fa35d98eb45e.jpg          41       20\n",
       "8189  cee68966f5710c07013aa028d021533d.jpg          41       20\n",
       "8567  1ba47fad280dcfd5dcb9604b515492e7.jpg          41       20"
      ]
     },
     "execution_count": 44,
     "metadata": {},
     "output_type": "execute_result"
    }
   ],
   "source": [
    "pd_query = pd_iba[(pd_iba['category_{}'.format(prev)] == '41') & (pd_iba['category'] == '20')]\n",
    "print(len(pd_query), len(pd_query)/len(pd_submission_prev))\n",
    "pd_query.head(20)"
   ]
  },
  {
   "cell_type": "code",
   "execution_count": 45,
   "metadata": {},
   "outputs": [
    {
     "data": {
      "image/png": "[encoded data removed]",
      "text/plain": [
       "<Figure size 1152x648 with 1 Axes>"
      ]
     },
     "metadata": {},
     "output_type": "display_data"
    }
   ],
   "source": [
    "plt.figure(figsize=(16, 9))\n",
    "plt.hist(pd_submission_prev['category'].sort_values(), bins=np.arange(-1, 43)-0.5)\n",
    "plt.xlim(-1, 43)\n",
    "plt.show()"
   ]
  },
  {
   "cell_type": "code",
   "execution_count": 46,
   "metadata": {},
   "outputs": [
    {
     "data": {
      "image/png": "[encoded data removed]",
      "text/plain": [
       "<Figure size 1152x648 with 1 Axes>"
      ]
     },
     "metadata": {},
     "output_type": "display_data"
    }
   ],
   "source": [
    "plt.figure(figsize=(16, 9))\n",
    "plt.hist(pd_iba['category'].sort_values(), bins=np.arange(-1, 43)-0.5)\n",
    "plt.xlim(-1, 43)\n",
    "plt.show()"
   ]
  },
  {
   "cell_type": "code",
   "execution_count": null,
   "metadata": {},
   "outputs": [],
   "source": []
  }
 ],
 "metadata": {
  "kernelspec": {
   "display_name": "Python 3",
   "language": "python",
   "name": "python3"
  },
  "language_info": {
   "codemirror_mode": {
    "name": "ipython",
    "version": 3
   },
   "file_extension": ".py",
   "mimetype": "text/x-python",
   "name": "python",
   "nbconvert_exporter": "python",
   "pygments_lexer": "ipython3",
   "version": "3.6.8"
  },
  "toc-showmarkdowntxt": false
 },
 "nbformat": 4,
 "nbformat_minor": 4
}
