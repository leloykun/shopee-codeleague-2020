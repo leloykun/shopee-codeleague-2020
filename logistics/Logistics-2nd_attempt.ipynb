{
 "cells": [
  {
   "cell_type": "code",
   "execution_count": null,
   "metadata": {},
   "outputs": [],
   "source": [
    "import numpy as np\n",
    "import pandas as pd\n",
    "import matplotlib.pyplot as plt\n",
    "%matplotlib inline\n",
    "\n",
    "import time"
   ]
  },
  {
   "cell_type": "code",
   "execution_count": null,
   "metadata": {},
   "outputs": [],
   "source": [
    "data = pd.read_csv(\"delivery_orders_march.csv\", parse_dates=['pick', '1st_deliver_attempt', '2nd_deliver_attempt'])"
   ]
  },
  {
   "cell_type": "code",
   "execution_count": null,
   "metadata": {},
   "outputs": [],
   "source": [
    "data.head()"
   ]
  },
  {
   "cell_type": "code",
   "execution_count": null,
   "metadata": {},
   "outputs": [],
   "source": [
    "data['has_2nd'] = data['2nd_deliver_attempt'].isna()"
   ]
  },
  {
   "cell_type": "code",
   "execution_count": null,
   "metadata": {},
   "outputs": [],
   "source": [
    "data.head()"
   ]
  },
  {
   "cell_type": "code",
   "execution_count": null,
   "metadata": {},
   "outputs": [],
   "source": [
    "def parse_address(s):\n",
    "    return s.split()[-1].lower()\n",
    "\n",
    "data['buyer'] = data['buyeraddress'].map(parse_address)\n",
    "data['seller'] = data['selleraddress'].map(parse_address)"
   ]
  },
  {
   "cell_type": "code",
   "execution_count": null,
   "metadata": {},
   "outputs": [],
   "source": [
    "data['buyer'].value_counts()"
   ]
  },
  {
   "cell_type": "code",
   "execution_count": null,
   "metadata": {},
   "outputs": [],
   "source": [
    "data['seller'].value_counts()"
   ]
  },
  {
   "cell_type": "code",
   "execution_count": null,
   "metadata": {},
   "outputs": [],
   "source": [
    "data.head()"
   ]
  },
  {
   "cell_type": "code",
   "execution_count": null,
   "metadata": {},
   "outputs": [],
   "source": [
    "def parse_sla(df_row):\n",
    "    a = df_row['buyer']\n",
    "    b = df_row['seller']\n",
    "    if a == \"manila\":\n",
    "        if b == \"manila\":\n",
    "            return 3\n",
    "        elif b == \"luzon\":\n",
    "            return 5\n",
    "        else:\n",
    "            return 7\n",
    "    elif a == \"luzon\":\n",
    "        if b == \"manila\" or b == \"luzon\":\n",
    "            return 5\n",
    "        else:\n",
    "            return 7\n",
    "    else:\n",
    "        return 7"
   ]
  },
  {
   "cell_type": "code",
   "execution_count": null,
   "metadata": {},
   "outputs": [],
   "source": [
    "data['sla_time'] = data.apply(parse_sla, axis=1)"
   ]
  },
  {
   "cell_type": "code",
   "execution_count": null,
   "metadata": {},
   "outputs": [],
   "source": [
    "data.head()"
   ]
  },
  {
   "cell_type": "code",
   "execution_count": null,
   "metadata": {},
   "outputs": [],
   "source": [
    "data.tail()"
   ]
  },
  {
   "cell_type": "code",
   "execution_count": null,
   "metadata": {},
   "outputs": [],
   "source": [
    "def parse_time(x):\n",
    "    if np.isnan(float(x)):\n",
    "        return [0,0,0]\n",
    "    return time.ctime(int(float(x))).split()[:3]\n",
    "\n",
    "data['pick_date'] = data['pick'].map(parse_time)\n",
    "data['1st_date'] = data['1st_deliver_attempt'].map(parse_time)\n",
    "data['2nd_date'] = data['2nd_deliver_attempt'].map(parse_time)"
   ]
  },
  {
   "cell_type": "code",
   "execution_count": null,
   "metadata": {},
   "outputs": [],
   "source": [
    "data.head()"
   ]
  },
  {
   "cell_type": "code",
   "execution_count": null,
   "metadata": {},
   "outputs": [],
   "source": [
    "holidays = [1,8,15,22,29,25,30,31,36,43,50,57]\n",
    "def count_holidays(a, b):\n",
    "    cnt = 0\n",
    "    aday = int(a[-1])\n",
    "    bday = int(b[-1])\n",
    "    if a[1] == 'Apr':\n",
    "        aday += 31\n",
    "    if b[1] == 'Apr':\n",
    "        bday += 31\n",
    "    for x in holidays:\n",
    "        if aday <= x <= bday:\n",
    "            cnt+=1\n",
    "    return cnt"
   ]
  },
  {
   "cell_type": "code",
   "execution_count": null,
   "metadata": {},
   "outputs": [],
   "source": [
    "data['pick_to_first_cnt'] = data.apply(lambda x: count_holidays(x['pick_date'], x['1st_date']), axis=1)"
   ]
  },
  {
   "cell_type": "code",
   "execution_count": null,
   "metadata": {},
   "outputs": [],
   "source": [
    "data['first_to_second_cnt'] = data.apply(lambda x: count_holidays(x['1st_date'], x['2nd_date']), axis=1)"
   ]
  },
  {
   "cell_type": "code",
   "execution_count": null,
   "metadata": {},
   "outputs": [],
   "source": [
    "data.head()"
   ]
  },
  {
   "cell_type": "code",
   "execution_count": null,
   "metadata": {},
   "outputs": [],
   "source": [
    "data.tail()"
   ]
  },
  {
   "cell_type": "code",
   "execution_count": null,
   "metadata": {},
   "outputs": [],
   "source": [
    "def get_month(a):\n",
    "    return a[1]\n",
    "data['pick_month'] = data['pick_date'].map(get_month)"
   ]
  },
  {
   "cell_type": "code",
   "execution_count": null,
   "metadata": {},
   "outputs": [],
   "source": [
    "data['pick_month'].value_counts()"
   ]
  },
  {
   "cell_type": "code",
   "execution_count": null,
   "metadata": {},
   "outputs": [],
   "source": [
    "data['1st_month'] = data['1st_date'].map(get_month)\n",
    "data['1st_month'].value_counts()"
   ]
  },
  {
   "cell_type": "code",
   "execution_count": null,
   "metadata": {},
   "outputs": [],
   "source": [
    "data['2nd_month'] = data['2nd_date'].map(get_month)\n",
    "data['2nd_month'].value_counts()"
   ]
  },
  {
   "cell_type": "code",
   "execution_count": null,
   "metadata": {},
   "outputs": [],
   "source": [
    "type(data['pick_month'][0])"
   ]
  },
  {
   "cell_type": "code",
   "execution_count": null,
   "metadata": {},
   "outputs": [],
   "source": [
    "def solve(df_row):\n",
    "    if not df_row['has_2nd']:\n",
    "        pick = int(df_row['pick_date'][-1])\n",
    "        first = int(df_row['1st_date'][-1])\n",
    "        second = int(df_row['2nd_date'][-1])\n",
    "        \n",
    "        if df_row['pick_month'] == 'Apr':\n",
    "            pick += 31\n",
    "        if df_row['1st_month'] == 'Apr':\n",
    "            first += 31\n",
    "        if df_row['2nd_month'] == 'Apr':\n",
    "            second += 31\n",
    "        \n",
    "        time_taken_first = first-pick-int(df_row['pick_to_first_cnt'])\n",
    "        time_taken_second = second-first-int(df_row['first_to_second_cnt'])\n",
    "        assert(time_taken_first >= 0)\n",
    "        assert(time_taken_second >= 0)\n",
    "        return time_taken_first <= int(df_row['sla_time']) and time_taken_second <= 3\n",
    "    else:\n",
    "        pick = int(df_row['pick_date'][-1])\n",
    "        first = int(df_row['1st_date'][-1])\n",
    "\n",
    "        \n",
    "        if df_row['pick_month'] == 'Apr':\n",
    "            pick += 31\n",
    "        if df_row['1st_month'] == 'Apr':\n",
    "            first += 31\n",
    "        time_taken = first-pick-int(df_row['pick_to_first_cnt'])\n",
    "        assert(time_taken >= 0)\n",
    "        return time_taken <= int(df_row['sla_time'])"
   ]
  },
  {
   "cell_type": "code",
   "execution_count": null,
   "metadata": {},
   "outputs": [],
   "source": [
    "data['answer'] = data.apply(solve, axis=1)"
   ]
  },
  {
   "cell_type": "code",
   "execution_count": null,
   "metadata": {},
   "outputs": [],
   "source": [
    "answer = pd.DataFrame({'orderid': data['orderid'].values, 'is_late': ~data['answer'].values})"
   ]
  },
  {
   "cell_type": "code",
   "execution_count": null,
   "metadata": {},
   "outputs": [],
   "source": [
    "answer.head()"
   ]
  },
  {
   "cell_type": "code",
   "execution_count": null,
   "metadata": {},
   "outputs": [],
   "source": [
    "answer['is_late'] = answer['is_late'].astype(int)"
   ]
  },
  {
   "cell_type": "code",
   "execution_count": null,
   "metadata": {},
   "outputs": [],
   "source": [
    "answer.head()"
   ]
  },
  {
   "cell_type": "code",
   "execution_count": null,
   "metadata": {},
   "outputs": [],
   "source": [
    "answer['is_late'].value_counts()"
   ]
  },
  {
   "cell_type": "code",
   "execution_count": null,
   "metadata": {},
   "outputs": [],
   "source": [
    "answer.to_csv('predictions3.csv', index=False)"
   ]
  },
  {
   "cell_type": "code",
   "execution_count": null,
   "metadata": {},
   "outputs": [],
   "source": []
  }
 ],
 "metadata": {
  "kernelspec": {
   "display_name": "Python 3",
   "language": "python",
   "name": "python3"
  },
  "language_info": {
   "codemirror_mode": {
    "name": "ipython",
    "version": 3
   },
   "file_extension": ".py",
   "mimetype": "text/x-python",
   "name": "python",
   "nbconvert_exporter": "python",
   "pygments_lexer": "ipython3",
   "version": "3.6.8"
  }
 },
 "nbformat": 4,
 "nbformat_minor": 4
}
