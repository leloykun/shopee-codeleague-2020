{
 "cells": [
  {
   "cell_type": "code",
   "execution_count": 1,
   "metadata": {},
   "outputs": [],
   "source": [
    "import tensorflow as tf\n",
    "import tensorflow.keras as tfk\n",
    "import tensorflow_addons as tfa\n",
    "\n",
    "from tensorflow.keras.preprocessing import image as tfk_image\n",
    "from tensorflow.keras.preprocessing.image import ImageDataGenerator as tfk_ImageDataGenerator\n",
    "\n",
    "from tensorflow.python.keras.applications.efficientnet import EfficientNetB7 as tfk_BaseModel\n",
    "from tensorflow.python.keras.applications.efficientnet import preprocess_input as tfk_preprocess_input\n",
    "\n",
    "# pip install git+https://github.com/docPhil99/ImageDataAugmentor\n",
    "from ImageDataAugmentor.image_data_augmentor import ImageDataAugmentor\n",
    "import albumentations as A\n",
    "\n",
    "import datetime, os\n",
    "\n",
    "import numpy as np\n",
    "import pandas as pd\n",
    "import matplotlib.pyplot as plt\n",
    "import seaborn as sns; sns.set();\n",
    "from PIL import Image, ImageEnhance\n",
    "\n",
    "from sklearn.utils import class_weight\n",
    "from sklearn.metrics import confusion_matrix, log_loss, accuracy_score\n",
    "from sklearn.preprocessing import OneHotEncoder"
   ]
  },
  {
   "cell_type": "markdown",
   "metadata": {},
   "source": [
    "## Prepare Dataset"
   ]
  },
  {
   "cell_type": "markdown",
   "metadata": {},
   "source": [
    "### Load and combine datasets"
   ]
  },
  {
   "cell_type": "code",
   "execution_count": 24,
   "metadata": {},
   "outputs": [],
   "source": [
    "pd_shopee_train = pd.read_csv('shopee-product-detection-dataset/train.csv')\n",
    "pd_confusing_images = pd.read_csv('shopee-product-detection-dataset/confusing_images_2__mistake_ratio=0.9.csv')\n",
    "pd_amazon_train = pd.read_csv('amazon-scraped-dataset/amazon.csv')"
   ]
  },
  {
   "cell_type": "code",
   "execution_count": 25,
   "metadata": {},
   "outputs": [],
   "source": [
    "# uncomment to clean up the shopee dataset\n",
    "# mask = ~pd_shopee_train.set_index('dir_filename').index.isin(pd_confusing_images.set_index('dir_filename').index)\n",
    "# pd_shopee_train = pd_shopee_train.loc[mask].copy()"
   ]
  },
  {
   "cell_type": "code",
   "execution_count": 26,
   "metadata": {},
   "outputs": [],
   "source": [
    "pd_shopee_train['category']     = pd_shopee_train['category'].apply(lambda x : '{:02d}'.format(x))\n",
    "pd_shopee_train['dir_filename'] = pd_shopee_train.apply(lambda x: 'shopee-product-detection-dataset/train/{}/{}'.format(x.category, x.filename), axis=1)\n",
    "\n",
    "pd_amazon_train['category']     = pd_amazon_train['category'].apply(lambda x : '{:02d}'.format(x))\n",
    "pd_amazon_train['dir_filename'] = pd_amazon_train.apply(lambda x: 'amazon-scraped-dataset/{}/{}'.format(x.category, x.filename), axis=1)"
   ]
  },
  {
   "cell_type": "code",
   "execution_count": 27,
   "metadata": {},
   "outputs": [
    {
     "data": {
      "text/html": [
       "<div>\n",
       "<style scoped>\n",
       "    .dataframe tbody tr th:only-of-type {\n",
       "        vertical-align: middle;\n",
       "    }\n",
       "\n",
       "    .dataframe tbody tr th {\n",
       "        vertical-align: top;\n",
       "    }\n",
       "\n",
       "    .dataframe thead th {\n",
       "        text-align: right;\n",
       "    }\n",
       "</style>\n",
       "<table border=\"1\" class=\"dataframe\">\n",
       "  <thead>\n",
       "    <tr style=\"text-align: right;\">\n",
       "      <th></th>\n",
       "      <th>filename</th>\n",
       "      <th>category</th>\n",
       "      <th>dir_filename</th>\n",
       "    </tr>\n",
       "  </thead>\n",
       "  <tbody>\n",
       "    <tr>\n",
       "      <th>0</th>\n",
       "      <td>41fKFbPPHaL.jpg</td>\n",
       "      <td>16</td>\n",
       "      <td>amazon-scraped-dataset/16/41fKFbPPHaL.jpg</td>\n",
       "    </tr>\n",
       "    <tr>\n",
       "      <th>1</th>\n",
       "      <td>625558e66760fbb8eca23240cb7f84e0.jpg</td>\n",
       "      <td>19</td>\n",
       "      <td>shopee-product-detection-dataset/train/19/6255...</td>\n",
       "    </tr>\n",
       "    <tr>\n",
       "      <th>2</th>\n",
       "      <td>31N7VH6BhyL.jpg</td>\n",
       "      <td>21</td>\n",
       "      <td>amazon-scraped-dataset/21/31N7VH6BhyL.jpg</td>\n",
       "    </tr>\n",
       "    <tr>\n",
       "      <th>3</th>\n",
       "      <td>624a4fc09fa612912b1c07d6b7847712.jpg</td>\n",
       "      <td>40</td>\n",
       "      <td>shopee-product-detection-dataset/train/40/624a...</td>\n",
       "    </tr>\n",
       "    <tr>\n",
       "      <th>4</th>\n",
       "      <td>41l_2BewK5OvL.jpg</td>\n",
       "      <td>20</td>\n",
       "      <td>amazon-scraped-dataset/20/41l_2BewK5OvL.jpg</td>\n",
       "    </tr>\n",
       "  </tbody>\n",
       "</table>\n",
       "</div>"
      ],
      "text/plain": [
       "                               filename category  \\\n",
       "0                       41fKFbPPHaL.jpg       16   \n",
       "1  625558e66760fbb8eca23240cb7f84e0.jpg       19   \n",
       "2                       31N7VH6BhyL.jpg       21   \n",
       "3  624a4fc09fa612912b1c07d6b7847712.jpg       40   \n",
       "4                     41l_2BewK5OvL.jpg       20   \n",
       "\n",
       "                                        dir_filename  \n",
       "0          amazon-scraped-dataset/16/41fKFbPPHaL.jpg  \n",
       "1  shopee-product-detection-dataset/train/19/6255...  \n",
       "2          amazon-scraped-dataset/21/31N7VH6BhyL.jpg  \n",
       "3  shopee-product-detection-dataset/train/40/624a...  \n",
       "4        amazon-scraped-dataset/20/41l_2BewK5OvL.jpg  "
      ]
     },
     "execution_count": 27,
     "metadata": {},
     "output_type": "execute_result"
    }
   ],
   "source": [
    "pd_combined_dataset = pd_shopee_train.merge(pd_amazon_train, how='outer')\n",
    "# random shuffle\n",
    "pd_combined_dataset = pd_combined_dataset.sample(frac=1).reset_index(drop=True)\n",
    "pd_combined_dataset.head()"
   ]
  },
  {
   "cell_type": "code",
   "execution_count": 28,
   "metadata": {},
   "outputs": [],
   "source": [
    "assert(len(pd_shopee_train) + len(pd_amazon_train) == len(pd_combined_dataset))\n",
    "assert(np.all(np.unique(pd_combined_dataset['category']) == \n",
    "              np.array(['{:02d}'.format(cat) for cat in range(42)])))"
   ]
  },
  {
   "cell_type": "markdown",
   "metadata": {},
   "source": [
    "### Prepare data generators"
   ]
  },
  {
   "cell_type": "code",
   "execution_count": 29,
   "metadata": {},
   "outputs": [],
   "source": [
    "input_shape = (256, 256, 3)\n",
    "batch_size  = 64"
   ]
  },
  {
   "cell_type": "code",
   "execution_count": 30,
   "metadata": {},
   "outputs": [],
   "source": [
    "AUGMENTATIONS = A.Compose([\n",
    "    A.HorizontalFlip(),\n",
    "    A.VerticalFlip(),\n",
    "    A.Rotate(),\n",
    "    A.OneOf([\n",
    "        A.RandomContrast(),\n",
    "        A.RandomGamma(),\n",
    "        A.RandomBrightness(),\n",
    "    ], p = 0.3),\n",
    "    A.OneOf([\n",
    "        A.ElasticTransform(\n",
    "            alpha = 120,\n",
    "            sigma = 120 * 0.05,\n",
    "            alpha_affine = 120 * 0.03\n",
    "        ),\n",
    "        A.GridDistortion(),\n",
    "        A.OpticalDistortion(\n",
    "            distort_limit = 2,\n",
    "            shift_limit = 0.5\n",
    "        ),\n",
    "    ], p = 0.3),\n",
    "    A.OneOf([\n",
    "        A.Cutout(\n",
    "            num_holes=4,\n",
    "            max_h_size=64,\n",
    "            max_w_size=64\n",
    "        ),\n",
    "        A.GridDropout(\n",
    "            ratio=0.25,\n",
    "            holes_number_x=8,\n",
    "            holes_number_y=8\n",
    "        ),\n",
    "    ], p=1),\n",
    "])"
   ]
  },
  {
   "cell_type": "code",
   "execution_count": 31,
   "metadata": {},
   "outputs": [
    {
     "name": "stdout",
     "output_type": "stream",
     "text": [
      "Found 137684 validated image filenames belonging to 42 classes.\n",
      "Found 15298 validated image filenames belonging to 42 classes.\n"
     ]
    }
   ],
   "source": [
    "train_datagen = ImageDataAugmentor(\n",
    "    preprocess_input=tfk_preprocess_input,\n",
    "    validation_split=0.1,\n",
    "    augment=AUGMENTATIONS,\n",
    ")\n",
    "\n",
    "train_generator = train_datagen.flow_from_dataframe(\n",
    "    pd_combined_dataset,\n",
    "    directory='',\n",
    "    x_col='dir_filename',\n",
    "    y_col='category',\n",
    "    target_size=input_shape[:2],\n",
    "    color_mode='rgb',\n",
    "    batch_size=batch_size,\n",
    "    class_mode='categorical',\n",
    "    shuffle=True,\n",
    "    subset='training'\n",
    ")\n",
    "\n",
    "val_generator = train_datagen.flow_from_dataframe(\n",
    "    pd_combined_dataset,\n",
    "    directory='',\n",
    "    x_col='dir_filename',\n",
    "    y_col='category',\n",
    "    target_size=input_shape[:2],\n",
    "    color_mode='rgb',\n",
    "    batch_size=batch_size,\n",
    "    class_mode='categorical',\n",
    "    shuffle=True,\n",
    "    subset='validation'\n",
    ")"
   ]
  },
  {
   "cell_type": "markdown",
   "metadata": {},
   "source": [
    "### Check class distributions"
   ]
  },
  {
   "cell_type": "code",
   "execution_count": 33,
   "metadata": {},
   "outputs": [
    {
     "data": {
      "image/png": "[encoded data removed]",
      "text/plain": [
       "<Figure size 432x288 with 1 Axes>"
      ]
     },
     "metadata": {},
     "output_type": "display_data"
    }
   ],
   "source": [
    "plt.title(\"Class Distribution in Combined Dataset\")\n",
    "plt.xlabel(\"Class\")\n",
    "plt.ylabel(\"Freq\")\n",
    "plt.hist(pd_combined_dataset['category'].astype(int), bins=np.arange(43));"
   ]
  },
  {
   "cell_type": "code",
   "execution_count": 34,
   "metadata": {},
   "outputs": [
    {
     "data": {
      "image/png": "[encoded data removed]",
      "text/plain": [
       "<Figure size 432x288 with 1 Axes>"
      ]
     },
     "metadata": {},
     "output_type": "display_data"
    }
   ],
   "source": [
    "plt.hist(train_generator.classes, bins=np.arange(43));"
   ]
  },
  {
   "cell_type": "code",
   "execution_count": 35,
   "metadata": {},
   "outputs": [
    {
     "data": {
      "image/png": "[encoded data removed]",
      "text/plain": [
       "<Figure size 432x288 with 1 Axes>"
      ]
     },
     "metadata": {},
     "output_type": "display_data"
    }
   ],
   "source": [
    "plt.hist(val_generator.classes, bins=np.arange(43));"
   ]
  },
  {
   "cell_type": "markdown",
   "metadata": {},
   "source": [
    "### Calculate class weights"
   ]
  },
  {
   "cell_type": "code",
   "execution_count": 36,
   "metadata": {},
   "outputs": [
    {
     "data": {
      "image/png": "[encoded data removed]",
      "text/plain": [
       "<Figure size 432x288 with 1 Axes>"
      ]
     },
     "metadata": {},
     "output_type": "display_data"
    }
   ],
   "source": [
    "class_weights = class_weight.compute_class_weight('balanced',\n",
    "                                                  np.unique(train_generator.classes),\n",
    "                                                  train_generator.classes)\n",
    "class_weights = {i : class_weights[i] for i in range(len(class_weights))}\n",
    "plt.title(\"Class Weights\")\n",
    "plt.ylabel(\"Weight\")\n",
    "plt.xlabel(\"Class\")\n",
    "plt.bar(class_weights.keys(), class_weights.values());"
   ]
  },
  {
   "cell_type": "markdown",
   "metadata": {},
   "source": [
    "## Prepare Model"
   ]
  },
  {
   "cell_type": "code",
   "execution_count": null,
   "metadata": {},
   "outputs": [],
   "source": [
    "base_model = tfk_BaseModel(input_shape=input_shape, weights='imagenet', include_top=False)"
   ]
  },
  {
   "cell_type": "code",
   "execution_count": null,
   "metadata": {},
   "outputs": [],
   "source": [
    "TYPE = 3\n",
    "if TYPE == 1:\n",
    "    for layer in base_model.layers[:-18]:\n",
    "        layer.trainable = False\n",
    "    model = tfk.Sequential([\n",
    "        base_model,\n",
    "        tfk.layers.GlobalMaxPooling2D(),\n",
    "        tfk.layers.Dense(512, activation='relu'),\n",
    "        tfk.layers.Dense(128, activation='relu'),\n",
    "        tfk.layers.Dense(42, activation='softmax', name='output_layer'),\n",
    "    ])\n",
    "elif TYPE == 2:\n",
    "    model = tfk.Sequential([\n",
    "        base_model,\n",
    "        tfk.layers.GlobalMaxPooling2D(),\n",
    "        tfk.layers.Dropout(rate=0.2),\n",
    "        tfk.layers.Dense(42, activation='softmax', name='output_layer'),\n",
    "    ])\n",
    "    base_model.trainable = False\n",
    "elif TYPE == 3:\n",
    "    for layer in base_model.layers[:-len(base_model.layers)//5]:\n",
    "        layer.trainable = False\n",
    "    model = tfk.Sequential([\n",
    "        base_model,\n",
    "        tfk.layers.GlobalMaxPooling2D(),\n",
    "        tfk.layers.Dropout(rate=0.2),\n",
    "        tfk.layers.Dense(42, activation='softmax', name='output_layer'),\n",
    "    ])"
   ]
  },
  {
   "cell_type": "code",
   "execution_count": 9,
   "metadata": {},
   "outputs": [
    {
     "name": "stdout",
     "output_type": "stream",
     "text": [
      "Model: \"sequential\"\n",
      "_________________________________________________________________\n",
      "Layer (type)                 Output Shape              Param #   \n",
      "=================================================================\n",
      "efficientnetb7 (Model)       (None, 8, 8, 2560)        64097687  \n",
      "_________________________________________________________________\n",
      "global_max_pooling2d (Global (None, 2560)              0         \n",
      "_________________________________________________________________\n",
      "dropout (Dropout)            (None, 2560)              0         \n",
      "_________________________________________________________________\n",
      "output_layer (Dense)         (None, 42)                107562    \n",
      "=================================================================\n",
      "Total params: 64,205,249\n",
      "Trainable params: 38,267,402\n",
      "Non-trainable params: 25,937,847\n",
      "_________________________________________________________________\n"
     ]
    }
   ],
   "source": [
    "model.summary()"
   ]
  },
  {
   "cell_type": "code",
   "execution_count": 10,
   "metadata": {},
   "outputs": [
    {
     "data": {
      "image/png": "[encoded data removed]",
      "text/plain": [
       "<IPython.core.display.Image object>"
      ]
     },
     "execution_count": 10,
     "metadata": {},
     "output_type": "execute_result"
    }
   ],
   "source": [
    "tfk.utils.plot_model(model, rankdir='LR', dpi=300, show_shapes=False)"
   ]
  },
  {
   "cell_type": "code",
   "execution_count": null,
   "metadata": {},
   "outputs": [],
   "source": [
    "# model.save('model_aug_full_4.h5')"
   ]
  },
  {
   "cell_type": "markdown",
   "metadata": {},
   "source": [
    "## Train Top Layers of Model"
   ]
  },
  {
   "cell_type": "markdown",
   "metadata": {},
   "source": [
    "### Load model"
   ]
  },
  {
   "cell_type": "code",
   "execution_count": 14,
   "metadata": {},
   "outputs": [],
   "source": [
    "model = tfk.models.load_model('model_aug_full_4.h5')"
   ]
  },
  {
   "cell_type": "markdown",
   "metadata": {},
   "source": [
    "### Prepare callbacks"
   ]
  },
  {
   "cell_type": "code",
   "execution_count": 15,
   "metadata": {},
   "outputs": [],
   "source": [
    "reduce_lr = tf.keras.callbacks.ReduceLROnPlateau(\n",
    "    monitor='val_loss',\n",
    "    factor=0.3,\n",
    "    patience=10,\n",
    "    min_lr=1e-6\n",
    ")\n",
    "\n",
    "early_stop = tfk.callbacks.EarlyStopping(\n",
    "    monitor='val_loss',\n",
    "    patience=30,\n",
    "    restore_best_weights=True\n",
    ")\n",
    "\n",
    "log_dir = os.path.join(\".model_files/logs/\" + datetime.datetime.now().strftime(\"%Y%m%d-%H%M%S\"))\n",
    "if not os.path.exists(log_dir):\n",
    "    os.makedirs(log_dir)\n",
    "\n",
    "checkpoint = tfk.callbacks.ModelCheckpoint(\n",
    "    filepath = log_dir + '/ckpt/',\n",
    "    save_freq ='epoch',\n",
    "    save_best_only=True,\n",
    "    monitor='val_loss'\n",
    ")\n",
    "\n",
    "tensorboard_callback = tf.keras.callbacks.TensorBoard(\n",
    "    log_dir=log_dir,\n",
    "    histogram_freq=0,\n",
    "    update_freq=100,\n",
    "    write_graph=False,\n",
    "    profile_batch = 0\n",
    ")\n",
    "\n",
    "class LRTensorBoard(tf.keras.callbacks.TensorBoard):\n",
    "    def __init__(self, log_dir, **kwargs):  # add other arguments to __init__ if you need\n",
    "        super().__init__(log_dir=log_dir, **kwargs)\n",
    "\n",
    "    def on_epoch_end(self, epoch, logs=None):\n",
    "        logs = logs or {}\n",
    "        lr_sched = getattr(self.model.optimizer, \"lr\", None)\n",
    "        logs.update({'lr': tf.keras.backend.get_value(lr_sched(tf.cast(self.model.optimizer.iterations, tf.float32)))})\n",
    "        super().on_epoch_end(epoch, logs)\n",
    "\n",
    "lr_tensorboard_callback = LRTensorBoard(log_dir=log_dir)\n",
    "        \n",
    "#tqdm_callback = tfa.callbacks.TQDMCallback()"
   ]
  },
  {
   "cell_type": "markdown",
   "metadata": {},
   "source": [
    "### Compile model"
   ]
  },
  {
   "cell_type": "code",
   "execution_count": 16,
   "metadata": {},
   "outputs": [],
   "source": [
    "lr_schedule = tfa.optimizers.ExponentialCyclicalLearningRate(\n",
    "    initial_learning_rate=1e-6,\n",
    "    maximal_learning_rate=1e-3,\n",
    "    step_size=2*train_generator.n//batch_size\n",
    ")\n",
    "\n",
    "model.compile(optimizer=tfk.optimizers.Adam(learning_rate=1e-4),\n",
    "              loss=tfk.losses.CategoricalCrossentropy(label_smoothing=0.1),\n",
    "              metrics=['accuracy'])"
   ]
  },
  {
   "cell_type": "markdown",
   "metadata": {},
   "source": [
    "### Train model"
   ]
  },
  {
   "cell_type": "code",
   "execution_count": 17,
   "metadata": {},
   "outputs": [
    {
     "name": "stdout",
     "output_type": "stream",
     "text": [
      "Epoch 125/500\n",
      "200/200 [==============================] - 243s 1s/step - loss: 1.6595 - accuracy: 0.6769 - val_loss: 1.4969 - val_accuracy: 0.7234 - lr: 1.0000e-04\n",
      "Epoch 126/500\n",
      "200/200 [==============================] - 244s 1s/step - loss: 1.6426 - accuracy: 0.6798 - val_loss: 1.5268 - val_accuracy: 0.7148 - lr: 1.0000e-04\n",
      "Epoch 127/500\n",
      "200/200 [==============================] - 242s 1s/step - loss: 1.5963 - accuracy: 0.6938 - val_loss: 1.5061 - val_accuracy: 0.7266 - lr: 1.0000e-04\n",
      "Epoch 128/500\n",
      "200/200 [==============================] - 243s 1s/step - loss: 1.5683 - accuracy: 0.7025 - val_loss: 1.4622 - val_accuracy: 0.7367 - lr: 1.0000e-04\n",
      "Epoch 129/500\n",
      "200/200 [==============================] - 242s 1s/step - loss: 1.5834 - accuracy: 0.6975 - val_loss: 1.4372 - val_accuracy: 0.7516 - lr: 1.0000e-04\n",
      "Epoch 130/500\n",
      "200/200 [==============================] - 242s 1s/step - loss: 1.5752 - accuracy: 0.6967 - val_loss: 1.4604 - val_accuracy: 0.7453 - lr: 1.0000e-04\n",
      "Epoch 131/500\n",
      "200/200 [==============================] - 242s 1s/step - loss: 1.5611 - accuracy: 0.7046 - val_loss: 1.4491 - val_accuracy: 0.7422 - lr: 1.0000e-04\n",
      "Epoch 132/500\n",
      "200/200 [==============================] - 240s 1s/step - loss: 1.5571 - accuracy: 0.7074 - val_loss: 1.4681 - val_accuracy: 0.7406 - lr: 1.0000e-04\n",
      "Epoch 133/500\n",
      "200/200 [==============================] - 242s 1s/step - loss: 1.5407 - accuracy: 0.7095 - val_loss: 1.4013 - val_accuracy: 0.7703 - lr: 1.0000e-04\n",
      "Epoch 134/500\n",
      "200/200 [==============================] - 241s 1s/step - loss: 1.5531 - accuracy: 0.7031 - val_loss: 1.4444 - val_accuracy: 0.7516 - lr: 1.0000e-04\n",
      "Epoch 135/500\n",
      "200/200 [==============================] - 241s 1s/step - loss: 1.5584 - accuracy: 0.7066 - val_loss: 1.4679 - val_accuracy: 0.7320 - lr: 1.0000e-04\n",
      "Epoch 136/500\n",
      "200/200 [==============================] - 241s 1s/step - loss: 1.5554 - accuracy: 0.7045 - val_loss: 1.4262 - val_accuracy: 0.7602 - lr: 1.0000e-04\n",
      "Epoch 137/500\n",
      "200/200 [==============================] - 241s 1s/step - loss: 1.5599 - accuracy: 0.7062 - val_loss: 1.4389 - val_accuracy: 0.7484 - lr: 1.0000e-04\n",
      "Epoch 138/500\n",
      "200/200 [==============================] - 241s 1s/step - loss: 1.5330 - accuracy: 0.7086 - val_loss: 1.4248 - val_accuracy: 0.7555 - lr: 1.0000e-04\n",
      "Epoch 139/500\n",
      "200/200 [==============================] - 241s 1s/step - loss: 1.5438 - accuracy: 0.7135 - val_loss: 1.4138 - val_accuracy: 0.7531 - lr: 1.0000e-04\n",
      "Epoch 140/500\n",
      "200/200 [==============================] - 241s 1s/step - loss: 1.5435 - accuracy: 0.7099 - val_loss: 1.4567 - val_accuracy: 0.7523 - lr: 1.0000e-04\n",
      "Epoch 141/500\n",
      "200/200 [==============================] - 242s 1s/step - loss: 1.5475 - accuracy: 0.7074 - val_loss: 1.4460 - val_accuracy: 0.7297 - lr: 1.0000e-04\n",
      "Epoch 142/500\n",
      "200/200 [==============================] - 241s 1s/step - loss: 1.5218 - accuracy: 0.7136 - val_loss: 1.4146 - val_accuracy: 0.7586 - lr: 1.0000e-04\n",
      "Epoch 143/500\n",
      "200/200 [==============================] - 241s 1s/step - loss: 1.5403 - accuracy: 0.7128 - val_loss: 1.4063 - val_accuracy: 0.7539 - lr: 1.0000e-04\n",
      "Epoch 144/500\n",
      "200/200 [==============================] - 241s 1s/step - loss: 1.5382 - accuracy: 0.7122 - val_loss: 1.4413 - val_accuracy: 0.7516 - lr: 3.0000e-05\n",
      "Epoch 145/500\n",
      "200/200 [==============================] - 241s 1s/step - loss: 1.5210 - accuracy: 0.7188 - val_loss: 1.4274 - val_accuracy: 0.7461 - lr: 3.0000e-05\n",
      "Epoch 146/500\n",
      "200/200 [==============================] - 241s 1s/step - loss: 1.5263 - accuracy: 0.7141 - val_loss: 1.3988 - val_accuracy: 0.7539 - lr: 3.0000e-05\n",
      "Epoch 147/500\n",
      "200/200 [==============================] - 241s 1s/step - loss: 1.5163 - accuracy: 0.7148 - val_loss: 1.4124 - val_accuracy: 0.7461 - lr: 3.0000e-05\n",
      "Epoch 148/500\n",
      "200/200 [==============================] - 241s 1s/step - loss: 1.5011 - accuracy: 0.7246 - val_loss: 1.4046 - val_accuracy: 0.7516 - lr: 3.0000e-05\n",
      "Epoch 149/500\n",
      "200/200 [==============================] - 241s 1s/step - loss: 1.5234 - accuracy: 0.7195 - val_loss: 1.3938 - val_accuracy: 0.7656 - lr: 3.0000e-05\n",
      "Epoch 150/500\n",
      "200/200 [==============================] - 241s 1s/step - loss: 1.5250 - accuracy: 0.7170 - val_loss: 1.3826 - val_accuracy: 0.7703 - lr: 3.0000e-05\n",
      "Epoch 151/500\n",
      "200/200 [==============================] - 241s 1s/step - loss: 1.5005 - accuracy: 0.7209 - val_loss: 1.3981 - val_accuracy: 0.7602 - lr: 3.0000e-05\n",
      "Epoch 152/500\n",
      "200/200 [==============================] - 241s 1s/step - loss: 1.5188 - accuracy: 0.7157 - val_loss: 1.4352 - val_accuracy: 0.7531 - lr: 3.0000e-05\n",
      "Epoch 153/500\n",
      "200/200 [==============================] - 241s 1s/step - loss: 1.5066 - accuracy: 0.7230 - val_loss: 1.4206 - val_accuracy: 0.7680 - lr: 3.0000e-05\n",
      "Epoch 154/500\n",
      "200/200 [==============================] - 241s 1s/step - loss: 1.5008 - accuracy: 0.7193 - val_loss: 1.4207 - val_accuracy: 0.7398 - lr: 9.0000e-06\n",
      "Epoch 155/500\n",
      "200/200 [==============================] - 241s 1s/step - loss: 1.4957 - accuracy: 0.7219 - val_loss: 1.4361 - val_accuracy: 0.7492 - lr: 9.0000e-06\n",
      "Epoch 156/500\n",
      "200/200 [==============================] - 241s 1s/step - loss: 1.5126 - accuracy: 0.7198 - val_loss: 1.4214 - val_accuracy: 0.7445 - lr: 9.0000e-06\n",
      "Epoch 157/500\n",
      "200/200 [==============================] - 242s 1s/step - loss: 1.5087 - accuracy: 0.7234 - val_loss: 1.3575 - val_accuracy: 0.7906 - lr: 9.0000e-06\n",
      "Epoch 158/500\n",
      "200/200 [==============================] - 242s 1s/step - loss: 1.5053 - accuracy: 0.7199 - val_loss: 1.4223 - val_accuracy: 0.7508 - lr: 9.0000e-06\n",
      "Epoch 159/500\n",
      "200/200 [==============================] - 242s 1s/step - loss: 1.5198 - accuracy: 0.7170 - val_loss: 1.4128 - val_accuracy: 0.7688 - lr: 9.0000e-06\n",
      "Epoch 160/500\n",
      "200/200 [==============================] - 242s 1s/step - loss: 1.5156 - accuracy: 0.7218 - val_loss: 1.4197 - val_accuracy: 0.7477 - lr: 9.0000e-06\n",
      "Epoch 161/500\n",
      "200/200 [==============================] - 242s 1s/step - loss: 1.5057 - accuracy: 0.7209 - val_loss: 1.4053 - val_accuracy: 0.7523 - lr: 9.0000e-06\n",
      "Epoch 162/500\n",
      "200/200 [==============================] - 242s 1s/step - loss: 1.5092 - accuracy: 0.7190 - val_loss: 1.4021 - val_accuracy: 0.7555 - lr: 9.0000e-06\n",
      "Epoch 163/500\n",
      "200/200 [==============================] - 242s 1s/step - loss: 1.5036 - accuracy: 0.7213 - val_loss: 1.4329 - val_accuracy: 0.7430 - lr: 9.0000e-06\n",
      "Epoch 164/500\n",
      "200/200 [==============================] - 242s 1s/step - loss: 1.5081 - accuracy: 0.7166 - val_loss: 1.4231 - val_accuracy: 0.7547 - lr: 9.0000e-06\n",
      "Epoch 165/500\n",
      "200/200 [==============================] - 242s 1s/step - loss: 1.5015 - accuracy: 0.7209 - val_loss: 1.4245 - val_accuracy: 0.7547 - lr: 9.0000e-06\n",
      "Epoch 166/500\n",
      "200/200 [==============================] - 242s 1s/step - loss: 1.5063 - accuracy: 0.7175 - val_loss: 1.4159 - val_accuracy: 0.7633 - lr: 9.0000e-06\n",
      "Epoch 167/500\n",
      "200/200 [==============================] - 242s 1s/step - loss: 1.5056 - accuracy: 0.7187 - val_loss: 1.4233 - val_accuracy: 0.7523 - lr: 9.0000e-06\n",
      "Epoch 168/500\n",
      "200/200 [==============================] - 242s 1s/step - loss: 1.5173 - accuracy: 0.7185 - val_loss: 1.4972 - val_accuracy: 0.7172 - lr: 2.7000e-06\n",
      "Epoch 169/500\n",
      "200/200 [==============================] - 242s 1s/step - loss: 1.5222 - accuracy: 0.7177 - val_loss: 1.4522 - val_accuracy: 0.7484 - lr: 2.7000e-06\n",
      "Epoch 170/500\n",
      "200/200 [==============================] - 241s 1s/step - loss: 1.5248 - accuracy: 0.7177 - val_loss: 1.4646 - val_accuracy: 0.7312 - lr: 2.7000e-06\n",
      "Epoch 171/500\n",
      "200/200 [==============================] - 241s 1s/step - loss: 1.5055 - accuracy: 0.7191 - val_loss: 1.4240 - val_accuracy: 0.7453 - lr: 2.7000e-06\n",
      "Epoch 172/500\n",
      "200/200 [==============================] - 242s 1s/step - loss: 1.5098 - accuracy: 0.7220 - val_loss: 1.4069 - val_accuracy: 0.7570 - lr: 2.7000e-06\n",
      "Epoch 173/500\n",
      "200/200 [==============================] - 241s 1s/step - loss: 1.5096 - accuracy: 0.7194 - val_loss: 1.4750 - val_accuracy: 0.7391 - lr: 2.7000e-06\n",
      "Epoch 174/500\n",
      "200/200 [==============================] - 241s 1s/step - loss: 1.5031 - accuracy: 0.7245 - val_loss: 1.4171 - val_accuracy: 0.7555 - lr: 2.7000e-06\n",
      "Epoch 175/500\n",
      "200/200 [==============================] - 241s 1s/step - loss: 1.5113 - accuracy: 0.7250 - val_loss: 1.4405 - val_accuracy: 0.7586 - lr: 2.7000e-06\n",
      "Epoch 176/500\n",
      "200/200 [==============================] - 242s 1s/step - loss: 1.5091 - accuracy: 0.7170 - val_loss: 1.4046 - val_accuracy: 0.7508 - lr: 2.7000e-06\n",
      "Epoch 177/500\n",
      "200/200 [==============================] - 242s 1s/step - loss: 1.4938 - accuracy: 0.7251 - val_loss: 1.3885 - val_accuracy: 0.7578 - lr: 2.7000e-06\n",
      "Epoch 178/500\n",
      "200/200 [==============================] - 241s 1s/step - loss: 1.5079 - accuracy: 0.7215 - val_loss: 1.4204 - val_accuracy: 0.7469 - lr: 1.0000e-06\n",
      "Epoch 179/500\n",
      "200/200 [==============================] - 242s 1s/step - loss: 1.5118 - accuracy: 0.7236 - val_loss: 1.4241 - val_accuracy: 0.7406 - lr: 1.0000e-06\n",
      "Epoch 180/500\n",
      "200/200 [==============================] - 242s 1s/step - loss: 1.5061 - accuracy: 0.7211 - val_loss: 1.4540 - val_accuracy: 0.7500 - lr: 1.0000e-06\n",
      "Epoch 181/500\n",
      "200/200 [==============================] - 242s 1s/step - loss: 1.4976 - accuracy: 0.7253 - val_loss: 1.4490 - val_accuracy: 0.7398 - lr: 1.0000e-06\n",
      "Epoch 182/500\n",
      "200/200 [==============================] - 242s 1s/step - loss: 1.5159 - accuracy: 0.7219 - val_loss: 1.4186 - val_accuracy: 0.7523 - lr: 1.0000e-06\n",
      "Epoch 183/500\n",
      "200/200 [==============================] - 242s 1s/step - loss: 1.5074 - accuracy: 0.7172 - val_loss: 1.4508 - val_accuracy: 0.7398 - lr: 1.0000e-06\n",
      "Epoch 184/500\n",
      "200/200 [==============================] - 242s 1s/step - loss: 1.5022 - accuracy: 0.7241 - val_loss: 1.3838 - val_accuracy: 0.7727 - lr: 1.0000e-06\n",
      "Epoch 185/500\n",
      "200/200 [==============================] - 242s 1s/step - loss: 1.5191 - accuracy: 0.7134 - val_loss: 1.4207 - val_accuracy: 0.7648 - lr: 1.0000e-06\n",
      "Epoch 186/500\n",
      "200/200 [==============================] - 243s 1s/step - loss: 1.5270 - accuracy: 0.7124 - val_loss: 1.4121 - val_accuracy: 0.7563 - lr: 1.0000e-06\n",
      "Epoch 187/500\n",
      "200/200 [==============================] - 242s 1s/step - loss: 1.5098 - accuracy: 0.7204 - val_loss: 1.3821 - val_accuracy: 0.7688 - lr: 1.0000e-06\n"
     ]
    }
   ],
   "source": [
    "history = model.fit(train_generator,\n",
    "                    initial_epoch=124,\n",
    "                    epochs=500,\n",
    "                    steps_per_epoch=200,\n",
    "                    validation_steps=20,\n",
    "                    validation_data=val_generator,\n",
    "                    class_weight=class_weights,\n",
    "                    callbacks=[reduce_lr,\n",
    "                               early_stop, \n",
    "                               #checkpoint, \n",
    "                               tensorboard_callback,\n",
    "                               #lr_tensorboard_callback,\n",
    "                               #tqdm_callback\n",
    "                              ]\n",
    "                   )"
   ]
  },
  {
   "cell_type": "markdown",
   "metadata": {},
   "source": [
    "### Save model"
   ]
  },
  {
   "cell_type": "code",
   "execution_count": 18,
   "metadata": {},
   "outputs": [],
   "source": [
    "model.save('model_aug_full_5.h5')"
   ]
  },
  {
   "cell_type": "markdown",
   "metadata": {},
   "source": [
    "## Testing"
   ]
  },
  {
   "cell_type": "markdown",
   "metadata": {},
   "source": [
    "We'll do in-sample testing here. A bit non-standard, but good enough."
   ]
  },
  {
   "cell_type": "code",
   "execution_count": 19,
   "metadata": {},
   "outputs": [],
   "source": [
    "# model = tfk.models.load_model('model_clean_3.h5')"
   ]
  },
  {
   "cell_type": "markdown",
   "metadata": {},
   "source": [
    "### Prepare unaugmented dataset generator"
   ]
  },
  {
   "cell_type": "code",
   "execution_count": 47,
   "metadata": {},
   "outputs": [
    {
     "name": "stdout",
     "output_type": "stream",
     "text": [
      "Found 105392 validated image filenames belonging to 42 classes.\n"
     ]
    }
   ],
   "source": [
    "clean_datagen = tfk_ImageDataGenerator(\n",
    "    preprocessing_function=tfk_preprocess_input,\n",
    ")\n",
    "\n",
    "clean_generator = clean_datagen.flow_from_dataframe(\n",
    "    pd_shopee_train,\n",
    "    directory='',\n",
    "    x_col='dir_filename',\n",
    "    y_col='category',\n",
    "    target_size=input_shape[:2],\n",
    "    color_mode='rgb',\n",
    "    batch_size=batch_size,\n",
    "    class_mode='categorical',\n",
    "    shuffle=True,\n",
    ")"
   ]
  },
  {
   "cell_type": "markdown",
   "metadata": {},
   "source": [
    "### Predict"
   ]
  },
  {
   "cell_type": "code",
   "execution_count": 48,
   "metadata": {},
   "outputs": [
    {
     "name": "stdout",
     "output_type": "stream",
     "text": [
      "step: 10\n",
      "step: 20\n",
      "step: 30\n",
      "step: 40\n",
      "step: 50\n",
      "Wall time: 53.7 s\n"
     ]
    }
   ],
   "source": [
    "%%time\n",
    "y_pred = []\n",
    "y_true = []\n",
    "\n",
    "for i in range(50):\n",
    "    if (i+1) % 10 == 0:\n",
    "        print(\"step:\", i+1)\n",
    "    x, y = next(iter(clean_generator))\n",
    "    y_true.extend(y)\n",
    "    y_pred.extend(model.predict(x))\n",
    "\n",
    "y_pred = np.array(y_pred)\n",
    "y_true = np.array(y_true)"
   ]
  },
  {
   "cell_type": "code",
   "execution_count": 49,
   "metadata": {},
   "outputs": [],
   "source": [
    "matrix = confusion_matrix(y_true.argmax(axis=1), y_pred.argmax(axis=1))"
   ]
  },
  {
   "cell_type": "code",
   "execution_count": 50,
   "metadata": {},
   "outputs": [
    {
     "data": {
      "image/png": "[encoded data removed]",
      "text/plain": [
       "<Figure size 1152x648 with 2 Axes>"
      ]
     },
     "metadata": {},
     "output_type": "display_data"
    }
   ],
   "source": [
    "plt.figure(figsize = (16,9))\n",
    "sns.heatmap(matrix, linecolor='grey', linewidth=0.1)\n",
    "plt.savefig('confusion_matrix.png', \n",
    "            #transparent=True,\n",
    "            bbox_inches='tight')"
   ]
  },
  {
   "cell_type": "code",
   "execution_count": 51,
   "metadata": {},
   "outputs": [],
   "source": [
    "def label_smoother(x, alpha=0.1):\n",
    "    return (1 - alpha) * x + alpha / x.shape[1]"
   ]
  },
  {
   "cell_type": "code",
   "execution_count": 52,
   "metadata": {},
   "outputs": [
    {
     "name": "stdout",
     "output_type": "stream",
     "text": [
      "Loss: 1.7400043\n",
      "Accuracy: 0.850625\n"
     ]
    }
   ],
   "source": [
    "loss     = tfk.losses.categorical_crossentropy(y_pred, label_smoother(y_true, alpha=0.1)).numpy().mean()\n",
    "accuracy = accuracy_score(y_pred.argmax(axis=1), y_true.argmax(axis=1))\n",
    "\n",
    "print(\"Loss:\", loss)\n",
    "print(\"Accuracy:\", accuracy)"
   ]
  },
  {
   "cell_type": "markdown",
   "metadata": {},
   "source": [
    "## Generate Submission"
   ]
  },
  {
   "cell_type": "markdown",
   "metadata": {},
   "source": [
    "### Prepare test data generator"
   ]
  },
  {
   "cell_type": "code",
   "execution_count": 33,
   "metadata": {},
   "outputs": [
    {
     "data": {
      "text/html": [
       "<div>\n",
       "<style scoped>\n",
       "    .dataframe tbody tr th:only-of-type {\n",
       "        vertical-align: middle;\n",
       "    }\n",
       "\n",
       "    .dataframe tbody tr th {\n",
       "        vertical-align: top;\n",
       "    }\n",
       "\n",
       "    .dataframe thead th {\n",
       "        text-align: right;\n",
       "    }\n",
       "</style>\n",
       "<table border=\"1\" class=\"dataframe\">\n",
       "  <thead>\n",
       "    <tr style=\"text-align: right;\">\n",
       "      <th></th>\n",
       "      <th>filename</th>\n",
       "      <th>category</th>\n",
       "    </tr>\n",
       "  </thead>\n",
       "  <tbody>\n",
       "    <tr>\n",
       "      <th>0</th>\n",
       "      <td>fd663cf2b6e1d7b02938c6aaae0a32d2.jpg</td>\n",
       "      <td>43</td>\n",
       "    </tr>\n",
       "    <tr>\n",
       "      <th>1</th>\n",
       "      <td>c7fd77508a8c355eaab0d4e10efd6b15.jpg</td>\n",
       "      <td>43</td>\n",
       "    </tr>\n",
       "    <tr>\n",
       "      <th>2</th>\n",
       "      <td>127f3e6d6e3491b2459812353f33a913.jpg</td>\n",
       "      <td>43</td>\n",
       "    </tr>\n",
       "    <tr>\n",
       "      <th>3</th>\n",
       "      <td>5ca4f2da11eda083064e6c36f37eeb81.jpg</td>\n",
       "      <td>43</td>\n",
       "    </tr>\n",
       "    <tr>\n",
       "      <th>4</th>\n",
       "      <td>46d681a542f2c71be017eef6aae23313.jpg</td>\n",
       "      <td>43</td>\n",
       "    </tr>\n",
       "  </tbody>\n",
       "</table>\n",
       "</div>"
      ],
      "text/plain": [
       "                               filename  category\n",
       "0  fd663cf2b6e1d7b02938c6aaae0a32d2.jpg        43\n",
       "1  c7fd77508a8c355eaab0d4e10efd6b15.jpg        43\n",
       "2  127f3e6d6e3491b2459812353f33a913.jpg        43\n",
       "3  5ca4f2da11eda083064e6c36f37eeb81.jpg        43\n",
       "4  46d681a542f2c71be017eef6aae23313.jpg        43"
      ]
     },
     "execution_count": 33,
     "metadata": {},
     "output_type": "execute_result"
    }
   ],
   "source": [
    "pd_test = pd.read_csv('shopee-product-detection-dataset/test.csv')\n",
    "pd_test.head()"
   ]
  },
  {
   "cell_type": "code",
   "execution_count": 34,
   "metadata": {},
   "outputs": [
    {
     "name": "stdout",
     "output_type": "stream",
     "text": [
      "Found 12186 validated image filenames.\n"
     ]
    }
   ],
   "source": [
    "test_datagen = tfk_ImageDataGenerator(\n",
    "    preprocessing_function=tfk_preprocess_input\n",
    ")\n",
    "\n",
    "test_generator = test_datagen.flow_from_dataframe(\n",
    "    pd_test,\n",
    "    directory='shopee-product-detection-dataset/test/',\n",
    "    x_col='filename',\n",
    "    target_size=input_shape[:2],\n",
    "    color_mode='rgb',\n",
    "    batch_size=batch_size,\n",
    "    class_mode=None,\n",
    "    shuffle=False,\n",
    ")"
   ]
  },
  {
   "cell_type": "markdown",
   "metadata": {},
   "source": [
    "### Predict categories"
   ]
  },
  {
   "cell_type": "code",
   "execution_count": 35,
   "metadata": {},
   "outputs": [
    {
     "name": "stdout",
     "output_type": "stream",
     "text": [
      "191/191 [==============================] - 148s 774ms/step\n"
     ]
    }
   ],
   "source": [
    "y_pred = model.predict(test_generator, verbose=1, steps=test_generator.n//batch_size+1)\n",
    "y_pred = y_pred[:test_generator.n]"
   ]
  },
  {
   "cell_type": "code",
   "execution_count": 36,
   "metadata": {},
   "outputs": [
    {
     "data": {
      "text/html": [
       "<div>\n",
       "<style scoped>\n",
       "    .dataframe tbody tr th:only-of-type {\n",
       "        vertical-align: middle;\n",
       "    }\n",
       "\n",
       "    .dataframe tbody tr th {\n",
       "        vertical-align: top;\n",
       "    }\n",
       "\n",
       "    .dataframe thead th {\n",
       "        text-align: right;\n",
       "    }\n",
       "</style>\n",
       "<table border=\"1\" class=\"dataframe\">\n",
       "  <thead>\n",
       "    <tr style=\"text-align: right;\">\n",
       "      <th></th>\n",
       "      <th>filename</th>\n",
       "      <th>category</th>\n",
       "    </tr>\n",
       "  </thead>\n",
       "  <tbody>\n",
       "    <tr>\n",
       "      <th>0</th>\n",
       "      <td>fd663cf2b6e1d7b02938c6aaae0a32d2.jpg</td>\n",
       "      <td>41</td>\n",
       "    </tr>\n",
       "    <tr>\n",
       "      <th>1</th>\n",
       "      <td>c7fd77508a8c355eaab0d4e10efd6b15.jpg</td>\n",
       "      <td>27</td>\n",
       "    </tr>\n",
       "    <tr>\n",
       "      <th>2</th>\n",
       "      <td>127f3e6d6e3491b2459812353f33a913.jpg</td>\n",
       "      <td>04</td>\n",
       "    </tr>\n",
       "    <tr>\n",
       "      <th>3</th>\n",
       "      <td>5ca4f2da11eda083064e6c36f37eeb81.jpg</td>\n",
       "      <td>22</td>\n",
       "    </tr>\n",
       "    <tr>\n",
       "      <th>4</th>\n",
       "      <td>46d681a542f2c71be017eef6aae23313.jpg</td>\n",
       "      <td>12</td>\n",
       "    </tr>\n",
       "  </tbody>\n",
       "</table>\n",
       "</div>"
      ],
      "text/plain": [
       "                               filename category\n",
       "0  fd663cf2b6e1d7b02938c6aaae0a32d2.jpg       41\n",
       "1  c7fd77508a8c355eaab0d4e10efd6b15.jpg       27\n",
       "2  127f3e6d6e3491b2459812353f33a913.jpg       04\n",
       "3  5ca4f2da11eda083064e6c36f37eeb81.jpg       22\n",
       "4  46d681a542f2c71be017eef6aae23313.jpg       12"
      ]
     },
     "execution_count": 36,
     "metadata": {},
     "output_type": "execute_result"
    }
   ],
   "source": [
    "pd_submission = pd_test.copy()\n",
    "pd_submission['category'] = list(map(lambda x : '{:02d}'.format(x), y_pred.argmax(axis=1)))\n",
    "pd_submission.head()"
   ]
  },
  {
   "cell_type": "code",
   "execution_count": 37,
   "metadata": {},
   "outputs": [],
   "source": [
    "pd_submission.to_csv('submission_11.csv', index=False)"
   ]
  },
  {
   "cell_type": "markdown",
   "metadata": {},
   "source": [
    "### Compare to previous submission"
   ]
  },
  {
   "cell_type": "code",
   "execution_count": 44,
   "metadata": {},
   "outputs": [
    {
     "name": "stdout",
     "output_type": "stream",
     "text": [
      "719 12186 0.059002133595929755\n"
     ]
    },
    {
     "data": {
      "text/html": [
       "<div>\n",
       "<style scoped>\n",
       "    .dataframe tbody tr th:only-of-type {\n",
       "        vertical-align: middle;\n",
       "    }\n",
       "\n",
       "    .dataframe tbody tr th {\n",
       "        vertical-align: top;\n",
       "    }\n",
       "\n",
       "    .dataframe thead th {\n",
       "        text-align: right;\n",
       "    }\n",
       "</style>\n",
       "<table border=\"1\" class=\"dataframe\">\n",
       "  <thead>\n",
       "    <tr style=\"text-align: right;\">\n",
       "      <th></th>\n",
       "      <th>filename</th>\n",
       "      <th>category_10</th>\n",
       "      <th>category</th>\n",
       "    </tr>\n",
       "  </thead>\n",
       "  <tbody>\n",
       "    <tr>\n",
       "      <th>0</th>\n",
       "      <td>fd663cf2b6e1d7b02938c6aaae0a32d2.jpg</td>\n",
       "      <td>20</td>\n",
       "      <td>41</td>\n",
       "    </tr>\n",
       "    <tr>\n",
       "      <th>20</th>\n",
       "      <td>8149a8a19f2fed05ce3ac20e5b7cbab0.jpg</td>\n",
       "      <td>06</td>\n",
       "      <td>05</td>\n",
       "    </tr>\n",
       "    <tr>\n",
       "      <th>57</th>\n",
       "      <td>7fbe6dd0725f45bb33ff69c2e2a5b3f9.jpg</td>\n",
       "      <td>40</td>\n",
       "      <td>02</td>\n",
       "    </tr>\n",
       "    <tr>\n",
       "      <th>92</th>\n",
       "      <td>0f76078f68b2d6ae47e86ae488b6de08.jpg</td>\n",
       "      <td>00</td>\n",
       "      <td>02</td>\n",
       "    </tr>\n",
       "    <tr>\n",
       "      <th>129</th>\n",
       "      <td>c6da8a0a2109e30d994ca430ffb7209b.jpg</td>\n",
       "      <td>38</td>\n",
       "      <td>36</td>\n",
       "    </tr>\n",
       "    <tr>\n",
       "      <th>133</th>\n",
       "      <td>d6a75e743ce70a2aff29a54beabf78f6.jpg</td>\n",
       "      <td>34</td>\n",
       "      <td>33</td>\n",
       "    </tr>\n",
       "    <tr>\n",
       "      <th>139</th>\n",
       "      <td>8c6df772f1a99cc75b7de3f2398fe605.jpg</td>\n",
       "      <td>25</td>\n",
       "      <td>07</td>\n",
       "    </tr>\n",
       "    <tr>\n",
       "      <th>153</th>\n",
       "      <td>0d0811d343d8c02eceb1a38822f04a35.jpg</td>\n",
       "      <td>12</td>\n",
       "      <td>05</td>\n",
       "    </tr>\n",
       "    <tr>\n",
       "      <th>190</th>\n",
       "      <td>c748620e9c40ad8cfd4142efa7735290.jpg</td>\n",
       "      <td>22</td>\n",
       "      <td>11</td>\n",
       "    </tr>\n",
       "    <tr>\n",
       "      <th>227</th>\n",
       "      <td>de11b62c808ef927967b495bd5f2d7a9.jpg</td>\n",
       "      <td>00</td>\n",
       "      <td>01</td>\n",
       "    </tr>\n",
       "    <tr>\n",
       "      <th>255</th>\n",
       "      <td>adf93e1842c447d16450d6662d24c7ba.jpg</td>\n",
       "      <td>02</td>\n",
       "      <td>00</td>\n",
       "    </tr>\n",
       "    <tr>\n",
       "      <th>284</th>\n",
       "      <td>5dd9c97ce2c40ff4e9c1a543eb69be1d.jpg</td>\n",
       "      <td>35</td>\n",
       "      <td>19</td>\n",
       "    </tr>\n",
       "    <tr>\n",
       "      <th>295</th>\n",
       "      <td>8124261a1a23ee2a1861479bd80e6ac1.jpg</td>\n",
       "      <td>18</td>\n",
       "      <td>32</td>\n",
       "    </tr>\n",
       "    <tr>\n",
       "      <th>300</th>\n",
       "      <td>8eaca4ab9a2b78af894f70c1f7a2efe7.jpg</td>\n",
       "      <td>40</td>\n",
       "      <td>15</td>\n",
       "    </tr>\n",
       "    <tr>\n",
       "      <th>333</th>\n",
       "      <td>82a1514df0b66a8fbd118d564cda938e.jpg</td>\n",
       "      <td>13</td>\n",
       "      <td>18</td>\n",
       "    </tr>\n",
       "    <tr>\n",
       "      <th>337</th>\n",
       "      <td>81211c018458dbf7dcd4312eda39d7e1.jpg</td>\n",
       "      <td>16</td>\n",
       "      <td>17</td>\n",
       "    </tr>\n",
       "    <tr>\n",
       "      <th>339</th>\n",
       "      <td>58006ea05bc256e480172c9926f6775c.jpg</td>\n",
       "      <td>12</td>\n",
       "      <td>15</td>\n",
       "    </tr>\n",
       "    <tr>\n",
       "      <th>340</th>\n",
       "      <td>9f01c44f0f7acf9dfebce2d94b92cb61.jpg</td>\n",
       "      <td>08</td>\n",
       "      <td>27</td>\n",
       "    </tr>\n",
       "    <tr>\n",
       "      <th>353</th>\n",
       "      <td>58b7759eda6abf54a178bd811fcab07d.jpg</td>\n",
       "      <td>40</td>\n",
       "      <td>10</td>\n",
       "    </tr>\n",
       "    <tr>\n",
       "      <th>368</th>\n",
       "      <td>0eb9f5bc4ac50e93a55fec98a8478d39.jpg</td>\n",
       "      <td>13</td>\n",
       "      <td>18</td>\n",
       "    </tr>\n",
       "  </tbody>\n",
       "</table>\n",
       "</div>"
      ],
      "text/plain": [
       "                                 filename category_10 category\n",
       "0    fd663cf2b6e1d7b02938c6aaae0a32d2.jpg          20       41\n",
       "20   8149a8a19f2fed05ce3ac20e5b7cbab0.jpg          06       05\n",
       "57   7fbe6dd0725f45bb33ff69c2e2a5b3f9.jpg          40       02\n",
       "92   0f76078f68b2d6ae47e86ae488b6de08.jpg          00       02\n",
       "129  c6da8a0a2109e30d994ca430ffb7209b.jpg          38       36\n",
       "133  d6a75e743ce70a2aff29a54beabf78f6.jpg          34       33\n",
       "139  8c6df772f1a99cc75b7de3f2398fe605.jpg          25       07\n",
       "153  0d0811d343d8c02eceb1a38822f04a35.jpg          12       05\n",
       "190  c748620e9c40ad8cfd4142efa7735290.jpg          22       11\n",
       "227  de11b62c808ef927967b495bd5f2d7a9.jpg          00       01\n",
       "255  adf93e1842c447d16450d6662d24c7ba.jpg          02       00\n",
       "284  5dd9c97ce2c40ff4e9c1a543eb69be1d.jpg          35       19\n",
       "295  8124261a1a23ee2a1861479bd80e6ac1.jpg          18       32\n",
       "300  8eaca4ab9a2b78af894f70c1f7a2efe7.jpg          40       15\n",
       "333  82a1514df0b66a8fbd118d564cda938e.jpg          13       18\n",
       "337  81211c018458dbf7dcd4312eda39d7e1.jpg          16       17\n",
       "339  58006ea05bc256e480172c9926f6775c.jpg          12       15\n",
       "340  9f01c44f0f7acf9dfebce2d94b92cb61.jpg          08       27\n",
       "353  58b7759eda6abf54a178bd811fcab07d.jpg          40       10\n",
       "368  0eb9f5bc4ac50e93a55fec98a8478d39.jpg          13       18"
      ]
     },
     "execution_count": 44,
     "metadata": {},
     "output_type": "execute_result"
    }
   ],
   "source": [
    "now  = 11\n",
    "cat_now_name  = 'category_{}'.format(now)\n",
    "prev = 10\n",
    "cat_prev_name = 'category_{}'.format(prev)\n",
    "\n",
    "pd_submission_prev = pd.read_csv('submission_{}.csv'.format(prev))\n",
    "pd_submission_prev['category'] = pd_submission_prev['category'].apply(lambda x : '{:02d}'.format(x))\n",
    "pd_submission_prev.columns = ['filename', cat_prev_name]\n",
    "pd_submission_prev = pd_submission_prev.merge(pd_submission.sort_values(by='filename'), on='filename')\n",
    "pd_iba = pd_submission_prev[pd_submission_prev[cat_prev_name] != pd_submission_prev['category']]\n",
    "print(len(pd_iba), len(pd_submission_prev), len(pd_iba) / len(pd_submission_prev))\n",
    "pd_iba.head(20)"
   ]
  },
  {
   "cell_type": "code",
   "execution_count": 45,
   "metadata": {},
   "outputs": [],
   "source": [
    "pd_iba.to_csv(\"iba.csv\", index=False)"
   ]
  },
  {
   "cell_type": "code",
   "execution_count": 46,
   "metadata": {},
   "outputs": [
    {
     "data": {
      "image/png": "[encoded data removed]",
      "text/plain": [
       "<Figure size 1152x648 with 1 Axes>"
      ]
     },
     "metadata": {},
     "output_type": "display_data"
    }
   ],
   "source": [
    "plt.figure(figsize=(16, 9))\n",
    "plt.hist(pd_iba['category'].sort_values(), bins=np.arange(43)-0.5)\n",
    "plt.xlim(-1, 43)\n",
    "plt.show()"
   ]
  },
  {
   "cell_type": "code",
   "execution_count": null,
   "metadata": {},
   "outputs": [],
   "source": []
  }
 ],
 "metadata": {
  "kernelspec": {
   "display_name": "Python 3",
   "language": "python",
   "name": "python3"
  },
  "language_info": {
   "codemirror_mode": {
    "name": "ipython",
    "version": 3
   },
   "file_extension": ".py",
   "mimetype": "text/x-python",
   "name": "python",
   "nbconvert_exporter": "python",
   "pygments_lexer": "ipython3",
   "version": "3.6.8"
  }
 },
 "nbformat": 4,
 "nbformat_minor": 4
}
