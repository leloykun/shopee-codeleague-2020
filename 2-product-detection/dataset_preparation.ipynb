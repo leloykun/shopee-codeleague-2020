{
 "cells": [
  {
   "cell_type": "code",
   "execution_count": 1,
   "metadata": {},
   "outputs": [],
   "source": [
    "import numpy as np\n",
    "import pandas as pd\n",
    "import matplotlib.pyplot as plt\n",
    "import glob\n",
    "import ast\n",
    "from transformers import DistilBertTokenizerFast, TFDistilBertModel"
   ]
  },
  {
   "cell_type": "markdown",
   "metadata": {},
   "source": [
    "## Amazon Dataset Preparation"
   ]
  },
  {
   "cell_type": "code",
   "execution_count": 2,
   "metadata": {},
   "outputs": [],
   "source": [
    "filenames  = []\n",
    "categories = []"
   ]
  },
  {
   "cell_type": "code",
   "execution_count": 3,
   "metadata": {},
   "outputs": [],
   "source": [
    "for cat in range(42):\n",
    "    cat_name = '{:02d}'.format(cat)\n",
    "    for filename in glob.glob(\"shopee-product-detection-dataset/train/{}/*.jpg\".format(cat_name)):\n",
    "        filenames.append(filename[42:])\n",
    "        categories.append(cat)"
   ]
  },
  {
   "cell_type": "code",
   "execution_count": 4,
   "metadata": {},
   "outputs": [
    {
     "data": {
      "text/html": [
       "<div>\n",
       "<style scoped>\n",
       "    .dataframe tbody tr th:only-of-type {\n",
       "        vertical-align: middle;\n",
       "    }\n",
       "\n",
       "    .dataframe tbody tr th {\n",
       "        vertical-align: top;\n",
       "    }\n",
       "\n",
       "    .dataframe thead th {\n",
       "        text-align: right;\n",
       "    }\n",
       "</style>\n",
       "<table border=\"1\" class=\"dataframe\">\n",
       "  <thead>\n",
       "    <tr style=\"text-align: right;\">\n",
       "      <th></th>\n",
       "      <th>filename</th>\n",
       "      <th>category</th>\n",
       "    </tr>\n",
       "  </thead>\n",
       "  <tbody>\n",
       "    <tr>\n",
       "      <th>0</th>\n",
       "      <td>00238db878fdf555edc96e32146050ee.jpg</td>\n",
       "      <td>0</td>\n",
       "    </tr>\n",
       "    <tr>\n",
       "      <th>1</th>\n",
       "      <td>002e61675eefed2d07e28d07d6e9abc8.jpg</td>\n",
       "      <td>0</td>\n",
       "    </tr>\n",
       "    <tr>\n",
       "      <th>2</th>\n",
       "      <td>0043d124c7e628fd077d34838f41e48c.jpg</td>\n",
       "      <td>0</td>\n",
       "    </tr>\n",
       "    <tr>\n",
       "      <th>3</th>\n",
       "      <td>0044a144f988893a4222eedff4eebc39.jpg</td>\n",
       "      <td>0</td>\n",
       "    </tr>\n",
       "    <tr>\n",
       "      <th>4</th>\n",
       "      <td>00939a7597c499cd217e0fb753259754.jpg</td>\n",
       "      <td>0</td>\n",
       "    </tr>\n",
       "  </tbody>\n",
       "</table>\n",
       "</div>"
      ],
      "text/plain": [
       "                               filename  category\n",
       "0  00238db878fdf555edc96e32146050ee.jpg         0\n",
       "1  002e61675eefed2d07e28d07d6e9abc8.jpg         0\n",
       "2  0043d124c7e628fd077d34838f41e48c.jpg         0\n",
       "3  0044a144f988893a4222eedff4eebc39.jpg         0\n",
       "4  00939a7597c499cd217e0fb753259754.jpg         0"
      ]
     },
     "execution_count": 4,
     "metadata": {},
     "output_type": "execute_result"
    }
   ],
   "source": [
    "df = pd.DataFrame({'filename':filenames, 'category':categories})\n",
    "df.head()"
   ]
  },
  {
   "cell_type": "code",
   "execution_count": 5,
   "metadata": {},
   "outputs": [
    {
     "data": {
      "text/plain": [
       "105059"
      ]
     },
     "execution_count": 5,
     "metadata": {},
     "output_type": "execute_result"
    }
   ],
   "source": [
    "len(df)"
   ]
  },
  {
   "cell_type": "code",
   "execution_count": 6,
   "metadata": {},
   "outputs": [
    {
     "data": {
      "image/png": "[encoded data removed]",
      "text/plain": [
       "<Figure size 1152x648 with 1 Axes>"
      ]
     },
     "metadata": {
      "needs_background": "light"
     },
     "output_type": "display_data"
    }
   ],
   "source": [
    "plt.figure(figsize=(16, 9))\n",
    "plt.hist(df['category'], bins=np.arange(42)-0.5)\n",
    "plt.xticks(np.arange(43));"
   ]
  },
  {
   "cell_type": "code",
   "execution_count": 7,
   "metadata": {},
   "outputs": [],
   "source": [
    "df.to_csv('shopee-product-detection-dataset/train.csv', index=False)"
   ]
  },
  {
   "cell_type": "markdown",
   "metadata": {},
   "source": [
    "## Add Extra Features"
   ]
  },
  {
   "cell_type": "code",
   "execution_count": 33,
   "metadata": {},
   "outputs": [
    {
     "data": {
      "text/html": [
       "<div>\n",
       "<style scoped>\n",
       "    .dataframe tbody tr th:only-of-type {\n",
       "        vertical-align: middle;\n",
       "    }\n",
       "\n",
       "    .dataframe tbody tr th {\n",
       "        vertical-align: top;\n",
       "    }\n",
       "\n",
       "    .dataframe thead th {\n",
       "        text-align: right;\n",
       "    }\n",
       "</style>\n",
       "<table border=\"1\" class=\"dataframe\">\n",
       "  <thead>\n",
       "    <tr style=\"text-align: right;\">\n",
       "      <th></th>\n",
       "      <th>path</th>\n",
       "      <th>annot</th>\n",
       "      <th>filename</th>\n",
       "    </tr>\n",
       "  </thead>\n",
       "  <tbody>\n",
       "    <tr>\n",
       "      <th>0</th>\n",
       "      <td>/kaggle/input/shopee-product-detection-student...</td>\n",
       "      <td>[]</td>\n",
       "      <td>4b22788e5af1ae4544c5c7595908055e.jpg</td>\n",
       "    </tr>\n",
       "    <tr>\n",
       "      <th>1</th>\n",
       "      <td>/kaggle/input/shopee-product-detection-student...</td>\n",
       "      <td>[NA321705000, Nu, Amoorea, BPOM, DEP, bar, No,...</td>\n",
       "      <td>4916aeccd05286da5326dbcce12a3067.jpg</td>\n",
       "    </tr>\n",
       "    <tr>\n",
       "      <th>2</th>\n",
       "      <td>/kaggle/input/shopee-product-detection-student...</td>\n",
       "      <td>[]</td>\n",
       "      <td>541a9abc03b1f119989d8c202214e36e.jpg</td>\n",
       "    </tr>\n",
       "    <tr>\n",
       "      <th>3</th>\n",
       "      <td>/kaggle/input/shopee-product-detection-student...</td>\n",
       "      <td>[PEAMY, REAINY, SCRUB, OFFEE, OFFER, MISSK, RE...</td>\n",
       "      <td>e03419b0ec4262d62c0178c1fa88205c.jpg</td>\n",
       "    </tr>\n",
       "    <tr>\n",
       "      <th>4</th>\n",
       "      <td>/kaggle/input/shopee-product-detection-student...</td>\n",
       "      <td>[trulum, wajah, Day, alami, dari, kali, kulit,...</td>\n",
       "      <td>535beba6ad2034552a4d9188dae465cd.jpg</td>\n",
       "    </tr>\n",
       "  </tbody>\n",
       "</table>\n",
       "</div>"
      ],
      "text/plain": [
       "                                                path  \\\n",
       "0  /kaggle/input/shopee-product-detection-student...   \n",
       "1  /kaggle/input/shopee-product-detection-student...   \n",
       "2  /kaggle/input/shopee-product-detection-student...   \n",
       "3  /kaggle/input/shopee-product-detection-student...   \n",
       "4  /kaggle/input/shopee-product-detection-student...   \n",
       "\n",
       "                                               annot  \\\n",
       "0                                                 []   \n",
       "1  [NA321705000, Nu, Amoorea, BPOM, DEP, bar, No,...   \n",
       "2                                                 []   \n",
       "3  [PEAMY, REAINY, SCRUB, OFFEE, OFFER, MISSK, RE...   \n",
       "4  [trulum, wajah, Day, alami, dari, kali, kulit,...   \n",
       "\n",
       "                               filename  \n",
       "0  4b22788e5af1ae4544c5c7595908055e.jpg  \n",
       "1  4916aeccd05286da5326dbcce12a3067.jpg  \n",
       "2  541a9abc03b1f119989d8c202214e36e.jpg  \n",
       "3  e03419b0ec4262d62c0178c1fa88205c.jpg  \n",
       "4  535beba6ad2034552a4d9188dae465cd.jpg  "
      ]
     },
     "execution_count": 33,
     "metadata": {},
     "output_type": "execute_result"
    }
   ],
   "source": [
    "df_extra = pd.read_csv(\"extra-features/train_ocr.csv\")\n",
    "df_extra['filename'] = df_extra['path'].apply(lambda x : x[68:])\n",
    "df_extra['annot']    = df_extra['annot'].apply(lambda x : ast.literal_eval(x))\n",
    "df_extra.head()"
   ]
  },
  {
   "cell_type": "code",
   "execution_count": 46,
   "metadata": {},
   "outputs": [
    {
     "data": {
      "text/html": [
       "<div>\n",
       "<style scoped>\n",
       "    .dataframe tbody tr th:only-of-type {\n",
       "        vertical-align: middle;\n",
       "    }\n",
       "\n",
       "    .dataframe tbody tr th {\n",
       "        vertical-align: top;\n",
       "    }\n",
       "\n",
       "    .dataframe thead th {\n",
       "        text-align: right;\n",
       "    }\n",
       "</style>\n",
       "<table border=\"1\" class=\"dataframe\">\n",
       "  <thead>\n",
       "    <tr style=\"text-align: right;\">\n",
       "      <th></th>\n",
       "      <th>filename</th>\n",
       "      <th>category</th>\n",
       "      <th>path</th>\n",
       "      <th>annot</th>\n",
       "    </tr>\n",
       "  </thead>\n",
       "  <tbody>\n",
       "    <tr>\n",
       "      <th>0</th>\n",
       "      <td>00238db878fdf555edc96e32146050ee.jpg</td>\n",
       "      <td>0</td>\n",
       "      <td>/kaggle/input/shopee-product-detection-student...</td>\n",
       "      <td>[Papier, Dathle]</td>\n",
       "    </tr>\n",
       "    <tr>\n",
       "      <th>1</th>\n",
       "      <td>002e61675eefed2d07e28d07d6e9abc8.jpg</td>\n",
       "      <td>0</td>\n",
       "      <td>/kaggle/input/shopee-product-detection-student...</td>\n",
       "      <td>[A]</td>\n",
       "    </tr>\n",
       "    <tr>\n",
       "      <th>2</th>\n",
       "      <td>0043d124c7e628fd077d34838f41e48c.jpg</td>\n",
       "      <td>0</td>\n",
       "      <td>/kaggle/input/shopee-product-detection-student...</td>\n",
       "      <td>[]</td>\n",
       "    </tr>\n",
       "    <tr>\n",
       "      <th>3</th>\n",
       "      <td>0044a144f988893a4222eedff4eebc39.jpg</td>\n",
       "      <td>0</td>\n",
       "      <td>/kaggle/input/shopee-product-detection-student...</td>\n",
       "      <td>[Hitam, Salur, Teby]</td>\n",
       "    </tr>\n",
       "    <tr>\n",
       "      <th>4</th>\n",
       "      <td>00939a7597c499cd217e0fb753259754.jpg</td>\n",
       "      <td>0</td>\n",
       "      <td>/kaggle/input/shopee-product-detection-student...</td>\n",
       "      <td>[]</td>\n",
       "    </tr>\n",
       "  </tbody>\n",
       "</table>\n",
       "</div>"
      ],
      "text/plain": [
       "                               filename  category  \\\n",
       "0  00238db878fdf555edc96e32146050ee.jpg         0   \n",
       "1  002e61675eefed2d07e28d07d6e9abc8.jpg         0   \n",
       "2  0043d124c7e628fd077d34838f41e48c.jpg         0   \n",
       "3  0044a144f988893a4222eedff4eebc39.jpg         0   \n",
       "4  00939a7597c499cd217e0fb753259754.jpg         0   \n",
       "\n",
       "                                                path                 annot  \n",
       "0  /kaggle/input/shopee-product-detection-student...      [Papier, Dathle]  \n",
       "1  /kaggle/input/shopee-product-detection-student...                   [A]  \n",
       "2  /kaggle/input/shopee-product-detection-student...                    []  \n",
       "3  /kaggle/input/shopee-product-detection-student...  [Hitam, Salur, Teby]  \n",
       "4  /kaggle/input/shopee-product-detection-student...                    []  "
      ]
     },
     "execution_count": 46,
     "metadata": {},
     "output_type": "execute_result"
    }
   ],
   "source": [
    "df_ = df.merge(df_extra, how=\"left\", on=\"filename\")\n",
    "for row in df_.loc[df_.annot.isnull(), 'annot'].index:\n",
    "    df_.at[row, 'annot'] = []\n",
    "df_.head()"
   ]
  },
  {
   "cell_type": "code",
   "execution_count": 49,
   "metadata": {},
   "outputs": [
    {
     "data": {
      "text/html": [
       "<div>\n",
       "<style scoped>\n",
       "    .dataframe tbody tr th:only-of-type {\n",
       "        vertical-align: middle;\n",
       "    }\n",
       "\n",
       "    .dataframe tbody tr th {\n",
       "        vertical-align: top;\n",
       "    }\n",
       "\n",
       "    .dataframe thead th {\n",
       "        text-align: right;\n",
       "    }\n",
       "</style>\n",
       "<table border=\"1\" class=\"dataframe\">\n",
       "  <thead>\n",
       "    <tr style=\"text-align: right;\">\n",
       "      <th></th>\n",
       "      <th>filename</th>\n",
       "      <th>category</th>\n",
       "      <th>path</th>\n",
       "      <th>annot</th>\n",
       "      <th>annot_len</th>\n",
       "    </tr>\n",
       "  </thead>\n",
       "  <tbody>\n",
       "    <tr>\n",
       "      <th>0</th>\n",
       "      <td>00238db878fdf555edc96e32146050ee.jpg</td>\n",
       "      <td>0</td>\n",
       "      <td>/kaggle/input/shopee-product-detection-student...</td>\n",
       "      <td>[Papier, Dathle]</td>\n",
       "      <td>2</td>\n",
       "    </tr>\n",
       "    <tr>\n",
       "      <th>1</th>\n",
       "      <td>002e61675eefed2d07e28d07d6e9abc8.jpg</td>\n",
       "      <td>0</td>\n",
       "      <td>/kaggle/input/shopee-product-detection-student...</td>\n",
       "      <td>[A]</td>\n",
       "      <td>1</td>\n",
       "    </tr>\n",
       "    <tr>\n",
       "      <th>2</th>\n",
       "      <td>0043d124c7e628fd077d34838f41e48c.jpg</td>\n",
       "      <td>0</td>\n",
       "      <td>/kaggle/input/shopee-product-detection-student...</td>\n",
       "      <td>[]</td>\n",
       "      <td>0</td>\n",
       "    </tr>\n",
       "    <tr>\n",
       "      <th>3</th>\n",
       "      <td>0044a144f988893a4222eedff4eebc39.jpg</td>\n",
       "      <td>0</td>\n",
       "      <td>/kaggle/input/shopee-product-detection-student...</td>\n",
       "      <td>[Hitam, Salur, Teby]</td>\n",
       "      <td>3</td>\n",
       "    </tr>\n",
       "    <tr>\n",
       "      <th>4</th>\n",
       "      <td>00939a7597c499cd217e0fb753259754.jpg</td>\n",
       "      <td>0</td>\n",
       "      <td>/kaggle/input/shopee-product-detection-student...</td>\n",
       "      <td>[]</td>\n",
       "      <td>0</td>\n",
       "    </tr>\n",
       "  </tbody>\n",
       "</table>\n",
       "</div>"
      ],
      "text/plain": [
       "                               filename  category  \\\n",
       "0  00238db878fdf555edc96e32146050ee.jpg         0   \n",
       "1  002e61675eefed2d07e28d07d6e9abc8.jpg         0   \n",
       "2  0043d124c7e628fd077d34838f41e48c.jpg         0   \n",
       "3  0044a144f988893a4222eedff4eebc39.jpg         0   \n",
       "4  00939a7597c499cd217e0fb753259754.jpg         0   \n",
       "\n",
       "                                                path                 annot  \\\n",
       "0  /kaggle/input/shopee-product-detection-student...      [Papier, Dathle]   \n",
       "1  /kaggle/input/shopee-product-detection-student...                   [A]   \n",
       "2  /kaggle/input/shopee-product-detection-student...                    []   \n",
       "3  /kaggle/input/shopee-product-detection-student...  [Hitam, Salur, Teby]   \n",
       "4  /kaggle/input/shopee-product-detection-student...                    []   \n",
       "\n",
       "   annot_len  \n",
       "0          2  \n",
       "1          1  \n",
       "2          0  \n",
       "3          3  \n",
       "4          0  "
      ]
     },
     "execution_count": 49,
     "metadata": {},
     "output_type": "execute_result"
    }
   ],
   "source": [
    "df_['annot_len'] = df_['annot'].apply(lambda x : len(x))\n",
    "df_.head()"
   ]
  },
  {
   "cell_type": "code",
   "execution_count": 51,
   "metadata": {},
   "outputs": [
    {
     "data": {
      "text/plain": [
       "(73085, 105063)"
      ]
     },
     "execution_count": 51,
     "metadata": {},
     "output_type": "execute_result"
    }
   ],
   "source": [
    "sum(df_['annot_len'] != 0), len(df_)"
   ]
  },
  {
   "cell_type": "code",
   "execution_count": 54,
   "metadata": {},
   "outputs": [
    {
     "data": {
      "text/plain": [
       "(array([1630.,  600.,  951., 1005.,  753., 1333., 1337.,  776., 1122.,\n",
       "        1015.,  799.,  635.,  405.,  427.,  621.,  214., 1094.,  623.,\n",
       "         579.,  190., 1287.,  422.,  848., 1168.,  318.,  802.,  698.,\n",
       "         411.,  875.,  703.,  856.,  343.,  451.,   13.,  271.,  272.,\n",
       "         824.,  936.,  982., 1321.,  852., 1216.]),\n",
       " array([-0.5,  0.5,  1.5,  2.5,  3.5,  4.5,  5.5,  6.5,  7.5,  8.5,  9.5,\n",
       "        10.5, 11.5, 12.5, 13.5, 14.5, 15.5, 16.5, 17.5, 18.5, 19.5, 20.5,\n",
       "        21.5, 22.5, 23.5, 24.5, 25.5, 26.5, 27.5, 28.5, 29.5, 30.5, 31.5,\n",
       "        32.5, 33.5, 34.5, 35.5, 36.5, 37.5, 38.5, 39.5, 40.5, 41.5]),\n",
       " <a list of 42 Patch objects>)"
      ]
     },
     "execution_count": 54,
     "metadata": {},
     "output_type": "execute_result"
    },
    {
     "data": {
      "image/png": "[encoded data removed]",
      "text/plain": [
       "<Figure size 1152x648 with 1 Axes>"
      ]
     },
     "metadata": {
      "needs_background": "light"
     },
     "output_type": "display_data"
    }
   ],
   "source": [
    "plt.figure(figsize=(16, 9))\n",
    "plt.hist(df_[df_['annot_len'] == 0]['category'], bins=np.arange(43)-0.5)"
   ]
  },
  {
   "cell_type": "code",
   "execution_count": 58,
   "metadata": {},
   "outputs": [
    {
     "data": {
      "text/plain": [
       "(-1.0, 40.0)"
      ]
     },
     "execution_count": 58,
     "metadata": {},
     "output_type": "execute_result"
    },
    {
     "data": {
      "image/png": "[encoded data removed]",
      "text/plain": [
       "<Figure size 432x288 with 1 Axes>"
      ]
     },
     "metadata": {
      "needs_background": "light"
     },
     "output_type": "display_data"
    }
   ],
   "source": [
    "plt.hist(df_['annot_len'], bins=np.arange(40)-0.5)\n",
    "plt.xlim((-1, 40))"
   ]
  },
  {
   "cell_type": "markdown",
   "metadata": {},
   "source": [
    "## Prepare Gcloud CSV"
   ]
  },
  {
   "cell_type": "code",
   "execution_count": 55,
   "metadata": {},
   "outputs": [
    {
     "name": "stderr",
     "output_type": "stream",
     "text": [
      "c:\\users\\franz cesista\\appdata\\local\\programs\\python\\python36\\lib\\site-packages\\google\\auth\\_default.py:69: UserWarning: Your application has authenticated using end user credentials from Google Cloud SDK. We recommend that most server applications use service accounts instead. If your application continues to use end user credentials from Cloud SDK, you might receive a \"quota exceeded\" or \"API not enabled\" error. For more information about service accounts, see https://cloud.google.com/docs/authentication/\n",
      "  warnings.warn(_CLOUD_SDK_CREDENTIALS_WARNING)\n"
     ]
    }
   ],
   "source": [
    "filenames = []\n",
    "bucket_dir = \"shopee-product-detection-bruh\"\n",
    "\n",
    "from google.cloud import storage\n",
    "storage_client = storage.Client()\n",
    "blobs = storage_client.list_blobs(bucket_dir, prefix=\"test/\")\n",
    "for blob in blobs:\n",
    "    filenames.append(\"gs://\" + bucket_dir + \"/\" + blob.name)"
   ]
  },
  {
   "cell_type": "code",
   "execution_count": 57,
   "metadata": {},
   "outputs": [
    {
     "data": {
      "text/html": [
       "<div>\n",
       "<style scoped>\n",
       "    .dataframe tbody tr th:only-of-type {\n",
       "        vertical-align: middle;\n",
       "    }\n",
       "\n",
       "    .dataframe tbody tr th {\n",
       "        vertical-align: top;\n",
       "    }\n",
       "\n",
       "    .dataframe thead th {\n",
       "        text-align: right;\n",
       "    }\n",
       "</style>\n",
       "<table border=\"1\" class=\"dataframe\">\n",
       "  <thead>\n",
       "    <tr style=\"text-align: right;\">\n",
       "      <th></th>\n",
       "      <th>0</th>\n",
       "    </tr>\n",
       "  </thead>\n",
       "  <tbody>\n",
       "    <tr>\n",
       "      <th>0</th>\n",
       "      <td>gs://shopee-product-detection-bruh/test/0004b0...</td>\n",
       "    </tr>\n",
       "    <tr>\n",
       "      <th>1</th>\n",
       "      <td>gs://shopee-product-detection-bruh/test/0004d3...</td>\n",
       "    </tr>\n",
       "    <tr>\n",
       "      <th>2</th>\n",
       "      <td>gs://shopee-product-detection-bruh/test/000d4a...</td>\n",
       "    </tr>\n",
       "    <tr>\n",
       "      <th>3</th>\n",
       "      <td>gs://shopee-product-detection-bruh/test/0012f1...</td>\n",
       "    </tr>\n",
       "    <tr>\n",
       "      <th>4</th>\n",
       "      <td>gs://shopee-product-detection-bruh/test/001583...</td>\n",
       "    </tr>\n",
       "  </tbody>\n",
       "</table>\n",
       "</div>"
      ],
      "text/plain": [
       "                                                   0\n",
       "0  gs://shopee-product-detection-bruh/test/0004b0...\n",
       "1  gs://shopee-product-detection-bruh/test/0004d3...\n",
       "2  gs://shopee-product-detection-bruh/test/000d4a...\n",
       "3  gs://shopee-product-detection-bruh/test/0012f1...\n",
       "4  gs://shopee-product-detection-bruh/test/001583..."
      ]
     },
     "execution_count": 57,
     "metadata": {},
     "output_type": "execute_result"
    }
   ],
   "source": [
    "df = pd.DataFrame(filenames[1:])\n",
    "df.head()"
   ]
  },
  {
   "cell_type": "code",
   "execution_count": 58,
   "metadata": {},
   "outputs": [],
   "source": [
    "df.to_csv(\"storage_test.csv\", index=False, header=False)"
   ]
  },
  {
   "cell_type": "code",
   "execution_count": null,
   "metadata": {},
   "outputs": [],
   "source": []
  }
 ],
 "metadata": {
  "kernelspec": {
   "display_name": "Python 3",
   "language": "python",
   "name": "python3"
  },
  "language_info": {
   "codemirror_mode": {
    "name": "ipython",
    "version": 3
   },
   "file_extension": ".py",
   "mimetype": "text/x-python",
   "name": "python",
   "nbconvert_exporter": "python",
   "pygments_lexer": "ipython3",
   "version": "3.6.8"
  }
 },
 "nbformat": 4,
 "nbformat_minor": 4
}
