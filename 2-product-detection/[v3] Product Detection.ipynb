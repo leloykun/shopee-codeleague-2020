{
 "cells": [
  {
   "cell_type": "code",
   "execution_count": null,
   "metadata": {},
   "outputs": [],
   "source": [
    "import tensorflow as tf\n",
    "import tensorflow.keras as tfk\n",
    "\n",
    "from tensorflow.keras.preprocessing import image as tfk_image\n",
    "from tensorflow.keras.preprocessing.image import ImageDataGenerator as tfk_ImageDataGenerator\n",
    "\n",
    "from tensorflow.python.keras.applications.efficientnet import EfficientNetB7 as tfk_BaseModel\n",
    "from tensorflow.python.keras.applications.efficientnet import preprocess_input as tfk_preprocess_input\n",
    "\n",
    "import datetime, os\n",
    "\n",
    "import numpy as np\n",
    "import pandas as pd\n",
    "import matplotlib.pyplot as plt\n",
    "import seaborn as sns; sns.set();\n",
    "from PIL import Image\n",
    "\n",
    "from sklearn.utils import class_weight\n",
    "from sklearn.metrics import confusion_matrix, log_loss, accuracy_score\n",
    "from sklearn.preprocessing import OneHotEncoder"
   ]
  },
  {
   "cell_type": "markdown",
   "metadata": {},
   "source": [
    "## Load Dataset"
   ]
  },
  {
   "cell_type": "code",
   "execution_count": 27,
   "metadata": {},
   "outputs": [],
   "source": [
    "pd_train = pd.read_csv('shopee-product-detection-dataset/train.csv').sort_values(by=['filename'])\n",
    "pd_confusing_images = pd.read_csv('shopee-product-detection-dataset/confusing_images__loss_limit=9.csv').sort_values(by=['filename'])\n",
    "\n",
    "pd_train['dir_filename']            = pd_train.apply(lambda x: '{:02d}/{}'.format(x.category, x.filename), axis=1)\n",
    "pd_confusing_images['dir_filename'] = pd_confusing_images.apply(lambda x: '{:02d}/{}'.format(x.category, x.filename), axis=1)"
   ]
  },
  {
   "cell_type": "code",
   "execution_count": 28,
   "metadata": {},
   "outputs": [
    {
     "data": {
      "text/html": [
       "<div>\n",
       "<style scoped>\n",
       "    .dataframe tbody tr th:only-of-type {\n",
       "        vertical-align: middle;\n",
       "    }\n",
       "\n",
       "    .dataframe tbody tr th {\n",
       "        vertical-align: top;\n",
       "    }\n",
       "\n",
       "    .dataframe thead th {\n",
       "        text-align: right;\n",
       "    }\n",
       "</style>\n",
       "<table border=\"1\" class=\"dataframe\">\n",
       "  <thead>\n",
       "    <tr style=\"text-align: right;\">\n",
       "      <th></th>\n",
       "      <th>filename</th>\n",
       "      <th>category</th>\n",
       "      <th>dir_filename</th>\n",
       "    </tr>\n",
       "  </thead>\n",
       "  <tbody>\n",
       "    <tr>\n",
       "      <th>50947</th>\n",
       "      <td>00017f8bf9d8a34dab8f9707a378dbe5.jpg</td>\n",
       "      <td>38</td>\n",
       "      <td>38/00017f8bf9d8a34dab8f9707a378dbe5.jpg</td>\n",
       "    </tr>\n",
       "    <tr>\n",
       "      <th>31622</th>\n",
       "      <td>00022314f9c58eb20d248ed239db3a52.jpg</td>\n",
       "      <td>16</td>\n",
       "      <td>16/00022314f9c58eb20d248ed239db3a52.jpg</td>\n",
       "    </tr>\n",
       "    <tr>\n",
       "      <th>34234</th>\n",
       "      <td>0002d098348d8358c44032903e117ade.jpg</td>\n",
       "      <td>28</td>\n",
       "      <td>28/0002d098348d8358c44032903e117ade.jpg</td>\n",
       "    </tr>\n",
       "    <tr>\n",
       "      <th>12787</th>\n",
       "      <td>000367a6ec58e9d1e4bc340d8d871dab.jpg</td>\n",
       "      <td>34</td>\n",
       "      <td>34/000367a6ec58e9d1e4bc340d8d871dab.jpg</td>\n",
       "    </tr>\n",
       "    <tr>\n",
       "      <th>38157</th>\n",
       "      <td>00042ddb52b8b5046c4f2eaee8c948ed.jpg</td>\n",
       "      <td>10</td>\n",
       "      <td>10/00042ddb52b8b5046c4f2eaee8c948ed.jpg</td>\n",
       "    </tr>\n",
       "  </tbody>\n",
       "</table>\n",
       "</div>"
      ],
      "text/plain": [
       "                                   filename category  \\\n",
       "50947  00017f8bf9d8a34dab8f9707a378dbe5.jpg       38   \n",
       "31622  00022314f9c58eb20d248ed239db3a52.jpg       16   \n",
       "34234  0002d098348d8358c44032903e117ade.jpg       28   \n",
       "12787  000367a6ec58e9d1e4bc340d8d871dab.jpg       34   \n",
       "38157  00042ddb52b8b5046c4f2eaee8c948ed.jpg       10   \n",
       "\n",
       "                                  dir_filename  \n",
       "50947  38/00017f8bf9d8a34dab8f9707a378dbe5.jpg  \n",
       "31622  16/00022314f9c58eb20d248ed239db3a52.jpg  \n",
       "34234  28/0002d098348d8358c44032903e117ade.jpg  \n",
       "12787  34/000367a6ec58e9d1e4bc340d8d871dab.jpg  \n",
       "38157  10/00042ddb52b8b5046c4f2eaee8c948ed.jpg  "
      ]
     },
     "execution_count": 28,
     "metadata": {},
     "output_type": "execute_result"
    }
   ],
   "source": [
    "mask = ~pd_train.set_index('dir_filename').index.isin(pd_confusing_images.set_index('dir_filename').index)\n",
    "pd_train_clean = pd_train.loc[mask].copy()\n",
    "pd_train_clean['category'] = pd_train_clean['category'].astype('str')\n",
    "pd_train_clean.head()"
   ]
  },
  {
   "cell_type": "code",
   "execution_count": 29,
   "metadata": {},
   "outputs": [
    {
     "data": {
      "text/plain": [
       "array(['0', '1', '10', '11', '12', '13', '14', '15', '16', '17', '18',\n",
       "       '19', '2', '20', '21', '22', '23', '24', '25', '26', '27', '28',\n",
       "       '29', '3', '30', '31', '32', '33', '34', '35', '36', '37', '38',\n",
       "       '39', '4', '40', '41', '5', '6', '7', '8', '9'], dtype=object)"
      ]
     },
     "execution_count": 29,
     "metadata": {},
     "output_type": "execute_result"
    }
   ],
   "source": [
    "classes = np.unique(pd_train_clean['category'])\n",
    "classes"
   ]
  },
  {
   "cell_type": "code",
   "execution_count": 30,
   "metadata": {},
   "outputs": [],
   "source": [
    "input_shape = (256, 256, 3)\n",
    "# input_shape = (512, 512, 3)\n",
    "batch_size=128"
   ]
  },
  {
   "cell_type": "code",
   "execution_count": 31,
   "metadata": {},
   "outputs": [
    {
     "name": "stdout",
     "output_type": "stream",
     "text": [
      "Found 74790 validated image filenames belonging to 42 classes.\n",
      "Found 8310 validated image filenames belonging to 42 classes.\n"
     ]
    }
   ],
   "source": [
    "train_datagen = tfk_ImageDataGenerator(\n",
    "    preprocessing_function=tfk_preprocess_input,\n",
    "    validation_split=0.1,\n",
    "    rotation_range=45,\n",
    "    shear_range=20,\n",
    "    zoom_range=[0.9, 1.1],\n",
    "    width_shift_range=0.2,\n",
    "    height_shift_range=0.2,\n",
    "    horizontal_flip=True,\n",
    "    vertical_flip=True\n",
    ")\n",
    "\n",
    "train_generator = train_datagen.flow_from_dataframe(\n",
    "    pd_train_clean,\n",
    "    directory='shopee-product-detection-dataset/train/',\n",
    "    x_col='dir_filename',\n",
    "    y_col='category',\n",
    "    target_size=input_shape[:2],\n",
    "    color_mode='rgb',\n",
    "    batch_size=batch_size,\n",
    "    class_mode='categorical',\n",
    "    shuffle=True,\n",
    "    subset='training'\n",
    ")\n",
    "\n",
    "val_generator = train_datagen.flow_from_dataframe(\n",
    "    pd_train_clean,\n",
    "    directory='shopee-product-detection-dataset/train/',\n",
    "    x_col='dir_filename',\n",
    "    y_col='category',\n",
    "    target_size=input_shape[:2],\n",
    "    color_mode='rgb',\n",
    "    batch_size=batch_size,\n",
    "    class_mode='categorical',\n",
    "    shuffle=True,\n",
    "    subset='validation'\n",
    ")"
   ]
  },
  {
   "cell_type": "markdown",
   "metadata": {},
   "source": [
    "## Prepare Model"
   ]
  },
  {
   "cell_type": "code",
   "execution_count": 6,
   "metadata": {},
   "outputs": [
    {
     "data": {
      "text/plain": [
       "813"
      ]
     },
     "execution_count": 6,
     "metadata": {},
     "output_type": "execute_result"
    }
   ],
   "source": [
    "base_model = tfk_BaseModel(input_shape=input_shape, weights='imagenet', include_top=False)\n",
    "len(base_model.layers)"
   ]
  },
  {
   "cell_type": "code",
   "execution_count": 7,
   "metadata": {},
   "outputs": [],
   "source": [
    "for layer in base_model.layers[:-16]:\n",
    "  layer.trainable = False"
   ]
  },
  {
   "cell_type": "code",
   "execution_count": 8,
   "metadata": {},
   "outputs": [],
   "source": [
    "model = tfk.Sequential([\n",
    "    base_model,\n",
    "    tfk.layers.GlobalMaxPooling2D(),\n",
    "    tfk.layers.Dense(512, activation='relu'),\n",
    "    #tfk.layers.Dense(256, activation='relu'),\n",
    "    tfk.layers.Dense(128, activation='relu'),\n",
    "    tfk.layers.Dense(42, activation='softmax', name='output_layer'),\n",
    "])"
   ]
  },
  {
   "cell_type": "code",
   "execution_count": 9,
   "metadata": {},
   "outputs": [
    {
     "name": "stdout",
     "output_type": "stream",
     "text": [
      "Model: \"sequential\"\n",
      "_________________________________________________________________\n",
      "Layer (type)                 Output Shape              Param #   \n",
      "=================================================================\n",
      "efficientnetb7 (Model)       (None, 8, 8, 2560)        64097687  \n",
      "_________________________________________________________________\n",
      "global_max_pooling2d (Global (None, 2560)              0         \n",
      "_________________________________________________________________\n",
      "dense (Dense)                (None, 512)               1311232   \n",
      "_________________________________________________________________\n",
      "dense_1 (Dense)              (None, 128)               65664     \n",
      "_________________________________________________________________\n",
      "output_layer (Dense)         (None, 42)                5418      \n",
      "=================================================================\n",
      "Total params: 65,480,001\n",
      "Trainable params: 6,759,754\n",
      "Non-trainable params: 58,720,247\n",
      "_________________________________________________________________\n"
     ]
    }
   ],
   "source": [
    "model.summary()"
   ]
  },
  {
   "cell_type": "code",
   "execution_count": 10,
   "metadata": {},
   "outputs": [
    {
     "data": {
      "image/png": "[encoded data removed]",
      "text/plain": [
       "<IPython.core.display.Image object>"
      ]
     },
     "execution_count": 10,
     "metadata": {},
     "output_type": "execute_result"
    }
   ],
   "source": [
    "tfk.utils.plot_model(model)"
   ]
  },
  {
   "cell_type": "code",
   "execution_count": 11,
   "metadata": {},
   "outputs": [],
   "source": [
    "model.compile(optimizer=tfk.optimizers.Adam(learning_rate=1e-3),\n",
    "              loss=tfk.losses.CategoricalCrossentropy(label_smoothing=0.1),\n",
    "              metrics=['accuracy'])"
   ]
  },
  {
   "cell_type": "markdown",
   "metadata": {},
   "source": [
    "## Train Model"
   ]
  },
  {
   "cell_type": "code",
   "execution_count": 6,
   "metadata": {},
   "outputs": [],
   "source": [
    "model = tfk.models.load_model('model_clean_1.h5')"
   ]
  },
  {
   "cell_type": "code",
   "execution_count": 7,
   "metadata": {},
   "outputs": [
    {
     "name": "stdout",
     "output_type": "stream",
     "text": [
      "584 64\n"
     ]
    }
   ],
   "source": [
    "class_weights = class_weight.compute_class_weight('balanced',\n",
    "                                                  np.unique(train_generator.classes),\n",
    "                                                  train_generator.classes)\n",
    "class_weights = {i : class_weights[i] for i in range(len(class_weights))}\n",
    "\n",
    "train_step_size = train_generator.n//train_generator.batch_size\n",
    "val_step_size   = val_generator.n//val_generator.batch_size\n",
    "print(train_step_size, val_step_size)"
   ]
  },
  {
   "cell_type": "code",
   "execution_count": 9,
   "metadata": {},
   "outputs": [],
   "source": [
    "reduce_lr = tf.keras.callbacks.ReduceLROnPlateau(\n",
    "    monitor='val_accuracy',\n",
    "    factor=0.2,\n",
    "    patience=5,\n",
    "    min_lr=1e-7\n",
    ")\n",
    "\n",
    "early_stop = tfk.callbacks.EarlyStopping(\n",
    "    monitor='val_accuracy',\n",
    "    patience=15,\n",
    "    restore_best_weights=True\n",
    ")\n",
    "\n",
    "checkpoint_dir = os.path.join('.model_files')\n",
    "if not os.path.exists(checkpoint_dir):\n",
    "    os.makedirs(checkpoint_dir)\n",
    "checkpoint = tfk.callbacks.ModelCheckpoint(\n",
    "    filepath = checkpoint_dir + '/ckpt/',\n",
    "    save_freq ='epoch',\n",
    "    save_best_only=True\n",
    ")\n",
    "\n",
    "log_dir = os.path.join(\".model_files/logs/\" + datetime.datetime.now().strftime(\"%Y%m%d-%H%M%S\"))\n",
    "if not os.path.exists(log_dir):\n",
    "    os.makedirs(log_dir)\n",
    "tensorboard_callback = tf.keras.callbacks.TensorBoard(\n",
    "    log_dir=log_dir,\n",
    "    histogram_freq=1,\n",
    "    update_freq=100,\n",
    "    profile_batch = 100000000\n",
    ")"
   ]
  },
  {
   "cell_type": "code",
   "execution_count": 10,
   "metadata": {},
   "outputs": [
    {
     "name": "stdout",
     "output_type": "stream",
     "text": [
      "Epoch 9/100\n",
      "200/200 [==============================] - ETA: 0s - loss: 1.4189 - accuracy: 0.7679WARNING:tensorflow:From c:\\users\\franz cesista\\appdata\\local\\programs\\python\\python36\\lib\\site-packages\\tensorflow\\python\\ops\\resource_variable_ops.py:1817: calling BaseResourceVariable.__init__ (from tensorflow.python.ops.resource_variable_ops) with constraint is deprecated and will be removed in a future version.\n",
      "Instructions for updating:\n",
      "If using Keras pass *_constraint arguments to layers.\n",
      "INFO:tensorflow:Assets written to: .model_files/ckpt/assets\n",
      "200/200 [==============================] - 635s 3s/step - loss: 1.4189 - accuracy: 0.7679 - val_loss: 1.1747 - val_accuracy: 0.8426 - lr: 0.0010\n",
      "Epoch 10/100\n",
      "200/200 [==============================] - ETA: 0s - loss: 1.4151 - accuracy: 0.7684INFO:tensorflow:Assets written to: .model_files/ckpt/assets\n",
      "200/200 [==============================] - 662s 3s/step - loss: 1.4151 - accuracy: 0.7684 - val_loss: 1.1579 - val_accuracy: 0.8633 - lr: 0.0010\n",
      "Epoch 11/100\n",
      "200/200 [==============================] - ETA: 0s - loss: 1.4045 - accuracy: 0.7719INFO:tensorflow:Assets written to: .model_files/ckpt/assets\n",
      "200/200 [==============================] - 732s 4s/step - loss: 1.4045 - accuracy: 0.7719 - val_loss: 1.1540 - val_accuracy: 0.8578 - lr: 0.0010\n",
      "Epoch 12/100\n",
      "200/200 [==============================] - ETA: 0s - loss: 1.3627 - accuracy: 0.7840INFO:tensorflow:Assets written to: .model_files/ckpt/assets\n",
      "200/200 [==============================] - 686s 3s/step - loss: 1.3627 - accuracy: 0.7840 - val_loss: 1.0951 - val_accuracy: 0.8784 - lr: 0.0010\n",
      "Epoch 13/100\n",
      "200/200 [==============================] - 697s 3s/step - loss: 1.3595 - accuracy: 0.7843 - val_loss: 1.1424 - val_accuracy: 0.8598 - lr: 0.0010\n",
      "Epoch 14/100\n",
      "200/200 [==============================] - ETA: 0s - loss: 1.3536 - accuracy: 0.7860INFO:tensorflow:Assets written to: .model_files/ckpt/assets\n",
      "200/200 [==============================] - 719s 4s/step - loss: 1.3536 - accuracy: 0.7860 - val_loss: 1.0880 - val_accuracy: 0.8813 - lr: 0.0010\n",
      "Epoch 15/100\n",
      "200/200 [==============================] - ETA: 0s - loss: 1.3132 - accuracy: 0.8014INFO:tensorflow:Assets written to: .model_files/ckpt/assets\n",
      "200/200 [==============================] - 731s 4s/step - loss: 1.3132 - accuracy: 0.8014 - val_loss: 1.0823 - val_accuracy: 0.8800 - lr: 0.0010\n",
      "Epoch 16/100\n",
      "200/200 [==============================] - 761s 4s/step - loss: 1.3119 - accuracy: 0.8005 - val_loss: 1.0970 - val_accuracy: 0.8723 - lr: 0.0010\n",
      "Epoch 17/100\n",
      "200/200 [==============================] - ETA: 0s - loss: 1.3207 - accuracy: 0.7969INFO:tensorflow:Assets written to: .model_files/ckpt/assets\n",
      "200/200 [==============================] - 805s 4s/step - loss: 1.3207 - accuracy: 0.7969 - val_loss: 1.0758 - val_accuracy: 0.8852 - lr: 0.0010\n",
      "Epoch 18/100\n",
      "200/200 [==============================] - 717s 4s/step - loss: 1.2826 - accuracy: 0.8075 - val_loss: 1.0817 - val_accuracy: 0.8710 - lr: 0.0010\n",
      "Epoch 19/100\n",
      "200/200 [==============================] - ETA: 0s - loss: 1.2722 - accuracy: 0.8120INFO:tensorflow:Assets written to: .model_files/ckpt/assets\n",
      "200/200 [==============================] - 819s 4s/step - loss: 1.2722 - accuracy: 0.8120 - val_loss: 1.0363 - val_accuracy: 0.9008 - lr: 0.0010\n",
      "Epoch 20/100\n",
      "200/200 [==============================] - 762s 4s/step - loss: 1.2629 - accuracy: 0.8129 - val_loss: 1.0543 - val_accuracy: 0.8828 - lr: 0.0010\n",
      "Epoch 21/100\n",
      "200/200 [==============================] - 785s 4s/step - loss: 1.2390 - accuracy: 0.8228 - val_loss: 1.0676 - val_accuracy: 0.8808 - lr: 0.0010\n",
      "Epoch 22/100\n",
      "200/200 [==============================] - 783s 4s/step - loss: 1.2409 - accuracy: 0.8228 - val_loss: 1.0488 - val_accuracy: 0.8879 - lr: 0.0010\n",
      "Epoch 23/100\n",
      "200/200 [==============================] - 847s 4s/step - loss: 1.2408 - accuracy: 0.8191 - val_loss: 1.0537 - val_accuracy: 0.8832 - lr: 0.0010\n",
      "Epoch 24/100\n",
      "200/200 [==============================] - ETA: 0s - loss: 1.2120 - accuracy: 0.8302INFO:tensorflow:Assets written to: .model_files/ckpt/assets\n",
      "200/200 [==============================] - 968s 5s/step - loss: 1.2120 - accuracy: 0.8302 - val_loss: 1.0273 - val_accuracy: 0.8941 - lr: 0.0010\n",
      "Epoch 25/100\n",
      "200/200 [==============================] - ETA: 0s - loss: 1.1775 - accuracy: 0.8427INFO:tensorflow:Assets written to: .model_files/ckpt/assets\n",
      "200/200 [==============================] - 1039s 5s/step - loss: 1.1775 - accuracy: 0.8427 - val_loss: 1.0131 - val_accuracy: 0.9047 - lr: 2.0000e-04\n",
      "Epoch 26/100\n",
      "200/200 [==============================] - ETA: 0s - loss: 1.1552 - accuracy: 0.8477INFO:tensorflow:Assets written to: .model_files/ckpt/assets\n",
      "200/200 [==============================] - 978s 5s/step - loss: 1.1552 - accuracy: 0.8477 - val_loss: 0.9846 - val_accuracy: 0.9125 - lr: 2.0000e-04\n",
      "Epoch 27/100\n",
      "200/200 [==============================] - ETA: 0s - loss: 1.1278 - accuracy: 0.8587INFO:tensorflow:Assets written to: .model_files/ckpt/assets\n",
      "200/200 [==============================] - 1010s 5s/step - loss: 1.1278 - accuracy: 0.8587 - val_loss: 0.9800 - val_accuracy: 0.9169 - lr: 2.0000e-04\n",
      "Epoch 28/100\n",
      "200/200 [==============================] - 834s 4s/step - loss: 1.1266 - accuracy: 0.8578 - val_loss: 0.9849 - val_accuracy: 0.9129 - lr: 2.0000e-04\n",
      "Epoch 29/100\n",
      "200/200 [==============================] - 812s 4s/step - loss: 1.1171 - accuracy: 0.8618 - val_loss: 0.9966 - val_accuracy: 0.9113 - lr: 2.0000e-04\n",
      "Epoch 30/100\n",
      "200/200 [==============================] - ETA: 0s - loss: 1.1179 - accuracy: 0.8616INFO:tensorflow:Assets written to: .model_files/ckpt/assets\n",
      "200/200 [==============================] - 953s 5s/step - loss: 1.1179 - accuracy: 0.8616 - val_loss: 0.9763 - val_accuracy: 0.9165 - lr: 2.0000e-04\n",
      "Epoch 31/100\n",
      "200/200 [==============================] - 902s 5s/step - loss: 1.1088 - accuracy: 0.8646 - val_loss: 0.9930 - val_accuracy: 0.9059 - lr: 2.0000e-04\n",
      "Epoch 32/100\n",
      "200/200 [==============================] - ETA: 0s - loss: 1.1130 - accuracy: 0.8635INFO:tensorflow:Assets written to: .model_files/ckpt/assets\n",
      "200/200 [==============================] - 982s 5s/step - loss: 1.1130 - accuracy: 0.8635 - val_loss: 0.9578 - val_accuracy: 0.9289 - lr: 2.0000e-04\n",
      "Epoch 33/100\n",
      "200/200 [==============================] - 920s 5s/step - loss: 1.1042 - accuracy: 0.8664 - val_loss: 0.9736 - val_accuracy: 0.9176 - lr: 2.0000e-04\n",
      "Epoch 34/100\n",
      "200/200 [==============================] - 931s 5s/step - loss: 1.0983 - accuracy: 0.8698 - val_loss: 0.9840 - val_accuracy: 0.9164 - lr: 2.0000e-04\n",
      "Epoch 35/100\n",
      "200/200 [==============================] - 1017s 5s/step - loss: 1.0929 - accuracy: 0.8683 - val_loss: 0.9712 - val_accuracy: 0.9227 - lr: 2.0000e-04\n",
      "Epoch 36/100\n",
      "200/200 [==============================] - 932s 5s/step - loss: 1.0891 - accuracy: 0.8745 - val_loss: 0.9685 - val_accuracy: 0.9204 - lr: 2.0000e-04\n",
      "Epoch 37/100\n",
      "200/200 [==============================] - ETA: 0s - loss: 1.0917 - accuracy: 0.8724INFO:tensorflow:Assets written to: .model_files/ckpt/assets\n",
      "200/200 [==============================] - 1030s 5s/step - loss: 1.0917 - accuracy: 0.8724 - val_loss: 0.9508 - val_accuracy: 0.9238 - lr: 2.0000e-04\n",
      "Epoch 38/100\n",
      "200/200 [==============================] - 1057s 5s/step - loss: 1.0721 - accuracy: 0.8763 - val_loss: 0.9986 - val_accuracy: 0.9027 - lr: 4.0000e-05\n",
      "Epoch 39/100\n",
      "200/200 [==============================] - 1003s 5s/step - loss: 1.0706 - accuracy: 0.8779 - val_loss: 0.9548 - val_accuracy: 0.9310 - lr: 4.0000e-05\n",
      "Epoch 40/100\n",
      "200/200 [==============================] - 900s 5s/step - loss: 1.0653 - accuracy: 0.8804 - val_loss: 0.9687 - val_accuracy: 0.9227 - lr: 4.0000e-05\n",
      "Epoch 41/100\n",
      "200/200 [==============================] - 937s 5s/step - loss: 1.0671 - accuracy: 0.8803 - val_loss: 0.9559 - val_accuracy: 0.9223 - lr: 4.0000e-05\n",
      "Epoch 42/100\n",
      "200/200 [==============================] - ETA: 0s - loss: 1.0713 - accuracy: 0.8761INFO:tensorflow:Assets written to: .model_files/ckpt/assets\n",
      "200/200 [==============================] - 998s 5s/step - loss: 1.0713 - accuracy: 0.8761 - val_loss: 0.9507 - val_accuracy: 0.9262 - lr: 4.0000e-05\n",
      "Epoch 43/100\n",
      "200/200 [==============================] - 881s 4s/step - loss: 1.0662 - accuracy: 0.8821 - val_loss: 0.9660 - val_accuracy: 0.9204 - lr: 4.0000e-05\n",
      "Epoch 44/100\n",
      "200/200 [==============================] - 907s 5s/step - loss: 1.0589 - accuracy: 0.8840 - val_loss: 0.9941 - val_accuracy: 0.9062 - lr: 4.0000e-05\n",
      "Epoch 45/100\n",
      "200/200 [==============================] - 880s 4s/step - loss: 1.0604 - accuracy: 0.8848 - val_loss: 0.9643 - val_accuracy: 0.9207 - lr: 8.0000e-06\n",
      "Epoch 46/100\n",
      "200/200 [==============================] - 871s 4s/step - loss: 1.0619 - accuracy: 0.8814 - val_loss: 0.9595 - val_accuracy: 0.9200 - lr: 8.0000e-06\n",
      "Epoch 47/100\n",
      "200/200 [==============================] - 982s 5s/step - loss: 1.0651 - accuracy: 0.8819 - val_loss: 0.9667 - val_accuracy: 0.9223 - lr: 8.0000e-06\n",
      "Epoch 48/100\n",
      "200/200 [==============================] - 876s 4s/step - loss: 1.0574 - accuracy: 0.8838 - val_loss: 0.9549 - val_accuracy: 0.9230 - lr: 8.0000e-06\n",
      "Epoch 49/100\n",
      "200/200 [==============================] - 890s 4s/step - loss: 1.0570 - accuracy: 0.8825 - val_loss: 0.9709 - val_accuracy: 0.9165 - lr: 8.0000e-06\n",
      "Epoch 50/100\n",
      "200/200 [==============================] - 977s 5s/step - loss: 1.0559 - accuracy: 0.8852 - val_loss: 0.9632 - val_accuracy: 0.9211 - lr: 1.6000e-06\n",
      "Epoch 51/100\n",
      "200/200 [==============================] - ETA: 0s - loss: 1.0601 - accuracy: 0.8830INFO:tensorflow:Assets written to: .model_files/ckpt/assets\n",
      "200/200 [==============================] - 1105s 6s/step - loss: 1.0601 - accuracy: 0.8830 - val_loss: 0.9412 - val_accuracy: 0.9309 - lr: 1.6000e-06\n",
      "Epoch 52/100\n",
      "200/200 [==============================] - 873s 4s/step - loss: 1.0607 - accuracy: 0.8816 - val_loss: 0.9493 - val_accuracy: 0.9294 - lr: 1.6000e-06\n",
      "Epoch 53/100\n",
      "200/200 [==============================] - 851s 4s/step - loss: 1.0552 - accuracy: 0.8840 - val_loss: 0.9487 - val_accuracy: 0.9227 - lr: 1.6000e-06\n",
      "Epoch 54/100\n",
      "200/200 [==============================] - 845s 4s/step - loss: 1.0596 - accuracy: 0.8832 - val_loss: 0.9666 - val_accuracy: 0.9156 - lr: 1.6000e-06\n"
     ]
    }
   ],
   "source": [
    "history = model.fit(train_generator,\n",
    "                    initial_epoch=8,\n",
    "                    epochs=100,\n",
    "                    steps_per_epoch=200,\n",
    "                    validation_steps=20,\n",
    "                    validation_data=val_generator,\n",
    "                    class_weight=class_weights,\n",
    "                    callbacks=[reduce_lr,\n",
    "                              early_stop, \n",
    "                              checkpoint, \n",
    "                              tensorboard_callback\n",
    "                              ]\n",
    "                   )"
   ]
  },
  {
   "cell_type": "code",
   "execution_count": 11,
   "metadata": {},
   "outputs": [],
   "source": [
    "model.save('model_clean_2.h5')"
   ]
  },
  {
   "cell_type": "markdown",
   "metadata": {},
   "source": [
    "## Testing"
   ]
  },
  {
   "cell_type": "code",
   "execution_count": 2,
   "metadata": {},
   "outputs": [],
   "source": [
    "model = tfk.models.load_model('model_clean_2.h5')"
   ]
  },
  {
   "cell_type": "code",
   "execution_count": 32,
   "metadata": {},
   "outputs": [
    {
     "name": "stdout",
     "output_type": "stream",
     "text": [
      "Found 83100 validated image filenames belonging to 42 classes.\n"
     ]
    }
   ],
   "source": [
    "clean_datagen = tfk_ImageDataGenerator(\n",
    "    preprocessing_function=tfk_preprocess_input,\n",
    ")\n",
    "\n",
    "clean_generator = clean_datagen.flow_from_dataframe(\n",
    "    pd_train_clean,\n",
    "    directory='shopee-product-detection-dataset/train/',\n",
    "    x_col='dir_filename',\n",
    "    y_col='category',\n",
    "    target_size=input_shape[:2],\n",
    "    color_mode='rgb',\n",
    "    batch_size=batch_size,\n",
    "    class_mode='categorical',\n",
    "    shuffle=True,\n",
    ")"
   ]
  },
  {
   "cell_type": "code",
   "execution_count": 33,
   "metadata": {},
   "outputs": [
    {
     "name": "stdout",
     "output_type": "stream",
     "text": [
      "step: 10\n",
      "step: 20\n",
      "step: 30\n",
      "step: 40\n",
      "step: 50\n",
      "Wall time: 2min 7s\n"
     ]
    }
   ],
   "source": [
    "%%time\n",
    "y_pred = []\n",
    "y_true = []\n",
    "\n",
    "for i in range(50):\n",
    "    if (i+1) % 10 == 0:\n",
    "        print(\"step:\", i+1)\n",
    "    x, y = next(iter(clean_generator))\n",
    "    y_true.extend(y)\n",
    "    y_pred.extend(model.predict(x))\n",
    "\n",
    "y_pred = np.array(y_pred)\n",
    "y_true = np.array(y_true)"
   ]
  },
  {
   "cell_type": "code",
   "execution_count": 21,
   "metadata": {},
   "outputs": [],
   "source": [
    "# y_pred_ = y_pred.copy()\n",
    "# \n",
    "# for i, c in enumerate(classes):\n",
    "#     c = int(c)\n",
    "#     y_pred_[:, c] = y_pred[:, i]"
   ]
  },
  {
   "cell_type": "code",
   "execution_count": 34,
   "metadata": {},
   "outputs": [],
   "source": [
    "matrix = confusion_matrix(y_true.argmax(axis=1), y_pred.argmax(axis=1))"
   ]
  },
  {
   "cell_type": "code",
   "execution_count": 35,
   "metadata": {},
   "outputs": [
    {
     "data": {
      "image/png": "[encoded data removed]",
      "text/plain": [
       "<Figure size 1152x648 with 2 Axes>"
      ]
     },
     "metadata": {},
     "output_type": "display_data"
    }
   ],
   "source": [
    "plt.figure(figsize = (16,9))\n",
    "sns.heatmap(matrix, linecolor='grey', linewidth=0.1)\n",
    "plt.savefig('confusion_matrix.png', \n",
    "            #transparent=True,\n",
    "            bbox_inches='tight')"
   ]
  },
  {
   "cell_type": "code",
   "execution_count": 36,
   "metadata": {},
   "outputs": [],
   "source": [
    "def label_smoother(x, factor=0.1):\n",
    "    xx = x.copy()\n",
    "    xx[x == 1] = 1 - factor\n",
    "    xx[x == 0] = factor / (y_true.shape[1] - 1)\n",
    "    return xx"
   ]
  },
  {
   "cell_type": "code",
   "execution_count": 37,
   "metadata": {},
   "outputs": [
    {
     "name": "stdout",
     "output_type": "stream",
     "text": [
      "Loss: 1.4597827\n",
      "Accuracy: 0.963125\n"
     ]
    }
   ],
   "source": [
    "loss     = tfk.losses.categorical_crossentropy(y_pred, label_smoother(y_true)).numpy().mean()\n",
    "accuracy = accuracy_score(y_pred.argmax(axis=1), y_true.argmax(axis=1))\n",
    "\n",
    "print(\"Loss:\", loss)\n",
    "print(\"Accuracy:\", accuracy)"
   ]
  },
  {
   "cell_type": "markdown",
   "metadata": {},
   "source": [
    "## Generate Submission"
   ]
  },
  {
   "cell_type": "code",
   "execution_count": 278,
   "metadata": {},
   "outputs": [
    {
     "data": {
      "text/html": [
       "<div>\n",
       "<style scoped>\n",
       "    .dataframe tbody tr th:only-of-type {\n",
       "        vertical-align: middle;\n",
       "    }\n",
       "\n",
       "    .dataframe tbody tr th {\n",
       "        vertical-align: top;\n",
       "    }\n",
       "\n",
       "    .dataframe thead th {\n",
       "        text-align: right;\n",
       "    }\n",
       "</style>\n",
       "<table border=\"1\" class=\"dataframe\">\n",
       "  <thead>\n",
       "    <tr style=\"text-align: right;\">\n",
       "      <th></th>\n",
       "      <th>filename</th>\n",
       "      <th>category</th>\n",
       "    </tr>\n",
       "  </thead>\n",
       "  <tbody>\n",
       "    <tr>\n",
       "      <th>485</th>\n",
       "      <td>0004b03ad7eabfb3989727c461310a84.jpg</td>\n",
       "      <td>43</td>\n",
       "    </tr>\n",
       "    <tr>\n",
       "      <th>6397</th>\n",
       "      <td>0004d34271d0a0253f8a95d0746bae05.jpg</td>\n",
       "      <td>43</td>\n",
       "    </tr>\n",
       "    <tr>\n",
       "      <th>2181</th>\n",
       "      <td>000d4ad3d0a372fd6eea2fee6bf738ef.jpg</td>\n",
       "      <td>43</td>\n",
       "    </tr>\n",
       "    <tr>\n",
       "      <th>2626</th>\n",
       "      <td>0012f125ad07123e69468ae1d1d59de4.jpg</td>\n",
       "      <td>43</td>\n",
       "    </tr>\n",
       "    <tr>\n",
       "      <th>2433</th>\n",
       "      <td>0015831b249b856e569e883a9dc6d4fa.jpg</td>\n",
       "      <td>43</td>\n",
       "    </tr>\n",
       "  </tbody>\n",
       "</table>\n",
       "</div>"
      ],
      "text/plain": [
       "                                  filename  category\n",
       "485   0004b03ad7eabfb3989727c461310a84.jpg        43\n",
       "6397  0004d34271d0a0253f8a95d0746bae05.jpg        43\n",
       "2181  000d4ad3d0a372fd6eea2fee6bf738ef.jpg        43\n",
       "2626  0012f125ad07123e69468ae1d1d59de4.jpg        43\n",
       "2433  0015831b249b856e569e883a9dc6d4fa.jpg        43"
      ]
     },
     "execution_count": 278,
     "metadata": {},
     "output_type": "execute_result"
    }
   ],
   "source": [
    "pd_test = pd.read_csv('shopee-product-detection-dataset/test.csv').sort_values(by=['filename'])\n",
    "pd_test.head()"
   ]
  },
  {
   "cell_type": "code",
   "execution_count": 279,
   "metadata": {},
   "outputs": [
    {
     "name": "stdout",
     "output_type": "stream",
     "text": [
      "Found 12186 validated image filenames.\n"
     ]
    }
   ],
   "source": [
    "test_datagen = tfk_ImageDataGenerator(\n",
    "    preprocessing_function=tfk_preprocess_input\n",
    ")\n",
    "\n",
    "test_generator = test_datagen.flow_from_dataframe(\n",
    "    pd_test,\n",
    "    directory='shopee-product-detection-dataset/test/',\n",
    "    x_col='filename',\n",
    "    target_size=input_shape[:2],\n",
    "    color_mode='rgb',\n",
    "    batch_size=batch_size,\n",
    "    class_mode=None,\n",
    "    shuffle=False,\n",
    ")"
   ]
  },
  {
   "cell_type": "code",
   "execution_count": 281,
   "metadata": {},
   "outputs": [
    {
     "name": "stdout",
     "output_type": "stream",
     "text": [
      "96/96 [==============================] - 165s 2s/step\n"
     ]
    }
   ],
   "source": [
    "y_pred = model.predict(test_generator, verbose=1, steps=test_generator.n//batch_size+1)\n",
    "y_pred = y_pred[:test_generator.n]"
   ]
  },
  {
   "cell_type": "code",
   "execution_count": 282,
   "metadata": {},
   "outputs": [
    {
     "data": {
      "text/html": [
       "<div>\n",
       "<style scoped>\n",
       "    .dataframe tbody tr th:only-of-type {\n",
       "        vertical-align: middle;\n",
       "    }\n",
       "\n",
       "    .dataframe tbody tr th {\n",
       "        vertical-align: top;\n",
       "    }\n",
       "\n",
       "    .dataframe thead th {\n",
       "        text-align: right;\n",
       "    }\n",
       "</style>\n",
       "<table border=\"1\" class=\"dataframe\">\n",
       "  <thead>\n",
       "    <tr style=\"text-align: right;\">\n",
       "      <th></th>\n",
       "      <th>filename</th>\n",
       "      <th>category</th>\n",
       "    </tr>\n",
       "  </thead>\n",
       "  <tbody>\n",
       "    <tr>\n",
       "      <th>485</th>\n",
       "      <td>0004b03ad7eabfb3989727c461310a84.jpg</td>\n",
       "      <td>12</td>\n",
       "    </tr>\n",
       "    <tr>\n",
       "      <th>6397</th>\n",
       "      <td>0004d34271d0a0253f8a95d0746bae05.jpg</td>\n",
       "      <td>16</td>\n",
       "    </tr>\n",
       "    <tr>\n",
       "      <th>2181</th>\n",
       "      <td>000d4ad3d0a372fd6eea2fee6bf738ef.jpg</td>\n",
       "      <td>40</td>\n",
       "    </tr>\n",
       "    <tr>\n",
       "      <th>2626</th>\n",
       "      <td>0012f125ad07123e69468ae1d1d59de4.jpg</td>\n",
       "      <td>22</td>\n",
       "    </tr>\n",
       "    <tr>\n",
       "      <th>2433</th>\n",
       "      <td>0015831b249b856e569e883a9dc6d4fa.jpg</td>\n",
       "      <td>12</td>\n",
       "    </tr>\n",
       "    <tr>\n",
       "      <th>6002</th>\n",
       "      <td>001640e7947935ad28d00f740c3eaefc.jpg</td>\n",
       "      <td>1</td>\n",
       "    </tr>\n",
       "    <tr>\n",
       "      <th>8633</th>\n",
       "      <td>00196f6ef552b2c4d78365818acdbce2.jpg</td>\n",
       "      <td>40</td>\n",
       "    </tr>\n",
       "    <tr>\n",
       "      <th>2935</th>\n",
       "      <td>001d40e7718c79ed31750d6c988a90fc.jpg</td>\n",
       "      <td>30</td>\n",
       "    </tr>\n",
       "    <tr>\n",
       "      <th>12092</th>\n",
       "      <td>001eeb075533bafbfb8e4a6f9e4b8765.jpg</td>\n",
       "      <td>37</td>\n",
       "    </tr>\n",
       "    <tr>\n",
       "      <th>10161</th>\n",
       "      <td>0022bd7f6b85fe98edd3291d9824ee6c.jpg</td>\n",
       "      <td>9</td>\n",
       "    </tr>\n",
       "  </tbody>\n",
       "</table>\n",
       "</div>"
      ],
      "text/plain": [
       "                                   filename category\n",
       "485    0004b03ad7eabfb3989727c461310a84.jpg       12\n",
       "6397   0004d34271d0a0253f8a95d0746bae05.jpg       16\n",
       "2181   000d4ad3d0a372fd6eea2fee6bf738ef.jpg       40\n",
       "2626   0012f125ad07123e69468ae1d1d59de4.jpg       22\n",
       "2433   0015831b249b856e569e883a9dc6d4fa.jpg       12\n",
       "6002   001640e7947935ad28d00f740c3eaefc.jpg        1\n",
       "8633   00196f6ef552b2c4d78365818acdbce2.jpg       40\n",
       "2935   001d40e7718c79ed31750d6c988a90fc.jpg       30\n",
       "12092  001eeb075533bafbfb8e4a6f9e4b8765.jpg       37\n",
       "10161  0022bd7f6b85fe98edd3291d9824ee6c.jpg        9"
      ]
     },
     "execution_count": 282,
     "metadata": {},
     "output_type": "execute_result"
    }
   ],
   "source": [
    "pd_submission = pd_test.copy()\n",
    "pd_submission['category'] = list(map(lambda x : classes[x], y_pred.argmax(axis=1)))\n",
    "pd_submission.head(10)"
   ]
  },
  {
   "cell_type": "code",
   "execution_count": 283,
   "metadata": {},
   "outputs": [],
   "source": [
    "pd_submission.to_csv('submission_2.csv', index=False)"
   ]
  },
  {
   "cell_type": "markdown",
   "metadata": {},
   "source": [
    "### Test"
   ]
  },
  {
   "cell_type": "code",
   "execution_count": 297,
   "metadata": {},
   "outputs": [
    {
     "data": {
      "text/plain": [
       "(256, 256, 3)"
      ]
     },
     "execution_count": 297,
     "metadata": {},
     "output_type": "execute_result"
    }
   ],
   "source": [
    "image = Image.open('shopee-product-detection-dataset/test/000d4ad3d0a372fd6eea2fee6bf738ef.jpg')\n",
    "#image = Image.open('shopee-product-detection-dataset/train/24/0a2f8630539a6028bb636f1bba990fb1.jpg')\n",
    "image = image.resize(input_shape[:2])\n",
    "image = np.asarray(image)\n",
    "image = tfk_preprocess_input(image)\n",
    "image.shape"
   ]
  },
  {
   "cell_type": "code",
   "execution_count": 298,
   "metadata": {},
   "outputs": [
    {
     "data": {
      "text/plain": [
       "<matplotlib.image.AxesImage at 0x279c06c1828>"
      ]
     },
     "execution_count": 298,
     "metadata": {},
     "output_type": "execute_result"
    },
    {
     "data": {
      "image/png": "[encoded data removed]",
      "text/plain": [
       "<Figure size 432x288 with 1 Axes>"
      ]
     },
     "metadata": {},
     "output_type": "display_data"
    }
   ],
   "source": [
    "plt.imshow(image)"
   ]
  },
  {
   "cell_type": "code",
   "execution_count": 299,
   "metadata": {},
   "outputs": [],
   "source": [
    "res = model.predict(np.expand_dims(image, axis=0))"
   ]
  },
  {
   "cell_type": "code",
   "execution_count": 300,
   "metadata": {},
   "outputs": [
    {
     "data": {
      "text/plain": [
       "array([[0.00263054, 0.00547645, 0.01066356, 0.00936576, 0.00568813,\n",
       "        0.01023893, 0.01240693, 0.01074474, 0.002801  , 0.0039913 ,\n",
       "        0.00477088, 0.00920071, 0.00228364, 0.06766966, 0.00348781,\n",
       "        0.00132776, 0.00257775, 0.00269085, 0.00320876, 0.00121288,\n",
       "        0.00842926, 0.0039152 , 0.00244225, 0.00485736, 0.0021809 ,\n",
       "        0.01233215, 0.01175185, 0.01738959, 0.002115  , 0.02983152,\n",
       "        0.00948595, 0.00653848, 0.05547606, 0.01896148, 0.00681085,\n",
       "        0.6060216 , 0.00262597, 0.00854894, 0.0060868 , 0.00229492,\n",
       "        0.00390173, 0.00556413]], dtype=float32)"
      ]
     },
     "execution_count": 300,
     "metadata": {},
     "output_type": "execute_result"
    }
   ],
   "source": [
    "res"
   ]
  },
  {
   "cell_type": "code",
   "execution_count": 301,
   "metadata": {},
   "outputs": [
    {
     "data": {
      "text/plain": [
       "35"
      ]
     },
     "execution_count": 301,
     "metadata": {},
     "output_type": "execute_result"
    }
   ],
   "source": [
    "class_pred = res.argmax(axis=-1)[0]\n",
    "class_pred"
   ]
  },
  {
   "cell_type": "code",
   "execution_count": 302,
   "metadata": {},
   "outputs": [
    {
     "data": {
      "text/plain": [
       "'40'"
      ]
     },
     "execution_count": 302,
     "metadata": {},
     "output_type": "execute_result"
    }
   ],
   "source": [
    "classes[class_pred]"
   ]
  },
  {
   "cell_type": "code",
   "execution_count": null,
   "metadata": {},
   "outputs": [],
   "source": []
  }
 ],
 "metadata": {
  "kernelspec": {
   "display_name": "Python 3",
   "language": "python",
   "name": "python3"
  },
  "language_info": {
   "codemirror_mode": {
    "name": "ipython",
    "version": 3
   },
   "file_extension": ".py",
   "mimetype": "text/x-python",
   "name": "python",
   "nbconvert_exporter": "python",
   "pygments_lexer": "ipython3",
   "version": "3.6.8"
  }
 },
 "nbformat": 4,
 "nbformat_minor": 4
}
