{
 "cells": [
  {
   "cell_type": "code",
   "execution_count": 1,
   "metadata": {},
   "outputs": [],
   "source": [
    "import tensorflow as tf\n",
    "import tensorflow.keras as tfk\n",
    "import tensorflow_addons as tfa\n",
    "\n",
    "from tensorflow.keras.preprocessing import image as tfk_image\n",
    "from tensorflow.keras.preprocessing.image import ImageDataGenerator as tfk_ImageDataGenerator\n",
    "\n",
    "from tensorflow.python.keras.applications.efficientnet import EfficientNetB7 as tfk_BaseModel\n",
    "from tensorflow.python.keras.applications.efficientnet import preprocess_input as tfk_preprocess_input\n",
    "\n",
    "# pip install git+https://github.com/docPhil99/ImageDataAugmentor\n",
    "from ImageDataAugmentor.image_data_augmentor import ImageDataAugmentor\n",
    "import albumentations as A\n",
    "\n",
    "import datetime, os\n",
    "\n",
    "import numpy as np\n",
    "import pandas as pd\n",
    "import matplotlib.pyplot as plt\n",
    "import seaborn as sns; sns.set();\n",
    "from PIL import Image, ImageEnhance\n",
    "\n",
    "from sklearn.utils import class_weight\n",
    "from sklearn.metrics import confusion_matrix, log_loss, accuracy_score\n",
    "from sklearn.preprocessing import OneHotEncoder"
   ]
  },
  {
   "cell_type": "markdown",
   "metadata": {},
   "source": [
    "## Load Dataset"
   ]
  },
  {
   "cell_type": "code",
   "execution_count": 2,
   "metadata": {},
   "outputs": [],
   "source": [
    "pd_train = pd.read_csv('shopee-product-detection-dataset/train.csv').sort_values(by=['filename'])\n",
    "pd_confusing_images = pd.read_csv('shopee-product-detection-dataset/confusing_images_2__mistake_ratio=0.9.csv').sort_values(by=['filename'])\n",
    "\n",
    "pd_train['dir_filename'] = pd_train.apply(lambda x: '{:02d}/{}'.format(x.category, x.filename), axis=1)\n",
    "pd_train['category']     = pd_train['category'].apply(lambda x : '{:02d}'.format(x))"
   ]
  },
  {
   "cell_type": "code",
   "execution_count": 3,
   "metadata": {},
   "outputs": [
    {
     "data": {
      "text/plain": [
       "array(['00', '01', '02', '03', '04', '05', '06', '07', '08', '09', '10',\n",
       "       '11', '12', '13', '14', '15', '16', '17', '18', '19', '20', '21',\n",
       "       '22', '23', '24', '25', '26', '27', '28', '29', '30', '31', '32',\n",
       "       '33', '34', '35', '36', '37', '38', '39', '40', '41'], dtype=object)"
      ]
     },
     "execution_count": 3,
     "metadata": {},
     "output_type": "execute_result"
    }
   ],
   "source": [
    "classes = np.unique(pd_train['category'])\n",
    "classes"
   ]
  },
  {
   "cell_type": "code",
   "execution_count": 4,
   "metadata": {},
   "outputs": [],
   "source": [
    "input_shape = (256, 256, 3)\n",
    "batch_size  = 64"
   ]
  },
  {
   "cell_type": "code",
   "execution_count": 5,
   "metadata": {},
   "outputs": [],
   "source": [
    "AUGMENTATIONS = A.Compose([\n",
    "    A.HorizontalFlip(),\n",
    "    A.VerticalFlip(),\n",
    "    A.Rotate(),\n",
    "    A.OneOf([\n",
    "        A.RandomContrast(),\n",
    "        A.RandomGamma(),\n",
    "        A.RandomBrightness(),\n",
    "    ], p = 0.3),\n",
    "    A.OneOf([\n",
    "        A.ElasticTransform(\n",
    "            alpha = 120,\n",
    "            sigma = 120 * 0.05,\n",
    "            alpha_affine = 120 * 0.03\n",
    "        ),\n",
    "        A.GridDistortion(),\n",
    "        A.OpticalDistortion(\n",
    "            distort_limit = 2,\n",
    "            shift_limit = 0.5\n",
    "        ),\n",
    "    ], p = 0.3),\n",
    "    A.OneOf([\n",
    "        A.Cutout(\n",
    "            num_holes=4,\n",
    "            max_h_size=64,\n",
    "            max_w_size=64\n",
    "        ),\n",
    "        A.GridDropout(\n",
    "            ratio=0.25,\n",
    "            holes_number_x=8,\n",
    "            holes_number_y=8\n",
    "        ),\n",
    "    ], p=1),\n",
    "])"
   ]
  },
  {
   "cell_type": "code",
   "execution_count": 6,
   "metadata": {},
   "outputs": [
    {
     "name": "stdout",
     "output_type": "stream",
     "text": [
      "Found 94853 validated image filenames belonging to 42 classes.\n",
      "Found 10539 validated image filenames belonging to 42 classes.\n"
     ]
    }
   ],
   "source": [
    "train_datagen = ImageDataAugmentor(\n",
    "    preprocess_input=tfk_preprocess_input,\n",
    "    validation_split=0.1,\n",
    "    augment=AUGMENTATIONS,\n",
    ")\n",
    "\n",
    "train_generator = train_datagen.flow_from_dataframe(\n",
    "    pd_train,\n",
    "    directory='shopee-product-detection-dataset/train/',\n",
    "    x_col='dir_filename',\n",
    "    y_col='category',\n",
    "    target_size=input_shape[:2],\n",
    "    color_mode='rgb',\n",
    "    batch_size=batch_size,\n",
    "    class_mode='categorical',\n",
    "    shuffle=True,\n",
    "    subset='training'\n",
    ")\n",
    "\n",
    "val_generator = train_datagen.flow_from_dataframe(\n",
    "    pd_train,\n",
    "    directory='shopee-product-detection-dataset/train/',\n",
    "    x_col='dir_filename',\n",
    "    y_col='category',\n",
    "    target_size=input_shape[:2],\n",
    "    color_mode='rgb',\n",
    "    batch_size=batch_size,\n",
    "    class_mode='categorical',\n",
    "    shuffle=True,\n",
    "    subset='validation'\n",
    ")"
   ]
  },
  {
   "cell_type": "markdown",
   "metadata": {},
   "source": [
    "## Prepare Model"
   ]
  },
  {
   "cell_type": "code",
   "execution_count": null,
   "metadata": {},
   "outputs": [],
   "source": [
    "base_model = tfk_BaseModel(input_shape=input_shape, weights='imagenet', include_top=False)"
   ]
  },
  {
   "cell_type": "code",
   "execution_count": null,
   "metadata": {},
   "outputs": [],
   "source": [
    "TYPE = 3\n",
    "if TYPE == 1:\n",
    "    for layer in base_model.layers[:-18]:\n",
    "        layer.trainable = False\n",
    "    model = tfk.Sequential([\n",
    "        base_model,\n",
    "        tfk.layers.GlobalMaxPooling2D(),\n",
    "        tfk.layers.Dense(512, activation='relu'),\n",
    "        tfk.layers.Dense(128, activation='relu'),\n",
    "        tfk.layers.Dense(42, activation='softmax', name='output_layer'),\n",
    "    ])\n",
    "elif TYPE == 2:\n",
    "    model = tfk.Sequential([\n",
    "        base_model,\n",
    "        tfk.layers.GlobalMaxPooling2D(),\n",
    "        tfk.layers.Dropout(rate=0.2),\n",
    "        tfk.layers.Dense(42, activation='softmax', name='output_layer'),\n",
    "    ])\n",
    "    base_model.trainable = False\n",
    "elif TYPE == 3:\n",
    "    for layer in base_model.layers[:-len(base_model.layers)//5]:\n",
    "        layer.trainable = False\n",
    "    model = tfk.Sequential([\n",
    "        base_model,\n",
    "        tfk.layers.GlobalMaxPooling2D(),\n",
    "        tfk.layers.Dropout(rate=0.2),\n",
    "        tfk.layers.Dense(42, activation='softmax', name='output_layer'),\n",
    "    ])"
   ]
  },
  {
   "cell_type": "code",
   "execution_count": 9,
   "metadata": {},
   "outputs": [
    {
     "name": "stdout",
     "output_type": "stream",
     "text": [
      "Model: \"sequential\"\n",
      "_________________________________________________________________\n",
      "Layer (type)                 Output Shape              Param #   \n",
      "=================================================================\n",
      "efficientnetb7 (Model)       (None, 8, 8, 2560)        64097687  \n",
      "_________________________________________________________________\n",
      "global_max_pooling2d (Global (None, 2560)              0         \n",
      "_________________________________________________________________\n",
      "dropout (Dropout)            (None, 2560)              0         \n",
      "_________________________________________________________________\n",
      "output_layer (Dense)         (None, 42)                107562    \n",
      "=================================================================\n",
      "Total params: 64,205,249\n",
      "Trainable params: 38,267,402\n",
      "Non-trainable params: 25,937,847\n",
      "_________________________________________________________________\n"
     ]
    }
   ],
   "source": [
    "model.summary()"
   ]
  },
  {
   "cell_type": "code",
   "execution_count": 10,
   "metadata": {},
   "outputs": [
    {
     "data": {
      "image/png": "[encoded data removed]",
      "text/plain": [
       "<IPython.core.display.Image object>"
      ]
     },
     "execution_count": 10,
     "metadata": {},
     "output_type": "execute_result"
    }
   ],
   "source": [
    "tfk.utils.plot_model(model, rankdir='LR', dpi=300, show_shapes=False)"
   ]
  },
  {
   "cell_type": "markdown",
   "metadata": {},
   "source": [
    "## Train Top Layers of Model"
   ]
  },
  {
   "cell_type": "code",
   "execution_count": 7,
   "metadata": {},
   "outputs": [],
   "source": [
    "model = tfk.models.load_model('model_aug_full_1.h5')"
   ]
  },
  {
   "cell_type": "code",
   "execution_count": 8,
   "metadata": {},
   "outputs": [
    {
     "name": "stdout",
     "output_type": "stream",
     "text": [
      "train step size: 1482\n",
      "  val step size: 164\n"
     ]
    },
    {
     "data": {
      "image/png": "[encoded data removed]",
      "text/plain": [
       "<Figure size 432x288 with 1 Axes>"
      ]
     },
     "metadata": {},
     "output_type": "display_data"
    }
   ],
   "source": [
    "class_weights = class_weight.compute_class_weight('balanced',\n",
    "                                                  np.unique(train_generator.classes),\n",
    "                                                  train_generator.classes)\n",
    "class_weights = {i : class_weights[i] for i in range(len(class_weights))}\n",
    "plt.title(\"Class Weights\")\n",
    "plt.ylabel(\"Weight\")\n",
    "plt.xlabel(\"Class\")\n",
    "plt.bar(class_weights.keys(), class_weights.values())\n",
    "\n",
    "train_step_size = train_generator.n//train_generator.batch_size\n",
    "val_step_size   = val_generator.n//val_generator.batch_size\n",
    "print(\"train step size:\", train_step_size)\n",
    "print(\"  val step size:\", val_step_size)"
   ]
  },
  {
   "cell_type": "code",
   "execution_count": 9,
   "metadata": {},
   "outputs": [],
   "source": [
    "reduce_lr = tf.keras.callbacks.ReduceLROnPlateau(\n",
    "    monitor='val_accuracy',\n",
    "    factor=0.3,\n",
    "    patience=10,\n",
    "    min_lr=1e-6\n",
    ")\n",
    "\n",
    "early_stop = tfk.callbacks.EarlyStopping(\n",
    "    monitor='val_accuracy',\n",
    "    patience=30,\n",
    "    restore_best_weights=True\n",
    ")\n",
    "\n",
    "log_dir = os.path.join(\".model_files/logs/\" + datetime.datetime.now().strftime(\"%Y%m%d-%H%M%S\"))\n",
    "if not os.path.exists(log_dir):\n",
    "    os.makedirs(log_dir)\n",
    "\n",
    "checkpoint = tfk.callbacks.ModelCheckpoint(\n",
    "    filepath = log_dir + '/ckpt/',\n",
    "    save_freq ='epoch',\n",
    "    save_best_only=True,\n",
    "    monitor='val_accuracy'\n",
    ")\n",
    "\n",
    "tensorboard_callback = tf.keras.callbacks.TensorBoard(\n",
    "    log_dir=log_dir,\n",
    "    histogram_freq=0,\n",
    "    update_freq=100,\n",
    "    write_graph=False,\n",
    "    profile_batch = 0\n",
    ")\n",
    "\n",
    "class LRTensorBoard(tf.keras.callbacks.TensorBoard):\n",
    "    def __init__(self, log_dir, **kwargs):  # add other arguments to __init__ if you need\n",
    "        super().__init__(log_dir=log_dir, **kwargs)\n",
    "\n",
    "    def on_epoch_end(self, epoch, logs=None):\n",
    "        logs = logs or {}\n",
    "        lr_sched = getattr(self.model.optimizer, \"lr\", None)\n",
    "        logs.update({'lr': tf.keras.backend.get_value(lr_sched(tf.cast(self.model.optimizer.iterations, tf.float32)))})\n",
    "        super().on_epoch_end(epoch, logs)\n",
    "\n",
    "lr_tensorboard_callback = LRTensorBoard(log_dir=log_dir)\n",
    "        \n",
    "#tqdm_callback = tfa.callbacks.TQDMCallback()"
   ]
  },
  {
   "cell_type": "code",
   "execution_count": 10,
   "metadata": {},
   "outputs": [],
   "source": [
    "lr_schedule = tfa.optimizers.ExponentialCyclicalLearningRate(\n",
    "    initial_learning_rate=1e-6,\n",
    "    maximal_learning_rate=1e-3,\n",
    "    step_size=2*train_generator.n//batch_size\n",
    ")\n",
    "\n",
    "model.compile(optimizer=tfk.optimizers.Adam(learning_rate=1e-4),\n",
    "              loss=tfk.losses.CategoricalCrossentropy(label_smoothing=0.1),\n",
    "              metrics=['accuracy'])"
   ]
  },
  {
   "cell_type": "code",
   "execution_count": 41,
   "metadata": {},
   "outputs": [
    {
     "name": "stdout",
     "output_type": "stream",
     "text": [
      "Epoch 102/200\n",
      "200/200 [==============================] - 217s 1s/step - loss: 1.4146 - accuracy: 0.7529 - val_loss: 1.5699 - val_accuracy: 0.7234 - lr: 3.0000e-05\n",
      "Epoch 103/200\n",
      "200/200 [==============================] - 217s 1s/step - loss: 1.4157 - accuracy: 0.7562 - val_loss: 1.5638 - val_accuracy: 0.7172 - lr: 3.0000e-05\n",
      "Epoch 104/200\n",
      "200/200 [==============================] - 218s 1s/step - loss: 1.4009 - accuracy: 0.7575 - val_loss: 1.5379 - val_accuracy: 0.7352 - lr: 3.0000e-05\n",
      "Epoch 105/200\n",
      "200/200 [==============================] - 218s 1s/step - loss: 1.3954 - accuracy: 0.7582 - val_loss: 1.5394 - val_accuracy: 0.7258 - lr: 3.0000e-05\n",
      "Epoch 106/200\n",
      "200/200 [==============================] - 218s 1s/step - loss: 1.4129 - accuracy: 0.7518 - val_loss: 1.5913 - val_accuracy: 0.7242 - lr: 3.0000e-05\n",
      "Epoch 107/200\n",
      "200/200 [==============================] - 218s 1s/step - loss: 1.4142 - accuracy: 0.7515 - val_loss: 1.5509 - val_accuracy: 0.7250 - lr: 3.0000e-05\n",
      "Epoch 108/200\n",
      "200/200 [==============================] - 217s 1s/step - loss: 1.4081 - accuracy: 0.7538 - val_loss: 1.5509 - val_accuracy: 0.7320 - lr: 3.0000e-05\n",
      "Epoch 109/200\n",
      "200/200 [==============================] - 218s 1s/step - loss: 1.4169 - accuracy: 0.7535 - val_loss: 1.4923 - val_accuracy: 0.7312 - lr: 3.0000e-05\n",
      "Epoch 110/200\n",
      "200/200 [==============================] - 217s 1s/step - loss: 1.4164 - accuracy: 0.7528 - val_loss: 1.5328 - val_accuracy: 0.7328 - lr: 3.0000e-05\n",
      "Epoch 111/200\n",
      "200/200 [==============================] - 218s 1s/step - loss: 1.4114 - accuracy: 0.7561 - val_loss: 1.5605 - val_accuracy: 0.7109 - lr: 3.0000e-05\n",
      "Epoch 112/200\n",
      "200/200 [==============================] - 218s 1s/step - loss: 1.3940 - accuracy: 0.7595 - val_loss: 1.4894 - val_accuracy: 0.7437 - lr: 3.0000e-05\n",
      "Epoch 113/200\n",
      "200/200 [==============================] - 218s 1s/step - loss: 1.4047 - accuracy: 0.7554 - val_loss: 1.5235 - val_accuracy: 0.7234 - lr: 3.0000e-05\n",
      "Epoch 114/200\n",
      "200/200 [==============================] - 218s 1s/step - loss: 1.4174 - accuracy: 0.7538 - val_loss: 1.5172 - val_accuracy: 0.7398 - lr: 3.0000e-05\n",
      "Epoch 115/200\n",
      "200/200 [==============================] - 218s 1s/step - loss: 1.4078 - accuracy: 0.7565 - val_loss: 1.5827 - val_accuracy: 0.7109 - lr: 3.0000e-05\n",
      "Epoch 116/200\n",
      "200/200 [==============================] - 218s 1s/step - loss: 1.4013 - accuracy: 0.7609 - val_loss: 1.5510 - val_accuracy: 0.7227 - lr: 3.0000e-05\n",
      "Epoch 117/200\n",
      "200/200 [==============================] - 218s 1s/step - loss: 1.4112 - accuracy: 0.7555 - val_loss: 1.4748 - val_accuracy: 0.7406 - lr: 3.0000e-05\n",
      "Epoch 118/200\n",
      "200/200 [==============================] - 218s 1s/step - loss: 1.4298 - accuracy: 0.7491 - val_loss: 1.5266 - val_accuracy: 0.7367 - lr: 3.0000e-05\n",
      "Epoch 119/200\n",
      "200/200 [==============================] - 218s 1s/step - loss: 1.3970 - accuracy: 0.7565 - val_loss: 1.5478 - val_accuracy: 0.7234 - lr: 3.0000e-05\n",
      "Epoch 120/200\n",
      "200/200 [==============================] - 218s 1s/step - loss: 1.4189 - accuracy: 0.7515 - val_loss: 1.5550 - val_accuracy: 0.7195 - lr: 3.0000e-05\n",
      "Epoch 121/200\n",
      "200/200 [==============================] - 218s 1s/step - loss: 1.4011 - accuracy: 0.7534 - val_loss: 1.5655 - val_accuracy: 0.7086 - lr: 3.0000e-05\n",
      "Epoch 122/200\n",
      "200/200 [==============================] - 218s 1s/step - loss: 1.4145 - accuracy: 0.7477 - val_loss: 1.5450 - val_accuracy: 0.7180 - lr: 3.0000e-05\n",
      "Epoch 123/200\n",
      "200/200 [==============================] - 218s 1s/step - loss: 1.4133 - accuracy: 0.7507 - val_loss: 1.5901 - val_accuracy: 0.7125 - lr: 9.0000e-06\n",
      "Epoch 124/200\n",
      "200/200 [==============================] - 218s 1s/step - loss: 1.4167 - accuracy: 0.7526 - val_loss: 1.5426 - val_accuracy: 0.7289 - lr: 9.0000e-06\n",
      "Epoch 125/200\n",
      " 26/200 [==>...........................] - ETA: 2:50 - loss: 1.3892 - accuracy: 0.7578"
     ]
    },
    {
     "ename": "KeyboardInterrupt",
     "evalue": "",
     "output_type": "error",
     "traceback": [
      "\u001b[1;31m---------------------------------------------------------------------------\u001b[0m",
      "\u001b[1;31mKeyboardInterrupt\u001b[0m                         Traceback (most recent call last)",
      "\u001b[1;32m<ipython-input-41-057586ca7410>\u001b[0m in \u001b[0;36m<module>\u001b[1;34m\u001b[0m\n\u001b[0;32m      9\u001b[0m                                \u001b[0mearly_stop\u001b[0m\u001b[1;33m,\u001b[0m\u001b[1;33m\u001b[0m\u001b[1;33m\u001b[0m\u001b[0m\n\u001b[0;32m     10\u001b[0m                                \u001b[1;31m#checkpoint,\u001b[0m\u001b[1;33m\u001b[0m\u001b[1;33m\u001b[0m\u001b[1;33m\u001b[0m\u001b[0m\n\u001b[1;32m---> 11\u001b[1;33m                                \u001b[0mtensorboard_callback\u001b[0m\u001b[1;33m,\u001b[0m\u001b[1;33m\u001b[0m\u001b[1;33m\u001b[0m\u001b[0m\n\u001b[0m\u001b[0;32m     12\u001b[0m                                \u001b[1;31m#lr_tensorboard_callback,\u001b[0m\u001b[1;33m\u001b[0m\u001b[1;33m\u001b[0m\u001b[1;33m\u001b[0m\u001b[0m\n\u001b[0;32m     13\u001b[0m                                \u001b[1;31m#tqdm_callback\u001b[0m\u001b[1;33m\u001b[0m\u001b[1;33m\u001b[0m\u001b[1;33m\u001b[0m\u001b[0m\n",
      "\u001b[1;32mc:\\users\\franz cesista\\appdata\\local\\programs\\python\\python36\\lib\\site-packages\\tensorflow\\python\\keras\\engine\\training.py\u001b[0m in \u001b[0;36m_method_wrapper\u001b[1;34m(self, *args, **kwargs)\u001b[0m\n\u001b[0;32m     64\u001b[0m   \u001b[1;32mdef\u001b[0m \u001b[0m_method_wrapper\u001b[0m\u001b[1;33m(\u001b[0m\u001b[0mself\u001b[0m\u001b[1;33m,\u001b[0m \u001b[1;33m*\u001b[0m\u001b[0margs\u001b[0m\u001b[1;33m,\u001b[0m \u001b[1;33m**\u001b[0m\u001b[0mkwargs\u001b[0m\u001b[1;33m)\u001b[0m\u001b[1;33m:\u001b[0m\u001b[1;33m\u001b[0m\u001b[1;33m\u001b[0m\u001b[0m\n\u001b[0;32m     65\u001b[0m     \u001b[1;32mif\u001b[0m \u001b[1;32mnot\u001b[0m \u001b[0mself\u001b[0m\u001b[1;33m.\u001b[0m\u001b[0m_in_multi_worker_mode\u001b[0m\u001b[1;33m(\u001b[0m\u001b[1;33m)\u001b[0m\u001b[1;33m:\u001b[0m  \u001b[1;31m# pylint: disable=protected-access\u001b[0m\u001b[1;33m\u001b[0m\u001b[1;33m\u001b[0m\u001b[0m\n\u001b[1;32m---> 66\u001b[1;33m       \u001b[1;32mreturn\u001b[0m \u001b[0mmethod\u001b[0m\u001b[1;33m(\u001b[0m\u001b[0mself\u001b[0m\u001b[1;33m,\u001b[0m \u001b[1;33m*\u001b[0m\u001b[0margs\u001b[0m\u001b[1;33m,\u001b[0m \u001b[1;33m**\u001b[0m\u001b[0mkwargs\u001b[0m\u001b[1;33m)\u001b[0m\u001b[1;33m\u001b[0m\u001b[1;33m\u001b[0m\u001b[0m\n\u001b[0m\u001b[0;32m     67\u001b[0m \u001b[1;33m\u001b[0m\u001b[0m\n\u001b[0;32m     68\u001b[0m     \u001b[1;31m# Running inside `run_distribute_coordinator` already.\u001b[0m\u001b[1;33m\u001b[0m\u001b[1;33m\u001b[0m\u001b[1;33m\u001b[0m\u001b[0m\n",
      "\u001b[1;32mc:\\users\\franz cesista\\appdata\\local\\programs\\python\\python36\\lib\\site-packages\\tensorflow\\python\\keras\\engine\\training.py\u001b[0m in \u001b[0;36mfit\u001b[1;34m(self, x, y, batch_size, epochs, verbose, callbacks, validation_split, validation_data, shuffle, class_weight, sample_weight, initial_epoch, steps_per_epoch, validation_steps, validation_batch_size, validation_freq, max_queue_size, workers, use_multiprocessing)\u001b[0m\n\u001b[0;32m    846\u001b[0m                 batch_size=batch_size):\n\u001b[0;32m    847\u001b[0m               \u001b[0mcallbacks\u001b[0m\u001b[1;33m.\u001b[0m\u001b[0mon_train_batch_begin\u001b[0m\u001b[1;33m(\u001b[0m\u001b[0mstep\u001b[0m\u001b[1;33m)\u001b[0m\u001b[1;33m\u001b[0m\u001b[1;33m\u001b[0m\u001b[0m\n\u001b[1;32m--> 848\u001b[1;33m               \u001b[0mtmp_logs\u001b[0m \u001b[1;33m=\u001b[0m \u001b[0mtrain_function\u001b[0m\u001b[1;33m(\u001b[0m\u001b[0miterator\u001b[0m\u001b[1;33m)\u001b[0m\u001b[1;33m\u001b[0m\u001b[1;33m\u001b[0m\u001b[0m\n\u001b[0m\u001b[0;32m    849\u001b[0m               \u001b[1;31m# Catch OutOfRangeError for Datasets of unknown size.\u001b[0m\u001b[1;33m\u001b[0m\u001b[1;33m\u001b[0m\u001b[1;33m\u001b[0m\u001b[0m\n\u001b[0;32m    850\u001b[0m               \u001b[1;31m# This blocks until the batch has finished executing.\u001b[0m\u001b[1;33m\u001b[0m\u001b[1;33m\u001b[0m\u001b[1;33m\u001b[0m\u001b[0m\n",
      "\u001b[1;32mc:\\users\\franz cesista\\appdata\\local\\programs\\python\\python36\\lib\\site-packages\\tensorflow\\python\\eager\\def_function.py\u001b[0m in \u001b[0;36m__call__\u001b[1;34m(self, *args, **kwds)\u001b[0m\n\u001b[0;32m    578\u001b[0m         \u001b[0mxla_context\u001b[0m\u001b[1;33m.\u001b[0m\u001b[0mExit\u001b[0m\u001b[1;33m(\u001b[0m\u001b[1;33m)\u001b[0m\u001b[1;33m\u001b[0m\u001b[1;33m\u001b[0m\u001b[0m\n\u001b[0;32m    579\u001b[0m     \u001b[1;32melse\u001b[0m\u001b[1;33m:\u001b[0m\u001b[1;33m\u001b[0m\u001b[1;33m\u001b[0m\u001b[0m\n\u001b[1;32m--> 580\u001b[1;33m       \u001b[0mresult\u001b[0m \u001b[1;33m=\u001b[0m \u001b[0mself\u001b[0m\u001b[1;33m.\u001b[0m\u001b[0m_call\u001b[0m\u001b[1;33m(\u001b[0m\u001b[1;33m*\u001b[0m\u001b[0margs\u001b[0m\u001b[1;33m,\u001b[0m \u001b[1;33m**\u001b[0m\u001b[0mkwds\u001b[0m\u001b[1;33m)\u001b[0m\u001b[1;33m\u001b[0m\u001b[1;33m\u001b[0m\u001b[0m\n\u001b[0m\u001b[0;32m    581\u001b[0m \u001b[1;33m\u001b[0m\u001b[0m\n\u001b[0;32m    582\u001b[0m     \u001b[1;32mif\u001b[0m \u001b[0mtracing_count\u001b[0m \u001b[1;33m==\u001b[0m \u001b[0mself\u001b[0m\u001b[1;33m.\u001b[0m\u001b[0m_get_tracing_count\u001b[0m\u001b[1;33m(\u001b[0m\u001b[1;33m)\u001b[0m\u001b[1;33m:\u001b[0m\u001b[1;33m\u001b[0m\u001b[1;33m\u001b[0m\u001b[0m\n",
      "\u001b[1;32mc:\\users\\franz cesista\\appdata\\local\\programs\\python\\python36\\lib\\site-packages\\tensorflow\\python\\eager\\def_function.py\u001b[0m in \u001b[0;36m_call\u001b[1;34m(self, *args, **kwds)\u001b[0m\n\u001b[0;32m    609\u001b[0m       \u001b[1;31m# In this case we have created variables on the first call, so we run the\u001b[0m\u001b[1;33m\u001b[0m\u001b[1;33m\u001b[0m\u001b[1;33m\u001b[0m\u001b[0m\n\u001b[0;32m    610\u001b[0m       \u001b[1;31m# defunned version which is guaranteed to never create variables.\u001b[0m\u001b[1;33m\u001b[0m\u001b[1;33m\u001b[0m\u001b[1;33m\u001b[0m\u001b[0m\n\u001b[1;32m--> 611\u001b[1;33m       \u001b[1;32mreturn\u001b[0m \u001b[0mself\u001b[0m\u001b[1;33m.\u001b[0m\u001b[0m_stateless_fn\u001b[0m\u001b[1;33m(\u001b[0m\u001b[1;33m*\u001b[0m\u001b[0margs\u001b[0m\u001b[1;33m,\u001b[0m \u001b[1;33m**\u001b[0m\u001b[0mkwds\u001b[0m\u001b[1;33m)\u001b[0m  \u001b[1;31m# pylint: disable=not-callable\u001b[0m\u001b[1;33m\u001b[0m\u001b[1;33m\u001b[0m\u001b[0m\n\u001b[0m\u001b[0;32m    612\u001b[0m     \u001b[1;32melif\u001b[0m \u001b[0mself\u001b[0m\u001b[1;33m.\u001b[0m\u001b[0m_stateful_fn\u001b[0m \u001b[1;32mis\u001b[0m \u001b[1;32mnot\u001b[0m \u001b[1;32mNone\u001b[0m\u001b[1;33m:\u001b[0m\u001b[1;33m\u001b[0m\u001b[1;33m\u001b[0m\u001b[0m\n\u001b[0;32m    613\u001b[0m       \u001b[1;31m# Release the lock early so that multiple threads can perform the call\u001b[0m\u001b[1;33m\u001b[0m\u001b[1;33m\u001b[0m\u001b[1;33m\u001b[0m\u001b[0m\n",
      "\u001b[1;32mc:\\users\\franz cesista\\appdata\\local\\programs\\python\\python36\\lib\\site-packages\\tensorflow\\python\\eager\\function.py\u001b[0m in \u001b[0;36m__call__\u001b[1;34m(self, *args, **kwargs)\u001b[0m\n\u001b[0;32m   2418\u001b[0m     \u001b[1;32mwith\u001b[0m \u001b[0mself\u001b[0m\u001b[1;33m.\u001b[0m\u001b[0m_lock\u001b[0m\u001b[1;33m:\u001b[0m\u001b[1;33m\u001b[0m\u001b[1;33m\u001b[0m\u001b[0m\n\u001b[0;32m   2419\u001b[0m       \u001b[0mgraph_function\u001b[0m\u001b[1;33m,\u001b[0m \u001b[0margs\u001b[0m\u001b[1;33m,\u001b[0m \u001b[0mkwargs\u001b[0m \u001b[1;33m=\u001b[0m \u001b[0mself\u001b[0m\u001b[1;33m.\u001b[0m\u001b[0m_maybe_define_function\u001b[0m\u001b[1;33m(\u001b[0m\u001b[0margs\u001b[0m\u001b[1;33m,\u001b[0m \u001b[0mkwargs\u001b[0m\u001b[1;33m)\u001b[0m\u001b[1;33m\u001b[0m\u001b[1;33m\u001b[0m\u001b[0m\n\u001b[1;32m-> 2420\u001b[1;33m     \u001b[1;32mreturn\u001b[0m \u001b[0mgraph_function\u001b[0m\u001b[1;33m.\u001b[0m\u001b[0m_filtered_call\u001b[0m\u001b[1;33m(\u001b[0m\u001b[0margs\u001b[0m\u001b[1;33m,\u001b[0m \u001b[0mkwargs\u001b[0m\u001b[1;33m)\u001b[0m  \u001b[1;31m# pylint: disable=protected-access\u001b[0m\u001b[1;33m\u001b[0m\u001b[1;33m\u001b[0m\u001b[0m\n\u001b[0m\u001b[0;32m   2421\u001b[0m \u001b[1;33m\u001b[0m\u001b[0m\n\u001b[0;32m   2422\u001b[0m   \u001b[1;33m@\u001b[0m\u001b[0mproperty\u001b[0m\u001b[1;33m\u001b[0m\u001b[1;33m\u001b[0m\u001b[0m\n",
      "\u001b[1;32mc:\\users\\franz cesista\\appdata\\local\\programs\\python\\python36\\lib\\site-packages\\tensorflow\\python\\eager\\function.py\u001b[0m in \u001b[0;36m_filtered_call\u001b[1;34m(self, args, kwargs)\u001b[0m\n\u001b[0;32m   1663\u001b[0m          if isinstance(t, (ops.Tensor,\n\u001b[0;32m   1664\u001b[0m                            resource_variable_ops.BaseResourceVariable))),\n\u001b[1;32m-> 1665\u001b[1;33m         self.captured_inputs)\n\u001b[0m\u001b[0;32m   1666\u001b[0m \u001b[1;33m\u001b[0m\u001b[0m\n\u001b[0;32m   1667\u001b[0m   \u001b[1;32mdef\u001b[0m \u001b[0m_call_flat\u001b[0m\u001b[1;33m(\u001b[0m\u001b[0mself\u001b[0m\u001b[1;33m,\u001b[0m \u001b[0margs\u001b[0m\u001b[1;33m,\u001b[0m \u001b[0mcaptured_inputs\u001b[0m\u001b[1;33m,\u001b[0m \u001b[0mcancellation_manager\u001b[0m\u001b[1;33m=\u001b[0m\u001b[1;32mNone\u001b[0m\u001b[1;33m)\u001b[0m\u001b[1;33m:\u001b[0m\u001b[1;33m\u001b[0m\u001b[1;33m\u001b[0m\u001b[0m\n",
      "\u001b[1;32mc:\\users\\franz cesista\\appdata\\local\\programs\\python\\python36\\lib\\site-packages\\tensorflow\\python\\eager\\function.py\u001b[0m in \u001b[0;36m_call_flat\u001b[1;34m(self, args, captured_inputs, cancellation_manager)\u001b[0m\n\u001b[0;32m   1744\u001b[0m       \u001b[1;31m# No tape is watching; skip to running the function.\u001b[0m\u001b[1;33m\u001b[0m\u001b[1;33m\u001b[0m\u001b[1;33m\u001b[0m\u001b[0m\n\u001b[0;32m   1745\u001b[0m       return self._build_call_outputs(self._inference_function.call(\n\u001b[1;32m-> 1746\u001b[1;33m           ctx, args, cancellation_manager=cancellation_manager))\n\u001b[0m\u001b[0;32m   1747\u001b[0m     forward_backward = self._select_forward_and_backward_functions(\n\u001b[0;32m   1748\u001b[0m         \u001b[0margs\u001b[0m\u001b[1;33m,\u001b[0m\u001b[1;33m\u001b[0m\u001b[1;33m\u001b[0m\u001b[0m\n",
      "\u001b[1;32mc:\\users\\franz cesista\\appdata\\local\\programs\\python\\python36\\lib\\site-packages\\tensorflow\\python\\eager\\function.py\u001b[0m in \u001b[0;36mcall\u001b[1;34m(self, ctx, args, cancellation_manager)\u001b[0m\n\u001b[0;32m    596\u001b[0m               \u001b[0minputs\u001b[0m\u001b[1;33m=\u001b[0m\u001b[0margs\u001b[0m\u001b[1;33m,\u001b[0m\u001b[1;33m\u001b[0m\u001b[1;33m\u001b[0m\u001b[0m\n\u001b[0;32m    597\u001b[0m               \u001b[0mattrs\u001b[0m\u001b[1;33m=\u001b[0m\u001b[0mattrs\u001b[0m\u001b[1;33m,\u001b[0m\u001b[1;33m\u001b[0m\u001b[1;33m\u001b[0m\u001b[0m\n\u001b[1;32m--> 598\u001b[1;33m               ctx=ctx)\n\u001b[0m\u001b[0;32m    599\u001b[0m         \u001b[1;32melse\u001b[0m\u001b[1;33m:\u001b[0m\u001b[1;33m\u001b[0m\u001b[1;33m\u001b[0m\u001b[0m\n\u001b[0;32m    600\u001b[0m           outputs = execute.execute_with_cancellation(\n",
      "\u001b[1;32mc:\\users\\franz cesista\\appdata\\local\\programs\\python\\python36\\lib\\site-packages\\tensorflow\\python\\eager\\execute.py\u001b[0m in \u001b[0;36mquick_execute\u001b[1;34m(op_name, num_outputs, inputs, attrs, ctx, name)\u001b[0m\n\u001b[0;32m     58\u001b[0m     \u001b[0mctx\u001b[0m\u001b[1;33m.\u001b[0m\u001b[0mensure_initialized\u001b[0m\u001b[1;33m(\u001b[0m\u001b[1;33m)\u001b[0m\u001b[1;33m\u001b[0m\u001b[1;33m\u001b[0m\u001b[0m\n\u001b[0;32m     59\u001b[0m     tensors = pywrap_tfe.TFE_Py_Execute(ctx._handle, device_name, op_name,\n\u001b[1;32m---> 60\u001b[1;33m                                         inputs, attrs, num_outputs)\n\u001b[0m\u001b[0;32m     61\u001b[0m   \u001b[1;32mexcept\u001b[0m \u001b[0mcore\u001b[0m\u001b[1;33m.\u001b[0m\u001b[0m_NotOkStatusException\u001b[0m \u001b[1;32mas\u001b[0m \u001b[0me\u001b[0m\u001b[1;33m:\u001b[0m\u001b[1;33m\u001b[0m\u001b[1;33m\u001b[0m\u001b[0m\n\u001b[0;32m     62\u001b[0m     \u001b[1;32mif\u001b[0m \u001b[0mname\u001b[0m \u001b[1;32mis\u001b[0m \u001b[1;32mnot\u001b[0m \u001b[1;32mNone\u001b[0m\u001b[1;33m:\u001b[0m\u001b[1;33m\u001b[0m\u001b[1;33m\u001b[0m\u001b[0m\n",
      "\u001b[1;31mKeyboardInterrupt\u001b[0m: "
     ]
    }
   ],
   "source": [
    "history = model.fit(train_generator,\n",
    "                    initial_epoch=101,\n",
    "                    epochs=200,\n",
    "                    steps_per_epoch=200,\n",
    "                    validation_steps=20,\n",
    "                    validation_data=val_generator,\n",
    "                    class_weight=class_weights,\n",
    "                    callbacks=[reduce_lr,\n",
    "                               early_stop, \n",
    "                               #checkpoint, \n",
    "                               tensorboard_callback,\n",
    "                               #lr_tensorboard_callback,\n",
    "                               #tqdm_callback\n",
    "                              ]\n",
    "                   )"
   ]
  },
  {
   "cell_type": "code",
   "execution_count": 42,
   "metadata": {},
   "outputs": [],
   "source": [
    "model.save('model_aug_full_4.h5')"
   ]
  },
  {
   "cell_type": "markdown",
   "metadata": {},
   "source": [
    "## Testing"
   ]
  },
  {
   "cell_type": "code",
   "execution_count": 43,
   "metadata": {},
   "outputs": [],
   "source": [
    "# model = tfk.models.load_model('model_clean_3.h5')"
   ]
  },
  {
   "cell_type": "code",
   "execution_count": 44,
   "metadata": {},
   "outputs": [
    {
     "name": "stdout",
     "output_type": "stream",
     "text": [
      "Found 105392 validated image filenames belonging to 42 classes.\n"
     ]
    }
   ],
   "source": [
    "clean_datagen = tfk_ImageDataGenerator(\n",
    "    preprocessing_function=tfk_preprocess_input,\n",
    ")\n",
    "\n",
    "clean_generator = clean_datagen.flow_from_dataframe(\n",
    "    pd_train,\n",
    "    directory='shopee-product-detection-dataset/train/',\n",
    "    x_col='dir_filename',\n",
    "    y_col='category',\n",
    "    target_size=input_shape[:2],\n",
    "    color_mode='rgb',\n",
    "    batch_size=batch_size,\n",
    "    class_mode='categorical',\n",
    "    shuffle=True,\n",
    ")"
   ]
  },
  {
   "cell_type": "code",
   "execution_count": 45,
   "metadata": {},
   "outputs": [
    {
     "name": "stdout",
     "output_type": "stream",
     "text": [
      "step: 10\n",
      "step: 20\n",
      "step: 30\n",
      "step: 40\n",
      "step: 50\n",
      "Wall time: 50.4 s\n"
     ]
    }
   ],
   "source": [
    "%%time\n",
    "y_pred = []\n",
    "y_true = []\n",
    "\n",
    "for i in range(50):\n",
    "    if (i+1) % 10 == 0:\n",
    "        print(\"step:\", i+1)\n",
    "    x, y = next(iter(clean_generator))\n",
    "    y_true.extend(y)\n",
    "    y_pred.extend(model.predict(x))\n",
    "\n",
    "y_pred = np.array(y_pred)\n",
    "y_true = np.array(y_true)"
   ]
  },
  {
   "cell_type": "code",
   "execution_count": 46,
   "metadata": {},
   "outputs": [],
   "source": [
    "matrix = confusion_matrix(y_true.argmax(axis=1), y_pred.argmax(axis=1))"
   ]
  },
  {
   "cell_type": "code",
   "execution_count": 47,
   "metadata": {},
   "outputs": [
    {
     "data": {
      "image/png": "[encoded data removed]",
      "text/plain": [
       "<Figure size 1152x648 with 2 Axes>"
      ]
     },
     "metadata": {},
     "output_type": "display_data"
    }
   ],
   "source": [
    "plt.figure(figsize = (16,9))\n",
    "sns.heatmap(matrix, linecolor='grey', linewidth=0.1)\n",
    "plt.savefig('confusion_matrix.png', \n",
    "            #transparent=True,\n",
    "            bbox_inches='tight')"
   ]
  },
  {
   "cell_type": "code",
   "execution_count": 48,
   "metadata": {},
   "outputs": [],
   "source": [
    "def label_smoother(x, alpha=0.1):\n",
    "    return (1 - alpha) * x + alpha / x.shape[1]"
   ]
  },
  {
   "cell_type": "code",
   "execution_count": 49,
   "metadata": {},
   "outputs": [
    {
     "name": "stdout",
     "output_type": "stream",
     "text": [
      "Loss: 1.7350804\n",
      "Accuracy: 0.8540625\n"
     ]
    }
   ],
   "source": [
    "loss     = tfk.losses.categorical_crossentropy(y_pred, label_smoother(y_true, alpha=0.1)).numpy().mean()\n",
    "accuracy = accuracy_score(y_pred.argmax(axis=1), y_true.argmax(axis=1))\n",
    "\n",
    "print(\"Loss:\", loss)\n",
    "print(\"Accuracy:\", accuracy)"
   ]
  },
  {
   "cell_type": "markdown",
   "metadata": {},
   "source": [
    "## Generate Submission"
   ]
  },
  {
   "cell_type": "code",
   "execution_count": 50,
   "metadata": {},
   "outputs": [
    {
     "data": {
      "text/html": [
       "<div>\n",
       "<style scoped>\n",
       "    .dataframe tbody tr th:only-of-type {\n",
       "        vertical-align: middle;\n",
       "    }\n",
       "\n",
       "    .dataframe tbody tr th {\n",
       "        vertical-align: top;\n",
       "    }\n",
       "\n",
       "    .dataframe thead th {\n",
       "        text-align: right;\n",
       "    }\n",
       "</style>\n",
       "<table border=\"1\" class=\"dataframe\">\n",
       "  <thead>\n",
       "    <tr style=\"text-align: right;\">\n",
       "      <th></th>\n",
       "      <th>filename</th>\n",
       "      <th>category</th>\n",
       "    </tr>\n",
       "  </thead>\n",
       "  <tbody>\n",
       "    <tr>\n",
       "      <th>0</th>\n",
       "      <td>fd663cf2b6e1d7b02938c6aaae0a32d2.jpg</td>\n",
       "      <td>43</td>\n",
       "    </tr>\n",
       "    <tr>\n",
       "      <th>1</th>\n",
       "      <td>c7fd77508a8c355eaab0d4e10efd6b15.jpg</td>\n",
       "      <td>43</td>\n",
       "    </tr>\n",
       "    <tr>\n",
       "      <th>2</th>\n",
       "      <td>127f3e6d6e3491b2459812353f33a913.jpg</td>\n",
       "      <td>43</td>\n",
       "    </tr>\n",
       "    <tr>\n",
       "      <th>3</th>\n",
       "      <td>5ca4f2da11eda083064e6c36f37eeb81.jpg</td>\n",
       "      <td>43</td>\n",
       "    </tr>\n",
       "    <tr>\n",
       "      <th>4</th>\n",
       "      <td>46d681a542f2c71be017eef6aae23313.jpg</td>\n",
       "      <td>43</td>\n",
       "    </tr>\n",
       "  </tbody>\n",
       "</table>\n",
       "</div>"
      ],
      "text/plain": [
       "                               filename  category\n",
       "0  fd663cf2b6e1d7b02938c6aaae0a32d2.jpg        43\n",
       "1  c7fd77508a8c355eaab0d4e10efd6b15.jpg        43\n",
       "2  127f3e6d6e3491b2459812353f33a913.jpg        43\n",
       "3  5ca4f2da11eda083064e6c36f37eeb81.jpg        43\n",
       "4  46d681a542f2c71be017eef6aae23313.jpg        43"
      ]
     },
     "execution_count": 50,
     "metadata": {},
     "output_type": "execute_result"
    }
   ],
   "source": [
    "pd_test = pd.read_csv('shopee-product-detection-dataset/test.csv')\n",
    "pd_test.head()"
   ]
  },
  {
   "cell_type": "code",
   "execution_count": 51,
   "metadata": {},
   "outputs": [
    {
     "name": "stdout",
     "output_type": "stream",
     "text": [
      "Found 12186 validated image filenames.\n"
     ]
    }
   ],
   "source": [
    "test_datagen = tfk_ImageDataGenerator(\n",
    "    preprocessing_function=tfk_preprocess_input\n",
    ")\n",
    "\n",
    "test_generator = test_datagen.flow_from_dataframe(\n",
    "    pd_test,\n",
    "    directory='shopee-product-detection-dataset/test/',\n",
    "    x_col='filename',\n",
    "    target_size=input_shape[:2],\n",
    "    color_mode='rgb',\n",
    "    batch_size=batch_size,\n",
    "    class_mode=None,\n",
    "    shuffle=False,\n",
    ")"
   ]
  },
  {
   "cell_type": "code",
   "execution_count": 52,
   "metadata": {},
   "outputs": [
    {
     "name": "stdout",
     "output_type": "stream",
     "text": [
      "191/191 [==============================] - 136s 711ms/step\n"
     ]
    }
   ],
   "source": [
    "y_pred = model.predict(test_generator, verbose=1, steps=test_generator.n//batch_size+1)\n",
    "y_pred = y_pred[:test_generator.n]"
   ]
  },
  {
   "cell_type": "code",
   "execution_count": 53,
   "metadata": {},
   "outputs": [
    {
     "data": {
      "text/html": [
       "<div>\n",
       "<style scoped>\n",
       "    .dataframe tbody tr th:only-of-type {\n",
       "        vertical-align: middle;\n",
       "    }\n",
       "\n",
       "    .dataframe tbody tr th {\n",
       "        vertical-align: top;\n",
       "    }\n",
       "\n",
       "    .dataframe thead th {\n",
       "        text-align: right;\n",
       "    }\n",
       "</style>\n",
       "<table border=\"1\" class=\"dataframe\">\n",
       "  <thead>\n",
       "    <tr style=\"text-align: right;\">\n",
       "      <th></th>\n",
       "      <th>filename</th>\n",
       "      <th>category</th>\n",
       "    </tr>\n",
       "  </thead>\n",
       "  <tbody>\n",
       "    <tr>\n",
       "      <th>0</th>\n",
       "      <td>fd663cf2b6e1d7b02938c6aaae0a32d2.jpg</td>\n",
       "      <td>20</td>\n",
       "    </tr>\n",
       "    <tr>\n",
       "      <th>1</th>\n",
       "      <td>c7fd77508a8c355eaab0d4e10efd6b15.jpg</td>\n",
       "      <td>27</td>\n",
       "    </tr>\n",
       "    <tr>\n",
       "      <th>2</th>\n",
       "      <td>127f3e6d6e3491b2459812353f33a913.jpg</td>\n",
       "      <td>04</td>\n",
       "    </tr>\n",
       "    <tr>\n",
       "      <th>3</th>\n",
       "      <td>5ca4f2da11eda083064e6c36f37eeb81.jpg</td>\n",
       "      <td>22</td>\n",
       "    </tr>\n",
       "    <tr>\n",
       "      <th>4</th>\n",
       "      <td>46d681a542f2c71be017eef6aae23313.jpg</td>\n",
       "      <td>12</td>\n",
       "    </tr>\n",
       "  </tbody>\n",
       "</table>\n",
       "</div>"
      ],
      "text/plain": [
       "                               filename category\n",
       "0  fd663cf2b6e1d7b02938c6aaae0a32d2.jpg       20\n",
       "1  c7fd77508a8c355eaab0d4e10efd6b15.jpg       27\n",
       "2  127f3e6d6e3491b2459812353f33a913.jpg       04\n",
       "3  5ca4f2da11eda083064e6c36f37eeb81.jpg       22\n",
       "4  46d681a542f2c71be017eef6aae23313.jpg       12"
      ]
     },
     "execution_count": 53,
     "metadata": {},
     "output_type": "execute_result"
    }
   ],
   "source": [
    "pd_submission = pd_test.copy()\n",
    "pd_submission['category'] = list(map(lambda x : '{:02d}'.format(x), y_pred.argmax(axis=1)))\n",
    "pd_submission.head()"
   ]
  },
  {
   "cell_type": "code",
   "execution_count": 54,
   "metadata": {},
   "outputs": [],
   "source": [
    "pd_submission.to_csv('submission_10.csv', index=False)"
   ]
  },
  {
   "cell_type": "code",
   "execution_count": null,
   "metadata": {},
   "outputs": [],
   "source": []
  },
  {
   "cell_type": "code",
   "execution_count": 59,
   "metadata": {},
   "outputs": [
    {
     "name": "stdout",
     "output_type": "stream",
     "text": [
      "240 12186 0.019694731659281144\n"
     ]
    },
    {
     "data": {
      "text/html": [
       "<div>\n",
       "<style scoped>\n",
       "    .dataframe tbody tr th:only-of-type {\n",
       "        vertical-align: middle;\n",
       "    }\n",
       "\n",
       "    .dataframe tbody tr th {\n",
       "        vertical-align: top;\n",
       "    }\n",
       "\n",
       "    .dataframe thead th {\n",
       "        text-align: right;\n",
       "    }\n",
       "</style>\n",
       "<table border=\"1\" class=\"dataframe\">\n",
       "  <thead>\n",
       "    <tr style=\"text-align: right;\">\n",
       "      <th></th>\n",
       "      <th>filename</th>\n",
       "      <th>category_9</th>\n",
       "      <th>category</th>\n",
       "    </tr>\n",
       "  </thead>\n",
       "  <tbody>\n",
       "    <tr>\n",
       "      <th>57</th>\n",
       "      <td>7fbe6dd0725f45bb33ff69c2e2a5b3f9.jpg</td>\n",
       "      <td>02</td>\n",
       "      <td>40</td>\n",
       "    </tr>\n",
       "    <tr>\n",
       "      <th>76</th>\n",
       "      <td>b0d4ab50e7b37235ae7f10bf7c889706.jpg</td>\n",
       "      <td>25</td>\n",
       "      <td>38</td>\n",
       "    </tr>\n",
       "    <tr>\n",
       "      <th>144</th>\n",
       "      <td>a346dfebd54ca98df578cca8b42e6c78.jpg</td>\n",
       "      <td>21</td>\n",
       "      <td>30</td>\n",
       "    </tr>\n",
       "    <tr>\n",
       "      <th>171</th>\n",
       "      <td>d9be3db716fe72bb6609e3f8d9975f7c.jpg</td>\n",
       "      <td>15</td>\n",
       "      <td>31</td>\n",
       "    </tr>\n",
       "    <tr>\n",
       "      <th>195</th>\n",
       "      <td>44dcb05b2c69a5e7c949fc2ea8b53535.jpg</td>\n",
       "      <td>03</td>\n",
       "      <td>02</td>\n",
       "    </tr>\n",
       "    <tr>\n",
       "      <th>255</th>\n",
       "      <td>adf93e1842c447d16450d6662d24c7ba.jpg</td>\n",
       "      <td>00</td>\n",
       "      <td>02</td>\n",
       "    </tr>\n",
       "    <tr>\n",
       "      <th>284</th>\n",
       "      <td>5dd9c97ce2c40ff4e9c1a543eb69be1d.jpg</td>\n",
       "      <td>19</td>\n",
       "      <td>35</td>\n",
       "    </tr>\n",
       "    <tr>\n",
       "      <th>300</th>\n",
       "      <td>8eaca4ab9a2b78af894f70c1f7a2efe7.jpg</td>\n",
       "      <td>15</td>\n",
       "      <td>40</td>\n",
       "    </tr>\n",
       "    <tr>\n",
       "      <th>316</th>\n",
       "      <td>588489cd8d68281e3789ce932c74a8dc.jpg</td>\n",
       "      <td>40</td>\n",
       "      <td>18</td>\n",
       "    </tr>\n",
       "    <tr>\n",
       "      <th>370</th>\n",
       "      <td>6891cff16d54a25eff9fd6df093177ce.jpg</td>\n",
       "      <td>20</td>\n",
       "      <td>41</td>\n",
       "    </tr>\n",
       "    <tr>\n",
       "      <th>415</th>\n",
       "      <td>7dea637087ae033d0b95c4242fd83844.jpg</td>\n",
       "      <td>20</td>\n",
       "      <td>36</td>\n",
       "    </tr>\n",
       "    <tr>\n",
       "      <th>457</th>\n",
       "      <td>07c30389558e2f52469044650cdbbe8c.jpg</td>\n",
       "      <td>36</td>\n",
       "      <td>13</td>\n",
       "    </tr>\n",
       "    <tr>\n",
       "      <th>479</th>\n",
       "      <td>0b0baf1a0e915b1ee9575fbb91fad853.jpg</td>\n",
       "      <td>19</td>\n",
       "      <td>10</td>\n",
       "    </tr>\n",
       "    <tr>\n",
       "      <th>488</th>\n",
       "      <td>d3d6d3b1ee5982851f2f72d145819ae7.jpg</td>\n",
       "      <td>41</td>\n",
       "      <td>12</td>\n",
       "    </tr>\n",
       "    <tr>\n",
       "      <th>645</th>\n",
       "      <td>17688fd0f41f734446b133844ff55c96.jpg</td>\n",
       "      <td>31</td>\n",
       "      <td>20</td>\n",
       "    </tr>\n",
       "    <tr>\n",
       "      <th>708</th>\n",
       "      <td>ecacec5a7df3e001d75e3d8590e52970.jpg</td>\n",
       "      <td>41</td>\n",
       "      <td>20</td>\n",
       "    </tr>\n",
       "    <tr>\n",
       "      <th>938</th>\n",
       "      <td>fdcd2271b3c8ff5f357b08380f7a0ec9.jpg</td>\n",
       "      <td>06</td>\n",
       "      <td>21</td>\n",
       "    </tr>\n",
       "    <tr>\n",
       "      <th>960</th>\n",
       "      <td>42257eb4d0c6cb4913f829f67590333c.jpg</td>\n",
       "      <td>39</td>\n",
       "      <td>20</td>\n",
       "    </tr>\n",
       "    <tr>\n",
       "      <th>1002</th>\n",
       "      <td>92d63d146882e3f36310dc9ec901cef7.jpg</td>\n",
       "      <td>13</td>\n",
       "      <td>38</td>\n",
       "    </tr>\n",
       "    <tr>\n",
       "      <th>1029</th>\n",
       "      <td>bb718bd5b031fd03cd63d8ddfaf45d9a.jpg</td>\n",
       "      <td>38</td>\n",
       "      <td>05</td>\n",
       "    </tr>\n",
       "  </tbody>\n",
       "</table>\n",
       "</div>"
      ],
      "text/plain": [
       "                                  filename category_9 category\n",
       "57    7fbe6dd0725f45bb33ff69c2e2a5b3f9.jpg         02       40\n",
       "76    b0d4ab50e7b37235ae7f10bf7c889706.jpg         25       38\n",
       "144   a346dfebd54ca98df578cca8b42e6c78.jpg         21       30\n",
       "171   d9be3db716fe72bb6609e3f8d9975f7c.jpg         15       31\n",
       "195   44dcb05b2c69a5e7c949fc2ea8b53535.jpg         03       02\n",
       "255   adf93e1842c447d16450d6662d24c7ba.jpg         00       02\n",
       "284   5dd9c97ce2c40ff4e9c1a543eb69be1d.jpg         19       35\n",
       "300   8eaca4ab9a2b78af894f70c1f7a2efe7.jpg         15       40\n",
       "316   588489cd8d68281e3789ce932c74a8dc.jpg         40       18\n",
       "370   6891cff16d54a25eff9fd6df093177ce.jpg         20       41\n",
       "415   7dea637087ae033d0b95c4242fd83844.jpg         20       36\n",
       "457   07c30389558e2f52469044650cdbbe8c.jpg         36       13\n",
       "479   0b0baf1a0e915b1ee9575fbb91fad853.jpg         19       10\n",
       "488   d3d6d3b1ee5982851f2f72d145819ae7.jpg         41       12\n",
       "645   17688fd0f41f734446b133844ff55c96.jpg         31       20\n",
       "708   ecacec5a7df3e001d75e3d8590e52970.jpg         41       20\n",
       "938   fdcd2271b3c8ff5f357b08380f7a0ec9.jpg         06       21\n",
       "960   42257eb4d0c6cb4913f829f67590333c.jpg         39       20\n",
       "1002  92d63d146882e3f36310dc9ec901cef7.jpg         13       38\n",
       "1029  bb718bd5b031fd03cd63d8ddfaf45d9a.jpg         38       05"
      ]
     },
     "execution_count": 59,
     "metadata": {},
     "output_type": "execute_result"
    }
   ],
   "source": [
    "now  = 10\n",
    "cat_now_name  = 'category_{}'.format(now)\n",
    "prev = 1\n",
    "cat_prev_name = 'category_{}'.format(prev)\n",
    "\n",
    "pd_submission_prev = pd.read_csv('submission_{}.csv'.format(prev))\n",
    "pd_submission_prev['category'] = pd_submission_prev['category'].apply(lambda x : '{:02d}'.format(x))\n",
    "pd_submission_prev.columns = ['filename', cat_prev_name]\n",
    "pd_submission_prev = pd_submission_prev.merge(pd_submission.sort_values(by='filename'), on='filename')\n",
    "pd_iba = pd_submission_prev[pd_submission_prev[cat_prev_name] != pd_submission_prev['category']]\n",
    "print(len(pd_iba), len(pd_submission_prev), len(pd_iba) / len(pd_submission_prev))\n",
    "pd_iba.head(20)"
   ]
  },
  {
   "cell_type": "code",
   "execution_count": 60,
   "metadata": {},
   "outputs": [],
   "source": [
    "pd_iba.to_csv(\"iba.csv\", index=False)"
   ]
  },
  {
   "cell_type": "code",
   "execution_count": 61,
   "metadata": {},
   "outputs": [
    {
     "data": {
      "image/png": "[encoded data removed]",
      "text/plain": [
       "<Figure size 1152x648 with 1 Axes>"
      ]
     },
     "metadata": {},
     "output_type": "display_data"
    }
   ],
   "source": [
    "plt.figure(figsize=(16, 9))\n",
    "plt.hist(pd_iba['category'].sort_values(), bins=np.arange(43)-0.5)\n",
    "plt.xlim(-1, 43)\n",
    "plt.show()"
   ]
  },
  {
   "cell_type": "code",
   "execution_count": null,
   "metadata": {},
   "outputs": [],
   "source": []
  }
 ],
 "metadata": {
  "kernelspec": {
   "display_name": "Python 3",
   "language": "python",
   "name": "python3"
  },
  "language_info": {
   "codemirror_mode": {
    "name": "ipython",
    "version": 3
   },
   "file_extension": ".py",
   "mimetype": "text/x-python",
   "name": "python",
   "nbconvert_exporter": "python",
   "pygments_lexer": "ipython3",
   "version": "3.6.8"
  }
 },
 "nbformat": 4,
 "nbformat_minor": 4
}
