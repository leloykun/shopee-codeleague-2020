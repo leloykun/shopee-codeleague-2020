{
 "cells": [
  {
   "cell_type": "code",
   "execution_count": 45,
   "metadata": {},
   "outputs": [],
   "source": [
    "import pandas as pd\n",
    "import numpy as np\n",
    "from PIL import Image\n",
    "import pytesseract\n",
    "import time"
   ]
  },
  {
   "cell_type": "code",
   "execution_count": 34,
   "metadata": {},
   "outputs": [],
   "source": [
    "pd_shopee_train = pd.read_csv('shopee-product-detection-dataset/train.csv')\n",
    "pd_shopee_test  = pd.read_csv('shopee-product-detection-dataset/test.csv')\n",
    "pd_confusing_images = pd.read_csv('shopee-product-detection-dataset/confusing_images_2__mistake_ratio=0.9.csv')\n",
    "pd_amazon_train = pd.read_csv('amazon-scraped-dataset/amazon.csv')\n",
    "pd_submission_10 = pd.read_csv('submission_10.csv')"
   ]
  },
  {
   "cell_type": "code",
   "execution_count": 35,
   "metadata": {},
   "outputs": [
    {
     "data": {
      "text/html": [
       "<div>\n",
       "<style scoped>\n",
       "    .dataframe tbody tr th:only-of-type {\n",
       "        vertical-align: middle;\n",
       "    }\n",
       "\n",
       "    .dataframe tbody tr th {\n",
       "        vertical-align: top;\n",
       "    }\n",
       "\n",
       "    .dataframe thead th {\n",
       "        text-align: right;\n",
       "    }\n",
       "</style>\n",
       "<table border=\"1\" class=\"dataframe\">\n",
       "  <thead>\n",
       "    <tr style=\"text-align: right;\">\n",
       "      <th></th>\n",
       "      <th>filename</th>\n",
       "      <th>category</th>\n",
       "    </tr>\n",
       "  </thead>\n",
       "  <tbody>\n",
       "    <tr>\n",
       "      <th>0</th>\n",
       "      <td>fd663cf2b6e1d7b02938c6aaae0a32d2.jpg</td>\n",
       "      <td>20</td>\n",
       "    </tr>\n",
       "    <tr>\n",
       "      <th>1</th>\n",
       "      <td>c7fd77508a8c355eaab0d4e10efd6b15.jpg</td>\n",
       "      <td>27</td>\n",
       "    </tr>\n",
       "    <tr>\n",
       "      <th>2</th>\n",
       "      <td>127f3e6d6e3491b2459812353f33a913.jpg</td>\n",
       "      <td>4</td>\n",
       "    </tr>\n",
       "    <tr>\n",
       "      <th>3</th>\n",
       "      <td>5ca4f2da11eda083064e6c36f37eeb81.jpg</td>\n",
       "      <td>22</td>\n",
       "    </tr>\n",
       "    <tr>\n",
       "      <th>4</th>\n",
       "      <td>46d681a542f2c71be017eef6aae23313.jpg</td>\n",
       "      <td>12</td>\n",
       "    </tr>\n",
       "  </tbody>\n",
       "</table>\n",
       "</div>"
      ],
      "text/plain": [
       "                               filename  category\n",
       "0  fd663cf2b6e1d7b02938c6aaae0a32d2.jpg        20\n",
       "1  c7fd77508a8c355eaab0d4e10efd6b15.jpg        27\n",
       "2  127f3e6d6e3491b2459812353f33a913.jpg         4\n",
       "3  5ca4f2da11eda083064e6c36f37eeb81.jpg        22\n",
       "4  46d681a542f2c71be017eef6aae23313.jpg        12"
      ]
     },
     "execution_count": 35,
     "metadata": {},
     "output_type": "execute_result"
    }
   ],
   "source": [
    "pd_submission_10.head()"
   ]
  },
  {
   "cell_type": "code",
   "execution_count": 48,
   "metadata": {},
   "outputs": [
    {
     "name": "stdout",
     "output_type": "stream",
     "text": [
      "100 168.84801721572876\n",
      "200 179.814195394516\n",
      "300 178.74994158744812\n",
      "400 178.4248411655426\n",
      "500 162.28915357589722\n",
      "600 172.11275434494019\n",
      "700 167.87884092330933\n",
      "800 170.6834568977356\n",
      "900 167.6833837032318\n",
      "1000 175.239737033844\n",
      "1100 160.16077518463135\n",
      "1200 171.7784116268158\n",
      "1300 172.92248940467834\n",
      "1400 180.80418276786804\n",
      "1500 200.6661524772644\n",
      "1600 177.60074496269226\n",
      "1700 172.1901068687439\n",
      "1800 182.48354268074036\n",
      "1900 182.67855024337769\n",
      "2000 195.58446073532104\n",
      "2100 172.6794135570526\n",
      "2200 179.4199948310852\n",
      "2300 183.98020577430725\n",
      "2400 183.11200785636902\n",
      "2500 176.3161506652832\n",
      "2600 185.80142068862915\n",
      "2700 178.06368947029114\n",
      "2800 172.58042860031128\n",
      "2900 171.76925253868103\n",
      "3000 160.51567888259888\n",
      "3100 168.05997610092163\n",
      "3200 173.57282829284668\n",
      "3300 169.11182355880737\n",
      "3400 168.96538138389587\n",
      "3500 167.73992657661438\n",
      "3600 164.66473126411438\n",
      "3700 164.99964308738708\n",
      "3800 172.77850246429443\n",
      "3900 192.49719548225403\n",
      "4000 171.99711847305298\n",
      "4100 154.1619734764099\n",
      "4200 177.89733600616455\n",
      "4300 168.1593074798584\n",
      "4400 169.06929445266724\n",
      "4500 183.2451775074005\n",
      "4600 169.8148593902588\n",
      "4700 180.30963325500488\n",
      "4800 179.09625935554504\n",
      "4900 178.9426794052124\n",
      "5000 177.50698924064636\n",
      "5100 187.06838011741638\n",
      "5200 179.5873749256134\n",
      "5300 161.74529910087585\n",
      "5400 168.2317817211151\n",
      "5500 166.21594738960266\n",
      "5600 161.2529797554016\n",
      "5700 180.38553285598755\n",
      "5800 172.40177822113037\n",
      "5900 181.33032536506653\n",
      "6000 168.2637209892273\n",
      "6100 176.900634765625\n",
      "6200 175.03807163238525\n",
      "6300 180.63993191719055\n",
      "6400 171.27313542366028\n",
      "6500 167.94038605690002\n",
      "6600 177.53663897514343\n",
      "6700 196.665461063385\n",
      "6800 232.68645071983337\n",
      "6900 195.6608054637909\n",
      "7000 188.4596242904663\n",
      "7100 187.3064820766449\n",
      "7200 192.80883598327637\n",
      "7300 173.07986879348755\n",
      "7400 182.27199506759644\n",
      "7500 187.6707820892334\n",
      "7600 163.40096473693848\n",
      "7700 168.859233379364\n",
      "7800 179.2998526096344\n",
      "7900 161.9821629524231\n",
      "8000 163.1976010799408\n",
      "8100 162.61713862419128\n",
      "8200 171.63482069969177\n",
      "8300 158.0495936870575\n",
      "8400 176.58158540725708\n",
      "8500 166.87049293518066\n",
      "8600 165.60863089561462\n",
      "8700 162.53138279914856\n",
      "8800 158.58549165725708\n",
      "8900 166.03135991096497\n",
      "9000 164.39708805084229\n",
      "9100 161.4671926498413\n",
      "9200 155.98886370658875\n",
      "9300 167.717050075531\n",
      "9400 162.57496619224548\n",
      "9500 164.19318675994873\n",
      "9600 181.25606513023376\n",
      "9700 161.43261218070984\n",
      "9800 157.91528248786926\n",
      "9900 177.31654620170593\n",
      "10000 166.85365343093872\n",
      "10100 163.82708549499512\n",
      "10200 157.86989450454712\n",
      "10300 168.50457382202148\n",
      "10400 161.49767184257507\n",
      "10500 171.08676648139954\n",
      "10600 161.6042308807373\n",
      "10700 158.13563585281372\n",
      "10800 165.6646282672882\n",
      "10900 177.8922414779663\n",
      "11000 173.96827244758606\n",
      "11100 175.0647532939911\n",
      "11200 176.88626766204834\n",
      "11300 184.27957344055176\n",
      "11400 158.93996667861938\n",
      "11500 171.01424026489258\n",
      "11600 184.05120825767517\n",
      "11700 167.52486085891724\n",
      "11800 203.21412801742554\n",
      "11900 197.17635083198547\n",
      "12000 188.43771958351135\n",
      "12100 194.0489730834961\n"
     ]
    }
   ],
   "source": [
    "texts = []\n",
    "start = time.time()\n",
    "for i in range(len(pd_submission_10)):\n",
    "    if (i + 1) % 100 == 0:\n",
    "        print(i + 1, time.time() - start)\n",
    "        start = time.time()\n",
    "    filename      = pd_submission_10.iloc[i]['filename']\n",
    "    pred_category = pd_submission_10.iloc[i]['category']\n",
    "    image = Image.open('shopee-product-detection-dataset/test/{}'.format(filename))\n",
    "    text  = pytesseract.image_to_string(image, lang='eng+ind+msa+chi_sim+chi_tra+tgl+tha+vie+ara', config='--psm 12 --oem 3 --dpi 300')\n",
    "    texts.append(text)"
   ]
  },
  {
   "cell_type": "code",
   "execution_count": 49,
   "metadata": {},
   "outputs": [
    {
     "data": {
      "text/html": [
       "<div>\n",
       "<style scoped>\n",
       "    .dataframe tbody tr th:only-of-type {\n",
       "        vertical-align: middle;\n",
       "    }\n",
       "\n",
       "    .dataframe tbody tr th {\n",
       "        vertical-align: top;\n",
       "    }\n",
       "\n",
       "    .dataframe thead th {\n",
       "        text-align: right;\n",
       "    }\n",
       "</style>\n",
       "<table border=\"1\" class=\"dataframe\">\n",
       "  <thead>\n",
       "    <tr style=\"text-align: right;\">\n",
       "      <th></th>\n",
       "      <th>filename</th>\n",
       "      <th>category</th>\n",
       "      <th>text</th>\n",
       "    </tr>\n",
       "  </thead>\n",
       "  <tbody>\n",
       "    <tr>\n",
       "      <th>0</th>\n",
       "      <td>fd663cf2b6e1d7b02938c6aaae0a32d2.jpg</td>\n",
       "      <td>20</td>\n",
       "      <td>0S\\n\\nmurah k\\n\\n1\\n\\n[|\\n\\nBay\\n\\nHr\\n\\n«๕\\n\\...</td>\n",
       "    </tr>\n",
       "    <tr>\n",
       "      <th>1</th>\n",
       "      <td>c7fd77508a8c355eaab0d4e10efd6b15.jpg</td>\n",
       "      <td>27</td>\n",
       "      <td>NW\\n\\nOM\\n\\n๕ 7\\n\\n⁄\\n\\n5</td>\n",
       "    </tr>\n",
       "    <tr>\n",
       "      <th>2</th>\n",
       "      <td>127f3e6d6e3491b2459812353f33a913.jpg</td>\n",
       "      <td>4</td>\n",
       "      <td>| R=\\n\\n(6\\n\\nเษ\\n\\n( ๕ 2 ๕.\\n\\npe\\n\\n—</td>\n",
       "    </tr>\n",
       "    <tr>\n",
       "      <th>3</th>\n",
       "      <td>5ca4f2da11eda083064e6c36f37eeb81.jpg</td>\n",
       "      <td>22</td>\n",
       "      <td>LA\\n\\n\"3\\n\\n57\\n\\n‎แ 3 0 0‏ ا</td>\n",
       "    </tr>\n",
       "    <tr>\n",
       "      <th>4</th>\n",
       "      <td>46d681a542f2c71be017eef6aae23313.jpg</td>\n",
       "      <td>12</td>\n",
       "      <td>2\\n\\nđ 4 ,\\n\\n‘ais\\n\\nBas\\n\\nالا\\n\\n“Bi |I ‘i</td>\n",
       "    </tr>\n",
       "  </tbody>\n",
       "</table>\n",
       "</div>"
      ],
      "text/plain": [
       "                               filename  category  \\\n",
       "0  fd663cf2b6e1d7b02938c6aaae0a32d2.jpg        20   \n",
       "1  c7fd77508a8c355eaab0d4e10efd6b15.jpg        27   \n",
       "2  127f3e6d6e3491b2459812353f33a913.jpg         4   \n",
       "3  5ca4f2da11eda083064e6c36f37eeb81.jpg        22   \n",
       "4  46d681a542f2c71be017eef6aae23313.jpg        12   \n",
       "\n",
       "                                                text  \n",
       "0  0S\\n\\nmurah k\\n\\n1\\n\\n[|\\n\\nBay\\n\\nHr\\n\\n«๕\\n\\...  \n",
       "1                          NW\\n\\nOM\\n\\n๕ 7\\n\\n⁄\\n\\n5  \n",
       "2            | R=\\n\\n(6\\n\\nเษ\\n\\n( ๕ 2 ๕.\\n\\npe\\n\\n—  \n",
       "3                      LA\\n\\n\"3\\n\\n57\\n\\n‎แ 3 0 0‏ ا  \n",
       "4      2\\n\\nđ 4 ,\\n\\n‘ais\\n\\nBas\\n\\nالا\\n\\n“Bi |I ‘i  "
      ]
     },
     "execution_count": 49,
     "metadata": {},
     "output_type": "execute_result"
    }
   ],
   "source": [
    "pd_df = pd_submission_10.copy()\n",
    "pd_df['text'] = texts\n",
    "pd_df.head()"
   ]
  },
  {
   "cell_type": "code",
   "execution_count": 50,
   "metadata": {},
   "outputs": [],
   "source": [
    "pd_df.to_csv(\"shopee-product-detection-dataset/test_texts.csv\", index=False)"
   ]
  },
  {
   "cell_type": "markdown",
   "metadata": {},
   "source": [
    "## Analyze"
   ]
  },
  {
   "cell_type": "code",
   "execution_count": 62,
   "metadata": {},
   "outputs": [
    {
     "data": {
      "text/plain": [
       "'DARI KUMAN\\n\\nPERLINDUNGAN\\n\\nPENYEBAB PENYAKIT\\n\\n9\\n\\n=\\n\\nđồ\\n\\n>\\n\\nเจ\\n\\nRees\\n\\npan\\n\\n750ml\\n\\nAntiseptic Liquid | Original'"
      ]
     },
     "execution_count": 62,
     "metadata": {},
     "output_type": "execute_result"
    }
   ],
   "source": [
    "s = pd_df[pd_df['filename'] == '00ca788dec58199e985bdfb3d2afc5ed.jpg']['text'].iloc[0]\n",
    "s"
   ]
  },
  {
   "cell_type": "code",
   "execution_count": 64,
   "metadata": {},
   "outputs": [
    {
     "data": {
      "text/plain": [
       "['DARI',\n",
       " 'KUMAN',\n",
       " '',\n",
       " 'PERLINDUNGAN',\n",
       " '',\n",
       " 'PENYEBAB',\n",
       " 'PENYAKIT',\n",
       " '',\n",
       " '9',\n",
       " '',\n",
       " '=',\n",
       " '',\n",
       " 'đồ',\n",
       " '',\n",
       " '>',\n",
       " '',\n",
       " 'เจ',\n",
       " '',\n",
       " 'Rees',\n",
       " '',\n",
       " 'pan',\n",
       " '',\n",
       " '750ml',\n",
       " '',\n",
       " 'Antiseptic',\n",
       " 'Liquid',\n",
       " '|',\n",
       " 'Original']"
      ]
     },
     "execution_count": 64,
     "metadata": {},
     "output_type": "execute_result"
    }
   ],
   "source": [
    "s = s.replace('\\n', ' ')\n",
    "s.split(' ')"
   ]
  },
  {
   "cell_type": "code",
   "execution_count": null,
   "metadata": {},
   "outputs": [],
   "source": []
  }
 ],
 "metadata": {
  "kernelspec": {
   "display_name": "Python 3",
   "language": "python",
   "name": "python3"
  },
  "language_info": {
   "codemirror_mode": {
    "name": "ipython",
    "version": 3
   },
   "file_extension": ".py",
   "mimetype": "text/x-python",
   "name": "python",
   "nbconvert_exporter": "python",
   "pygments_lexer": "ipython3",
   "version": "3.6.8"
  }
 },
 "nbformat": 4,
 "nbformat_minor": 4
}
